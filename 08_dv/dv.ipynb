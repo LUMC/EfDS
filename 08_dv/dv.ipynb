{
 "cells": [
  {
   "cell_type": "markdown",
   "source": [
    "# Data visualisation\n",
    "\n",
    "[Matplotlib](https://matplotlib.org) is the most commonly used visualisation library in Python. It provides 2D basic, statistical, coordinate and 3D plots. We shortly introduce matplotlib in this session, however, most visualisations will be done with [Seaborn](https://seaborn.pydata.org) which is based on `Matplotlib` with more sophisticated plot methods. Seaborn is built on top of Matplotlib and hides most low-level interactions with Matplotlib. With Seaborn similar visualisations can be achieved in different ways, which may seem confusing, but it also provides flexibility.\n",
    "\n",
    "\n",
    "### Outline\n",
    "\n",
    "- Data preparation :\n",
    "    - Reshape : long and wide format\n",
    "    - Join DataFrames : left/right/inner/full\n",
    "- Matplotlib basics\n",
    "- Seaborn\n",
    "    - Univariate plots\n",
    "    - Bivariate plots\n",
    "    - Axes-level and Grid-level\n",
    "    - FacetGrid\n"
   ],
   "metadata": {
    "collapsed": false
   }
  },
  {
   "cell_type": "code",
   "execution_count": null,
   "outputs": [],
   "source": [
    "import numpy as np\n",
    "import pandas as pd\n",
    "import seaborn as sb\n",
    "import matplotlib.pyplot as plt\n",
    "from numpy.random import default_rng\n",
    "rng = default_rng(1234)"
   ],
   "metadata": {
    "collapsed": false
   }
  },
  {
   "cell_type": "markdown",
   "source": [
    "## Data preparation\n",
    "\n",
    "We will use the dataset [Framingham Heart Study](https://www.framinghamheartstudy.org/) ([Wikipedia](https://en.wikipedia.org/wiki/Framingham_Heart_Study)) with 4434 observations:\n",
    "  - categorical :\n",
    "    - general: SEX, CURSMOKE, EDUC,\n",
    "    - events : ANGINA, HOSPMI,  STROKE, CVD, HYPERTEN, DEATH\n",
    "  - discrete : AGE, RANDID, HEARTRTE\n",
    "  - continuous : SYSBP, DIABP, BPMEDS, BMI\n"
   ],
   "metadata": {
    "collapsed": false
   }
  },
  {
   "cell_type": "code",
   "execution_count": null,
   "outputs": [],
   "source": [
    "fmh = pd.read_csv(\"data/framingham_assignment.csv\")\n",
    "fmh.dtypes"
   ],
   "metadata": {
    "collapsed": false
   }
  },
  {
   "cell_type": "markdown",
   "source": [
    "### Reshape\n",
    "\n",
    "Same data may be organised in different ways depending on the context. Columns may become categories (long format) and vice versa, categories will become columns (wide format). Often data must be transformed into the proper shape for visualisation.\n"
   ],
   "metadata": {
    "collapsed": false
   }
  },
  {
   "cell_type": "markdown",
   "source": [
    "#### Wide to long : `pd.melt`\n",
    "\n",
    "**Synopsis: &nbsp; &nbsp;**<tt>pandas.melt(frame, id_vars=None, value_vars=None, var_name=None, value_name='value')</tt>\n",
    "- frame: DataFrame to reshape\n",
    "- id_vars : variables to be kept\n",
    "- value_vars : variables to be collected as a new categorical variable\n",
    "- var_name : category name\n",
    "- value_name : category values\n",
    "\n",
    "To illustrate we will take a small sample of three events {ANGINA,CVD,DEATH} along with the `RANDID`:"
   ],
   "metadata": {
    "collapsed": false
   }
  },
  {
   "cell_type": "code",
   "execution_count": null,
   "outputs": [],
   "source": [
    "df = fmh[fmh.columns[fmh.columns.str.match(\"(RANDID|ANGINA|CVD|DEATH)\")]].head(2)"
   ],
   "metadata": {
    "collapsed": false
   }
  },
  {
   "cell_type": "code",
   "execution_count": null,
   "outputs": [],
   "source": [
    "df_long = pd.melt(frame=df, id_vars='RANDID', value_vars=df.columns[1:], var_name='EVENT', value_name='VALUE')"
   ],
   "metadata": {
    "collapsed": false
   }
  },
  {
   "cell_type": "markdown",
   "source": [
    "#### Long to wide : `pivot`\n",
    "\n",
    "\n",
    "**Synopsis: &nbsp; &nbsp;**<tt>DataFrame.pivot(index=None, columns=None, values=None)</tt>\n",
    "- index : column to set as index\n",
    "- columns : variable containing the column names\n",
    "- values : variable containing the values all"
   ],
   "metadata": {
    "collapsed": false
   }
  },
  {
   "cell_type": "code",
   "execution_count": null,
   "outputs": [],
   "source": [
    "df_wide = df_long.pivot(index='RANDID', columns='EVENT', values='VALUE') # .reset_index().rename_axis(None,axis=1)\n",
    "# df.equals(df_wide)"
   ],
   "metadata": {
    "collapsed": false
   }
  },
  {
   "cell_type": "markdown",
   "source": [
    "## Join DataFrames\n",
    "\n",
    "We have already seen how to concatenate (`pd.concat`) DataFrames on a certain axis. There are situations where we would like to join DataFrames based on values of variable(s) also known as `key(s)`. This can be done with the function `DataFrame.merge`\n",
    "\n",
    "**Synopsis: &nbsp; &nbsp;**<tt>DataFrame.merge(DataFrame.merge(right, how='inner', on=None,...)</tt>\n",
    "- right: the other DataFrame\n",
    "- how: {left, right, outer, inner}\n"
   ],
   "metadata": {
    "collapsed": false
   }
  },
  {
   "cell_type": "code",
   "execution_count": null,
   "outputs": [],
   "source": [
    "import names\n",
    "name_pool =  [names.get_first_name() for _ in range(10)]\n",
    "df1 = pd.DataFrame({'name': rng.choice(name_pool,5, replace=False) , 'age':  rng.choice(range(1,80),5) })\n",
    "df2 = pd.DataFrame({'name': rng.choice(name_pool,5, replace=False) , 'age':  rng.choice(range(1,80),5) })"
   ],
   "metadata": {
    "collapsed": false
   }
  },
  {
   "cell_type": "code",
   "execution_count": null,
   "outputs": [],
   "source": [
    "df1.merge(df2, how='left', on='name')"
   ],
   "metadata": {
    "collapsed": false
   }
  },
  {
   "cell_type": "markdown",
   "source": [
    "## Matplotlib basics\n",
    "\n",
    "Matplotlib organises plots in a `figure` and within each figure you may have multiple plots called `subplots`.\n"
   ],
   "metadata": {
    "collapsed": false
   }
  },
  {
   "cell_type": "code",
   "execution_count": null,
   "outputs": [],
   "source": [
    "# single plot\n",
    "x_ = rng.standard_normal(50)\n",
    "p = plt.plot(x_);"
   ],
   "metadata": {
    "collapsed": false
   }
  },
  {
   "cell_type": "code",
   "execution_count": null,
   "outputs": [],
   "source": [
    "# single plot\n",
    "fig = plt.figure()\n",
    "ax = fig.add_subplot()\n",
    "p = ax.plot(x_)\n",
    "ax.set_title('My first plot')\n",
    "ax.set_xlabel('X')\n",
    "ax.set_ylabel('Y')\n",
    "ax.set_ylim([-5,5])"
   ],
   "metadata": {
    "collapsed": false
   }
  },
  {
   "cell_type": "code",
   "execution_count": null,
   "outputs": [],
   "source": [
    "# multiple plots\n",
    "x_ = rng.standard_normal(50)\n",
    "y_ = rng.standard_normal(50)\n",
    "fig, axes = plt.subplots(2,2) # types Figure & Axes\n",
    "                              # options sharex, sharey and figure options, e.g. figsize=[8,7]\n",
    "axes[0,0].plot(x_)\n",
    "axes[0,1].hist(x_)\n",
    "axes[1,0].scatter(x_,y_)\n",
    "axes[1,1].boxplot([x_,y_])"
   ],
   "metadata": {
    "collapsed": false
   }
  },
  {
   "cell_type": "markdown",
   "source": [
    "\n",
    "## Seaborn\n",
    "\n",
    "The Seaborn library is organised with modules focussing on  [relational](https://seaborn.pydata.org/tutorial/relational.html), [distributional](https://seaborn.pydata.org/tutorial/distributions.html) and [categorical](https://seaborn.pydata.org/tutorial/categorical.html) topics. These modules provide the so-called figure-level plots whereas corresponding plots in the base Seaborn are axes-level plots.\n",
    "\n",
    "\n",
    "**Axes-level Synopsis:** nbsp; &nbsp;**<tt>sb.{plot-func}(data, x, y, hue, ...)</tt>\n",
    "\n",
    "**Figure-level Synopsis:** nbsp; &nbsp;**<tt>sb.{relplot | catplot | distplot}(data, x, y, hue, kind,  ...)</tt>\n",
    "\n",
    "    - data: DataFrame, ...\n",
    "    - x,y: are variables inside data to be plotted\n",
    "    - hue: grouping colours\n",
    "    - kind : for each category a set of plots is defined, e.g. relplot(kind='line', ...)\n",
    "\n",
    "\n"
   ],
   "metadata": {
    "collapsed": false
   }
  },
  {
   "cell_type": "code",
   "execution_count": null,
   "outputs": [],
   "source": [
    "p = sb.countplot(data=fmh,x='SEX', hue='DEATH',) # y='SEX'"
   ],
   "metadata": {
    "collapsed": false
   }
  },
  {
   "cell_type": "markdown",
   "source": [
    "### Univariate plots\n",
    "\n",
    "- continious: histogram, boxplot, violinplot, kdeplot, ecdfplot\n",
    "- categorical : countplot"
   ],
   "metadata": {
    "collapsed": false
   }
  },
  {
   "cell_type": "code",
   "execution_count": null,
   "outputs": [],
   "source": [
    "fig, axes = plt.subplots(2,2)\n",
    "fig.suptitle(\"Diastolic and Systolic blood pressure\")\n",
    "axes[0,0].set_title(\"Systolic\")\n",
    "axes[0,1].set_title(\"Diastolic\")\n",
    "\n",
    "sb.histplot(data=fmh,x='SYSBP', hue='SEX', ax=axes[0,0])\n",
    "sb.histplot(data=fmh,x='DIABP', hue='SEX', ax=axes[0,1])\n",
    "sb.histplot(data=fmh,x='SYSBP', hue='HYPERTEN', ax=axes[1,0])\n",
    "sb.histplot(data=fmh,x='DIABP', hue='HYPERTEN', ax=axes[1,1])\n",
    "\n",
    "fig.subplots_adjust(hspace=.4)"
   ],
   "metadata": {
    "collapsed": false
   }
  },
  {
   "cell_type": "code",
   "execution_count": null,
   "outputs": [],
   "source": [
    "sb.histplot(data=fmh,x='SYSBP', hue='SEX', kde=True)"
   ],
   "metadata": {
    "collapsed": false
   }
  },
  {
   "cell_type": "code",
   "execution_count": null,
   "outputs": [],
   "source": [
    "fig, axes = plt.subplots(1,2) #\n",
    "sb.boxplot(data=fmh,y='SYSBP', hue='SEX', ax=axes[0])\n",
    "sb.boxplot(data=fmh,y='DIABP', hue='SEX', ax=axes[1])"
   ],
   "metadata": {
    "collapsed": false
   }
  },
  {
   "cell_type": "code",
   "execution_count": null,
   "outputs": [],
   "source": [
    "# kernel density estimate\n",
    "ax = sb.kdeplot(data=fmh,x='SYSBP', hue='SEX', fill=True)\n",
    "ax.set_title('My density plot')"
   ],
   "metadata": {
    "collapsed": false
   }
  },
  {
   "cell_type": "code",
   "execution_count": null,
   "outputs": [],
   "source": [
    "# empirical cumulative distribution function\n",
    "sb.ecdfplot(data=fmh,x='SYSBP', hue='SEX')"
   ],
   "metadata": {
    "collapsed": false
   }
  },
  {
   "cell_type": "markdown",
   "source": [
    "### Bivariate plots\n",
    "\n",
    "- continious: scatter, lmp, regplot, hexplot, pair, kde (bivariate),\n",
    "- categorical : line, bar, point"
   ],
   "metadata": {
    "collapsed": false
   }
  },
  {
   "cell_type": "code",
   "execution_count": null,
   "outputs": [],
   "source": [
    "# lineplot\n",
    "df = pd.DataFrame([(v,(v > fmh.SYSBP).sum()/fmh.SYSBP.size) for v in fmh.SYSBP], columns=['x','y'])\n",
    "df.sort_values('x',inplace=True)\n",
    "sb.lineplot(df, x='x',y='y')"
   ],
   "metadata": {
    "collapsed": false
   }
  },
  {
   "cell_type": "code",
   "execution_count": null,
   "outputs": [],
   "source": [
    "# lineplot\n",
    "sb.lineplot(data=fmh, x='AGE', y='HEARTRTE')"
   ],
   "metadata": {
    "collapsed": false
   }
  },
  {
   "cell_type": "code",
   "execution_count": null,
   "outputs": [],
   "source": [
    "# violinplot\n",
    "fig, axes = plt.subplots(1,2)\n",
    "sb.violinplot(data=fmh,y='SYSBP', hue='SEX', ax=axes[0])\n",
    "sb.violinplot(data=fmh,y='DIABP', hue='SEX', ax=axes[1])"
   ],
   "metadata": {
    "collapsed": false
   }
  },
  {
   "cell_type": "code",
   "execution_count": null,
   "outputs": [],
   "source": [
    "# barplot\n",
    "ax = sb.barplot(data=fmh, x='AGE', y='HEARTRTE')\n",
    "# Overlapping labels\n",
    "ax.set_xticklabels(ax.get_xticklabels(), rotation=40, ha=\"right\")\n",
    "ax.tick_params(labelsize=7)\n",
    "plt.tight_layout()"
   ],
   "metadata": {
    "collapsed": false
   }
  },
  {
   "cell_type": "markdown",
   "source": [
    "**Scatterplot**  This can also be achieved via `replot` which will be shown later, but to illustrate some arguments it is included here.\n",
    "\n",
    "**Synopsis:** nbsp; &nbsp;**<tt>scatterplot(data, x, y, hue, style, palette, s, c, alpha)</tt>\n",
    "- data : DataFrame\n",
    "- x,y :  variables of interest\n",
    "- hue :  categorical variable for colouring\n",
    "- style : point style\n",
    "- palette : colour scheme, e.g.  deep, muted, bright, pastel, dark, colorblind\n",
    "- kwargs : s, alpha"
   ],
   "metadata": {
    "collapsed": false
   }
  },
  {
   "cell_type": "code",
   "execution_count": null,
   "outputs": [],
   "source": [
    "sb.scatterplot(fmh, x='SYSBP', y='DIABP')\n",
    "sb.scatterplot(fmh, x='SYSBP', y='DIABP', hue='SEX')\n",
    "sb.scatterplot(fmh, x='SYSBP', y='DIABP', hue='SEX', marker='+')\n",
    "sb.scatterplot(fmh, x='SYSBP', y='DIABP', hue='SEX', palette='colorblind')\n",
    "sb.scatterplot(fmh, x='SYSBP', y='DIABP', hue='SEX',style='ANGINA', palette='colorblind')\n",
    "sb.scatterplot(fmh, x='SYSBP', y='DIABP', hue='SEX',style='ANGINA', palette='colorblind', s=20)\n",
    "sb.scatterplot(fmh, x='SYSBP', y='DIABP', hue='SEX',style='ANGINA', palette='colorblind', s=20, alpha=0.5)"
   ],
   "metadata": {
    "collapsed": false
   }
  },
  {
   "cell_type": "code",
   "execution_count": null,
   "outputs": [],
   "source": [
    "# histplot\n",
    "sb.histplot(data=fmh,x='SYSBP',y='DIABP',  hue='SEX')"
   ],
   "metadata": {
    "collapsed": false
   }
  },
  {
   "cell_type": "code",
   "execution_count": null,
   "outputs": [],
   "source": [
    "# kdeplot\n",
    "sb.kdeplot(fmh, x='SYSBP', y='DIABP') # cmap='Greys', fill=True"
   ],
   "metadata": {
    "collapsed": false
   }
  },
  {
   "cell_type": "code",
   "execution_count": null,
   "outputs": [],
   "source": [
    "# combine kdeplot and histplot\n",
    "sb.kdeplot(fmh, x='SYSBP', y='DIABP', cmap='Greys')\n",
    "sb.histplot(data=fmh,x='SYSBP',y='DIABP',  hue='SEX', palette=\"colorblind\")"
   ],
   "metadata": {
    "collapsed": false
   }
  },
  {
   "cell_type": "markdown",
   "source": [
    "### Axes-level and Grid-level"
   ],
   "metadata": {
    "collapsed": false
   }
  },
  {
   "cell_type": "code",
   "execution_count": null,
   "outputs": [],
   "source": [
    "# axes-level lm\n",
    "p =sb.regplot(fmh.sample(100), x='SYSBP', y='DIABP')"
   ],
   "metadata": {
    "collapsed": false
   }
  },
  {
   "cell_type": "code",
   "execution_count": null,
   "outputs": [],
   "source": [
    "# FacetGrid\n",
    "p = sb.lmplot(fmh.sample(100), x='SYSBP', y='DIABP') # lowess requires statsmodels module ; line_kws={'color': 'red'}"
   ],
   "metadata": {
    "collapsed": false
   }
  },
  {
   "cell_type": "code",
   "execution_count": null,
   "outputs": [],
   "source": [
    "# FacetGrid\n",
    "p = sb.relplot(fmh.sample(100), x='SYSBP', y='DIABP', row='SEX', col='EDUC', hue='ANGINA', style='CURSMOKE')"
   ],
   "metadata": {
    "collapsed": false
   }
  },
  {
   "cell_type": "code",
   "execution_count": null,
   "outputs": [],
   "source": [
    "# JointGrid\n",
    "jg = sb.jointplot(fmh, x='SYSBP', y='DIABP', hue='SEX', kind='scatter') # 'scatter', 'hist', 'kde'\n",
    "                                                                        # see jg.plot_joint(...) and jg.plot_marginals(...)"
   ],
   "metadata": {
    "collapsed": false
   }
  },
  {
   "cell_type": "markdown",
   "source": [
    "### FacetGrid"
   ],
   "metadata": {
    "collapsed": false
   }
  },
  {
   "cell_type": "code",
   "execution_count": null,
   "outputs": [],
   "source": [
    "fg = sb.FacetGrid(data=fmh,row='SEX', col='EDUC')\n",
    "fg.map_dataframe(sb.scatterplot, x='SYSBP', y='DIABP',hue='DEATH',)\n",
    "fg.add_legend(title='Death')"
   ],
   "metadata": {
    "collapsed": false
   }
  },
  {
   "cell_type": "code",
   "execution_count": null,
   "outputs": [],
   "source": [
    "sb.pairplot(data=fmh[['AGE','BMI','SYSBP','DIABP']])"
   ],
   "metadata": {
    "collapsed": false
   }
  },
  {
   "cell_type": "code",
   "execution_count": null,
   "outputs": [],
   "source": [
    "sb.heatmap(fmh[['SYSBP','DIABP','AGE','BMI','HEARTRTE']].corr(), cmap=sb.color_palette('colorblind'))"
   ],
   "metadata": {
    "collapsed": false
   }
  },
  {
   "cell_type": "markdown",
   "source": [
    "See [palettes](https://seaborn.pydata.org/tutorial/color_palettes.html) for more  options."
   ],
   "metadata": {
    "collapsed": false
   }
  },
  {
   "cell_type": "code",
   "execution_count": null,
   "outputs": [],
   "source": [
    "diamonds = pd.read_csv(\"data/diamonds.csv\")\n",
    "sb.heatmap(diamonds.select_dtypes(include=np.number).corr(),annot=True, linewidth=.01, cmap=sb.color_palette('colorblind'))"
   ],
   "metadata": {
    "collapsed": false
   }
  }
 ],
 "metadata": {
  "kernelspec": {
   "display_name": "Python 3",
   "language": "python",
   "name": "python3"
  },
  "language_info": {
   "codemirror_mode": {
    "name": "ipython",
    "version": 2
   },
   "file_extension": ".py",
   "mimetype": "text/x-python",
   "name": "python",
   "nbconvert_exporter": "python",
   "pygments_lexer": "ipython2",
   "version": "2.7.6"
  }
 },
 "nbformat": 4,
 "nbformat_minor": 0
}
