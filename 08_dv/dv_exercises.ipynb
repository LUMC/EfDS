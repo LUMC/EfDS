{
 "cells": [
  {
   "cell_type": "markdown",
   "metadata": {
    "collapsed": false
   },
   "source": [
    "## Exercises : data visualisation\n",
    "\n",
    "In the previous session's exercises on `pandas` we used the *Natural gas consumption in the Netherlands* dataset [CBS Open data StatLine](https://opendata.cbs.nl/statline/portal.html?_la=en&_catalog=CBS).  We will continue with the same dataset here for visualisation. We repeat the solution for the last exercise to include the `term` and `date` in our dataframe:\n"
   ]
  },
  {
   "cell_type": "code",
   "execution_count": 4,
   "metadata": {
    "collapsed": false
   },
   "outputs": [
    {
     "data": {
      "text/html": [
       "<div>\n",
       "<style scoped>\n",
       "    .dataframe tbody tr th:only-of-type {\n",
       "        vertical-align: middle;\n",
       "    }\n",
       "\n",
       "    .dataframe tbody tr th {\n",
       "        vertical-align: top;\n",
       "    }\n",
       "\n",
       "    .dataframe thead th {\n",
       "        text-align: right;\n",
       "    }\n",
       "</style>\n",
       "<table border=\"1\" class=\"dataframe\">\n",
       "  <thead>\n",
       "    <tr style=\"text-align: right;\">\n",
       "      <th></th>\n",
       "      <th>year</th>\n",
       "      <th>term</th>\n",
       "      <th>idx</th>\n",
       "      <th>date</th>\n",
       "      <th>ID</th>\n",
       "      <th>Periods</th>\n",
       "      <th>TotalSupply_1</th>\n",
       "      <th>IndigenousProduction_2</th>\n",
       "      <th>ProductionFromOtherSources_3</th>\n",
       "      <th>ImportsOfGaseousNaturalGasTotal_4</th>\n",
       "      <th>...</th>\n",
       "      <th>OtherConsumers_23</th>\n",
       "      <th>ViaRegionalGrids_24</th>\n",
       "      <th>ConsumptionByProductionAndTransport_25</th>\n",
       "      <th>ClosingStock_26</th>\n",
       "      <th>ClosingStockGaseousGas_27</th>\n",
       "      <th>ClosingStockLiquefiedNaturalGas_28</th>\n",
       "      <th>Flaring_29</th>\n",
       "      <th>StorageCapacityTotal_30</th>\n",
       "      <th>StorageCapacityGaseousGas_31</th>\n",
       "      <th>StorageCapacityLiquefiedNaturalGas_32</th>\n",
       "    </tr>\n",
       "  </thead>\n",
       "  <tbody>\n",
       "    <tr>\n",
       "      <th>0</th>\n",
       "      <td>1946</td>\n",
       "      <td>JJ</td>\n",
       "      <td>0</td>\n",
       "      <td>1946-12-31</td>\n",
       "      <td>0</td>\n",
       "      <td>1946JJ00</td>\n",
       "      <td>0</td>\n",
       "      <td>0</td>\n",
       "      <td>.</td>\n",
       "      <td>NaN</td>\n",
       "      <td>...</td>\n",
       "      <td>.</td>\n",
       "      <td>.</td>\n",
       "      <td>.</td>\n",
       "      <td>.</td>\n",
       "      <td>NaN</td>\n",
       "      <td>NaN</td>\n",
       "      <td>.</td>\n",
       "      <td>NaN</td>\n",
       "      <td>NaN</td>\n",
       "      <td>NaN</td>\n",
       "    </tr>\n",
       "    <tr>\n",
       "      <th>1</th>\n",
       "      <td>1947</td>\n",
       "      <td>JJ</td>\n",
       "      <td>0</td>\n",
       "      <td>1947-12-31</td>\n",
       "      <td>1</td>\n",
       "      <td>1947JJ00</td>\n",
       "      <td>1</td>\n",
       "      <td>1</td>\n",
       "      <td>.</td>\n",
       "      <td>NaN</td>\n",
       "      <td>...</td>\n",
       "      <td>.</td>\n",
       "      <td>.</td>\n",
       "      <td>.</td>\n",
       "      <td>.</td>\n",
       "      <td>NaN</td>\n",
       "      <td>NaN</td>\n",
       "      <td>.</td>\n",
       "      <td>NaN</td>\n",
       "      <td>NaN</td>\n",
       "      <td>NaN</td>\n",
       "    </tr>\n",
       "    <tr>\n",
       "      <th>2</th>\n",
       "      <td>1948</td>\n",
       "      <td>JJ</td>\n",
       "      <td>0</td>\n",
       "      <td>1948-12-31</td>\n",
       "      <td>2</td>\n",
       "      <td>1948JJ00</td>\n",
       "      <td>5</td>\n",
       "      <td>5</td>\n",
       "      <td>.</td>\n",
       "      <td>NaN</td>\n",
       "      <td>...</td>\n",
       "      <td>.</td>\n",
       "      <td>.</td>\n",
       "      <td>.</td>\n",
       "      <td>.</td>\n",
       "      <td>NaN</td>\n",
       "      <td>NaN</td>\n",
       "      <td>.</td>\n",
       "      <td>NaN</td>\n",
       "      <td>NaN</td>\n",
       "      <td>NaN</td>\n",
       "    </tr>\n",
       "  </tbody>\n",
       "</table>\n",
       "<p>3 rows × 38 columns</p>\n",
       "</div>"
      ],
      "text/plain": [
       "   year term  idx       date  ID   Periods  TotalSupply_1  \\\n",
       "0  1946   JJ    0 1946-12-31   0  1946JJ00              0   \n",
       "1  1947   JJ    0 1947-12-31   1  1947JJ00              1   \n",
       "2  1948   JJ    0 1948-12-31   2  1948JJ00              5   \n",
       "\n",
       "   IndigenousProduction_2 ProductionFromOtherSources_3  \\\n",
       "0                       0                            .   \n",
       "1                       1                            .   \n",
       "2                       5                            .   \n",
       "\n",
       "   ImportsOfGaseousNaturalGasTotal_4  ...  OtherConsumers_23  \\\n",
       "0                                NaN  ...                  .   \n",
       "1                                NaN  ...                  .   \n",
       "2                                NaN  ...                  .   \n",
       "\n",
       "   ViaRegionalGrids_24  ConsumptionByProductionAndTransport_25  \\\n",
       "0                    .                                       .   \n",
       "1                    .                                       .   \n",
       "2                    .                                       .   \n",
       "\n",
       "   ClosingStock_26  ClosingStockGaseousGas_27  \\\n",
       "0                .                        NaN   \n",
       "1                .                        NaN   \n",
       "2                .                        NaN   \n",
       "\n",
       "   ClosingStockLiquefiedNaturalGas_28  Flaring_29  StorageCapacityTotal_30  \\\n",
       "0                                 NaN           .                      NaN   \n",
       "1                                 NaN           .                      NaN   \n",
       "2                                 NaN           .                      NaN   \n",
       "\n",
       "   StorageCapacityGaseousGas_31  StorageCapacityLiquefiedNaturalGas_32  \n",
       "0                           NaN                                    NaN  \n",
       "1                           NaN                                    NaN  \n",
       "2                           NaN                                    NaN  \n",
       "\n",
       "[3 rows x 38 columns]"
      ]
     },
     "execution_count": 4,
     "metadata": {},
     "output_type": "execute_result"
    }
   ],
   "source": [
    "import pandas as pd\n",
    "import seaborn as sb\n",
    "import matplotlib.pyplot as plt\n",
    "\n",
    "cbs = pd.read_csv(\"../07_pd/data/00372eng_UntypedDataSet_17032023_161051.csv\",sep=\";\")\n",
    "\n",
    "def to_ts(s):\n",
    "    \"\"\"\n",
    "    Apply the following timestamp format for each term {JJ,KW,MM}:\n",
    "\n",
    "    JJ : yyyyJJ00 => 31-12-yyyy\n",
    "    KW : yyyyKWdd => 01: 1-1-yyyy to 31-3-yyyy\n",
    "                     02: 1-4-yyyy to 30-6-yyyy\n",
    "                     03: 1-7-yyyy to 30-9-yyyy\n",
    "                     04: 1-10-yyyy to 31-12-yyyy\n",
    "    MM : yyyyMMdd => 1-xx-yyyy\n",
    "\n",
    "    :param s: {year,term,idx}\n",
    "    :return: Timestamp\n",
    "    \"\"\"\n",
    "\n",
    "    def last_day(ts):\n",
    "        \"\"\"\n",
    "        Given a timestamp find the last day of the month. The number of days in the month can be\n",
    "        calculated by subtracting next month from this month on the same day and the same year.\n",
    "\n",
    "        :param ts:\n",
    "        :return: Number of days in the month (int).\n",
    "        \"\"\"\n",
    "        return (ts.replace(year=ts.year + (ts.month == 12), month=(ts.month % 12) + 1) - ts).days\n",
    "\n",
    "    # _main_\n",
    "    year_, term, idx = s\n",
    "    match term:\n",
    "        case 'JJ':\n",
    "            day_, month_ = 31, 12\n",
    "            return pd.Timestamp(year=year_, month=month_, day=day_)\n",
    "        case 'KW':\n",
    "            day_, month_ = [(31,3),(30,6),(30,9),(31,12)][idx-1]\n",
    "            return pd.Timestamp(year=year_, month=month_, day=day_)\n",
    "        case 'MM':\n",
    "            day_, month_ = last_day(pd.Timestamp(year=year_, month=idx, day=1)), idx\n",
    "            return pd.Timestamp(year=year_, month=month_, day=day_)\n",
    "\n",
    "# _main_\n",
    "\n",
    "df0 = cbs[['Periods','TotalSupply_1']].copy()\n",
    "df = df0.Periods.str.split(r'(JJ|MM|KW)', regex=True, expand=True)  # expand=True forces the result into a DataFrame\n",
    "df = pd.DataFrame({'year': df[0].astype(int),                       # Create DataFrame {year,term,idx}\n",
    "                   'term': df[1],\n",
    "                   'idx': df[2].astype(int)})\n",
    "\n",
    "df['date'] = [to_ts(s) for i,s in df.iterrows()] # create the date variable\n",
    "ngc = pd.concat([df,cbs],axis=1)\n",
    "ngc.dtypes\n",
    "ngc.head(3)"
   ]
  },
  {
   "cell_type": "markdown",
   "metadata": {
    "collapsed": false
   },
   "source": [
    "# Reshape\n",
    "\n",
    "1) Reshape `ngc` into a long format with all import/export variables as `ie` category and their values as `value` variable. Include only `date` variable from the remainders.\n"
   ]
  },
  {
   "cell_type": "code",
   "execution_count": 8,
   "metadata": {
    "collapsed": false
   },
   "outputs": [
    {
     "data": {
      "text/html": [
       "<div>\n",
       "<style scoped>\n",
       "    .dataframe tbody tr th:only-of-type {\n",
       "        vertical-align: middle;\n",
       "    }\n",
       "\n",
       "    .dataframe tbody tr th {\n",
       "        vertical-align: top;\n",
       "    }\n",
       "\n",
       "    .dataframe thead th {\n",
       "        text-align: right;\n",
       "    }\n",
       "</style>\n",
       "<table border=\"1\" class=\"dataframe\">\n",
       "  <thead>\n",
       "    <tr style=\"text-align: right;\">\n",
       "      <th></th>\n",
       "      <th>date</th>\n",
       "      <th>ie</th>\n",
       "      <th>value</th>\n",
       "    </tr>\n",
       "  </thead>\n",
       "  <tbody>\n",
       "    <tr>\n",
       "      <th>0</th>\n",
       "      <td>1946-12-31</td>\n",
       "      <td>ImportsOfGaseousNaturalGasTotal_4</td>\n",
       "      <td>NaN</td>\n",
       "    </tr>\n",
       "    <tr>\n",
       "      <th>1</th>\n",
       "      <td>1947-12-31</td>\n",
       "      <td>ImportsOfGaseousNaturalGasTotal_4</td>\n",
       "      <td>NaN</td>\n",
       "    </tr>\n",
       "    <tr>\n",
       "      <th>2</th>\n",
       "      <td>1948-12-31</td>\n",
       "      <td>ImportsOfGaseousNaturalGasTotal_4</td>\n",
       "      <td>NaN</td>\n",
       "    </tr>\n",
       "    <tr>\n",
       "      <th>3</th>\n",
       "      <td>1949-12-31</td>\n",
       "      <td>ImportsOfGaseousNaturalGasTotal_4</td>\n",
       "      <td>NaN</td>\n",
       "    </tr>\n",
       "    <tr>\n",
       "      <th>4</th>\n",
       "      <td>1950-12-31</td>\n",
       "      <td>ImportsOfGaseousNaturalGasTotal_4</td>\n",
       "      <td>NaN</td>\n",
       "    </tr>\n",
       "    <tr>\n",
       "      <th>...</th>\n",
       "      <td>...</td>\n",
       "      <td>...</td>\n",
       "      <td>...</td>\n",
       "    </tr>\n",
       "    <tr>\n",
       "      <th>10285</th>\n",
       "      <td>2022-12-31</td>\n",
       "      <td>ExportsOfLiquefiedNaturalGasLng_17</td>\n",
       "      <td>49.0</td>\n",
       "    </tr>\n",
       "    <tr>\n",
       "      <th>10286</th>\n",
       "      <td>2022-12-31</td>\n",
       "      <td>ExportsOfLiquefiedNaturalGasLng_17</td>\n",
       "      <td>143.0</td>\n",
       "    </tr>\n",
       "    <tr>\n",
       "      <th>10287</th>\n",
       "      <td>2022-12-31</td>\n",
       "      <td>ExportsOfLiquefiedNaturalGasLng_17</td>\n",
       "      <td>603.0</td>\n",
       "    </tr>\n",
       "    <tr>\n",
       "      <th>10288</th>\n",
       "      <td>2023-01-31</td>\n",
       "      <td>ExportsOfLiquefiedNaturalGasLng_17</td>\n",
       "      <td>27.0</td>\n",
       "    </tr>\n",
       "    <tr>\n",
       "      <th>10289</th>\n",
       "      <td>2023-02-28</td>\n",
       "      <td>ExportsOfLiquefiedNaturalGasLng_17</td>\n",
       "      <td>26.0</td>\n",
       "    </tr>\n",
       "  </tbody>\n",
       "</table>\n",
       "<p>10290 rows × 3 columns</p>\n",
       "</div>"
      ],
      "text/plain": [
       "            date                                  ie  value\n",
       "0     1946-12-31   ImportsOfGaseousNaturalGasTotal_4    NaN\n",
       "1     1947-12-31   ImportsOfGaseousNaturalGasTotal_4    NaN\n",
       "2     1948-12-31   ImportsOfGaseousNaturalGasTotal_4    NaN\n",
       "3     1949-12-31   ImportsOfGaseousNaturalGasTotal_4    NaN\n",
       "4     1950-12-31   ImportsOfGaseousNaturalGasTotal_4    NaN\n",
       "...          ...                                 ...    ...\n",
       "10285 2022-12-31  ExportsOfLiquefiedNaturalGasLng_17   49.0\n",
       "10286 2022-12-31  ExportsOfLiquefiedNaturalGasLng_17  143.0\n",
       "10287 2022-12-31  ExportsOfLiquefiedNaturalGasLng_17  603.0\n",
       "10288 2023-01-31  ExportsOfLiquefiedNaturalGasLng_17   27.0\n",
       "10289 2023-02-28  ExportsOfLiquefiedNaturalGasLng_17   26.0\n",
       "\n",
       "[10290 rows x 3 columns]"
      ]
     },
     "execution_count": 8,
     "metadata": {},
     "output_type": "execute_result"
    }
   ],
   "source": [
    "# ...\n",
    "df2 = ngc.filter(regex='Imports|Exports|date')\n",
    "df_long = pd.melt(frame=df2, id_vars='date', var_name='ie', value_name='value')\n",
    "df_long"
   ]
  },
  {
   "cell_type": "markdown",
   "metadata": {
    "collapsed": false
   },
   "source": [
    "## Line plots\n",
    "\n",
    "1. Plot lines:\n",
    "\n",
    "- a) Plot yearly `TotalSupply_1` against `date`.\n",
    "- b) Draw a horizontal line to mark `TotalSupply_1` at the point where `TotalSupply_1` is just below the latest observation.\n",
    "- c) On which year does the horizontal line hits the graph."
   ]
  },
  {
   "cell_type": "code",
   "execution_count": 29,
   "metadata": {
    "collapsed": false
   },
   "outputs": [
    {
     "data": {
      "text/plain": [
       "<matplotlib.lines.Line2D at 0x255cecdd490>"
      ]
     },
     "execution_count": 29,
     "metadata": {},
     "output_type": "execute_result"
    },
    {
     "data": {
      "image/png": "[encoded data removed]",
      "text/plain": [
       "<Figure size 640x480 with 1 Axes>"
      ]
     },
     "metadata": {},
     "output_type": "display_data"
    }
   ],
   "source": [
    "# ...\n",
    "fil_ngc = ngc[ngc[\"Periods\"].str.contains(\"JJ\")]\n",
    "y = fil_ngc[\"TotalSupply_1\"]\n",
    "x = fil_ngc[\"date\"]\n",
    "# x = ngc.loc[\"JJ\" in df[\"Periods\"]][\"date\"]\n",
    "# print(x)\n",
    "plt.plot(x,y)\n",
    "plt.axhline(y = y.iloc[-1], color = 'r', linestyle = '-') "
   ]
  },
  {
   "cell_type": "markdown",
   "metadata": {
    "collapsed": false
   },
   "source": [
    "2. The import/export variables are those with names starting with `Import` and `Export`. Plot `TotalSupply_1` against `date` for all import/export variables (Hint: reshape data). Make sure the legend is correctly placed. Set X and Y axis labels to `Year` and `Natural gas (MCM)` respectively and set legend's label to `Import/Export`.\n"
   ]
  },
  {
   "cell_type": "code",
   "execution_count": 31,
   "metadata": {
    "collapsed": false
   },
   "outputs": [
    {
     "data": {
      "text/html": [
       "<div>\n",
       "<style scoped>\n",
       "    .dataframe tbody tr th:only-of-type {\n",
       "        vertical-align: middle;\n",
       "    }\n",
       "\n",
       "    .dataframe tbody tr th {\n",
       "        vertical-align: top;\n",
       "    }\n",
       "\n",
       "    .dataframe thead th {\n",
       "        text-align: right;\n",
       "    }\n",
       "</style>\n",
       "<table border=\"1\" class=\"dataframe\">\n",
       "  <thead>\n",
       "    <tr style=\"text-align: right;\">\n",
       "      <th></th>\n",
       "      <th>date</th>\n",
       "      <th>TotalSupply_1</th>\n",
       "      <th>ImportsOfGaseousNaturalGasTotal_4</th>\n",
       "      <th>ImportsViaNorway_5</th>\n",
       "      <th>ImportsViaGermany_6</th>\n",
       "      <th>ImportsViaBelgium_7</th>\n",
       "      <th>ImportsViaUnitedKingdom_8</th>\n",
       "      <th>ImportsViaDenmark_9</th>\n",
       "      <th>ImportsOfLiquefiedNaturalGasLng_10</th>\n",
       "      <th>ExportsOfGaseousNaturalGasTotal_11</th>\n",
       "      <th>ExportsToNorway_12</th>\n",
       "      <th>ExportsToGermany_13</th>\n",
       "      <th>ExportsToBelgium_14</th>\n",
       "      <th>ExportsToUnitedKingdom_15</th>\n",
       "      <th>ExportsToDenmark_16</th>\n",
       "      <th>ExportsOfLiquefiedNaturalGasLng_17</th>\n",
       "    </tr>\n",
       "  </thead>\n",
       "  <tbody>\n",
       "    <tr>\n",
       "      <th>0</th>\n",
       "      <td>1946-12-31</td>\n",
       "      <td>0</td>\n",
       "      <td>NaN</td>\n",
       "      <td>NaN</td>\n",
       "      <td>NaN</td>\n",
       "      <td>NaN</td>\n",
       "      <td>NaN</td>\n",
       "      <td>NaN</td>\n",
       "      <td>NaN</td>\n",
       "      <td>NaN</td>\n",
       "      <td>NaN</td>\n",
       "      <td>NaN</td>\n",
       "      <td>NaN</td>\n",
       "      <td>NaN</td>\n",
       "      <td>NaN</td>\n",
       "      <td>NaN</td>\n",
       "    </tr>\n",
       "    <tr>\n",
       "      <th>1</th>\n",
       "      <td>1947-12-31</td>\n",
       "      <td>1</td>\n",
       "      <td>NaN</td>\n",
       "      <td>NaN</td>\n",
       "      <td>NaN</td>\n",
       "      <td>NaN</td>\n",
       "      <td>NaN</td>\n",
       "      <td>NaN</td>\n",
       "      <td>NaN</td>\n",
       "      <td>NaN</td>\n",
       "      <td>NaN</td>\n",
       "      <td>NaN</td>\n",
       "      <td>NaN</td>\n",
       "      <td>NaN</td>\n",
       "      <td>NaN</td>\n",
       "      <td>NaN</td>\n",
       "    </tr>\n",
       "    <tr>\n",
       "      <th>2</th>\n",
       "      <td>1948-12-31</td>\n",
       "      <td>5</td>\n",
       "      <td>NaN</td>\n",
       "      <td>NaN</td>\n",
       "      <td>NaN</td>\n",
       "      <td>NaN</td>\n",
       "      <td>NaN</td>\n",
       "      <td>NaN</td>\n",
       "      <td>NaN</td>\n",
       "      <td>NaN</td>\n",
       "      <td>NaN</td>\n",
       "      <td>NaN</td>\n",
       "      <td>NaN</td>\n",
       "      <td>NaN</td>\n",
       "      <td>NaN</td>\n",
       "      <td>NaN</td>\n",
       "    </tr>\n",
       "  </tbody>\n",
       "</table>\n",
       "</div>"
      ],
      "text/plain": [
       "        date  TotalSupply_1  ImportsOfGaseousNaturalGasTotal_4  \\\n",
       "0 1946-12-31              0                                NaN   \n",
       "1 1947-12-31              1                                NaN   \n",
       "2 1948-12-31              5                                NaN   \n",
       "\n",
       "   ImportsViaNorway_5  ImportsViaGermany_6  ImportsViaBelgium_7  \\\n",
       "0                 NaN                  NaN                  NaN   \n",
       "1                 NaN                  NaN                  NaN   \n",
       "2                 NaN                  NaN                  NaN   \n",
       "\n",
       "   ImportsViaUnitedKingdom_8  ImportsViaDenmark_9  \\\n",
       "0                        NaN                  NaN   \n",
       "1                        NaN                  NaN   \n",
       "2                        NaN                  NaN   \n",
       "\n",
       "   ImportsOfLiquefiedNaturalGasLng_10  ExportsOfGaseousNaturalGasTotal_11  \\\n",
       "0                                 NaN                                 NaN   \n",
       "1                                 NaN                                 NaN   \n",
       "2                                 NaN                                 NaN   \n",
       "\n",
       "   ExportsToNorway_12  ExportsToGermany_13  ExportsToBelgium_14  \\\n",
       "0                 NaN                  NaN                  NaN   \n",
       "1                 NaN                  NaN                  NaN   \n",
       "2                 NaN                  NaN                  NaN   \n",
       "\n",
       "   ExportsToUnitedKingdom_15  ExportsToDenmark_16  \\\n",
       "0                        NaN                  NaN   \n",
       "1                        NaN                  NaN   \n",
       "2                        NaN                  NaN   \n",
       "\n",
       "   ExportsOfLiquefiedNaturalGasLng_17  \n",
       "0                                 NaN  \n",
       "1                                 NaN  \n",
       "2                                 NaN  "
      ]
     },
     "execution_count": 31,
     "metadata": {},
     "output_type": "execute_result"
    }
   ],
   "source": [
    "# ...\n",
    "df3 = ngc.filter(regex='Imports|Exports|date|TotalSupply_1')\n",
    "df3.head(3)"
   ]
  },
  {
   "cell_type": "markdown",
   "metadata": {
    "collapsed": false
   },
   "source": [
    "\n",
    "3. Plot (point and lines) `TotalSupply_1` against `month` of all time. Note that you will need to summarise (use groupby/sum) on months of the entire dataset. Set X and Y axis labels to `Month` and `Natural gas (MCM)` respectively. Set `Month` axis ticks to represent month abbreviations. Hint: use calendar module to get month abbreviations. Hint: use the `term` variable to filter only `MM` observations."
   ]
  },
  {
   "cell_type": "code",
   "execution_count": 85,
   "metadata": {
    "collapsed": false
   },
   "outputs": [
    {
     "name": "stdout",
     "output_type": "stream",
     "text": [
      "['Jan', 'Feb', 'Mar', 'Apr', 'May', 'Jun', 'Jul', 'Aug', 'Sep', 'Oct', 'Nov', 'Dec']\n"
     ]
    },
    {
     "name": "stderr",
     "output_type": "stream",
     "text": [
      "C:\\Users\\bearb\\AppData\\Local\\Temp\\ipykernel_39304\\850725373.py:7: SettingWithCopyWarning: \n",
      "A value is trying to be set on a copy of a slice from a DataFrame.\n",
      "Try using .loc[row_indexer,col_indexer] = value instead\n",
      "\n",
      "See the caveats in the documentation: https://pandas.pydata.org/pandas-docs/stable/user_guide/indexing.html#returning-a-view-versus-a-copy\n",
      "  df2.Periods=df2.Periods.str[4:]\n"
     ]
    },
    {
     "data": {
      "text/plain": [
       "[Text(0.5, 0, 'Month'), Text(0, 0.5, 'Natural Gas (MCM)')]"
      ]
     },
     "execution_count": 85,
     "metadata": {},
     "output_type": "execute_result"
    },
    {
     "data": {
      "image/png": "[encoded data removed]",
      "text/plain": [
       "<Figure size 640x480 with 1 Axes>"
      ]
     },
     "metadata": {},
     "output_type": "display_data"
    }
   ],
   "source": [
    "# ...\n",
    "# fil_ngc = ngc[ngc[\"Periods\"].str.contains(\"MM\")]\n",
    "fil_ngc = ngc[ngc[\"term\"]== \"MM\"]\n",
    "fil_ngc\n",
    "df2 = fil_ngc[[\"Periods\",\"TotalSupply_1\",\"year\"]]\n",
    "# df2.TotalSupply_1\n",
    "df2.Periods=df2.Periods.str[4:]\n",
    "df_wide = df2.pivot(index='year',columns='Periods', values='TotalSupply_1')\n",
    "y = df_wide.sum()\n",
    "import calendar\n",
    "x = list(calendar.month_abbr)[1:]\n",
    "print(x)\n",
    "# sb.lineplot(x=x,y=y)\n",
    "# sb.scatterplot(x=x,y=y)\n",
    "ax = sb.pointplot(x=x,y=y)\n",
    "ax.set(xlabel='Month', ylabel='Natural Gas (MCM)')\n",
    "# df2.replace(df2[\"Periods\"],df2[\"Periods\"][4:])\n",
    "# df2"
   ]
  },
  {
   "cell_type": "markdown",
   "metadata": {
    "collapsed": false
   },
   "source": [
    "4. Plot boxplots of `TotalSupply_1` against `month` of all time. Set X and Y axis labels to `Month` and `Natural gas (MCM)` respectively. Set `Month` axis ticks to represent month abbreviations."
   ]
  },
  {
   "cell_type": "code",
   "execution_count": 91,
   "metadata": {
    "collapsed": false
   },
   "outputs": [
    {
     "name": "stderr",
     "output_type": "stream",
     "text": [
      "C:\\Users\\bearb\\AppData\\Local\\Temp\\ipykernel_39304\\1865112909.py:4: SettingWithCopyWarning: \n",
      "A value is trying to be set on a copy of a slice from a DataFrame.\n",
      "Try using .loc[row_indexer,col_indexer] = value instead\n",
      "\n",
      "See the caveats in the documentation: https://pandas.pydata.org/pandas-docs/stable/user_guide/indexing.html#returning-a-view-versus-a-copy\n",
      "  df2.Periods=df2.Periods.str[4:]\n"
     ]
    },
    {
     "data": {
      "text/plain": [
       "[Text(0, 0, 'Jan'),\n",
       " Text(1, 0, 'Feb'),\n",
       " Text(2, 0, 'Mar'),\n",
       " Text(3, 0, 'Apr'),\n",
       " Text(4, 0, 'May'),\n",
       " Text(5, 0, 'Jun'),\n",
       " Text(6, 0, 'Jul'),\n",
       " Text(7, 0, 'Aug'),\n",
       " Text(8, 0, 'Sep'),\n",
       " Text(9, 0, 'Oct'),\n",
       " Text(10, 0, 'Nov'),\n",
       " Text(11, 0, 'Dec')]"
      ]
     },
     "execution_count": 91,
     "metadata": {},
     "output_type": "execute_result"
    },
    {
     "data": {
      "image/png": "[encoded data removed]",
      "text/plain": [
       "<Figure size 640x480 with 1 Axes>"
      ]
     },
     "metadata": {},
     "output_type": "display_data"
    }
   ],
   "source": [
    "# ...\n",
    "fil_ngc = ngc[ngc[\"term\"]== \"MM\"]\n",
    "df2 = fil_ngc[[\"Periods\",\"TotalSupply_1\",\"year\"]]\n",
    "df2.Periods=df2.Periods.str[4:]\n",
    "df_wide = df2.pivot(index='year',columns='Periods', values='TotalSupply_1')\n",
    "import calendar\n",
    "x = list(calendar.month_abbr)[1:]\n",
    "ax = sb.boxplot(df_wide)\n",
    "ax.set(xlabel='Month', ylabel='Natural Gas (MCM)')\n",
    "ax.set_xticklabels(x)"
   ]
  },
  {
   "cell_type": "markdown",
   "metadata": {
    "collapsed": false
   },
   "source": [
    "5) Boxplots of import/export variables against `TotalSupply_1`. Set X and Y axis labels to `Natural gas (MCM)` and `Import/Export` respectively."
   ]
  },
  {
   "cell_type": "code",
   "execution_count": null,
   "metadata": {
    "collapsed": false
   },
   "outputs": [],
   "source": [
    "# ..."
   ]
  }
 ],
 "metadata": {
  "kernelspec": {
   "display_name": "Python 3",
   "language": "python",
   "name": "python3"
  },
  "language_info": {
   "codemirror_mode": {
    "name": "ipython",
    "version": 3
   },
   "file_extension": ".py",
   "mimetype": "text/x-python",
   "name": "python",
   "nbconvert_exporter": "python",
   "pygments_lexer": "ipython3",
   "version": "3.11.4"
  }
 },
 "nbformat": 4,
 "nbformat_minor": 0
}
