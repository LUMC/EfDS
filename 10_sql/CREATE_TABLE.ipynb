{
 "cells": [
  {
   "cell_type": "markdown",
   "id": "7d45dda5",
   "metadata": {},
   "source": [
    "# SQL Data Definition Language"
   ]
  },
  {
   "cell_type": "markdown",
   "id": "e9b0f459",
   "metadata": {},
   "source": [
    "## Preparation"
   ]
  },
  {
   "cell_type": "markdown",
   "id": "38d00b5d",
   "metadata": {},
   "source": [
    "For this section you need `chinook.db` database file and working `%sql` magic.  \n",
    "If you don't have it, please go back to the [previous section](../09_sql/connect_to_database.ipynb) and follow the instructions.  \n",
    "The following code should not produce any errors:"
   ]
  },
  {
   "cell_type": "code",
   "execution_count": null,
   "id": "a6eb7abf",
   "metadata": {},
   "outputs": [],
   "source": [
    "%load_ext sql\n",
    "%sql sqlite:///chinook.db"
   ]
  },
  {
   "cell_type": "markdown",
   "id": "9a16ac82",
   "metadata": {},
   "source": [
    "## `CREATE TABLE` - adding a new empty table to the database"
   ]
  },
  {
   "cell_type": "markdown",
   "id": "175ec84d",
   "metadata": {},
   "source": [
    "### Overview"
   ]
  },
  {
   "cell_type": "markdown",
   "id": "076d9c10",
   "metadata": {},
   "source": [
    "The main syntax we need to use for creating a new table:"
   ]
  },
  {
   "cell_type": "markdown",
   "id": "3d39b938",
   "metadata": {},
   "source": [
    "```sql\n",
    "CREATE TABLE [IF NOT EXIST] table_name (\n",
    "    name_1 data_type_1 PRIMARY KEY,      -- first column\n",
    "    name_2 data_type_2 NOT NULL,         -- second column\n",
    "    name_3 data_type_3 DEFAULT 0,        /* third column */\n",
    "    table_constraints                    \n",
    ")\n",
    "```"
   ]
  },
  {
   "cell_type": "markdown",
   "id": "37779d08",
   "metadata": {},
   "source": [
    "As you can see:\n",
    "- we must specify the table name. \n",
    "- we (can) use `IF NOT EXIST` to create the table only if it doesn't exist. If you try to create a table that already exists inside the database you will get an error message. To avoid this, you can use an optional clause `IF NOT EXISTS`.\n",
    "- we must specify the list of table columns. Each column must have a `name` and a `data type`.\n",
    "- we may specify additional column constraints/properties: `PRIMARY KEY`, `FOREIGN KEY`, `UNIQUE`, `NOT NULL`, `CHECK`, `DEFAULT`."
   ]
  },
  {
   "cell_type": "markdown",
   "id": "e4c38072",
   "metadata": {},
   "source": [
    "### Constraints"
   ]
  },
  {
   "cell_type": "markdown",
   "id": "227647e5",
   "metadata": {},
   "source": [
    "Constraints are the rules enforced on a data columns on table. These are used to limit the type of data that can get added into a table. This ensures the accuracy and reliability of the data in the database."
   ]
  },
  {
   "cell_type": "markdown",
   "id": "57ec3a85",
   "metadata": {},
   "source": [
    "#### `NOT NULL` - the column must only have valid values"
   ]
  },
  {
   "cell_type": "markdown",
   "id": "6dc089f4",
   "metadata": {},
   "source": [
    "Ensures that a column cannot have NULL value.\n",
    "\n",
    "If `NOT NULL` constraint is applied on a column then you cannot insert a new row in the table with `NULL` value in that column."
   ]
  },
  {
   "cell_type": "markdown",
   "id": "c7a0221d",
   "metadata": {},
   "source": [
    "#### `PRIMARY KEY` - defines primary key column(s)"
   ]
  },
  {
   "cell_type": "markdown",
   "id": "8f26516d",
   "metadata": {},
   "source": [
    "The `PRIMARY KEY` constraint identifies that the column belongs to the set of primary key columns which uniquely identify each row of the table. No two rows in a table are allowed to have exactly the same values in all of its primary key columns. We cannot enter `NULL` value in a primary key column."
   ]
  },
  {
   "cell_type": "markdown",
   "id": "fd206538",
   "metadata": {},
   "source": [
    "Primary key(s) might be defined in two ways:\n",
    "\n",
    "- If the primary key has only one column:\n",
    "\n",
    "```sql\n",
    "`CREATE TABLE table_name(\n",
    "   column_1 INTEGER NOT NULL PRIMARY KEY,\n",
    "   ...\n",
    ")\n",
    "```\n",
    "\n",
    "- If the primary key consists of two or more columns:\n",
    "\n",
    "```sql\n",
    "CREATE TABLE table_name(\n",
    "   column_1 INTEGER NOT NULL,\n",
    "   column_2 INTEGER NOT NULL,\n",
    "   ...\n",
    "   PRIMARY KEY(column_1,column_2,...)\n",
    ")\n",
    "```"
   ]
  },
  {
   "cell_type": "markdown",
   "id": "7a2e7bee",
   "metadata": {},
   "source": [
    "#### `FOREIGN KEY` - defines a relation to (other) table"
   ]
  },
  {
   "cell_type": "markdown",
   "id": "b755b2e3",
   "metadata": {},
   "source": [
    "`FOREIGN KEY` is used to describe that the current table stores a relation to a parent table and arguments specify:\n",
    "- the name of the referenced (parent) table after `REFERENCES`\n",
    "- what *action* should be taken `ON UPDATE` of a referenced row in the parent table (so, when the value is changed)\n",
    "- what *action* should be taken `ON DELETE` of a referenced row in the parent table (so, when the row gets removed)"
   ]
  },
  {
   "cell_type": "markdown",
   "id": "4c915a68",
   "metadata": {},
   "source": [
    "The SQL specification follows the pattern:"
   ]
  },
  {
   "cell_type": "markdown",
   "id": "68158234",
   "metadata": {},
   "source": [
    "```sql\n",
    "FOREIGN KEY (foreign_key_columns)\n",
    "   REFERENCES parent_table(parent_key_columns)\n",
    "      ON UPDATE action \n",
    "      ON DELETE action\n",
    "```"
   ]
  },
  {
   "cell_type": "markdown",
   "id": "6e0bb857",
   "metadata": {},
   "source": [
    "The following actions are allowed (more desciption [here](https://www.sqlitetutorial.net/sqlite-foreign-key/)):"
   ]
  },
  {
   "cell_type": "markdown",
   "id": "d139b041",
   "metadata": {},
   "source": [
    "- `NO ACTION`: No action is taken on update/delete.\n",
    "- `CASCADE`: Propagates the changes from the parent table to the child table when you update or delete the parent key.\n",
    "- `SET NULL`\n",
    "- `SET DEFAULT`\n",
    "- `RESTRICT`"
   ]
  },
  {
   "cell_type": "markdown",
   "id": "eb3a178d",
   "metadata": {},
   "source": [
    "#### `UNIQUE` - this column must have no duplicated values"
   ]
  },
  {
   "cell_type": "markdown",
   "id": "3010dc84",
   "metadata": {},
   "source": [
    "Ensures that all values in a column are different. The `UNIQUE` constraint restricts one or more columns to contain unique values within a table.\n",
    "\n",
    "Although both a `UNIQUE` constraint and a `PRIMARY KEY` constraint enforce uniqueness, use a `UNIQUE` constraint instead of a `PRIMARY KEY` constraint when you want to enforce the uniqueness of a column, or combination of columns, that is not the primary key."
   ]
  },
  {
   "cell_type": "markdown",
   "id": "a0682cdf",
   "metadata": {},
   "source": [
    "#### `CHECK` - constraints checks in form of expressions"
   ]
  },
  {
   "cell_type": "markdown",
   "id": "4e59a6cc",
   "metadata": {},
   "source": [
    "The `CHECK` constraint is used to restrict the values that can be placed in a column. It allows to write expressions which must be met before a value is allowed to be inserted/changed."
   ]
  },
  {
   "cell_type": "markdown",
   "id": "daf6d99b",
   "metadata": {},
   "source": [
    "#### `DEFAULT` - value to be used when not provided"
   ]
  },
  {
   "cell_type": "markdown",
   "id": "23296cf9",
   "metadata": {},
   "source": [
    "`DEFAULT` specifies the default value for the columns. A column default is some value that will be inserted in the column by the database engine when an `INSERT` statement doesn't explicitly assign a particular value."
   ]
  },
  {
   "cell_type": "markdown",
   "id": "fed0f685",
   "metadata": {},
   "source": [
    "## `DROP TABLE` - removing a table from the database"
   ]
  },
  {
   "cell_type": "markdown",
   "id": "cae0242e",
   "metadata": {},
   "source": [
    "Use the following syntax to remove a table from the database:"
   ]
  },
  {
   "cell_type": "markdown",
   "id": "2059d8b1",
   "metadata": {},
   "source": [
    "```sql\n",
    "DROP TABLE table_name\n",
    "```"
   ]
  },
  {
   "cell_type": "markdown",
   "id": "e25c5f0c",
   "metadata": {},
   "source": [
    "*Note:* Dropping of a table might fail when presence of table rows are necessary due to constraints present in other tables."
   ]
  },
  {
   "cell_type": "markdown",
   "id": "84639899",
   "metadata": {},
   "source": [
    "---"
   ]
  },
  {
   "cell_type": "markdown",
   "id": "42568795",
   "metadata": {},
   "source": [
    "## Example 1: Create two tables with many-to-many relation"
   ]
  },
  {
   "attachments": {
    "image.png": {
     "image/png": "[encoded data removed]"
    }
   },
   "cell_type": "markdown",
   "id": "facc96b1",
   "metadata": {},
   "source": [
    "Suppose you have to manage contacts in an SQL database.\n",
    "\n",
    "Each contact has the following information:\n",
    "\n",
    "- First name\n",
    "- Last name\n",
    "- Email\n",
    "- Phone\n",
    "\n",
    "The requirement is that the email and phone must be unique. In addition, each contact belongs to one or many groups, and each group can have zero or many contacts.\n",
    "\n",
    "Based on these requirements, we came up with three tables:\n",
    "\n",
    "- The `contacts` table that stores contact information.\n",
    "- The `groups` table that stores group information.\n",
    "- The `contact_groups` table that stores the relationship between contacts and groups.\n",
    "\n",
    "The following database diagram illustrates tables:`contacts` `groups`, and `contact_groups`.\n",
    "\n",
    "![image.png](attachment:image.png)\n",
    "\n",
    "*Note:* We need to know what are the constraints before creating tables."
   ]
  },
  {
   "cell_type": "markdown",
   "id": "99c53452",
   "metadata": {},
   "source": [
    "### The following statement creates the `contacts` table"
   ]
  },
  {
   "cell_type": "markdown",
   "id": "2dcce260",
   "metadata": {
    "scrolled": true
   },
   "source": [
    "```sql\n",
    "CREATE TABLE IF NOT EXISTS contacts (\n",
    "    contact_id INTEGER PRIMARY KEY,\n",
    "    first_name TEXT NOT NULL,\n",
    "    last_name TEXT NOT NULL,\n",
    "    email TEXT NOT NULL UNIQUE,\n",
    "    phone TEXT NOT NULL UNIQUE\n",
    ")\n",
    "```"
   ]
  },
  {
   "cell_type": "markdown",
   "id": "2127a3cd",
   "metadata": {},
   "source": [
    "### The following statement creates the `groups`table"
   ]
  },
  {
   "cell_type": "markdown",
   "id": "b2de75d3",
   "metadata": {
    "scrolled": true
   },
   "source": [
    "```sql\n",
    "CREATE TABLE IF NOT EXISTS groups (\n",
    "   group_id INTEGER PRIMARY KEY,\n",
    "   name TEXT NOT NULL\n",
    ")\n",
    "```"
   ]
  },
  {
   "cell_type": "markdown",
   "id": "21180484",
   "metadata": {},
   "source": [
    "### The following statement creates `contact_groups` table"
   ]
  },
  {
   "cell_type": "markdown",
   "id": "42ebedb8",
   "metadata": {},
   "source": [
    "```sql\n",
    "CREATE TABLE IF NOT EXISTS contact_groups(\n",
    "   contact_id INTEGER,\n",
    "   group_id INTEGER,\n",
    "   PRIMARY KEY (contact_id, group_id),\n",
    "   FOREIGN KEY (contact_id) \n",
    "      REFERENCES contacts (contact_id) \n",
    "         ON DELETE CASCADE \n",
    "         ON UPDATE NO ACTION,\n",
    "   FOREIGN KEY (group_id) \n",
    "      REFERENCES groups (group_id) \n",
    "         ON DELETE CASCADE \n",
    "         ON UPDATE NO ACTION\n",
    ")\n",
    "```"
   ]
  },
  {
   "cell_type": "markdown",
   "id": "9dcdcf52",
   "metadata": {},
   "source": [
    "## Example 2: Create two tables and drop"
   ]
  },
  {
   "cell_type": "markdown",
   "id": "72edfc7c",
   "metadata": {},
   "source": [
    "For the demonstration purpose, we will create two related tables: `people` and `addresses`:\n",
    "- Each person has zero or one address. \n",
    "- And an address can be shared by any number of people."
   ]
  },
  {
   "attachments": {
    "image.png": {
     "image/png": "[encoded data removed]"
    }
   },
   "cell_type": "markdown",
   "id": "e7744f48",
   "metadata": {},
   "source": [
    "![image.png](attachment:image.png)"
   ]
  },
  {
   "cell_type": "markdown",
   "id": "f223b6ad",
   "metadata": {},
   "source": [
    "### Create tables"
   ]
  },
  {
   "cell_type": "code",
   "execution_count": null,
   "id": "61e40076",
   "metadata": {},
   "outputs": [],
   "source": [
    "%%sql\n",
    "CREATE TABLE IF NOT EXISTS people (\n",
    "   person_id INTEGER PRIMARY KEY,\n",
    "   first_name TEXT,\n",
    "   last_name TEXT,\n",
    "   address_id INTEGER,\n",
    "   FOREIGN KEY (address_id) \n",
    "      REFERENCES addresses (address_id)\n",
    ")"
   ]
  },
  {
   "cell_type": "code",
   "execution_count": null,
   "id": "a8476f8b",
   "metadata": {},
   "outputs": [],
   "source": [
    "%%sql\n",
    "CREATE TABLE IF NOT EXISTS addresses (\n",
    "   address_id INTEGER PRIMARY KEY,\n",
    "   house_no TEXT,\n",
    "   street TEXT,\n",
    "   city TEXT,\n",
    "   postal_code TEXT,\n",
    "   country TEXT\n",
    ")"
   ]
  },
  {
   "cell_type": "markdown",
   "id": "7eb5e062",
   "metadata": {},
   "source": [
    "### Insert example data"
   ]
  },
  {
   "cell_type": "markdown",
   "id": "1fc8f0d2",
   "metadata": {},
   "source": [
    "Let's insert an address and a person into the addresses and people tables."
   ]
  },
  {
   "cell_type": "code",
   "execution_count": null,
   "id": "53a38c2c",
   "metadata": {},
   "outputs": [],
   "source": [
    "%%sql\n",
    "INSERT INTO addresses ( house_no, street, city, postal_code, country ) \n",
    "  VALUES ( '3960', 'North 1st Street', 'San Jose', '95134', 'USA' ); \n",
    "INSERT INTO people ( first_name, last_name, address_id ) \n",
    "  VALUES ('John', 'Doe', 1);\n",
    "INSERT INTO people ( first_name, last_name) \n",
    "  VALUES ('Tonny', 'Homeless');"
   ]
  },
  {
   "cell_type": "markdown",
   "id": "868367e9",
   "metadata": {},
   "source": [
    "### Show inserted data"
   ]
  },
  {
   "cell_type": "code",
   "execution_count": null,
   "id": "ba16b7be",
   "metadata": {},
   "outputs": [],
   "source": [
    "%sql SELECT * FROM addresses"
   ]
  },
  {
   "cell_type": "code",
   "execution_count": null,
   "id": "faa35b15",
   "metadata": {},
   "outputs": [],
   "source": [
    "%sql SELECT * FROM people"
   ]
  },
  {
   "cell_type": "markdown",
   "id": "63470e04",
   "metadata": {},
   "source": [
    "### Drop table"
   ]
  },
  {
   "cell_type": "markdown",
   "id": "8a9afc84",
   "metadata": {},
   "source": [
    "Try to use the `DROP TABLE` statement to remove the `addresses` table."
   ]
  },
  {
   "cell_type": "code",
   "execution_count": null,
   "id": "fadc2ef0",
   "metadata": {},
   "outputs": [],
   "source": [
    "%%sql\n",
    "DROP TABLE IF EXISTS addresses"
   ]
  }
 ],
 "metadata": {
  "kernelspec": {
   "display_name": "EfDS2",
   "language": "python",
   "name": "python3"
  },
  "language_info": {
   "codemirror_mode": {
    "name": "ipython",
    "version": 3
   },
   "file_extension": ".py",
   "mimetype": "text/x-python",
   "name": "python",
   "nbconvert_exporter": "python",
   "pygments_lexer": "ipython3",
   "version": "3.12.1"
  }
 },
 "nbformat": 4,
 "nbformat_minor": 5
}
