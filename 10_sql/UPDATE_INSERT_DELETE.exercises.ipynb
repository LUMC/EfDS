{
 "cells": [
  {
   "cell_type": "markdown",
   "id": "b9ccf0cb",
   "metadata": {},
   "source": [
    "# SQL modification statements (exercises)"
   ]
  },
  {
   "cell_type": "markdown",
   "id": "289777c9",
   "metadata": {},
   "source": [
    "## Preparation"
   ]
  },
  {
   "cell_type": "markdown",
   "id": "b5d77242",
   "metadata": {},
   "source": [
    "For this section you need `chinook.db` database file and working `%sql` magic.  \n",
    "If you don't have it, please go back to the [previous section](../09_sql/connect_to_database.ipynb) and follow the instructions.  \n",
    "The following code should not produce any errors:"
   ]
  },
  {
   "cell_type": "code",
   "execution_count": 18,
   "id": "89d64a98",
   "metadata": {},
   "outputs": [
    {
     "name": "stdout",
     "output_type": "stream",
     "text": [
      "The sql extension is already loaded. To reload it, use:\n",
      "  %reload_ext sql\n"
     ]
    }
   ],
   "source": [
    "%load_ext sql\n",
    "%sql sqlite:///chinook.db"
   ]
  },
  {
   "cell_type": "markdown",
   "id": "c80e4174",
   "metadata": {},
   "source": [
    "## Exercise: updating rows"
   ]
  },
  {
   "cell_type": "code",
   "execution_count": null,
   "id": "7c2413e6",
   "metadata": {},
   "outputs": [],
   "source": [
    "import sqlalchemy as sa\n",
    "engine = sa.create_engine(\"sqlite:///chinook.db\")\n",
    "conn = engine.connect()\n",
    "sa.inspect(engine).get_table_names()"
   ]
  },
  {
   "cell_type": "markdown",
   "id": "e8a9235e",
   "metadata": {},
   "source": [
    "An employee `Park Margaret` has moved to a new address: \n",
    "- `City`: `Toronto`,\n",
    "- `State`: `NO`,\n",
    "- `Postcode`: `M5P 2N7`. \n",
    "\n",
    "Update the `employee` table accordingly.  \n",
    "To verify that the change indeed is made, show the content before and after the change."
   ]
  },
  {
   "cell_type": "code",
   "execution_count": 21,
   "id": "24d2c738",
   "metadata": {},
   "outputs": [
    {
     "data": {
      "text/html": [
       "<span style=\"None\">Running query in &#x27;sqlite:///chinook.db&#x27;</span>"
      ],
      "text/plain": [
       "Running query in 'sqlite:///chinook.db'"
      ]
     },
     "metadata": {},
     "output_type": "display_data"
    },
    {
     "data": {
      "text/html": [
       "<table>\n",
       "    <thead>\n",
       "        <tr>\n",
       "            <th>EmployeeId</th>\n",
       "            <th>LastName</th>\n",
       "            <th>FirstName</th>\n",
       "            <th>Title</th>\n",
       "            <th>ReportsTo</th>\n",
       "            <th>BirthDate</th>\n",
       "            <th>HireDate</th>\n",
       "            <th>Address</th>\n",
       "            <th>City</th>\n",
       "            <th>State</th>\n",
       "            <th>Country</th>\n",
       "            <th>PostalCode</th>\n",
       "            <th>Phone</th>\n",
       "            <th>Fax</th>\n",
       "            <th>Email</th>\n",
       "        </tr>\n",
       "    </thead>\n",
       "    <tbody>\n",
       "        <tr>\n",
       "            <td>4</td>\n",
       "            <td>Park</td>\n",
       "            <td>Margaret</td>\n",
       "            <td>Sales Support Agent</td>\n",
       "            <td>2</td>\n",
       "            <td>1947-09-19 00:00:00</td>\n",
       "            <td>2003-05-03 00:00:00</td>\n",
       "            <td>683 10 Street SW</td>\n",
       "            <td>Calgary</td>\n",
       "            <td>AB</td>\n",
       "            <td>Canada</td>\n",
       "            <td>T2P 5G3</td>\n",
       "            <td>+1 (403) 263-4423</td>\n",
       "            <td>+1 (403) 263-4289</td>\n",
       "            <td>margaret@chinookcorp.com</td>\n",
       "        </tr>\n",
       "    </tbody>\n",
       "</table>"
      ],
      "text/plain": [
       "+------------+----------+-----------+---------------------+-----------+---------------------+---------------------+------------------+---------+-------+---------+------------+-------------------+-------------------+--------------------------+\n",
       "| EmployeeId | LastName | FirstName |        Title        | ReportsTo |      BirthDate      |       HireDate      |     Address      |   City  | State | Country | PostalCode |       Phone       |        Fax        |          Email           |\n",
       "+------------+----------+-----------+---------------------+-----------+---------------------+---------------------+------------------+---------+-------+---------+------------+-------------------+-------------------+--------------------------+\n",
       "|     4      |   Park   |  Margaret | Sales Support Agent |     2     | 1947-09-19 00:00:00 | 2003-05-03 00:00:00 | 683 10 Street SW | Calgary |   AB  |  Canada |  T2P 5G3   | +1 (403) 263-4423 | +1 (403) 263-4289 | margaret@chinookcorp.com |\n",
       "+------------+----------+-----------+---------------------+-----------+---------------------+---------------------+------------------+---------+-------+---------+------------+-------------------+-------------------+--------------------------+"
      ]
     },
     "execution_count": 21,
     "metadata": {},
     "output_type": "execute_result"
    }
   ],
   "source": [
    "%sql SELECT * FROM employees WHERE LastName = \"Park\""
   ]
  },
  {
   "cell_type": "code",
   "execution_count": 33,
   "id": "11d4c64e",
   "metadata": {},
   "outputs": [
    {
     "data": {
      "text/html": [
       "<span style=\"None\">Running query in &#x27;sqlite:///chinook.db&#x27;</span>"
      ],
      "text/plain": [
       "Running query in 'sqlite:///chinook.db'"
      ]
     },
     "metadata": {},
     "output_type": "display_data"
    },
    {
     "data": {
      "text/html": [
       "<span style=\"color: green\">1 rows affected.</span>"
      ],
      "text/plain": [
       "1 rows affected."
      ]
     },
     "metadata": {},
     "output_type": "display_data"
    },
    {
     "data": {
      "text/html": [
       "<table>\n",
       "    <thead>\n",
       "        <tr>\n",
       "        </tr>\n",
       "    </thead>\n",
       "    <tbody>\n",
       "    </tbody>\n",
       "</table>"
      ],
      "text/plain": [
       "++\n",
       "||\n",
       "++\n",
       "++"
      ]
     },
     "execution_count": 33,
     "metadata": {},
     "output_type": "execute_result"
    }
   ],
   "source": [
    "%%sql\n",
    "UPDATE employees\n",
    "  SET City = 'Toronto',State = 'NO',PostalCode = 'M5P 2N7'\n",
    "  # WHERE LastName = 'Park',FirstName = 'Margaret'\n",
    "  WHERE EmployeeId = 4\n",
    "# %sql INSERT INTO employees (LastName, FirstName, City, State, PostalCode) VALUES (\"Park\",\"Margaret\",\"Toronto\",\"NO\",\"M5P 2N7\")\n"
   ]
  },
  {
   "cell_type": "code",
   "execution_count": 34,
   "id": "08636810",
   "metadata": {},
   "outputs": [
    {
     "data": {
      "text/html": [
       "<span style=\"None\">Running query in &#x27;sqlite:///chinook.db&#x27;</span>"
      ],
      "text/plain": [
       "Running query in 'sqlite:///chinook.db'"
      ]
     },
     "metadata": {},
     "output_type": "display_data"
    },
    {
     "data": {
      "text/html": [
       "<table>\n",
       "    <thead>\n",
       "        <tr>\n",
       "            <th>EmployeeId</th>\n",
       "            <th>LastName</th>\n",
       "            <th>FirstName</th>\n",
       "            <th>Title</th>\n",
       "            <th>ReportsTo</th>\n",
       "            <th>BirthDate</th>\n",
       "            <th>HireDate</th>\n",
       "            <th>Address</th>\n",
       "            <th>City</th>\n",
       "            <th>State</th>\n",
       "            <th>Country</th>\n",
       "            <th>PostalCode</th>\n",
       "            <th>Phone</th>\n",
       "            <th>Fax</th>\n",
       "            <th>Email</th>\n",
       "        </tr>\n",
       "    </thead>\n",
       "    <tbody>\n",
       "        <tr>\n",
       "            <td>4</td>\n",
       "            <td>Park</td>\n",
       "            <td>Margaret</td>\n",
       "            <td>Sales Support Agent</td>\n",
       "            <td>2</td>\n",
       "            <td>1947-09-19 00:00:00</td>\n",
       "            <td>2003-05-03 00:00:00</td>\n",
       "            <td>683 10 Street SW</td>\n",
       "            <td>Toronto</td>\n",
       "            <td>NO</td>\n",
       "            <td>Canada</td>\n",
       "            <td>M5P 2N7</td>\n",
       "            <td>+1 (403) 263-4423</td>\n",
       "            <td>+1 (403) 263-4289</td>\n",
       "            <td>margaret@chinookcorp.com</td>\n",
       "        </tr>\n",
       "    </tbody>\n",
       "</table>"
      ],
      "text/plain": [
       "+------------+----------+-----------+---------------------+-----------+---------------------+---------------------+------------------+---------+-------+---------+------------+-------------------+-------------------+--------------------------+\n",
       "| EmployeeId | LastName | FirstName |        Title        | ReportsTo |      BirthDate      |       HireDate      |     Address      |   City  | State | Country | PostalCode |       Phone       |        Fax        |          Email           |\n",
       "+------------+----------+-----------+---------------------+-----------+---------------------+---------------------+------------------+---------+-------+---------+------------+-------------------+-------------------+--------------------------+\n",
       "|     4      |   Park   |  Margaret | Sales Support Agent |     2     | 1947-09-19 00:00:00 | 2003-05-03 00:00:00 | 683 10 Street SW | Toronto |   NO  |  Canada |  M5P 2N7   | +1 (403) 263-4423 | +1 (403) 263-4289 | margaret@chinookcorp.com |\n",
       "+------------+----------+-----------+---------------------+-----------+---------------------+---------------------+------------------+---------+-------+---------+------------+-------------------+-------------------+--------------------------+"
      ]
     },
     "execution_count": 34,
     "metadata": {},
     "output_type": "execute_result"
    }
   ],
   "source": [
    "%sql SELECT * FROM employees WHERE LastName = \"Park\""
   ]
  },
  {
   "cell_type": "markdown",
   "id": "fef08ac9",
   "metadata": {},
   "source": [
    "## Exercise: adding rows"
   ]
  },
  {
   "cell_type": "markdown",
   "id": "9ae13873",
   "metadata": {},
   "source": [
    "In a single SQL command insert three new random persons into the `artists` table.  \n",
    "To verify that the change indeed is made, show the content before and after the change."
   ]
  },
  {
   "cell_type": "code",
   "execution_count": null,
   "id": "4590e602",
   "metadata": {},
   "outputs": [],
   "source": []
  },
  {
   "cell_type": "markdown",
   "id": "9a5d8609",
   "metadata": {},
   "source": [
    "## Exercise: removing rows"
   ]
  },
  {
   "cell_type": "markdown",
   "id": "d36bcbeb",
   "metadata": {},
   "source": [
    "Let's delete `artists` whose names contain the word `Santana`.  \n",
    "To verify that the change indeed is made, show the content before and after the change."
   ]
  }
 ],
 "metadata": {
  "kernelspec": {
   "display_name": "Python 3 (ipykernel)",
   "language": "python",
   "name": "python3"
  },
  "language_info": {
   "codemirror_mode": {
    "name": "ipython",
    "version": 3
   },
   "file_extension": ".py",
   "mimetype": "text/x-python",
   "name": "python",
   "nbconvert_exporter": "python",
   "pygments_lexer": "ipython3",
   "version": "3.11.4"
  }
 },
 "nbformat": 4,
 "nbformat_minor": 5
}
