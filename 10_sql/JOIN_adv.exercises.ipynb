{
 "cells": [
  {
   "cell_type": "markdown",
   "metadata": {},
   "source": [
    "# SQL other joins and subqueries (exercises)"
   ]
  },
  {
   "cell_type": "markdown",
   "id": "565c542e",
   "metadata": {},
   "source": [
    "## Preparation"
   ]
  },
  {
   "cell_type": "markdown",
   "id": "72887592",
   "metadata": {},
   "source": [
    "For this section you need `chinook.db` database file and working `%sql` magic.  \n",
    "If you don't have it, please go back to the [previous section](../09_sql/connect_to_database.ipynb) and follow the instructions.  \n",
    "The following code should not produce any errors:"
   ]
  },
  {
   "cell_type": "code",
   "execution_count": 3,
   "id": "109a81b6",
   "metadata": {},
   "outputs": [
    {
     "data": {
      "text/html": [
       "<span style=\"None\">Connecting to &#x27;sqlite:///chinook.db&#x27;</span>"
      ],
      "text/plain": [
       "Connecting to 'sqlite:///chinook.db'"
      ]
     },
     "metadata": {},
     "output_type": "display_data"
    }
   ],
   "source": [
    "%load_ext sql\n",
    "%sql sqlite:///chinook.db"
   ]
  },
  {
   "cell_type": "markdown",
   "metadata": {},
   "source": [
    "## Exercise: difference between two sets"
   ]
  },
  {
   "cell_type": "markdown",
   "metadata": {},
   "source": [
    "Based on the `artists` and `albums` tables:\n",
    "- Construct a table with one column `ArtistId` containing only the artists who do not have any album.\n",
    "- Use `EXPECT`."
   ]
  },
  {
   "cell_type": "code",
   "execution_count": 2,
   "id": "0f7d4f8f",
   "metadata": {},
   "outputs": [
    {
     "data": {
      "text/html": [
       "<span style=\"None\">Running query in &#x27;sqlite:///chinook.db&#x27;</span>"
      ],
      "text/plain": [
       "Running query in 'sqlite:///chinook.db'"
      ]
     },
     "metadata": {},
     "output_type": "display_data"
    },
    {
     "data": {
      "text/html": [
       "<table>\n",
       "    <thead>\n",
       "        <tr>\n",
       "            <th>AlbumId</th>\n",
       "            <th>Title</th>\n",
       "            <th>ArtistId</th>\n",
       "        </tr>\n",
       "    </thead>\n",
       "    <tbody>\n",
       "        <tr>\n",
       "            <td>1</td>\n",
       "            <td>For Those About To Rock We Salute You</td>\n",
       "            <td>1</td>\n",
       "        </tr>\n",
       "        <tr>\n",
       "            <td>2</td>\n",
       "            <td>Balls to the Wall</td>\n",
       "            <td>2</td>\n",
       "        </tr>\n",
       "        <tr>\n",
       "            <td>3</td>\n",
       "            <td>Restless and Wild</td>\n",
       "            <td>2</td>\n",
       "        </tr>\n",
       "        <tr>\n",
       "            <td>4</td>\n",
       "            <td>Let There Be Rock</td>\n",
       "            <td>1</td>\n",
       "        </tr>\n",
       "        <tr>\n",
       "            <td>5</td>\n",
       "            <td>Big Ones</td>\n",
       "            <td>3</td>\n",
       "        </tr>\n",
       "        <tr>\n",
       "            <td>6</td>\n",
       "            <td>Jagged Little Pill</td>\n",
       "            <td>4</td>\n",
       "        </tr>\n",
       "        <tr>\n",
       "            <td>7</td>\n",
       "            <td>Facelift</td>\n",
       "            <td>5</td>\n",
       "        </tr>\n",
       "        <tr>\n",
       "            <td>8</td>\n",
       "            <td>Warner 25 Anos</td>\n",
       "            <td>6</td>\n",
       "        </tr>\n",
       "        <tr>\n",
       "            <td>9</td>\n",
       "            <td>Plays Metallica By Four Cellos</td>\n",
       "            <td>7</td>\n",
       "        </tr>\n",
       "        <tr>\n",
       "            <td>10</td>\n",
       "            <td>Audioslave</td>\n",
       "            <td>8</td>\n",
       "        </tr>\n",
       "    </tbody>\n",
       "</table>\n",
       "<span style=\"font-style:italic;text-align:center;\">Truncated to <a href=\"https://jupysql.ploomber.io/en/latest/api/configuration.html#displaylimit\">displaylimit</a> of 10.</span>"
      ],
      "text/plain": [
       "+---------+---------------------------------------+----------+\n",
       "| AlbumId |                 Title                 | ArtistId |\n",
       "+---------+---------------------------------------+----------+\n",
       "|    1    | For Those About To Rock We Salute You |    1     |\n",
       "|    2    |           Balls to the Wall           |    2     |\n",
       "|    3    |           Restless and Wild           |    2     |\n",
       "|    4    |           Let There Be Rock           |    1     |\n",
       "|    5    |                Big Ones               |    3     |\n",
       "|    6    |           Jagged Little Pill          |    4     |\n",
       "|    7    |                Facelift               |    5     |\n",
       "|    8    |             Warner 25 Anos            |    6     |\n",
       "|    9    |     Plays Metallica By Four Cellos    |    7     |\n",
       "|    10   |               Audioslave              |    8     |\n",
       "+---------+---------------------------------------+----------+\n",
       "Truncated to displaylimit of 10."
      ]
     },
     "execution_count": 2,
     "metadata": {},
     "output_type": "execute_result"
    }
   ],
   "source": [
    "%sql SELECT * FROM albums"
   ]
  },
  {
   "cell_type": "code",
   "execution_count": 5,
   "id": "d89605f8",
   "metadata": {},
   "outputs": [
    {
     "data": {
      "text/html": [
       "<span style=\"None\">Running query in &#x27;sqlite:///chinook.db&#x27;</span>"
      ],
      "text/plain": [
       "Running query in 'sqlite:///chinook.db'"
      ]
     },
     "metadata": {},
     "output_type": "display_data"
    },
    {
     "data": {
      "text/html": [
       "<table>\n",
       "    <thead>\n",
       "        <tr>\n",
       "            <th>ArtistId</th>\n",
       "        </tr>\n",
       "    </thead>\n",
       "    <tbody>\n",
       "        <tr>\n",
       "            <td>25</td>\n",
       "        </tr>\n",
       "        <tr>\n",
       "            <td>26</td>\n",
       "        </tr>\n",
       "        <tr>\n",
       "            <td>28</td>\n",
       "        </tr>\n",
       "        <tr>\n",
       "            <td>29</td>\n",
       "        </tr>\n",
       "        <tr>\n",
       "            <td>30</td>\n",
       "        </tr>\n",
       "        <tr>\n",
       "            <td>31</td>\n",
       "        </tr>\n",
       "        <tr>\n",
       "            <td>32</td>\n",
       "        </tr>\n",
       "        <tr>\n",
       "            <td>33</td>\n",
       "        </tr>\n",
       "        <tr>\n",
       "            <td>34</td>\n",
       "        </tr>\n",
       "        <tr>\n",
       "            <td>35</td>\n",
       "        </tr>\n",
       "    </tbody>\n",
       "</table>\n",
       "<span style=\"font-style:italic;text-align:center;\">Truncated to <a href=\"https://jupysql.ploomber.io/en/latest/api/configuration.html#displaylimit\">displaylimit</a> of 10.</span>"
      ],
      "text/plain": [
       "+----------+\n",
       "| ArtistId |\n",
       "+----------+\n",
       "|    25    |\n",
       "|    26    |\n",
       "|    28    |\n",
       "|    29    |\n",
       "|    30    |\n",
       "|    31    |\n",
       "|    32    |\n",
       "|    33    |\n",
       "|    34    |\n",
       "|    35    |\n",
       "+----------+\n",
       "Truncated to displaylimit of 10."
      ]
     },
     "execution_count": 5,
     "metadata": {},
     "output_type": "execute_result"
    }
   ],
   "source": [
    "%%sql\n",
    "    SELECT ArtistId FROM artists\n",
    "EXCEPT\n",
    "    SELECT DISTINCT ArtistId FROM albums\n",
    "  LIMIT 10"
   ]
  },
  {
   "cell_type": "markdown",
   "metadata": {},
   "source": [
    "## Exercise: intersection of two sets"
   ]
  },
  {
   "cell_type": "markdown",
   "metadata": {},
   "source": [
    "Based on the `customers` and `invoices` tables:\n",
    "- Construct a table with one column `CustomerId` containing only the customers who had an invoice.\n",
    "- Use `INTERSECT`."
   ]
  },
  {
   "cell_type": "code",
   "execution_count": 6,
   "id": "b698236e",
   "metadata": {},
   "outputs": [
    {
     "data": {
      "text/html": [
       "<span style=\"None\">Running query in &#x27;sqlite:///chinook.db&#x27;</span>"
      ],
      "text/plain": [
       "Running query in 'sqlite:///chinook.db'"
      ]
     },
     "metadata": {},
     "output_type": "display_data"
    },
    {
     "data": {
      "text/html": [
       "<table>\n",
       "    <thead>\n",
       "        <tr>\n",
       "            <th>CustomerId</th>\n",
       "        </tr>\n",
       "    </thead>\n",
       "    <tbody>\n",
       "        <tr>\n",
       "            <td>1</td>\n",
       "        </tr>\n",
       "        <tr>\n",
       "            <td>2</td>\n",
       "        </tr>\n",
       "        <tr>\n",
       "            <td>3</td>\n",
       "        </tr>\n",
       "        <tr>\n",
       "            <td>4</td>\n",
       "        </tr>\n",
       "        <tr>\n",
       "            <td>5</td>\n",
       "        </tr>\n",
       "    </tbody>\n",
       "</table>"
      ],
      "text/plain": [
       "+------------+\n",
       "| CustomerId |\n",
       "+------------+\n",
       "|     1      |\n",
       "|     2      |\n",
       "|     3      |\n",
       "|     4      |\n",
       "|     5      |\n",
       "+------------+"
      ]
     },
     "execution_count": 6,
     "metadata": {},
     "output_type": "execute_result"
    }
   ],
   "source": [
    "%%sql\n",
    "    SELECT DISTINCT CustomerId FROM customers\n",
    "INTERSECT\n",
    "    SELECT CustomerId FROM invoices\n",
    "  LIMIT 5"
   ]
  },
  {
   "cell_type": "markdown",
   "metadata": {},
   "source": [
    "## Exercise: subquery"
   ]
  },
  {
   "cell_type": "markdown",
   "metadata": {},
   "source": [
    "Returns the customers whose sales representatives are in the `City` of `Calgary` .  \n",
    "You can use `customers` and `employees` tables."
   ]
  },
  {
   "cell_type": "code",
   "execution_count": 15,
   "id": "2240a760",
   "metadata": {},
   "outputs": [
    {
     "data": {
      "text/html": [
       "<span style=\"None\">Running query in &#x27;sqlite:///chinook.db&#x27;</span>"
      ],
      "text/plain": [
       "Running query in 'sqlite:///chinook.db'"
      ]
     },
     "metadata": {},
     "output_type": "display_data"
    },
    {
     "data": {
      "text/html": [
       "<span style=\"None\">Running query in &#x27;sqlite:///chinook.db&#x27;</span>"
      ],
      "text/plain": [
       "Running query in 'sqlite:///chinook.db'"
      ]
     },
     "metadata": {},
     "output_type": "display_data"
    },
    {
     "data": {
      "text/html": [
       "<table>\n",
       "    <thead>\n",
       "        <tr>\n",
       "            <th>EmployeeId</th>\n",
       "            <th>LastName</th>\n",
       "            <th>FirstName</th>\n",
       "            <th>Title</th>\n",
       "            <th>ReportsTo</th>\n",
       "            <th>BirthDate</th>\n",
       "            <th>HireDate</th>\n",
       "            <th>Address</th>\n",
       "            <th>City</th>\n",
       "            <th>State</th>\n",
       "            <th>Country</th>\n",
       "            <th>PostalCode</th>\n",
       "            <th>Phone</th>\n",
       "            <th>Fax</th>\n",
       "            <th>Email</th>\n",
       "        </tr>\n",
       "    </thead>\n",
       "    <tbody>\n",
       "        <tr>\n",
       "            <td>1</td>\n",
       "            <td>Adams</td>\n",
       "            <td>Andrew</td>\n",
       "            <td>General Manager</td>\n",
       "            <td>None</td>\n",
       "            <td>1962-02-18 00:00:00</td>\n",
       "            <td>2002-08-14 00:00:00</td>\n",
       "            <td>11120 Jasper Ave NW</td>\n",
       "            <td>Edmonton</td>\n",
       "            <td>AB</td>\n",
       "            <td>Canada</td>\n",
       "            <td>T5K 2N1</td>\n",
       "            <td>+1 (780) 428-9482</td>\n",
       "            <td>+1 (780) 428-3457</td>\n",
       "            <td>andrew@chinookcorp.com</td>\n",
       "        </tr>\n",
       "        <tr>\n",
       "            <td>2</td>\n",
       "            <td>Edwards</td>\n",
       "            <td>Nancy</td>\n",
       "            <td>Sales Manager</td>\n",
       "            <td>1</td>\n",
       "            <td>1958-12-08 00:00:00</td>\n",
       "            <td>2002-05-01 00:00:00</td>\n",
       "            <td>825 8 Ave SW</td>\n",
       "            <td>Calgary</td>\n",
       "            <td>AB</td>\n",
       "            <td>Canada</td>\n",
       "            <td>T2P 2T3</td>\n",
       "            <td>+1 (403) 262-3443</td>\n",
       "            <td>+1 (403) 262-3322</td>\n",
       "            <td>nancy@chinookcorp.com</td>\n",
       "        </tr>\n",
       "        <tr>\n",
       "            <td>3</td>\n",
       "            <td>Peacock</td>\n",
       "            <td>Jane</td>\n",
       "            <td>Sales Support Agent</td>\n",
       "            <td>2</td>\n",
       "            <td>1973-08-29 00:00:00</td>\n",
       "            <td>2002-04-01 00:00:00</td>\n",
       "            <td>1111 6 Ave SW</td>\n",
       "            <td>Calgary</td>\n",
       "            <td>AB</td>\n",
       "            <td>Canada</td>\n",
       "            <td>T2P 5M5</td>\n",
       "            <td>+1 (403) 262-3443</td>\n",
       "            <td>+1 (403) 262-6712</td>\n",
       "            <td>jane@chinookcorp.com</td>\n",
       "        </tr>\n",
       "        <tr>\n",
       "            <td>4</td>\n",
       "            <td>Park</td>\n",
       "            <td>Margaret</td>\n",
       "            <td>Sales Support Agent</td>\n",
       "            <td>2</td>\n",
       "            <td>1947-09-19 00:00:00</td>\n",
       "            <td>2003-05-03 00:00:00</td>\n",
       "            <td>683 10 Street SW</td>\n",
       "            <td>Toronto</td>\n",
       "            <td>NO</td>\n",
       "            <td>Canada</td>\n",
       "            <td>M5P 2N7</td>\n",
       "            <td>+1 (403) 263-4423</td>\n",
       "            <td>+1 (403) 263-4289</td>\n",
       "            <td>margaret@chinookcorp.com</td>\n",
       "        </tr>\n",
       "        <tr>\n",
       "            <td>5</td>\n",
       "            <td>Johnson</td>\n",
       "            <td>Steve</td>\n",
       "            <td>Sales Support Agent</td>\n",
       "            <td>2</td>\n",
       "            <td>1965-03-03 00:00:00</td>\n",
       "            <td>2003-10-17 00:00:00</td>\n",
       "            <td>7727B 41 Ave</td>\n",
       "            <td>Calgary</td>\n",
       "            <td>AB</td>\n",
       "            <td>Canada</td>\n",
       "            <td>T3B 1Y7</td>\n",
       "            <td>1 (780) 836-9987</td>\n",
       "            <td>1 (780) 836-9543</td>\n",
       "            <td>steve@chinookcorp.com</td>\n",
       "        </tr>\n",
       "        <tr>\n",
       "            <td>6</td>\n",
       "            <td>Mitchell</td>\n",
       "            <td>Michael</td>\n",
       "            <td>IT Manager</td>\n",
       "            <td>1</td>\n",
       "            <td>1973-07-01 00:00:00</td>\n",
       "            <td>2003-10-17 00:00:00</td>\n",
       "            <td>5827 Bowness Road NW</td>\n",
       "            <td>Calgary</td>\n",
       "            <td>AB</td>\n",
       "            <td>Canada</td>\n",
       "            <td>T3B 0C5</td>\n",
       "            <td>+1 (403) 246-9887</td>\n",
       "            <td>+1 (403) 246-9899</td>\n",
       "            <td>michael@chinookcorp.com</td>\n",
       "        </tr>\n",
       "        <tr>\n",
       "            <td>7</td>\n",
       "            <td>King</td>\n",
       "            <td>Robert</td>\n",
       "            <td>IT Staff</td>\n",
       "            <td>6</td>\n",
       "            <td>1970-05-29 00:00:00</td>\n",
       "            <td>2004-01-02 00:00:00</td>\n",
       "            <td>590 Columbia Boulevard West</td>\n",
       "            <td>Lethbridge</td>\n",
       "            <td>AB</td>\n",
       "            <td>Canada</td>\n",
       "            <td>T1K 5N8</td>\n",
       "            <td>+1 (403) 456-9986</td>\n",
       "            <td>+1 (403) 456-8485</td>\n",
       "            <td>robert@chinookcorp.com</td>\n",
       "        </tr>\n",
       "        <tr>\n",
       "            <td>8</td>\n",
       "            <td>Callahan</td>\n",
       "            <td>Laura</td>\n",
       "            <td>IT Staff</td>\n",
       "            <td>6</td>\n",
       "            <td>1968-01-09 00:00:00</td>\n",
       "            <td>2004-03-04 00:00:00</td>\n",
       "            <td>923 7 ST NW</td>\n",
       "            <td>Lethbridge</td>\n",
       "            <td>AB</td>\n",
       "            <td>Canada</td>\n",
       "            <td>T1H 1Y8</td>\n",
       "            <td>+1 (403) 467-3351</td>\n",
       "            <td>+1 (403) 467-8772</td>\n",
       "            <td>laura@chinookcorp.com</td>\n",
       "        </tr>\n",
       "    </tbody>\n",
       "</table>"
      ],
      "text/plain": [
       "+------------+----------+-----------+---------------------+-----------+---------------------+---------------------+-----------------------------+------------+-------+---------+------------+-------------------+-------------------+--------------------------+\n",
       "| EmployeeId | LastName | FirstName |        Title        | ReportsTo |      BirthDate      |       HireDate      |           Address           |    City    | State | Country | PostalCode |       Phone       |        Fax        |          Email           |\n",
       "+------------+----------+-----------+---------------------+-----------+---------------------+---------------------+-----------------------------+------------+-------+---------+------------+-------------------+-------------------+--------------------------+\n",
       "|     1      |  Adams   |   Andrew  |   General Manager   |    None   | 1962-02-18 00:00:00 | 2002-08-14 00:00:00 |     11120 Jasper Ave NW     |  Edmonton  |   AB  |  Canada |  T5K 2N1   | +1 (780) 428-9482 | +1 (780) 428-3457 |  andrew@chinookcorp.com  |\n",
       "|     2      | Edwards  |   Nancy   |    Sales Manager    |     1     | 1958-12-08 00:00:00 | 2002-05-01 00:00:00 |         825 8 Ave SW        |  Calgary   |   AB  |  Canada |  T2P 2T3   | +1 (403) 262-3443 | +1 (403) 262-3322 |  nancy@chinookcorp.com   |\n",
       "|     3      | Peacock  |    Jane   | Sales Support Agent |     2     | 1973-08-29 00:00:00 | 2002-04-01 00:00:00 |        1111 6 Ave SW        |  Calgary   |   AB  |  Canada |  T2P 5M5   | +1 (403) 262-3443 | +1 (403) 262-6712 |   jane@chinookcorp.com   |\n",
       "|     4      |   Park   |  Margaret | Sales Support Agent |     2     | 1947-09-19 00:00:00 | 2003-05-03 00:00:00 |       683 10 Street SW      |  Toronto   |   NO  |  Canada |  M5P 2N7   | +1 (403) 263-4423 | +1 (403) 263-4289 | margaret@chinookcorp.com |\n",
       "|     5      | Johnson  |   Steve   | Sales Support Agent |     2     | 1965-03-03 00:00:00 | 2003-10-17 00:00:00 |         7727B 41 Ave        |  Calgary   |   AB  |  Canada |  T3B 1Y7   |  1 (780) 836-9987 |  1 (780) 836-9543 |  steve@chinookcorp.com   |\n",
       "|     6      | Mitchell |  Michael  |      IT Manager     |     1     | 1973-07-01 00:00:00 | 2003-10-17 00:00:00 |     5827 Bowness Road NW    |  Calgary   |   AB  |  Canada |  T3B 0C5   | +1 (403) 246-9887 | +1 (403) 246-9899 | michael@chinookcorp.com  |\n",
       "|     7      |   King   |   Robert  |       IT Staff      |     6     | 1970-05-29 00:00:00 | 2004-01-02 00:00:00 | 590 Columbia Boulevard West | Lethbridge |   AB  |  Canada |  T1K 5N8   | +1 (403) 456-9986 | +1 (403) 456-8485 |  robert@chinookcorp.com  |\n",
       "|     8      | Callahan |   Laura   |       IT Staff      |     6     | 1968-01-09 00:00:00 | 2004-03-04 00:00:00 |         923 7 ST NW         | Lethbridge |   AB  |  Canada |  T1H 1Y8   | +1 (403) 467-3351 | +1 (403) 467-8772 |  laura@chinookcorp.com   |\n",
       "+------------+----------+-----------+---------------------+-----------+---------------------+---------------------+-----------------------------+------------+-------+---------+------------+-------------------+-------------------+--------------------------+"
      ]
     },
     "execution_count": 15,
     "metadata": {},
     "output_type": "execute_result"
    }
   ],
   "source": [
    "%sql SELECT * FROM employees WHERE City = \"Calgary\"\n",
    "# %sql SELECT DISTINCT EmployeeID FROM employees\n",
    "%sql SELECT * FROM employees"
   ]
  },
  {
   "cell_type": "code",
   "execution_count": 11,
   "id": "1f594aec",
   "metadata": {},
   "outputs": [
    {
     "data": {
      "text/html": [
       "<span style=\"None\">Running query in &#x27;sqlite:///chinook.db&#x27;</span>"
      ],
      "text/plain": [
       "Running query in 'sqlite:///chinook.db'"
      ]
     },
     "metadata": {},
     "output_type": "display_data"
    },
    {
     "data": {
      "text/html": [
       "<span style=\"None\">Running query in &#x27;sqlite:///chinook.db&#x27;</span>"
      ],
      "text/plain": [
       "Running query in 'sqlite:///chinook.db'"
      ]
     },
     "metadata": {},
     "output_type": "display_data"
    },
    {
     "data": {
      "text/html": [
       "<table>\n",
       "    <thead>\n",
       "        <tr>\n",
       "            <th>SupportRepId</th>\n",
       "        </tr>\n",
       "    </thead>\n",
       "    <tbody>\n",
       "        <tr>\n",
       "            <td>3</td>\n",
       "        </tr>\n",
       "        <tr>\n",
       "            <td>4</td>\n",
       "        </tr>\n",
       "        <tr>\n",
       "            <td>5</td>\n",
       "        </tr>\n",
       "    </tbody>\n",
       "</table>"
      ],
      "text/plain": [
       "+--------------+\n",
       "| SupportRepId |\n",
       "+--------------+\n",
       "|      3       |\n",
       "|      4       |\n",
       "|      5       |\n",
       "+--------------+"
      ]
     },
     "execution_count": 11,
     "metadata": {},
     "output_type": "execute_result"
    }
   ],
   "source": [
    "%sql SELECT * FROM customers\n",
    "%sql SELECT DISTINCT SupportRepId FROM customers"
   ]
  },
  {
   "cell_type": "code",
   "execution_count": 19,
   "id": "cda63183",
   "metadata": {},
   "outputs": [
    {
     "data": {
      "text/html": [
       "<span style=\"None\">Running query in &#x27;sqlite:///chinook.db&#x27;</span>"
      ],
      "text/plain": [
       "Running query in 'sqlite:///chinook.db'"
      ]
     },
     "metadata": {},
     "output_type": "display_data"
    },
    {
     "data": {
      "text/html": [
       "<table>\n",
       "    <thead>\n",
       "        <tr>\n",
       "            <th>CustomerId</th>\n",
       "            <th>FirstName</th>\n",
       "            <th>LastName</th>\n",
       "            <th>Company</th>\n",
       "            <th>Address</th>\n",
       "            <th>City</th>\n",
       "            <th>State</th>\n",
       "            <th>Country</th>\n",
       "            <th>PostalCode</th>\n",
       "            <th>Phone</th>\n",
       "            <th>Fax</th>\n",
       "            <th>Email</th>\n",
       "            <th>SupportRepId</th>\n",
       "        </tr>\n",
       "    </thead>\n",
       "    <tbody>\n",
       "        <tr>\n",
       "            <td>1</td>\n",
       "            <td>Luís</td>\n",
       "            <td>Gonçalves</td>\n",
       "            <td>Embraer - Empresa Brasileira de Aeronáutica S.A.</td>\n",
       "            <td>Av. Brigadeiro Faria Lima, 2170</td>\n",
       "            <td>São José dos Campos</td>\n",
       "            <td>SP</td>\n",
       "            <td>Brazil</td>\n",
       "            <td>12227-000</td>\n",
       "            <td>+55 (12) 3923-5555</td>\n",
       "            <td>+55 (12) 3923-5566</td>\n",
       "            <td>luisg@embraer.com.br</td>\n",
       "            <td>3</td>\n",
       "        </tr>\n",
       "        <tr>\n",
       "            <td>2</td>\n",
       "            <td>Leonie</td>\n",
       "            <td>Köhler</td>\n",
       "            <td>None</td>\n",
       "            <td>Theodor-Heuss-Straße 34</td>\n",
       "            <td>Stuttgart</td>\n",
       "            <td>None</td>\n",
       "            <td>Germany</td>\n",
       "            <td>70174</td>\n",
       "            <td>+49 0711 2842222</td>\n",
       "            <td>None</td>\n",
       "            <td>leonekohler@surfeu.de</td>\n",
       "            <td>5</td>\n",
       "        </tr>\n",
       "        <tr>\n",
       "            <td>3</td>\n",
       "            <td>François</td>\n",
       "            <td>Tremblay</td>\n",
       "            <td>None</td>\n",
       "            <td>1498 rue Bélanger</td>\n",
       "            <td>Montréal</td>\n",
       "            <td>QC</td>\n",
       "            <td>Canada</td>\n",
       "            <td>H2G 1A7</td>\n",
       "            <td>+1 (514) 721-4711</td>\n",
       "            <td>None</td>\n",
       "            <td>ftremblay@gmail.com</td>\n",
       "            <td>3</td>\n",
       "        </tr>\n",
       "        <tr>\n",
       "            <td>6</td>\n",
       "            <td>Helena</td>\n",
       "            <td>Holý</td>\n",
       "            <td>None</td>\n",
       "            <td>Rilská 3174/6</td>\n",
       "            <td>Prague</td>\n",
       "            <td>None</td>\n",
       "            <td>Czech Republic</td>\n",
       "            <td>14300</td>\n",
       "            <td>+420 2 4177 0449</td>\n",
       "            <td>None</td>\n",
       "            <td>hholy@gmail.com</td>\n",
       "            <td>5</td>\n",
       "        </tr>\n",
       "        <tr>\n",
       "            <td>7</td>\n",
       "            <td>Astrid</td>\n",
       "            <td>Gruber</td>\n",
       "            <td>None</td>\n",
       "            <td>Rotenturmstraße 4, 1010 Innere Stadt</td>\n",
       "            <td>Vienne</td>\n",
       "            <td>None</td>\n",
       "            <td>Austria</td>\n",
       "            <td>1010</td>\n",
       "            <td>+43 01 5134505</td>\n",
       "            <td>None</td>\n",
       "            <td>astrid.gruber@apple.at</td>\n",
       "            <td>5</td>\n",
       "        </tr>\n",
       "        <tr>\n",
       "            <td>11</td>\n",
       "            <td>Alexandre</td>\n",
       "            <td>Rocha</td>\n",
       "            <td>Banco do Brasil S.A.</td>\n",
       "            <td>Av. Paulista, 2022</td>\n",
       "            <td>São Paulo</td>\n",
       "            <td>SP</td>\n",
       "            <td>Brazil</td>\n",
       "            <td>01310-200</td>\n",
       "            <td>+55 (11) 3055-3278</td>\n",
       "            <td>+55 (11) 3055-8131</td>\n",
       "            <td>alero@uol.com.br</td>\n",
       "            <td>5</td>\n",
       "        </tr>\n",
       "        <tr>\n",
       "            <td>12</td>\n",
       "            <td>Roberto</td>\n",
       "            <td>Almeida</td>\n",
       "            <td>Riotur</td>\n",
       "            <td>Praça Pio X, 119</td>\n",
       "            <td>Rio de Janeiro</td>\n",
       "            <td>RJ</td>\n",
       "            <td>Brazil</td>\n",
       "            <td>20040-020</td>\n",
       "            <td>+55 (21) 2271-7000</td>\n",
       "            <td>+55 (21) 2271-7070</td>\n",
       "            <td>roberto.almeida@riotur.gov.br</td>\n",
       "            <td>3</td>\n",
       "        </tr>\n",
       "        <tr>\n",
       "            <td>14</td>\n",
       "            <td>Mark</td>\n",
       "            <td>Philips</td>\n",
       "            <td>Telus</td>\n",
       "            <td>8210 111 ST NW</td>\n",
       "            <td>Edmonton</td>\n",
       "            <td>AB</td>\n",
       "            <td>Canada</td>\n",
       "            <td>T6G 2C7</td>\n",
       "            <td>+1 (780) 434-4554</td>\n",
       "            <td>+1 (780) 434-5565</td>\n",
       "            <td>mphilips12@shaw.ca</td>\n",
       "            <td>5</td>\n",
       "        </tr>\n",
       "        <tr>\n",
       "            <td>15</td>\n",
       "            <td>Jennifer</td>\n",
       "            <td>Peterson</td>\n",
       "            <td>Rogers Canada</td>\n",
       "            <td>700 W Pender Street</td>\n",
       "            <td>Vancouver</td>\n",
       "            <td>BC</td>\n",
       "            <td>Canada</td>\n",
       "            <td>V6C 1G8</td>\n",
       "            <td>+1 (604) 688-2255</td>\n",
       "            <td>+1 (604) 688-8756</td>\n",
       "            <td>jenniferp@rogers.ca</td>\n",
       "            <td>3</td>\n",
       "        </tr>\n",
       "        <tr>\n",
       "            <td>17</td>\n",
       "            <td>Jack</td>\n",
       "            <td>Smith</td>\n",
       "            <td>Microsoft Corporation</td>\n",
       "            <td>1 Microsoft Way</td>\n",
       "            <td>Redmond</td>\n",
       "            <td>WA</td>\n",
       "            <td>USA</td>\n",
       "            <td>98052-8300</td>\n",
       "            <td>+1 (425) 882-8080</td>\n",
       "            <td>+1 (425) 882-8081</td>\n",
       "            <td>jacksmith@microsoft.com</td>\n",
       "            <td>5</td>\n",
       "        </tr>\n",
       "    </tbody>\n",
       "</table>\n",
       "<span style=\"font-style:italic;text-align:center;\">Truncated to <a href=\"https://jupysql.ploomber.io/en/latest/api/configuration.html#displaylimit\">displaylimit</a> of 10.</span>"
      ],
      "text/plain": [
       "+------------+-----------+-----------+--------------------------------------------------+--------------------------------------+---------------------+-------+----------------+------------+--------------------+--------------------+-------------------------------+--------------+\n",
       "| CustomerId | FirstName |  LastName |                     Company                      |               Address                |         City        | State |    Country     | PostalCode |       Phone        |        Fax         |             Email             | SupportRepId |\n",
       "+------------+-----------+-----------+--------------------------------------------------+--------------------------------------+---------------------+-------+----------------+------------+--------------------+--------------------+-------------------------------+--------------+\n",
       "|     1      |    Luís   | Gonçalves | Embraer - Empresa Brasileira de Aeronáutica S.A. |   Av. Brigadeiro Faria Lima, 2170    | São José dos Campos |   SP  |     Brazil     | 12227-000  | +55 (12) 3923-5555 | +55 (12) 3923-5566 |      luisg@embraer.com.br     |      3       |\n",
       "|     2      |   Leonie  |   Köhler  |                       None                       |       Theodor-Heuss-Straße 34        |      Stuttgart      |  None |    Germany     |   70174    |  +49 0711 2842222  |        None        |     leonekohler@surfeu.de     |      5       |\n",
       "|     3      |  François |  Tremblay |                       None                       |          1498 rue Bélanger           |       Montréal      |   QC  |     Canada     |  H2G 1A7   | +1 (514) 721-4711  |        None        |      ftremblay@gmail.com      |      3       |\n",
       "|     6      |   Helena  |    Holý   |                       None                       |            Rilská 3174/6             |        Prague       |  None | Czech Republic |   14300    |  +420 2 4177 0449  |        None        |        hholy@gmail.com        |      5       |\n",
       "|     7      |   Astrid  |   Gruber  |                       None                       | Rotenturmstraße 4, 1010 Innere Stadt |        Vienne       |  None |    Austria     |    1010    |   +43 01 5134505   |        None        |     astrid.gruber@apple.at    |      5       |\n",
       "|     11     | Alexandre |   Rocha   |               Banco do Brasil S.A.               |          Av. Paulista, 2022          |      São Paulo      |   SP  |     Brazil     | 01310-200  | +55 (11) 3055-3278 | +55 (11) 3055-8131 |        alero@uol.com.br       |      5       |\n",
       "|     12     |  Roberto  |  Almeida  |                      Riotur                      |           Praça Pio X, 119           |    Rio de Janeiro   |   RJ  |     Brazil     | 20040-020  | +55 (21) 2271-7000 | +55 (21) 2271-7070 | roberto.almeida@riotur.gov.br |      3       |\n",
       "|     14     |    Mark   |  Philips  |                      Telus                       |            8210 111 ST NW            |       Edmonton      |   AB  |     Canada     |  T6G 2C7   | +1 (780) 434-4554  | +1 (780) 434-5565  |       mphilips12@shaw.ca      |      5       |\n",
       "|     15     |  Jennifer |  Peterson |                  Rogers Canada                   |         700 W Pender Street          |      Vancouver      |   BC  |     Canada     |  V6C 1G8   | +1 (604) 688-2255  | +1 (604) 688-8756  |      jenniferp@rogers.ca      |      3       |\n",
       "|     17     |    Jack   |   Smith   |              Microsoft Corporation               |           1 Microsoft Way            |       Redmond       |   WA  |      USA       | 98052-8300 | +1 (425) 882-8080  | +1 (425) 882-8081  |    jacksmith@microsoft.com    |      5       |\n",
       "+------------+-----------+-----------+--------------------------------------------------+--------------------------------------+---------------------+-------+----------------+------------+--------------------+--------------------+-------------------------------+--------------+\n",
       "Truncated to displaylimit of 10."
      ]
     },
     "execution_count": 19,
     "metadata": {},
     "output_type": "execute_result"
    }
   ],
   "source": [
    "%%sql\n",
    "SELECT *\n",
    "  FROM customers\n",
    "  WHERE SupportRepId IN (\n",
    "    SELECT EmployeeId\n",
    "    FROM employees\n",
    "    WHERE City = 'Calgary'\n",
    "  )"
   ]
  },
  {
   "cell_type": "code",
   "execution_count": 18,
   "id": "715ed8f9",
   "metadata": {},
   "outputs": [
    {
     "data": {
      "text/html": [
       "<span style=\"None\">Running query in &#x27;sqlite:///chinook.db&#x27;</span>"
      ],
      "text/plain": [
       "Running query in 'sqlite:///chinook.db'"
      ]
     },
     "metadata": {},
     "output_type": "display_data"
    },
    {
     "data": {
      "text/html": [
       "<table>\n",
       "    <thead>\n",
       "        <tr>\n",
       "            <th>EmployeeId</th>\n",
       "            <th>LastName</th>\n",
       "            <th>FirstName</th>\n",
       "            <th>Title</th>\n",
       "            <th>ReportsTo</th>\n",
       "            <th>BirthDate</th>\n",
       "            <th>HireDate</th>\n",
       "            <th>Address</th>\n",
       "            <th>City</th>\n",
       "            <th>State</th>\n",
       "            <th>Country</th>\n",
       "            <th>PostalCode</th>\n",
       "            <th>Phone</th>\n",
       "            <th>Fax</th>\n",
       "            <th>Email</th>\n",
       "        </tr>\n",
       "    </thead>\n",
       "    <tbody>\n",
       "        <tr>\n",
       "            <td>2</td>\n",
       "            <td>Edwards</td>\n",
       "            <td>Nancy</td>\n",
       "            <td>Sales Manager</td>\n",
       "            <td>1</td>\n",
       "            <td>1958-12-08 00:00:00</td>\n",
       "            <td>2002-05-01 00:00:00</td>\n",
       "            <td>825 8 Ave SW</td>\n",
       "            <td>Calgary</td>\n",
       "            <td>AB</td>\n",
       "            <td>Canada</td>\n",
       "            <td>T2P 2T3</td>\n",
       "            <td>+1 (403) 262-3443</td>\n",
       "            <td>+1 (403) 262-3322</td>\n",
       "            <td>nancy@chinookcorp.com</td>\n",
       "        </tr>\n",
       "        <tr>\n",
       "            <td>3</td>\n",
       "            <td>Peacock</td>\n",
       "            <td>Jane</td>\n",
       "            <td>Sales Support Agent</td>\n",
       "            <td>2</td>\n",
       "            <td>1973-08-29 00:00:00</td>\n",
       "            <td>2002-04-01 00:00:00</td>\n",
       "            <td>1111 6 Ave SW</td>\n",
       "            <td>Calgary</td>\n",
       "            <td>AB</td>\n",
       "            <td>Canada</td>\n",
       "            <td>T2P 5M5</td>\n",
       "            <td>+1 (403) 262-3443</td>\n",
       "            <td>+1 (403) 262-6712</td>\n",
       "            <td>jane@chinookcorp.com</td>\n",
       "        </tr>\n",
       "        <tr>\n",
       "            <td>5</td>\n",
       "            <td>Johnson</td>\n",
       "            <td>Steve</td>\n",
       "            <td>Sales Support Agent</td>\n",
       "            <td>2</td>\n",
       "            <td>1965-03-03 00:00:00</td>\n",
       "            <td>2003-10-17 00:00:00</td>\n",
       "            <td>7727B 41 Ave</td>\n",
       "            <td>Calgary</td>\n",
       "            <td>AB</td>\n",
       "            <td>Canada</td>\n",
       "            <td>T3B 1Y7</td>\n",
       "            <td>1 (780) 836-9987</td>\n",
       "            <td>1 (780) 836-9543</td>\n",
       "            <td>steve@chinookcorp.com</td>\n",
       "        </tr>\n",
       "        <tr>\n",
       "            <td>6</td>\n",
       "            <td>Mitchell</td>\n",
       "            <td>Michael</td>\n",
       "            <td>IT Manager</td>\n",
       "            <td>1</td>\n",
       "            <td>1973-07-01 00:00:00</td>\n",
       "            <td>2003-10-17 00:00:00</td>\n",
       "            <td>5827 Bowness Road NW</td>\n",
       "            <td>Calgary</td>\n",
       "            <td>AB</td>\n",
       "            <td>Canada</td>\n",
       "            <td>T3B 0C5</td>\n",
       "            <td>+1 (403) 246-9887</td>\n",
       "            <td>+1 (403) 246-9899</td>\n",
       "            <td>michael@chinookcorp.com</td>\n",
       "        </tr>\n",
       "    </tbody>\n",
       "</table>"
      ],
      "text/plain": [
       "+------------+----------+-----------+---------------------+-----------+---------------------+---------------------+----------------------+---------+-------+---------+------------+-------------------+-------------------+-------------------------+\n",
       "| EmployeeId | LastName | FirstName |        Title        | ReportsTo |      BirthDate      |       HireDate      |       Address        |   City  | State | Country | PostalCode |       Phone       |        Fax        |          Email          |\n",
       "+------------+----------+-----------+---------------------+-----------+---------------------+---------------------+----------------------+---------+-------+---------+------------+-------------------+-------------------+-------------------------+\n",
       "|     2      | Edwards  |   Nancy   |    Sales Manager    |     1     | 1958-12-08 00:00:00 | 2002-05-01 00:00:00 |     825 8 Ave SW     | Calgary |   AB  |  Canada |  T2P 2T3   | +1 (403) 262-3443 | +1 (403) 262-3322 |  nancy@chinookcorp.com  |\n",
       "|     3      | Peacock  |    Jane   | Sales Support Agent |     2     | 1973-08-29 00:00:00 | 2002-04-01 00:00:00 |    1111 6 Ave SW     | Calgary |   AB  |  Canada |  T2P 5M5   | +1 (403) 262-3443 | +1 (403) 262-6712 |   jane@chinookcorp.com  |\n",
       "|     5      | Johnson  |   Steve   | Sales Support Agent |     2     | 1965-03-03 00:00:00 | 2003-10-17 00:00:00 |     7727B 41 Ave     | Calgary |   AB  |  Canada |  T3B 1Y7   |  1 (780) 836-9987 |  1 (780) 836-9543 |  steve@chinookcorp.com  |\n",
       "|     6      | Mitchell |  Michael  |      IT Manager     |     1     | 1973-07-01 00:00:00 | 2003-10-17 00:00:00 | 5827 Bowness Road NW | Calgary |   AB  |  Canada |  T3B 0C5   | +1 (403) 246-9887 | +1 (403) 246-9899 | michael@chinookcorp.com |\n",
       "+------------+----------+-----------+---------------------+-----------+---------------------+---------------------+----------------------+---------+-------+---------+------------+-------------------+-------------------+-------------------------+"
      ]
     },
     "execution_count": 18,
     "metadata": {},
     "output_type": "execute_result"
    }
   ],
   "source": [
    "%%sql\n",
    "SELECT *\n",
    "    FROM employees\n",
    "    WHERE City = 'Calgary'"
   ]
  }
 ],
 "metadata": {
  "kernelspec": {
   "display_name": "base",
   "language": "python",
   "name": "python3"
  },
  "language_info": {
   "codemirror_mode": {
    "name": "ipython",
    "version": 3
   },
   "file_extension": ".py",
   "mimetype": "text/x-python",
   "name": "python",
   "nbconvert_exporter": "python",
   "pygments_lexer": "ipython3",
   "version": "3.11.4"
  }
 },
 "nbformat": 4,
 "nbformat_minor": 5
}
