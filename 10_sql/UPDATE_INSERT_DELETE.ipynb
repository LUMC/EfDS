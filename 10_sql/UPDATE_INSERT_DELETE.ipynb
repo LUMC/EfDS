{
 "cells": [
  {
   "cell_type": "markdown",
   "id": "5182ccd5",
   "metadata": {},
   "source": [
    "# SQL modification statements"
   ]
  },
  {
   "cell_type": "markdown",
   "id": "66689aab",
   "metadata": {},
   "source": [
    "## Preparation"
   ]
  },
  {
   "attachments": {},
   "cell_type": "markdown",
   "id": "570a6555",
   "metadata": {},
   "source": [
    "For this section you need `chinook.db` database file and working `%sql` magic.  \n",
    "If you don't have it, please go back to the [previous section](../09_sql/connect_to_database.ipynb) and follow the instructions.  \n",
    "The following code should not produce any errors:"
   ]
  },
  {
   "cell_type": "code",
   "execution_count": null,
   "id": "3a8064c2",
   "metadata": {},
   "outputs": [],
   "source": [
    "%load_ext sql\n",
    "%sql sqlite:///chinook.db"
   ]
  },
  {
   "cell_type": "markdown",
   "id": "c3224b88",
   "metadata": {},
   "source": [
    "## UPDATE - change existing rows"
   ]
  },
  {
   "cell_type": "markdown",
   "id": "a8ff49df",
   "metadata": {},
   "source": [
    "### Overview"
   ]
  },
  {
   "cell_type": "markdown",
   "id": "e69e0cab",
   "metadata": {},
   "source": [
    "To update existing data in a table, you use the `UPDATE` statement."
   ]
  },
  {
   "cell_type": "markdown",
   "id": "a5779034",
   "metadata": {},
   "source": [
    "```sql\n",
    "UPDATE table\n",
    "   SET column_1 = new_value_1,\n",
    "       column_2 = new_value_2\n",
    "   WHERE\n",
    "       search_condition \n",
    "   ORDER column_or_expression\n",
    "   LIMIT row_count OFFSET offset\n",
    "```"
   ]
  },
  {
   "cell_type": "markdown",
   "id": "e224cd57",
   "metadata": {},
   "source": [
    "You need/may specify:\n",
    "- Name of the `table` where you want to make changes.\n",
    "- Names of the columns and their new value(s) in the `SET` clause.\n",
    "- Which rows to update using a condition in the `WHERE` clause. The `WHERE` clause is optional. If you skip it, the `UPDATE` statement will update data in all rows of the table.\n",
    "- Finally, use the `ORDER BY` and `LIMIT` clauses in the `UPDATE` statement to specify the number of rows to update.\n",
    "\n",
    "*Notes:*\n",
    "- If you use a negative value in the `LIMIT` clause, SQL updates all rows that meet the condition in the preceding `WHERE ` clause.\n",
    "- The `ORDER BY` clause should always goes with the `LIMIT` clause to specify exactly which rows to be updated. Otherwise, you will never know which row will be actually updated; because without the `ORDER BY` clause, the order of rows in the table is unspecified."
   ]
  },
  {
   "cell_type": "markdown",
   "id": "88202333",
   "metadata": {},
   "source": [
    "### Example"
   ]
  },
  {
   "attachments": {
    "image.png": {
     "image/png": "[encoded data removed]"
    }
   },
   "cell_type": "markdown",
   "id": "698f3b99",
   "metadata": {},
   "source": [
    "We use the `employees` table in the sample database to demonstrate the `UPDATE` statement.\n",
    "\n",
    "![image.png](attachment:image.png)"
   ]
  },
  {
   "cell_type": "markdown",
   "id": "069555f3",
   "metadata": {},
   "source": [
    "The following `SELECT` statement gets partial data from the `employees` table:"
   ]
  },
  {
   "cell_type": "code",
   "execution_count": null,
   "id": "45608821",
   "metadata": {},
   "outputs": [],
   "source": [
    "%%sql\n",
    "SELECT EmployeeId, FirstName, LastName, Title, Email\n",
    "  FROM employees\n",
    "  ORDER BY EmployeeId LIMIT 5"
   ]
  },
  {
   "cell_type": "markdown",
   "id": "d691d4f1",
   "metadata": {},
   "source": [
    "Let's suppose that *Jane* changed her last name to *Smith*. You can perform such update as follows:"
   ]
  },
  {
   "cell_type": "code",
   "execution_count": null,
   "id": "727e50fa",
   "metadata": {},
   "outputs": [],
   "source": [
    "%%sql\n",
    "UPDATE employees\n",
    "  SET LastName = 'Smith'\n",
    "  WHERE EmployeeId = 3"
   ]
  },
  {
   "cell_type": "markdown",
   "id": "fd6833b1",
   "metadata": {},
   "source": [
    "To verify the `UPDATE` let's show the same few rows again:"
   ]
  },
  {
   "cell_type": "code",
   "execution_count": null,
   "id": "9b30ae4b",
   "metadata": {},
   "outputs": [],
   "source": [
    "%%sql\n",
    "SELECT EmployeeId, FirstName, LastName, Title, Email\n",
    "  FROM employees\n",
    "  ORDER BY EmployeeId LIMIT 5"
   ]
  },
  {
   "cell_type": "markdown",
   "id": "a2e480b6",
   "metadata": {},
   "source": [
    "## INSERT - add new rows"
   ]
  },
  {
   "cell_type": "markdown",
   "id": "a837c31d",
   "metadata": {},
   "source": [
    "### Overview"
   ]
  },
  {
   "cell_type": "markdown",
   "id": "7d7ac85b",
   "metadata": {},
   "source": [
    "To insert data into a table, you use the `INSERT` statement:"
   ]
  },
  {
   "cell_type": "markdown",
   "id": "05a2a325",
   "metadata": {},
   "source": [
    "```sql\n",
    "INSERT INTO table (column_1, column_2, column_3)\n",
    "  VALUES (new_value_1, new_value_2, new_value_3) \n",
    "```"
   ]
  },
  {
   "cell_type": "markdown",
   "id": "761c8f33",
   "metadata": {},
   "source": [
    "The columns of a table which are not listed will get their default values."
   ]
  },
  {
   "cell_type": "markdown",
   "id": "fbb860ee",
   "metadata": {},
   "source": [
    "### Example (insert a provided value)"
   ]
  },
  {
   "attachments": {
    "image.png": {
     "image/png": "[encoded data removed]"
    }
   },
   "cell_type": "markdown",
   "id": "9e97f80d",
   "metadata": {},
   "source": [
    "We will use the `artists` table in the sample database for the demonstration.\n",
    "\n",
    "![image.png](attachment:image.png)"
   ]
  },
  {
   "cell_type": "markdown",
   "id": "5768a96e",
   "metadata": {},
   "source": [
    "Let's first check the number of records in the `artists` table:"
   ]
  },
  {
   "cell_type": "code",
   "execution_count": null,
   "id": "2b457e75",
   "metadata": {},
   "outputs": [],
   "source": [
    "%sql SELECT COUNT(*) FROM artists"
   ]
  },
  {
   "cell_type": "markdown",
   "id": "a4070de8",
   "metadata": {},
   "source": [
    "The following statement inserts a new row into the `artists` table:"
   ]
  },
  {
   "cell_type": "code",
   "execution_count": null,
   "id": "77fbbbfd",
   "metadata": {},
   "outputs": [],
   "source": [
    "%%sql\n",
    "INSERT INTO artists (Name)\n",
    "   VALUES('Bud Powell')"
   ]
  },
  {
   "cell_type": "markdown",
   "id": "dde721b4",
   "metadata": {},
   "source": [
    "Let's check the count of rows after the insert:"
   ]
  },
  {
   "cell_type": "code",
   "execution_count": null,
   "id": "c9f3837a",
   "metadata": {},
   "outputs": [],
   "source": [
    "%sql SELECT COUNT(*) FROM artists"
   ]
  },
  {
   "cell_type": "markdown",
   "id": "9bef78ed",
   "metadata": {},
   "source": [
    "Because the `ArtistId` column is an auto-increment column, you can ignore it in the statement. SQL will automatically geneate a sequential integer number to insert into the `ArtistId` column."
   ]
  },
  {
   "cell_type": "markdown",
   "id": "d43b7deb",
   "metadata": {},
   "source": [
    "You can verify the insert operation by using the following `SELECT` statement:"
   ]
  },
  {
   "cell_type": "code",
   "execution_count": null,
   "id": "7c7d800d",
   "metadata": {},
   "outputs": [],
   "source": [
    "%%sql\n",
    "SELECT *\n",
    "  FROM artists\n",
    "  ORDER BY ArtistId DESC LIMIT 5"
   ]
  },
  {
   "cell_type": "markdown",
   "id": "43649560",
   "metadata": {},
   "source": [
    "### Example (insert default values)"
   ]
  },
  {
   "cell_type": "markdown",
   "id": "e06e7f06",
   "metadata": {},
   "source": [
    "`INSERT DEFAULT VALUES` adds a new row into a table using the default values specified in the column definition or `NULL` if the default value is not available and the column does not have a `NOT NULL` constraint. For autoincrement columns, the default value is the next integer.\n",
    "\n",
    "For example, the following statement inserts a new row into the `artists` table using `INSERT DEFAULT VALUES`:"
   ]
  },
  {
   "cell_type": "code",
   "execution_count": null,
   "id": "da7cbcd1",
   "metadata": {},
   "outputs": [],
   "source": [
    "%%sql\n",
    "INSERT INTO artists \n",
    "  DEFAULT VALUES "
   ]
  },
  {
   "cell_type": "markdown",
   "id": "1f4d77bf",
   "metadata": {},
   "source": [
    "Let's verify the recent insert:"
   ]
  },
  {
   "cell_type": "code",
   "execution_count": null,
   "id": "09ff13d1",
   "metadata": {},
   "outputs": [],
   "source": [
    "%%sql\n",
    "SELECT *\n",
    "  FROM artists\n",
    "  ORDER BY ArtistId DESC LIMIT 5"
   ]
  },
  {
   "cell_type": "markdown",
   "id": "5632c30e",
   "metadata": {},
   "source": [
    "### Example (insert many rows from another `SELECT` statement)"
   ]
  },
  {
   "cell_type": "markdown",
   "id": "cfd0cd15",
   "metadata": {},
   "source": [
    "Suppose you want to backup the `artists` table. You can follow these steps:\n",
    "- Create a new table named `artists_backup`.\n",
    "- Insert data from `artists` into the `artists_backup`.\n",
    "- (To clean up) Drop the new table."
   ]
  },
  {
   "cell_type": "markdown",
   "id": "d5eccf41",
   "metadata": {},
   "source": [
    "Let's create the new table:"
   ]
  },
  {
   "cell_type": "code",
   "execution_count": null,
   "id": "bb58052f",
   "metadata": {},
   "outputs": [],
   "source": [
    "%%sql\n",
    "CREATE TABLE artists_backup(\n",
    "   ArtistId INTEGER PRIMARY KEY AUTOINCREMENT,\n",
    "   Name NVARCHAR\n",
    ")"
   ]
  },
  {
   "cell_type": "markdown",
   "id": "7261cefb",
   "metadata": {},
   "source": [
    "There should be no content in the new table:"
   ]
  },
  {
   "cell_type": "code",
   "execution_count": null,
   "id": "5cc377ba",
   "metadata": {},
   "outputs": [],
   "source": [
    "%sql SELECT * FROM artists_backup LIMIT 5"
   ]
  },
  {
   "cell_type": "markdown",
   "id": "47baf064",
   "metadata": {},
   "source": [
    "Let's insert new data:"
   ]
  },
  {
   "cell_type": "code",
   "execution_count": null,
   "id": "6e832890",
   "metadata": {},
   "outputs": [],
   "source": [
    "%%sql\n",
    "INSERT INTO artists_backup \n",
    "  SELECT ArtistId, Name\n",
    "  FROM artists;"
   ]
  },
  {
   "cell_type": "markdown",
   "id": "9c2db6c1",
   "metadata": {},
   "source": [
    "Has the data been copied?:"
   ]
  },
  {
   "cell_type": "code",
   "execution_count": null,
   "id": "73627752",
   "metadata": {},
   "outputs": [],
   "source": [
    "%sql SELECT * FROM artists_backup LIMIT 5"
   ]
  },
  {
   "cell_type": "markdown",
   "id": "3f5d7baa",
   "metadata": {},
   "source": [
    "Let's clean up:"
   ]
  },
  {
   "cell_type": "code",
   "execution_count": null,
   "id": "468ae8a1",
   "metadata": {},
   "outputs": [],
   "source": [
    "%sql DROP TABLE artists_backup"
   ]
  },
  {
   "cell_type": "markdown",
   "id": "cf0b50fb",
   "metadata": {},
   "source": [
    "## DELETE - remove rows"
   ]
  },
  {
   "cell_type": "markdown",
   "id": "f428a4a5",
   "metadata": {},
   "source": [
    "### Overview"
   ]
  },
  {
   "cell_type": "markdown",
   "id": "a7278e7e",
   "metadata": {},
   "source": [
    "The `DELETE` statement allows you to delete one row, multiple rows, or all rows in a table. The syntax of the `DELETE` statement is as follows:"
   ]
  },
  {
   "cell_type": "markdown",
   "id": "1ecf488d",
   "metadata": {},
   "source": [
    "```sql\n",
    "DELETE FROM table\n",
    "  WHERE condition\n",
    "```"
   ]
  },
  {
   "cell_type": "markdown",
   "id": "f92d8c8c",
   "metadata": {},
   "source": [
    "### Example (removing rows matching a condition)"
   ]
  },
  {
   "cell_type": "markdown",
   "id": "22b43606",
   "metadata": {},
   "source": [
    "Let's create a playground by recreating the same table `artists_backup` as used in the `INSERT` exercise  \n",
    "(*Note:* You need semicolons at line ends to have multiple SQL statements in one Jupyter cell):"
   ]
  },
  {
   "cell_type": "code",
   "execution_count": null,
   "id": "0138675c",
   "metadata": {},
   "outputs": [],
   "source": [
    "%%sql\n",
    "DROP TABLE IF EXISTS artists_backup;\n",
    "CREATE TABLE artists_backup(\n",
    "   ArtistId INTEGER PRIMARY KEY AUTOINCREMENT,\n",
    "   Name NVARCHAR\n",
    ");\n",
    "INSERT INTO artists_backup \n",
    "   SELECT ArtistId, Name\n",
    "   FROM artists;"
   ]
  },
  {
   "cell_type": "markdown",
   "id": "d1c8f1ae",
   "metadata": {},
   "source": [
    "Let's list all rows with artists' `Name`s starting with `E`:"
   ]
  },
  {
   "cell_type": "code",
   "execution_count": null,
   "id": "de712cc9",
   "metadata": {},
   "outputs": [],
   "source": [
    "%sql SELECT * FROM artists_backup WHERE Name LIKE \"E%\""
   ]
  },
  {
   "cell_type": "markdown",
   "id": "75e28a6b",
   "metadata": {},
   "source": [
    "All these artists can be removed as follows:"
   ]
  },
  {
   "cell_type": "code",
   "execution_count": null,
   "id": "86b599b3",
   "metadata": {},
   "outputs": [],
   "source": [
    "%%sql \n",
    "DELETE FROM artists_backup \n",
    "  WHERE Name LIKE \"E%\""
   ]
  },
  {
   "cell_type": "markdown",
   "id": "189cd77f",
   "metadata": {},
   "source": [
    "Let's check:"
   ]
  },
  {
   "cell_type": "code",
   "execution_count": null,
   "id": "afc57276",
   "metadata": {},
   "outputs": [],
   "source": [
    "%sql SELECT * FROM artists_backup WHERE Name LIKE \"E%\""
   ]
  },
  {
   "cell_type": "markdown",
   "id": "36317206",
   "metadata": {},
   "source": [
    "### Example (removing all rows, but keeping the table)"
   ]
  },
  {
   "cell_type": "markdown",
   "id": "99d5ae22",
   "metadata": {},
   "source": [
    "To remove all rows in the `artists_backup` table, you just need to omit the `WHERE` clause as the following statement:"
   ]
  },
  {
   "cell_type": "code",
   "execution_count": null,
   "id": "72d99467",
   "metadata": {},
   "outputs": [],
   "source": [
    "%%sql\n",
    "DELETE FROM artists_backup"
   ]
  },
  {
   "cell_type": "markdown",
   "id": "fe7dc157",
   "metadata": {},
   "source": [
    "Let's check:"
   ]
  },
  {
   "cell_type": "code",
   "execution_count": null,
   "id": "7c96c685",
   "metadata": {},
   "outputs": [],
   "source": [
    "%sql SELECT * FROM artists_backup"
   ]
  }
 ],
 "metadata": {
  "kernelspec": {
   "display_name": "EfDS2",
   "language": "python",
   "name": "python3"
  },
  "language_info": {
   "codemirror_mode": {
    "name": "ipython",
    "version": 3
   },
   "file_extension": ".py",
   "mimetype": "text/x-python",
   "name": "python",
   "nbconvert_exporter": "python",
   "pygments_lexer": "ipython3",
   "version": "3.12.1"
  }
 },
 "nbformat": 4,
 "nbformat_minor": 5
}
