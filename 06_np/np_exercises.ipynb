{
 "cells": [
  {
   "cell_type": "markdown",
   "metadata": {
    "collapsed": false
   },
   "source": [
    "## Exercises"
   ]
  },
  {
   "cell_type": "code",
   "execution_count": 1,
   "metadata": {
    "collapsed": false
   },
   "outputs": [],
   "source": [
    "import numpy as np"
   ]
  },
  {
   "cell_type": "markdown",
   "metadata": {
    "collapsed": false
   },
   "source": [
    "### Create arrays"
   ]
  },
  {
   "cell_type": "markdown",
   "metadata": {
    "collapsed": false
   },
   "source": [
    "- 1-dimensional array over the range 11, 14, 17, 20, ..., 50. In addition show the type, size, shape and number of dimensions of the array."
   ]
  },
  {
   "cell_type": "code",
   "execution_count": 75,
   "metadata": {
    "collapsed": false
   },
   "outputs": [
    {
     "data": {
      "text/plain": [
       "numpy.ndarray"
      ]
     },
     "execution_count": 75,
     "metadata": {},
     "output_type": "execute_result"
    }
   ],
   "source": [
    "# ...\n",
    "ar1 = np.array(range(11))\n",
    "np.arange(11)\n",
    "ar1\n",
    "type(ar1)\n",
    "# np.size(ar1)\n",
    "# np.shape(ar1)\n",
    "# np.ndim(ar1)"
   ]
  },
  {
   "cell_type": "markdown",
   "metadata": {
    "collapsed": false
   },
   "source": [
    "- 2-dimensional array of boolean type with shape=(5,3) and all set to True."
   ]
  },
  {
   "cell_type": "code",
   "execution_count": 28,
   "metadata": {
    "collapsed": false
   },
   "outputs": [
    {
     "data": {
      "text/plain": [
       "array([[ True,  True,  True],\n",
       "       [ True,  True,  True],\n",
       "       [ True,  True,  True],\n",
       "       [ True,  True,  True],\n",
       "       [ True,  True,  True]])"
      ]
     },
     "execution_count": 28,
     "metadata": {},
     "output_type": "execute_result"
    }
   ],
   "source": [
    "ar2 = np.array(np.ones(15),dtype = 'bool').reshape(5,3)\n",
    "np.full(15,True).reshape(5,3)\n",
    "# ar2[0][1]"
   ]
  },
  {
   "cell_type": "markdown",
   "metadata": {
    "collapsed": false
   },
   "source": [
    "- 2-dimensional array of shape=(9,3) of the alphabet a..z. Pad with empty string \"\" to fit the shape."
   ]
  },
  {
   "cell_type": "code",
   "execution_count": 30,
   "metadata": {
    "collapsed": false
   },
   "outputs": [
    {
     "data": {
      "text/plain": [
       "array([['a', 'b', 'c'],\n",
       "       ['d', 'e', 'f'],\n",
       "       ['g', 'h', 'i'],\n",
       "       ['j', 'k', 'l'],\n",
       "       ['m', 'n', 'o'],\n",
       "       ['p', 'q', 'r'],\n",
       "       ['s', 't', 'u'],\n",
       "       ['v', 'w', 'x'],\n",
       "       ['y', 'z', '']], dtype='<U1')"
      ]
     },
     "execution_count": 30,
     "metadata": {},
     "output_type": "execute_result"
    }
   ],
   "source": [
    "asc = ord('a')\n",
    "ar3 = np.full(27,\"\")\n",
    "for i in range(26):\n",
    "    ar3[i]=chr(asc)\n",
    "    asc+=1\n",
    "ar3.reshape(9,3)"
   ]
  },
  {
   "cell_type": "markdown",
   "metadata": {
    "collapsed": false
   },
   "source": [
    "- 2-dimensional array of shape=(5,6) filled with '***'. Hint: see *numpy.full*."
   ]
  },
  {
   "cell_type": "code",
   "execution_count": 31,
   "metadata": {
    "collapsed": false
   },
   "outputs": [
    {
     "data": {
      "text/plain": [
       "array([['***', '***', '***', '***', '***', '***'],\n",
       "       ['***', '***', '***', '***', '***', '***'],\n",
       "       ['***', '***', '***', '***', '***', '***'],\n",
       "       ['***', '***', '***', '***', '***', '***'],\n",
       "       ['***', '***', '***', '***', '***', '***']], dtype='<U3')"
      ]
     },
     "execution_count": 31,
     "metadata": {},
     "output_type": "execute_result"
    }
   ],
   "source": [
    "np.full(30,\"***\").reshape(5,6)"
   ]
  },
  {
   "cell_type": "markdown",
   "metadata": {
    "collapsed": false
   },
   "source": [
    "## Array indices\n",
    "\n",
    "The exercises below cover array access and assignments using indices."
   ]
  },
  {
   "cell_type": "markdown",
   "metadata": {
    "collapsed": false
   },
   "source": [
    "- Given the 2-dimensional array *arr2d* below, fetch the following elements\n",
    "    - fetch single elements:  'a', 'f'\n",
    "    - fetch [c,d] on axis-0\n",
    "    - fetch [b,d,f] on axis-1"
   ]
  },
  {
   "cell_type": "code",
   "execution_count": 60,
   "metadata": {
    "collapsed": false
   },
   "outputs": [
    {
     "data": {
      "text/plain": [
       "array([['b'],\n",
       "       ['d'],\n",
       "       ['f']], dtype='<U1')"
      ]
     },
     "execution_count": 60,
     "metadata": {},
     "output_type": "execute_result"
    }
   ],
   "source": [
    "arr2d = np.array(list(\"abcdef\")).reshape(3,2)\n",
    "# ...\n",
    "arr2d[0][0]\n",
    "arr2d[2][1]\n",
    "arr2d[1]\n",
    "arr2d.take(indices=[1], axis=0)\n",
    "arr2d.take(indices=[1], axis=1)\n",
    "# arr2d.take(indices=range(1,2), axis=0)\n",
    "# arr2d.take(indices = range(1,2),axis = 1)"
   ]
  },
  {
   "cell_type": "markdown",
   "metadata": {
    "collapsed": false
   },
   "source": [
    "- Given the 3-dimensional array arr3d:\n",
    "    - fetch:\n",
    "        - [[19,20],[22,23]]\n",
    "        - [[9,12,15],[11,14,17]]\n",
    "    - swap\n",
    "        - on axis-0 the 2nd and the 3rd elements\n",
    "        - the 1st and the 3rd element of all elements on axis-0\n",
    "        - repeat the previous swap but now only on the 1st element of axis-0"
   ]
  },
  {
   "cell_type": "code",
   "execution_count": 158,
   "metadata": {
    "collapsed": false
   },
   "outputs": [
    {
     "name": "stdout",
     "output_type": "stream",
     "text": [
      "[[[ 0  1  2]\n",
      "  [ 3  4  5]\n",
      "  [ 6  7  8]]\n",
      "\n",
      " [[ 9 10 11]\n",
      "  [12 13 14]\n",
      "  [15 16 17]]\n",
      "\n",
      " [[18 19 20]\n",
      "  [21 22 23]\n",
      "  [24 25 26]]]\n"
     ]
    },
    {
     "data": {
      "text/plain": [
       "array([[[ 6,  7,  8],\n",
       "        [ 3,  4,  5],\n",
       "        [ 0,  1,  2]],\n",
       "\n",
       "       [[ 9, 10, 11],\n",
       "        [12, 13, 14],\n",
       "        [15, 16, 17]],\n",
       "\n",
       "       [[18, 19, 20],\n",
       "        [21, 22, 23],\n",
       "        [24, 25, 26]]])"
      ]
     },
     "execution_count": 158,
     "metadata": {},
     "output_type": "execute_result"
    }
   ],
   "source": [
    "arr3d = np.arange(3*3*3).reshape(3,3,3)\n",
    "print(arr3d)\n",
    "arr3d[2][0:2,1:3]\n",
    "arr3d[1][:,[0,2]] \n",
    "# arr3d[[1,2]] = arr3d[[2,1]]\n",
    "# arr3d[:,[0,2]]=arr3d[:,[2,0]]\n",
    "arr3d[0][[0,2]]=arr3d[0][[2,0]]\n",
    "arr3d\n"
   ]
  },
  {
   "cell_type": "markdown",
   "metadata": {
    "collapsed": false
   },
   "source": [
    "- Implement the function *identity(n)* that generates the identity matrix of size *n*."
   ]
  },
  {
   "cell_type": "code",
   "execution_count": 162,
   "metadata": {
    "collapsed": false
   },
   "outputs": [
    {
     "data": {
      "text/plain": [
       "array([[1., 0., 0., 0., 0.],\n",
       "       [0., 1., 0., 0., 0.],\n",
       "       [0., 0., 1., 0., 0.],\n",
       "       [0., 0., 0., 1., 0.],\n",
       "       [0., 0., 0., 0., 1.]])"
      ]
     },
     "execution_count": 162,
     "metadata": {},
     "output_type": "execute_result"
    }
   ],
   "source": [
    "def identity(n):\n",
    "    \"\"\"\n",
    "    :param n:\n",
    "    :return: identity matrix of size n\n",
    "    \"\"\"\n",
    "    arr = np.zeros(n*n).reshape(n,n)\n",
    "    for i in range(n):\n",
    "        arr[i][i]=1\n",
    "    return arr\n",
    "identity(5)\n",
    "    # return None"
   ]
  },
  {
   "cell_type": "markdown",
   "metadata": {
    "collapsed": false
   },
   "source": [
    "- 3-dimensional array of shape=(3,2,3) of the range *0..n*. Set the odd values to -1."
   ]
  },
  {
   "cell_type": "code",
   "execution_count": 183,
   "metadata": {
    "collapsed": false
   },
   "outputs": [
    {
     "data": {
      "text/plain": [
       "array([[[ 0, -1,  2],\n",
       "        [-1,  4, -1]],\n",
       "\n",
       "       [[ 6, -1,  8],\n",
       "        [-1, 10, -1]],\n",
       "\n",
       "       [[12, -1, 14],\n",
       "        [-1, 16, -1]]])"
      ]
     },
     "execution_count": 183,
     "metadata": {},
     "output_type": "execute_result"
    }
   ],
   "source": [
    "# ...\n",
    "n=3*2*3\n",
    "arr4 = np.arange(n).reshape(3,2,3)\n",
    "arr4[arr4%2==1]=-1\n",
    "arr4\n"
   ]
  },
  {
   "cell_type": "markdown",
   "metadata": {
    "collapsed": false
   },
   "source": [
    "- produce the following array (ref: numpy.repeat, numpy.tile) :\n",
    "\n",
    " <tt> [5, 5, 5, 3, 3, 3, 5, 7, 5, 7, 5, 7]</tt>"
   ]
  },
  {
   "cell_type": "code",
   "execution_count": 169,
   "metadata": {
    "collapsed": false
   },
   "outputs": [
    {
     "data": {
      "text/plain": [
       "array([5, 5, 5, 5, 5, 5, 5, 5, 5, 5, 5, 5])"
      ]
     },
     "execution_count": 169,
     "metadata": {},
     "output_type": "execute_result"
    }
   ],
   "source": [
    "# ...\n",
    "np.repeat(5,12)"
   ]
  },
  {
   "cell_type": "markdown",
   "metadata": {
    "collapsed": false
   },
   "source": [
    "## Random generator"
   ]
  },
  {
   "cell_type": "code",
   "execution_count": 170,
   "metadata": {
    "collapsed": false
   },
   "outputs": [],
   "source": [
    "from numpy.random import default_rng\n",
    "rng = default_rng(1234)"
   ]
  },
  {
   "cell_type": "markdown",
   "metadata": {
    "collapsed": false
   },
   "source": [
    "Create a 1-dimensional array of random integers, range [0,100), of size 20. Test (True or False) whether the array contains any odd integers. Finally, count the number of odd integers."
   ]
  },
  {
   "cell_type": "code",
   "execution_count": 182,
   "metadata": {
    "collapsed": false
   },
   "outputs": [
    {
     "name": "stdout",
     "output_type": "stream",
     "text": [
      "[77 13 26 43 33 10 72 14 86 65 76 70 76 61 88 83 48 80 20 16]\n"
     ]
    },
    {
     "data": {
      "text/plain": [
       "7"
      ]
     },
     "execution_count": 182,
     "metadata": {},
     "output_type": "execute_result"
    }
   ],
   "source": [
    "# ...\n",
    "from numpy.random import randint\n",
    "arr5 = randint(100,size = 20)\n",
    "print(arr5)\n",
    "np.any(arr5%2 == 1)\n",
    "arr5[arr5%2 == 1].size"
   ]
  },
  {
   "cell_type": "markdown",
   "metadata": {
    "collapsed": false
   },
   "source": [
    "## Summary\n",
    "\n",
    "1. Create a two-dimensional array of random integers over the range [0,100) with shape (8,4).\n",
    "2. Calculate the following summaries on axis=0:\n",
    "\n",
    "    - minimum, maximum, mean and median\n",
    "    - 1st and 3rd quartile.\n",
    "\n",
    "3. Write the function *summary* which takes a 2-dimensional array as input and produces an R like summary as shone below:\n",
    "\n",
    "```\n",
    "       0              1               2               3\n",
    " Min.   :13.0   Min.   :24.00   Min.   :10.00   Min.   :11.00\n",
    " 1st Qu.:42.5   1st Qu.:40.75   1st Qu.:46.00   1st Qu.:26.00\n",
    " Median :67.0   Median :76.50   Median :71.00   Median :34.50\n",
    " Mean   :60.0   Mean   :67.12   Mean   :64.75   Mean   :42.88\n",
    " 3rd Qu.:81.5   3rd Qu.:93.00   3rd Qu.:95.00   3rd Qu.:61.25\n",
    " Max.   :97.0   Max.   :97.00   Max.   :98.00   Max.   :86.00\n",
    "```"
   ]
  },
  {
   "cell_type": "code",
   "execution_count": 202,
   "metadata": {
    "collapsed": false
   },
   "outputs": [
    {
     "name": "stdout",
     "output_type": "stream",
     "text": [
      "[[10 94 48 17]\n",
      " [93 51 22 25]\n",
      " [ 7 96 46 33]\n",
      " [37  6 17 45]\n",
      " [48 92 48 46]\n",
      " [60 58 72 38]\n",
      " [34 92 71 52]\n",
      " [47  3 93 50]]\n",
      "Min.728.042.042.051.093\n",
      "Min.339.7575.061.592.596\n",
      "Min.1740.048.052.12571.2593\n",
      "Min.1731.041.538.2547.052\n",
      "1st Qu.728.042.042.051.093\n",
      "1st Qu.339.7575.061.592.596\n",
      "1st Qu.1740.048.052.12571.2593\n",
      "1st Qu.1731.041.538.2547.052\n",
      "Median728.042.042.051.093\n",
      "Median339.7575.061.592.596\n",
      "Median1740.048.052.12571.2593\n",
      "Median1731.041.538.2547.052\n",
      "Mean728.042.042.051.093\n",
      "Mean339.7575.061.592.596\n",
      "Mean1740.048.052.12571.2593\n",
      "Mean1731.041.538.2547.052\n",
      "3rd Qu.728.042.042.051.093\n",
      "3rd Qu.339.7575.061.592.596\n",
      "3rd Qu.1740.048.052.12571.2593\n",
      "3rd Qu.1731.041.538.2547.052\n",
      "Max.728.042.042.051.093\n",
      "Max.339.7575.061.592.596\n",
      "Max.1740.048.052.12571.2593\n",
      "Max.1731.041.538.2547.052\n"
     ]
    }
   ],
   "source": [
    "# ...\n",
    "from numpy.random import randint\n",
    "n = 8*4\n",
    "arr6 = randint(100,size = n).reshape(8,4)\n",
    "print(arr6)\n",
    "sum_mean = np.mean(arr6,axis = 0)\n",
    "sum_max = np.max(arr6,axis = 0)\n",
    "sum_min = np.min(arr6,axis=0)\n",
    "sum_med = np.median(arr6,axis=0)\n",
    "sum_1Q = np.quantile(arr6,0.25,axis=0)\n",
    "sum_3Q = np.quantile(arr6,0.75,axis=0)\n",
    "\n",
    "sum_row = [\"Min.\",\"1st Qu.\",\"Median\",\"Mean\",\"3rd Qu.\",\"Max.\"]\n",
    "for i in sum_row:\n",
    "    for j in range(4):\n",
    "        print(i,end=\"\")\n",
    "        print(sum_min[j],end=\"\")\n",
    "        print(sum_1Q[j],end=\"\")\n",
    "        print(sum_med[j],end=\"\")\n",
    "        print(sum_mean[j],end=\"\")\n",
    "        print(sum_3Q[j],end=\"\")\n",
    "        print(sum_max[j])\n",
    "\n",
    "\n",
    "\n"
   ]
  },
  {
   "cell_type": "markdown",
   "metadata": {
    "collapsed": false
   },
   "source": [
    "## Matrix multiplication\n",
    "\n",
    "Implement function *mat_mult* which takes two 2-dimensional arrays and produces their product. Compare your results with the NumPy built-in operator '@'. Make sure that the function raises and exception if the matrix dimensions are incompatible."
   ]
  },
  {
   "cell_type": "code",
   "execution_count": null,
   "metadata": {
    "collapsed": false
   },
   "outputs": [],
   "source": [
    "def mat_mul(m1,m2):\n",
    "    \"\"\"\n",
    "    Carry out matrix multiplication on m1 and m2. Raise error if the m1 and m2 are\n",
    "    not compatible for multiplication.\n",
    "\n",
    "    :param m1: 2-dimensional array\n",
    "    :param m2: 2-dimensional array\n",
    "    :return: m1 multiplied by m2\n",
    "    \"\"\"\n",
    "    return"
   ]
  },
  {
   "cell_type": "markdown",
   "metadata": {
    "collapsed": false
   },
   "source": [
    "## Covariance matrix\n",
    "\n",
    "Calculate the covariance matrix between two or more random variables:\n",
    "\n",
    "**Synopsis:** <tt>cov(x_1,...,x_n)</tt>\n",
    "   - input: x_1,..,x_n random variables\n",
    "   - return: nxn symmetric array\n",
    "\n",
    "The covariance $cov(X,Y) = E[XY] - E[X]E[Y]$.\n",
    "\n",
    "**Data** We first generate the random variables X and Y with from a joint normal distribution given the means and covariance matrix. This can be done with *.random.multivariate_normal*:"
   ]
  },
  {
   "cell_type": "code",
   "execution_count": null,
   "metadata": {
    "collapsed": false
   },
   "outputs": [],
   "source": [
    "cov = np.array([[1.5, .6], [ .6, .5]])  # covariance matrix\n",
    "X, Y = rng.multivariate_normal(mean=(0,0), cov=cov, size=5000).T # sample 5000\n"
   ]
  },
  {
   "cell_type": "markdown",
   "metadata": {
    "collapsed": false
   },
   "source": [
    "Here is the scatter plot of our data:"
   ]
  },
  {
   "cell_type": "code",
   "execution_count": 8,
   "metadata": {
    "collapsed": false
   },
   "outputs": [
    {
     "data": {
      "image/png": "[encoded data removed]",
      "text/plain": [
       "<Figure size 640x480 with 1 Axes>"
      ]
     },
     "metadata": {},
     "output_type": "display_data"
    }
   ],
   "source": [
    "import matplotlib.pyplot as plt\n",
    "plt.scatter(X, Y, alpha=.5, s=.5);"
   ]
  },
  {
   "cell_type": "markdown",
   "metadata": {
    "collapsed": false
   },
   "source": [
    "Implement the function cov and compare the results with NumPy built-in function *np.cov*."
   ]
  },
  {
   "cell_type": "code",
   "execution_count": null,
   "metadata": {
    "collapsed": false
   },
   "outputs": [],
   "source": [
    "# *args represents set of arguments and is iterable. calls will look\n",
    "# like: cov(x), cov(x,y), cov(x,y,z), etc.\n",
    "#\n",
    "def cov(*args):\n",
    "    \"\"\"\n",
    "\n",
    "    :param args:\n",
    "    :return:\n",
    "    \"\"\""
   ]
  }
 ],
 "metadata": {
  "kernelspec": {
   "display_name": "Python 3",
   "language": "python",
   "name": "python3"
  },
  "language_info": {
   "codemirror_mode": {
    "name": "ipython",
    "version": 3
   },
   "file_extension": ".py",
   "mimetype": "text/x-python",
   "name": "python",
   "nbconvert_exporter": "python",
   "pygments_lexer": "ipython3",
   "version": "3.11.4"
  }
 },
 "nbformat": 4,
 "nbformat_minor": 0
}
