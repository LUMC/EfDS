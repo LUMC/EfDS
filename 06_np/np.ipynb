{
 "cells": [
  {
   "cell_type": "markdown",
   "metadata": {
    "collapsed": false
   },
   "source": [
    "## NumPy\n",
    "\n",
    "[NumPy](https://numpy.org) (numerical python) forms the base in many Python libraries in different scientific fields because of its high performance implementation of multidimensional array called *ndarray*. NumPy features include:\n",
    "\n",
    "    - Vectorisation : array operations are applied to the entire array without python-level loops\n",
    "    - Memory : its own memory block independent of python's type checking and overhead\n",
    "    - Random number generation and distributions\n",
    "    - Linear algebra\n",
    "    - C API:  c-based user-defined and optimised algorithms\n",
    "    - etc.\n",
    "\n",
    " NumPy is a comprehensive Python library. The [API reference](https://numpy.org/doc/stable/reference/index.html) documents different categories of functions and attributes going beyond the scope of this course, so please treat it as a reference.\n",
    " "
   ]
  },
  {
   "cell_type": "markdown",
   "metadata": {
    "collapsed": false
   },
   "source": [
    "## Outline\n",
    "\n",
    "- ndarray\n",
    "- Arithmetic operations\n",
    "- Basic indexing\n",
    "- Indexing in higher dimensions\n",
    "- Combine arrays\n",
    "- Numpy functions and array methods\n",
    "- Exercises"
   ]
  },
  {
   "cell_type": "markdown",
   "metadata": {
    "collapsed": false
   },
   "source": [
    "It is the convention to import numpy as an alias called 'np'."
   ]
  },
  {
   "cell_type": "code",
   "execution_count": 1,
   "metadata": {
    "collapsed": false
   },
   "outputs": [],
   "source": [
    "import numpy as np"
   ]
  },
  {
   "cell_type": "markdown",
   "metadata": {
    "collapsed": false
   },
   "source": [
    "## ndarray class\n",
    "\n",
    "The main data structure of numpy is *ndarray*, a multidimensional array of homogeneous data (single type).\n",
    "\n",
    "<br>\n",
    "\n",
    "```\n",
    "                 axis-0\n",
    "           ------------------>\n",
    "           -------------------\n",
    "           |  0  |  1  |  2  |             1-dimensional array\n",
    "           -------------------\n",
    "\n",
    "                 axis-1\n",
    "           ------------------>\n",
    "           -------------------\n",
    "         | | 0,0 | 0,1 | 0,2 |\n",
    " axis-0  | | 1,0 | 1,1 | 1,2 |             2-dimensional array\n",
    "         | | 2,0 | 2,1 | 2,2 |\n",
    "           -------------------\n",
    "\n",
    "```\n",
    "\n",
    "### array\n",
    "\n",
    "The NumPy function *array* is used to create an array:\n",
    "\n",
    "**Synopsis:**    <tt>array(object, dtype=None)</tt>\n",
    "\n",
    "\n",
    "where object is any (nested) sequence, e.g. list, tuples. The type is automatically determined if not provided explicitly, however you may force the type by setting *dtype* argument. Below is a summary of possible types:\n",
    "<br>\n",
    "\n",
    "```\n",
    "    integers : {i|u}{1|2|4|8}   ;  Where i and u represent signed and unsigned integer.\n",
    "    floats   : {f}[{2,4,8}] | d ;  Where 2,4,8 represent half,single and double precision.\n",
    "                                   f and d alone stand for single and double precision\n",
    "                                   respectively.\n",
    "    boolean  : ? | bool\n",
    "    object   : O | object\n",
    "```"
   ]
  },
  {
   "cell_type": "markdown",
   "metadata": {
    "collapsed": false
   },
   "source": [
    "### 1-dimensional array\n",
    "\n",
    "Below are examples of 1-dimensional arrays:"
   ]
  },
  {
   "cell_type": "code",
   "execution_count": 2,
   "metadata": {
    "collapsed": false
   },
   "outputs": [],
   "source": [
    "arr1d = np.array([1,2,3])     # list\n",
    "arr1d = np.array(range(1,4))  # range\n",
    "arr1d = np.array((1,2,3))     # tuple"
   ]
  },
  {
   "cell_type": "markdown",
   "metadata": {
    "collapsed": false
   },
   "source": [
    "### Inspection attributes : ndim, shape, dtype, size\n",
    "\n",
    "Basic attributes to inspect an array:"
   ]
  },
  {
   "cell_type": "code",
   "execution_count": 3,
   "metadata": {
    "collapsed": false
   },
   "outputs": [
    {
     "data": {
      "text/plain": [
       "3"
      ]
     },
     "execution_count": 3,
     "metadata": {},
     "output_type": "execute_result"
    }
   ],
   "source": [
    "arr1d.ndim  # number of dimensions\n",
    "arr1d.shape # size of dimensions\n",
    "arr1d.dtype # type of the content\n",
    "arr1d.size  # number of elements"
   ]
  },
  {
   "cell_type": "markdown",
   "metadata": {
    "collapsed": false
   },
   "source": [
    "Scalar objects lead to a 0-dimensional array:"
   ]
  },
  {
   "cell_type": "code",
   "execution_count": 4,
   "metadata": {
    "collapsed": false
   },
   "outputs": [],
   "source": [
    "arr0d = np.array(10) #  shape=(),  ndim=0, dtype=int64"
   ]
  },
  {
   "cell_type": "markdown",
   "metadata": {
    "collapsed": false
   },
   "source": [
    "### arange\n",
    "\n",
    "Use  *arange* function (equivalent to python *range*) to create an array of numbers over a range [i,j), possibly in steps.\n",
    "\n",
    "*Synopsis* :   <tt> arange([start, ]stop, [step, ]dtype=None, ...) </tt>"
   ]
  },
  {
   "cell_type": "code",
   "execution_count": 5,
   "metadata": {
    "collapsed": false
   },
   "outputs": [
    {
     "data": {
      "text/plain": [
       "array([0, 3, 6, 9])"
      ]
     },
     "execution_count": 5,
     "metadata": {},
     "output_type": "execute_result"
    }
   ],
   "source": [
    "np.arange(10)     # 0..9 of  ; type int64\n",
    "np.arange(0,10)   # 0..9 of  ; type int64\n",
    "np.arange(0.,10)  # 0.0..9.0 ; type float64\n",
    "np.arange(0,10,3) # 0,3,6,9  ; type int64"
   ]
  },
  {
   "cell_type": "markdown",
   "metadata": {
    "collapsed": false
   },
   "source": [
    "### 2-dimensional array\n",
    "\n",
    "The following are examples of 2-dimensional arrays:"
   ]
  },
  {
   "cell_type": "code",
   "execution_count": 6,
   "metadata": {
    "collapsed": false
   },
   "outputs": [],
   "source": [
    "arr2d = np.array([[1,2,3],[4,5,6]]) # list of lists\n",
    "arr2d = np.array(((1,2,3),(4,5,6))) # tuple of tuples"
   ]
  },
  {
   "cell_type": "markdown",
   "metadata": {
    "collapsed": false
   },
   "source": [
    "Some convenient NumPy function:"
   ]
  },
  {
   "cell_type": "code",
   "execution_count": 7,
   "metadata": {
    "collapsed": false
   },
   "outputs": [],
   "source": [
    "arr2d = np.zeros(shape=(2,2)) # 2-dimensional array of shape (2,2) filled with 0's\n",
    "arr2d = np.ones(shape=(3,2))  # 2-dimensional array of shape (3,2) filled with 1's"
   ]
  },
  {
   "cell_type": "markdown",
   "metadata": {
    "collapsed": false
   },
   "source": [
    "### n-dimensional array\n",
    "\n",
    "Create n-dimensional arrays with $n>2$:"
   ]
  },
  {
   "cell_type": "code",
   "execution_count": 8,
   "metadata": {
    "collapsed": false
   },
   "outputs": [],
   "source": [
    "arr3d = np.zeros(shape=(1,3,4)) # 3-dimensional array filled with 0's"
   ]
  },
  {
   "cell_type": "markdown",
   "metadata": {
    "collapsed": false
   },
   "source": [
    "The layout of the n-dimensional array with $n>2$ on the screen may be daunting. You may skip viewing the data and refer to the data attributes such as *shape*, *ndim* and *dtype*. However, if you do want to inspect the data then the rule is: peel off square brackets from lower dimensions towards higher dimensions deep within. For example the 3-dimensional array of shape (1,2,4) has:\n",
    "<br>\n",
    "\n",
    " ```\n",
    " [                      # 1st dimension with size=1\n",
    "  [                     # 2nd dimension with size=3\n",
    "    [0., 0., 0., 0.],   # 3rd dimension with size=4\n",
    "    [0., 0., 0., 0.],   # 3rd ...\n",
    "    [0., 0., 0., 0.]    # 3rd ...\n",
    "  ]\n",
    "]\n",
    " ```"
   ]
  },
  {
   "cell_type": "markdown",
   "metadata": {
    "collapsed": false
   },
   "source": [
    "### reshape method\n",
    "\n",
    "Using the array *reshape* method you may modify the number of dimensions of an array."
   ]
  },
  {
   "cell_type": "code",
   "execution_count": 9,
   "metadata": {
    "collapsed": false
   },
   "outputs": [],
   "source": [
    "arr1d = np.arange(16)    # 1-dimensional array [0,16)"
   ]
  },
  {
   "cell_type": "markdown",
   "metadata": {
    "collapsed": false
   },
   "source": [
    "Possible shapes for size=16:"
   ]
  },
  {
   "cell_type": "code",
   "execution_count": 10,
   "metadata": {
    "collapsed": false
   },
   "outputs": [
    {
     "data": {
      "text/plain": [
       "array([[ 0,  1],\n",
       "       [ 2,  3],\n",
       "       [ 4,  5],\n",
       "       [ 6,  7],\n",
       "       [ 8,  9],\n",
       "       [10, 11],\n",
       "       [12, 13],\n",
       "       [14, 15]])"
      ]
     },
     "execution_count": 10,
     "metadata": {},
     "output_type": "execute_result"
    }
   ],
   "source": [
    "arr1d.reshape((2,2,2,2)) #\n",
    "arr1d.reshape((4,2,2))   # (2,4,2), (2,2,4)\n",
    "arr1d.reshape((4,4))     #\n",
    "arr1d.reshape((8,2))     # (2,8)"
   ]
  },
  {
   "cell_type": "markdown",
   "metadata": {
    "collapsed": false
   },
   "source": [
    "#### C or Fortran order\n",
    "\n",
    "Alter order either C-like or Fortran-like style:"
   ]
  },
  {
   "cell_type": "code",
   "execution_count": 33,
   "metadata": {
    "collapsed": false
   },
   "outputs": [
    {
     "data": {
      "text/plain": [
       "array([[0, 4],\n",
       "       [1, 5],\n",
       "       [2, 6],\n",
       "       [3, 7]])"
      ]
     },
     "execution_count": 33,
     "metadata": {},
     "output_type": "execute_result"
    }
   ],
   "source": [
    "arr2d = np.arange(8).reshape((4,2),order='C') # row-wise\n",
    "arr2d = np.arange(8).reshape((4,2),order='F') # column-wise\n",
    "# arr2d"
   ]
  },
  {
   "cell_type": "markdown",
   "metadata": {
    "collapsed": false
   },
   "source": [
    "### tolist\n",
    "\n",
    "Convert the array, of any dimension, to list structure:"
   ]
  },
  {
   "cell_type": "code",
   "execution_count": 12,
   "metadata": {
    "collapsed": false
   },
   "outputs": [
    {
     "data": {
      "text/plain": [
       "[[0, 4], [1, 5], [2, 6], [3, 7]]"
      ]
     },
     "execution_count": 12,
     "metadata": {},
     "output_type": "execute_result"
    }
   ],
   "source": [
    "arr2d.tolist()"
   ]
  },
  {
   "cell_type": "markdown",
   "metadata": {
    "collapsed": false
   },
   "source": [
    "### Multiple assignments\n",
    "\n",
    "To access individual components you can use python's *multiple assignment* feature:"
   ]
  },
  {
   "cell_type": "code",
   "execution_count": 13,
   "metadata": {
    "collapsed": false
   },
   "outputs": [],
   "source": [
    "arr3d = np.arange(8).reshape((2,2,2)) # 3-dimensional array filled with 0..7\n",
    "\n",
    "# systematically\n",
    "plane0, plane1 = arr3d\n",
    "vec0, vec1 = plane0\n",
    "vec2, vec3 = plane1\n",
    "\n",
    "# shortcut: layout the structure\n",
    "[[v0,v1],[v2,v3]] = arr3d"
   ]
  },
  {
   "cell_type": "markdown",
   "metadata": {
    "collapsed": false
   },
   "source": [
    "### Transpose\n",
    "\n",
    "Here we only show a 2-dimensional transpose:"
   ]
  },
  {
   "cell_type": "code",
   "execution_count": 14,
   "metadata": {
    "collapsed": false
   },
   "outputs": [
    {
     "data": {
      "text/plain": [
       "((4, 2), (2, 4))"
      ]
     },
     "execution_count": 14,
     "metadata": {},
     "output_type": "execute_result"
    }
   ],
   "source": [
    "arr2d = np.arange(8).reshape(4,2)\n",
    "arr2d.T                             # arr1d.transpose(...) has additional arg. axes\n",
    "arr2d.shape,arr2d.T.shape"
   ]
  },
  {
   "cell_type": "markdown",
   "metadata": {
    "collapsed": false
   },
   "source": [
    "## Arithmetic operations\n",
    "\n",
    "**Vectorisation** Arithmetic operations between numpy arrays are vectorised, meaning that given arrays with the same shape the operation is carried out element-wise. Similarly, operations between a numpy array and a scalar are also vectorised."
   ]
  },
  {
   "cell_type": "code",
   "execution_count": 15,
   "metadata": {
    "collapsed": false
   },
   "outputs": [
    {
     "data": {
      "text/plain": [
       "array([[ 0,  2],\n",
       "       [ 4,  6],\n",
       "       [ 8, 10],\n",
       "       [12, 14]])"
      ]
     },
     "execution_count": 15,
     "metadata": {},
     "output_type": "execute_result"
    }
   ],
   "source": [
    "# between array operations\n",
    "arr2d = np.arange(8).reshape(4,2)\n",
    "arr2d + arr2d     # add arr2d to itself element-wise"
   ]
  },
  {
   "cell_type": "code",
   "execution_count": 16,
   "metadata": {
    "collapsed": false
   },
   "outputs": [
    {
     "data": {
      "text/plain": [
       "array([10, 11, 12, 13, 14])"
      ]
     },
     "execution_count": 16,
     "metadata": {},
     "output_type": "execute_result"
    }
   ],
   "source": [
    "# array and scalar\n",
    "np.arange(5) ** 2 # raise all values in range 0..4 to the power of 2\n",
    "np.arange(5) + 10 # add 10 to each element in the array\n"
   ]
  },
  {
   "cell_type": "markdown",
   "metadata": {
    "collapsed": false
   },
   "source": [
    "NumPy functions' are vectorised:"
   ]
  },
  {
   "cell_type": "code",
   "execution_count": 17,
   "metadata": {
    "collapsed": false
   },
   "outputs": [
    {
     "data": {
      "text/plain": [
       "array([[0., 1.],\n",
       "       [2., 3.],\n",
       "       [4., 5.],\n",
       "       [6., 7.]])"
      ]
     },
     "execution_count": 17,
     "metadata": {},
     "output_type": "execute_result"
    }
   ],
   "source": [
    "np.sqrt( np.arange(8).reshape(4,2) ** 2) # the square-root of square"
   ]
  },
  {
   "cell_type": "markdown",
   "metadata": {
    "collapsed": false
   },
   "source": [
    "**Broadcasting** enables carrying out operations between arrays with different shapes:"
   ]
  },
  {
   "cell_type": "code",
   "execution_count": 18,
   "metadata": {
    "collapsed": false
   },
   "outputs": [
    {
     "data": {
      "text/plain": [
       "array([[ 0,  2,  4,  6],\n",
       "       [ 8, 10, 12, 14]])"
      ]
     },
     "execution_count": 18,
     "metadata": {},
     "output_type": "execute_result"
    }
   ],
   "source": [
    "arr2d = np.arange(8).reshape(2,4)\n",
    "arr1d = np.array([2,2,2,2])\n",
    "arr1d * arr2d"
   ]
  },
  {
   "cell_type": "markdown",
   "metadata": {
    "collapsed": false
   },
   "source": [
    "Array are compatible for broadcast if corresponding dimensions (aligned from high to low dimension) of both arrays have the same size or at least one has size=1. Example above:\n",
    "\n",
    "```\n",
    "arr2d : 2, 4\n",
    "arr1d :    4\n",
    "```\n"
   ]
  },
  {
   "cell_type": "markdown",
   "metadata": {
    "collapsed": false
   },
   "source": [
    "### Basic indexing\n",
    "\n",
    "Indexing 1-dimensional array is similar to python lists:"
   ]
  },
  {
   "cell_type": "code",
   "execution_count": 19,
   "metadata": {
    "collapsed": false
   },
   "outputs": [
    {
     "data": {
      "text/plain": [
       "array([3, 5, 7])"
      ]
     },
     "execution_count": 19,
     "metadata": {},
     "output_type": "execute_result"
    }
   ],
   "source": [
    "arr1 = np.arange(10)  # arr1 : 0..9\n",
    "arr1[3:8:2]           # fetch values from 3..8 in steps of 2"
   ]
  },
  {
   "cell_type": "markdown",
   "metadata": {
    "collapsed": false
   },
   "source": [
    "&#9888; One major difference between lists and arrays is that array slices are views of the original array and list slices are copied.\n",
    "\n",
    "To illustrate, the following creates *arr2* array as a view to arr1 range $0..5$. Any change to *arr2* will change *arr1* and any change in arr1 will be reflected in arr2:\n"
   ]
  },
  {
   "cell_type": "code",
   "execution_count": 20,
   "metadata": {
    "collapsed": false
   },
   "outputs": [],
   "source": [
    "arr2 = arr1[0:5]  # arr2 : slice from  0 to 4th element\n",
    "arr2[2:] = 1234   # set arr2 values to 1234 over the range 2:"
   ]
  },
  {
   "cell_type": "code",
   "execution_count": 21,
   "metadata": {
    "collapsed": false
   },
   "outputs": [],
   "source": [
    "arr1[0:2] = 4321  # changes in arr1 are reflected in arr2 (view)"
   ]
  },
  {
   "cell_type": "markdown",
   "metadata": {
    "collapsed": false
   },
   "source": [
    "If you prefer a copy instead of view use the method *copy* to create a new copy of the array slice:"
   ]
  },
  {
   "cell_type": "code",
   "execution_count": 22,
   "metadata": {
    "collapsed": false
   },
   "outputs": [],
   "source": [
    "arr2 = arr1[0:5].copy() # changes to **arr2** will not propagate to **arr1**."
   ]
  },
  {
   "cell_type": "markdown",
   "metadata": {
    "collapsed": false
   },
   "source": []
  },
  {
   "cell_type": "markdown",
   "metadata": {
    "collapsed": false
   },
   "source": [
    "Slice [:] signifies the entire arrays. The following assignment is valid in arrays but not in lists:"
   ]
  },
  {
   "cell_type": "code",
   "execution_count": 23,
   "metadata": {
    "collapsed": false
   },
   "outputs": [],
   "source": [
    "arr1 = np.arange(10)  # arr1 : 0..9\n",
    "arr1[:] = 10          # set the entire array arr1 to value 10"
   ]
  },
  {
   "cell_type": "markdown",
   "metadata": {
    "collapsed": false
   },
   "source": [
    "### Indexing in higher dimensions"
   ]
  },
  {
   "cell_type": "code",
   "execution_count": 24,
   "metadata": {
    "collapsed": false
   },
   "outputs": [
    {
     "data": {
      "text/plain": [
       "array([[[0, 1],\n",
       "        [2, 3]],\n",
       "\n",
       "       [[4, 5],\n",
       "        [6, 7]]])"
      ]
     },
     "execution_count": 24,
     "metadata": {},
     "output_type": "execute_result"
    }
   ],
   "source": [
    "arr3d = np.arange(8).reshape(2,2,2)\n",
    "arr3d"
   ]
  },
  {
   "cell_type": "markdown",
   "metadata": {
    "collapsed": false
   },
   "source": [
    "Indexing in higher dimensions is done with square brackets with comma-separated indices over dimensions  $d_1,..,d_j$, with $1\\lt j \\leq n$. The results will be the dimensions $\\leq j$."
   ]
  },
  {
   "cell_type": "markdown",
   "metadata": {
    "collapsed": false
   },
   "source": [
    "\n",
    "In the example blow only the first two axes 0 and 1 are considered"
   ]
  },
  {
   "cell_type": "code",
   "execution_count": 25,
   "metadata": {
    "collapsed": false
   },
   "outputs": [
    {
     "data": {
      "text/plain": [
       "array([4, 5])"
      ]
     },
     "execution_count": 25,
     "metadata": {},
     "output_type": "execute_result"
    }
   ],
   "source": [
    "arr3d[0]    # 0th element on axes 0\n",
    "arr3d[1,0]  # 1th element on axes 0, 0th element on axes 1"
   ]
  },
  {
   "cell_type": "markdown",
   "metadata": {
    "collapsed": false
   },
   "source": [
    "The above example *arr3d[1,0]* states: retrieve all values with indices (0,1) as their prefix, i.e. [0,1,0] and [0,1,1]:"
   ]
  },
  {
   "cell_type": "code",
   "execution_count": 26,
   "metadata": {
    "collapsed": false
   },
   "outputs": [
    {
     "data": {
      "text/plain": [
       "(2, 3)"
      ]
     },
     "execution_count": 26,
     "metadata": {},
     "output_type": "execute_result"
    }
   ],
   "source": [
    "arr3d[0,1,0], arr3d[0,1,1]"
   ]
  },
  {
   "cell_type": "markdown",
   "metadata": {
    "collapsed": false
   },
   "source": [
    "Indexing with composition also works, but using comma-separated indices is more concise:"
   ]
  },
  {
   "cell_type": "code",
   "execution_count": 27,
   "metadata": {
    "collapsed": false
   },
   "outputs": [
    {
     "data": {
      "text/plain": [
       "array([2, 3])"
      ]
     },
     "execution_count": 27,
     "metadata": {},
     "output_type": "execute_result"
    }
   ],
   "source": [
    "arr3d[0][1] # composition : first retrieve arr3d[0] array and access index 1"
   ]
  },
  {
   "cell_type": "markdown",
   "metadata": {
    "collapsed": false
   },
   "source": [
    "Passing slices as indices in arrays with $>1$ dimensions behaves in the similar way as basic indices. Below is a review of slices:\n",
    "\n",
    "<br>\n",
    "\n",
    "\n",
    "| slice   | index          |\n",
    "|---------|----------------|\n",
    "| [:]     | $0..(n-1)$     |\n",
    "| [:i]    | $0..(i-1)$     |\n",
    "| [i:]    | $i..(n-1)$     |\n",
    "| [i:j]   | $i..(j-1)$     |\n",
    "| [i:j:k] | $i*k..j//k$    |\n",
    "| [-i]    | $n-i$          |\n",
    "| [-i:]   | $(n-i)..(n-1)$ |\n",
    "| [:-i]   | $0..(n-i)$     |\n",
    "| [::-1]  | $(n-1)..0$     |\n",
    "\n",
    "Slicing can be done over multiple dimensions with slices separated by comma:"
   ]
  },
  {
   "cell_type": "code",
   "execution_count": 39,
   "metadata": {
    "collapsed": false
   },
   "outputs": [
    {
     "name": "stdout",
     "output_type": "stream",
     "text": [
      "[[0 1]\n",
      " [2 3]\n",
      " [4 5]\n",
      " [6 7]]\n"
     ]
    },
    {
     "data": {
      "text/plain": [
       "array([[0, 1],\n",
       "       [4, 5]])"
      ]
     },
     "execution_count": 39,
     "metadata": {},
     "output_type": "execute_result"
    }
   ],
   "source": [
    "arr2d = np.arange(4*2).reshape(4,2)\n",
    "print(arr2d)\n",
    "arr2d[:,:]     # fetch all, same as arr2d\n",
    "# arr2d[2:,1]    # fetch 2: on axis-0 and 2nd on axis-1\n",
    "arr2d[[0,2],:] # fetch 1st and 3rd element on axis-0 and all on axis-1\n",
    "# arr2d"
   ]
  },
  {
   "cell_type": "markdown",
   "metadata": {
    "collapsed": false
   },
   "source": [
    "**Reverse** the order of an array with <tt>::-1</tt>:"
   ]
  },
  {
   "cell_type": "code",
   "execution_count": 29,
   "metadata": {
    "collapsed": false
   },
   "outputs": [
    {
     "data": {
      "text/plain": [
       "array([[1, 0],\n",
       "       [3, 2],\n",
       "       [5, 4],\n",
       "       [7, 6]])"
      ]
     },
     "execution_count": 29,
     "metadata": {},
     "output_type": "execute_result"
    }
   ],
   "source": [
    "np.arange(5)[::-1]\n",
    "np.arange(4*2).reshape(4,2)[:,::-1]"
   ]
  },
  {
   "cell_type": "markdown",
   "metadata": {
    "collapsed": false
   },
   "source": [
    "## Boolean index (mask)\n",
    "\n",
    "Comparing arrays with relational operators <tt> <, <=, =, !=, >, >=</tt> and <tt>~</tt> will result into a boolean array, also termed as a *mask*.  It is used to get or set values in array as logical condition."
   ]
  },
  {
   "cell_type": "code",
   "execution_count": 30,
   "metadata": {
    "collapsed": false
   },
   "outputs": [
    {
     "ename": "TypeError",
     "evalue": "arange() requires stop to be specified.",
     "output_type": "error",
     "traceback": [
      "\u001b[1;31m---------------------------------------------------------------------------\u001b[0m",
      "\u001b[1;31mTypeError\u001b[0m                                 Traceback (most recent call last)",
      "Cell \u001b[1;32mIn[30], line 1\u001b[0m\n\u001b[1;32m----> 1\u001b[0m np\u001b[38;5;241m.\u001b[39marange()\n",
      "\u001b[1;31mTypeError\u001b[0m: arange() requires stop to be specified."
     ]
    }
   ],
   "source": [
    "np.arange()"
   ]
  },
  {
   "cell_type": "code",
   "execution_count": null,
   "metadata": {
    "collapsed": false
   },
   "outputs": [],
   "source": [
    "arr1d = np.arange(10)\n",
    "arr1d[arr1d % 2 == 0]       # filter out even numbers\n",
    "arr1d[arr1d % 2 == 0] = -1  # set even numbers to -1"
   ]
  },
  {
   "cell_type": "markdown",
   "metadata": {
    "collapsed": false
   },
   "source": [
    "## Combine arrays\n",
    "\n",
    "Combining array is carried out based on the axes and  on the number of dimensions and/or shapes. NumPy provides several functions for this purpose.\n",
    "\n",
    "**Concatenate**  function takes a sequence of arrays and produces a combined array with the same number of dimensions but different shape. The following two 1-dimensional arrays:"
   ]
  },
  {
   "cell_type": "code",
   "execution_count": null,
   "metadata": {
    "collapsed": false
   },
   "outputs": [],
   "source": [
    "arr1 = np.arange(0,5)\n",
    "arr2 = np.arange(5,10)\n",
    "np.concatenate((arr1,arr2))"
   ]
  },
  {
   "cell_type": "markdown",
   "metadata": {
    "collapsed": false
   },
   "source": [
    "In a 1-dimensional array there is only the axis 0 and the default choice to concatenate. With a 2-dimensional array we have the axes 0 (rows) and 1 (columns). The concatenation succeeds if the dimensions on the axis on which it takes place match."
   ]
  },
  {
   "cell_type": "code",
   "execution_count": null,
   "metadata": {
    "collapsed": false
   },
   "outputs": [],
   "source": [
    "arr1 = np.arange(0,8).reshape(4,2)\n",
    "arr2 = np.arange(8,16).reshape(4,2)\n",
    "np.concatenate((arr1, arr2))          # along axis=0 (default) ; alternatively use vstack\n",
    "np.concatenate((arr1, arr2), axis=1)  # along axis=1           ; alternatively use hstack"
   ]
  },
  {
   "cell_type": "markdown",
   "metadata": {
    "collapsed": false
   },
   "source": [
    "**stack** function combines arrays in a newly introduced dimension along the given axis (default axis=0):"
   ]
  },
  {
   "cell_type": "code",
   "execution_count": null,
   "metadata": {
    "collapsed": false
   },
   "outputs": [],
   "source": [
    "arr1 = np.arange(0,4).reshape(2,2)\n",
    "arr2 = np.arange(4,8).reshape(2,2)\n",
    "np.stack((arr1, arr2), axis=1)"
   ]
  },
  {
   "cell_type": "markdown",
   "metadata": {
    "collapsed": false
   },
   "source": [
    "## Random Generator\n",
    "\n",
    "The NumPy solution for random variables is the [Random Generator](https://numpy.org/doc/stable/reference/random/generator.html). It is a container for various distributions, permutations, floats and integers. To access it you'll need to import *default_rng* function enabling you  to instantiate a random generator:\n"
   ]
  },
  {
   "cell_type": "code",
   "execution_count": null,
   "metadata": {
    "collapsed": false
   },
   "outputs": [],
   "source": [
    "from numpy.random import default_rng  # import function default_rng\n",
    "rng = default_rng()                   # random number generator (without a seed)\n",
    "rng.integers(0,100,10)                # 10 randomly generated integers out of [0,100)\n",
    "rng.random((10,2))                    # 10x2 randomly generated floats out of [0.0,1.0)\n",
    "rng.normal(loc=0,scale=1,size=(5,5))  # 5x5  randomly generate"
   ]
  },
  {
   "cell_type": "markdown",
   "metadata": {
    "collapsed": false
   },
   "source": [
    "### random sampling\n",
    "\n",
    "With the method *choice* of the random generator one can sample values from a given set.\n",
    "\n",
    "**Synopsis:** <tt> random.choice(a, size=None, replace=True, ...) </tt>\n",
    "\n",
    "with array of values *a* to choose from and *size* the size of selection. The *replace* is set to True by default, meaning that values may be selected multiple times.\n"
   ]
  },
  {
   "cell_type": "code",
   "execution_count": null,
   "metadata": {
    "collapsed": false
   },
   "outputs": [],
   "source": [
    "arr = np.array([True, False])\n",
    "rng.choice(arr, 10)\n",
    "arr = np.array([\"aap\", \"mies\", \"noot\"])\n",
    "rng.choice(arr, 5)"
   ]
  },
  {
   "cell_type": "markdown",
   "metadata": {
    "collapsed": false
   },
   "source": [
    "## Numpy functions and array methods\n",
    "\n",
    "Under the [Mathematical function](https://numpy.org/doc/stable/reference/routines.math.html) and [Statistics](https://numpy.org/doc/stable/reference/routines.statistics.html) sections of NumPy [APi reference](https://numpy.org/doc/stable/reference/index.html) you'll find many useful functions.\n"
   ]
  },
  {
   "cell_type": "markdown",
   "metadata": {
    "collapsed": false
   },
   "source": [
    "**aggregate function**\n",
    "\n",
    "Functions operating on a set of values and result in a single value, e.g. *mean, median, min, max, sum, std, var* and for logical values *all, any*. In addition, NumPy functions give you control with the *axis* argument to decide the direction of calculation. Take the function *mean*:"
   ]
  },
  {
   "cell_type": "code",
   "execution_count": null,
   "metadata": {
    "collapsed": false
   },
   "outputs": [],
   "source": [
    "# arr2d: a sample of size=20 from the range [0,100) with shape (5,4)\n",
    "rng = default_rng(12345)  # seed=12345\n",
    "arr2d = rng.integers(0,100,20).reshape(5,4)\n",
    "arr2d"
   ]
  },
  {
   "cell_type": "code",
   "execution_count": null,
   "metadata": {
    "collapsed": false
   },
   "outputs": [],
   "source": [
    "# NumPy function\n",
    "np.mean(arr2d)         # total mean\n",
    "np.mean(arr2d, axis=0) # mean along the 0-axis (1st dimension)\n",
    "np.mean(arr2d, axis=1) # mean along the 1-axis (2nd dimension)"
   ]
  },
  {
   "cell_type": "markdown",
   "metadata": {
    "collapsed": false
   },
   "source": [
    "Some common methods are ported to array level methods:"
   ]
  },
  {
   "cell_type": "code",
   "execution_count": null,
   "metadata": {
    "collapsed": false
   },
   "outputs": [],
   "source": [
    "# Array method\n",
    "arr2d.mean(axis=1)"
   ]
  },
  {
   "cell_type": "markdown",
   "metadata": {
    "collapsed": false
   },
   "source": [
    "**Boolean** Two common boolean aggregate functions are *all* and *any*, testing whether all or any of the values are True respectively. For example, take the array below, we want to know whether there are values above a certain threshold, say 50:"
   ]
  },
  {
   "cell_type": "code",
   "execution_count": null,
   "metadata": {
    "collapsed": false
   },
   "outputs": [],
   "source": [
    "arr1d = rng.integers(0,99,50) # [0,99)\n",
    "(arr1d > 50).any()            # Are there any values >50?"
   ]
  },
  {
   "cell_type": "code",
   "execution_count": null,
   "metadata": {
    "collapsed": false
   },
   "outputs": [],
   "source": [
    "(arr1d > 50).all()            # Are all values >50?"
   ]
  },
  {
   "cell_type": "markdown",
   "metadata": {
    "collapsed": false
   },
   "source": [
    "Finally, the aggregate function *sum* can consume boolean array and interprets True as 1 and False as 0. We can continue with the threshold question and count the number of values $>50$:"
   ]
  },
  {
   "cell_type": "code",
   "execution_count": null,
   "metadata": {
    "collapsed": false
   },
   "outputs": [],
   "source": [
    "(arr1d > 50).sum()           # How many values >50"
   ]
  }
 ],
 "metadata": {
  "kernelspec": {
   "display_name": "Python 3",
   "language": "python",
   "name": "python3"
  },
  "language_info": {
   "codemirror_mode": {
    "name": "ipython",
    "version": 3
   },
   "file_extension": ".py",
   "mimetype": "text/x-python",
   "name": "python",
   "nbconvert_exporter": "python",
   "pygments_lexer": "ipython3",
   "version": "3.11.4"
  }
 },
 "nbformat": 4,
 "nbformat_minor": 0
}
