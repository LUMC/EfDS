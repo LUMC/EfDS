{
  "cells": [
    {
      "cell_type": "markdown",
      "metadata": {
        "colab_type": "text",
        "id": "view-in-github"
      },
      "source": [
        "<a href=\"https://colab.research.google.com/github/LUMC/EfDS_RelDB_SQL/blob/main/orm_practice.ipynb\" target=\"_parent\"><img src=\"https://colab.research.google.com/assets/colab-badge.svg\" alt=\"Open In Colab\"/></a>"
      ]
    },
    {
      "cell_type": "markdown",
      "metadata": {
        "id": "7QfhAsFJDKAt"
      },
      "source": [
        "# Object Relational Mapper"
      ]
    },
    {
      "attachments": {},
      "cell_type": "markdown",
      "metadata": {
        "id": "lMXTpcDAqsiD"
      },
      "source": [
        "## Goals"
      ]
    },
    {
      "attachments": {},
      "cell_type": "markdown",
      "metadata": {
        "id": "q0l7Hj4HEDEI"
      },
      "source": [
        "The overall goal of this session is to learn how to provide an object oriented interface to a database.  \n",
        "Since this is a complex task, specialized libraries help to provide such functionality.  \n",
        "Here, we will use a part of the `SQLAlchemy` library called [Object Relational Mapper](https://docs.sqlalchemy.org/en/14/orm/index.html) (ORM)."
      ]
    },
    {
      "attachments": {},
      "cell_type": "markdown",
      "metadata": {
        "id": "Wqiz1HMYnp42"
      },
      "source": [
        "This lecture describes a growing code and is intended to be followed sequentially. Subsequent steps have the following goals:\n",
        "- Create a class corresponding to a single database table (relations are ignored).\n",
        "- Understand the concepts of engine, session, transaction, commit, rollback.\n",
        "- Query the database and get results as objects representing rows. Build simple and more complex queries.\n",
        "- Extend the class with a method for nicer content printing.\n",
        "- Create another class for another database table. Learn how do declare foreign keys and add methods representing relations.\n",
        "- Add new content to the database. Commit. Show the newly added content."
      ]
    },
    {
      "attachments": {},
      "cell_type": "markdown",
      "metadata": {},
      "source": [
        "*Note:* [The PYSheet cheatsheet](https://www.pythonsheets.com/notes/python-sqlalchemy.html) is useful once you understand the basic SQLAlchemy and Object Relational Mapper concepts."
      ]
    },
    {
      "attachments": {},
      "cell_type": "markdown",
      "metadata": {
        "id": "wpHEHn7wsA76"
      },
      "source": [
        "Below there is (again) the diagram from [the SQLite Tutorial](https://www.sqlitetutorial.net) of the `chinook` database.\n",
        "\n",
        "![chinook scheme](https://www.sqlitetutorial.net/wp-content/uploads/2015/11/sqlite-sample-database-color.jpg)\n",
        "\n",
        "We will implement classes providing access to a small part of the database:\n",
        "- We want classes `Album` (a row of the table `albums`) or `Track` (a row of the table `tracks`).\n",
        "- The class `Album` should have a field like `title`.\n",
        "- The class `Album` should have a method `tracks` which returns respective `Track` objects for \"the current\" `Album` object.\n",
        "- When a field is changed, the database should get updated."
      ]
    },
    {
      "cell_type": "markdown",
      "metadata": {
        "id": "e2b3jP7s3VQF"
      },
      "source": [
        "## Preparation"
      ]
    },
    {
      "cell_type": "markdown",
      "metadata": {
        "id": "7fXJZpD5kYVb"
      },
      "source": [
        "\n",
        "The following tools/sources will be used and they need to get installed:\n",
        "- `chinook.db` is the database (a file in `SQLite` database format)\n",
        "- `SQLAlchemy` is the Python library which:\n",
        "    - provides unified SQL access to databases of many formats, including `SQLite`\n",
        "    - provides Object Relational Mapper functionality\n"
      ]
    },
    {
      "cell_type": "markdown",
      "metadata": {
        "id": "cB1iky0ekfcZ"
      },
      "source": [
        "### Download of the database"
      ]
    },
    {
      "attachments": {},
      "cell_type": "markdown",
      "metadata": {
        "id": "RmZYU5BSOoWN"
      },
      "source": [
        "The following lines download a compressed file `chinook.zip` and unpack it leading to a SQLite database file `chinook.db`.  \n",
        "*Note:* In this session we will modify the database, so the database file will change and some examples may not work anymore. In that case, you can download the database again."
      ]
    },
    {
      "cell_type": "code",
      "execution_count": 1,
      "metadata": {
        "id": "wScMXlM-CLSK"
      },
      "outputs": [],
      "source": [
        "import urllib.request    # needed for download of the example database\n",
        "import shutil            # needed for unziping of the example database\n",
        "import os                # for removing a file\n",
        "\n",
        "# urllib.request.urlretrieve(\"https://www.sqlitetutorial.net/wp-content/uploads/2018/03/chinook.zip\", \"chinook.zip\")\n",
        "shutil.unpack_archive(\"chinook.zip\")\n",
        "# os.remove(\"chinook.zip\")"
      ]
    },
    {
      "attachments": {},
      "cell_type": "markdown",
      "metadata": {
        "id": "CPNnr4RlGxeW"
      },
      "source": [
        "### SQLAlchemy toolkit"
      ]
    },
    {
      "cell_type": "markdown",
      "metadata": {
        "id": "3TneEMEjHYSE"
      },
      "source": [
        "The demonstrations will use multiple functions and classes of the SQLAlchemy library."
      ]
    },
    {
      "cell_type": "code",
      "execution_count": 1,
      "metadata": {
        "id": "3bhJYhpYyayT"
      },
      "outputs": [],
      "source": [
        "import sqlalchemy as sa\n",
        "import sqlalchemy.orm as orm"
      ]
    },
    {
      "cell_type": "markdown",
      "metadata": {
        "id": "Sa_dguIBF0l4"
      },
      "source": [
        "### Database connection and transaction"
      ]
    },
    {
      "attachments": {},
      "cell_type": "markdown",
      "metadata": {
        "id": "PMQGl5B5F4O9"
      },
      "source": [
        "When using the SQLAlchemy library, the following objects are used to interact with the database. \n",
        "- `engine`: Provides a main connection to a database.\n",
        "- `session`: A newly created transaction. Database changes executed through this object will only get written at the end of the block when the transaction is committed. If the transaction is rolled back, all the changes are discarded."
      ]
    },
    {
      "cell_type": "code",
      "execution_count": 4,
      "metadata": {
        "id": "ErJpQ6nOY6Qb"
      },
      "outputs": [],
      "source": [
        "engine = sa.create_engine(\"sqlite:///chinook.db\",echo=False)\n",
        "with orm.Session(engine) as session:\n",
        "    # query or modify the database through the session object\n",
        "    pass\n",
        "    # when modifying the database, commit or rollback the changes introduced in the block"
      ]
    },
    {
      "cell_type": "markdown",
      "metadata": {
        "id": "xwjOj9CrHBn5"
      },
      "source": [
        "## Class describing a table"
      ]
    },
    {
      "cell_type": "markdown",
      "metadata": {
        "id": "Ss09rXQ_HFPK"
      },
      "source": [
        "This is a code pattern to describe a (row of a) single table in the database.  \n",
        "This step is independent on the database (does not load the table column names/types from the database).  \n",
        "This code needs to be adjusted for each table which is going to be created or modified.\n",
        "\n",
        "Let's study the following description referring to the table `albums` from the `chinook` database:\n",
        "- `Base`: This object normally is created once and it internally stores all information about the structure of the database. (*Note:* In this notebook we will recreate this object multiple times to allow changes in descriptions of the tables.)\n",
        "- `Album`: This is a newly created class and it will conceptually represent a single row of the table.\n",
        "- `__tablename__`: This field defines the name of the table as in the database.\n",
        "- `AlbumId`: This is a name of a `Column` as in the database. Moreover, it specifies that the column keeps `Integer` numbers, and that the column belogs to the `primary_key` of this table.\n",
        "- `Title`: As above, but the column keeps texts (`String` of max. 160 characters).\n",
        "\n",
        "For more info check: [Column and Data Types](https://docs.sqlalchemy.org/en/14/core/type_basics.html)."
      ]
    },
    {
      "cell_type": "code",
      "execution_count": 28,
      "metadata": {
        "id": "_YYB2GItynEw"
      },
      "outputs": [],
      "source": [
        "Base = orm.declarative_base()\n",
        "\n",
        "class Album(Base):\n",
        "  __tablename__ = \"albums\"\n",
        "  \n",
        "  AlbumId = sa.Column(sa.Integer,primary_key=True)\n",
        "  Title = sa.Column(sa.String(160))\n",
        "  ArtistId = sa.Column(sa.Integer)\n",
        "  # test1 = sa.Column(sa.Integer)"
      ]
    },
    {
      "attachments": {},
      "cell_type": "markdown",
      "metadata": {
        "id": "tPyyRjamRA-5"
      },
      "source": [
        "## Getting table rows as objects"
      ]
    },
    {
      "cell_type": "markdown",
      "metadata": {
        "id": "RV-sOtG3tS4Z"
      },
      "source": [
        "The SQLAlchemy library provides functionality to automatically build SQL queries, execute them, and convert the results to objects of the declared tables. Study the examples below..."
      ]
    },
    {
      "cell_type": "markdown",
      "metadata": {
        "id": "BfixmQ1Rvpo3"
      },
      "source": [
        "### SQL query is built by the library"
      ]
    },
    {
      "cell_type": "markdown",
      "metadata": {
        "id": "ZiqhnX_Yt--G"
      },
      "source": [
        "The `session` object provides a function `query`. The arguments of this function define which table is to be asked for. Observe, how `session.query(Album)` builds automatically the SQL query based on the table description provided in the `Album` class:"
      ]
    },
    {
      "cell_type": "code",
      "execution_count": 33,
      "metadata": {
        "id": "1-Y6fMWF4-Be"
      },
      "outputs": [
        {
          "name": "stdout",
          "output_type": "stream",
          "text": [
            "SELECT albums.\"AlbumId\" AS \"albums_AlbumId\", albums.\"Title\" AS \"albums_Title\", albums.\"ArtistId\" AS \"albums_ArtistId\" \n",
            "FROM albums\n"
          ]
        }
      ],
      "source": [
        "with orm.Session(engine) as session:\n",
        "    print( session.query(Album) )\n",
        "    session.query(Album)"
      ]
    },
    {
      "cell_type": "markdown",
      "metadata": {
        "id": "g4dNd_7bubDX"
      },
      "source": [
        "Using additionally the `limit` function we can obtain an SQL query referring to a few rows only:"
      ]
    },
    {
      "cell_type": "code",
      "execution_count": 30,
      "metadata": {
        "id": "E1Ags4pK536u"
      },
      "outputs": [
        {
          "name": "stdout",
          "output_type": "stream",
          "text": [
            "SELECT albums.\"AlbumId\" AS \"albums_AlbumId\", albums.\"Title\" AS \"albums_Title\", albums.\"ArtistId\" AS \"albums_ArtistId\", albums.test1 AS albums_test1 \n",
            "FROM albums\n",
            " LIMIT ? OFFSET ?\n"
          ]
        }
      ],
      "source": [
        "with orm.Session(engine) as session:\n",
        "    print( session.query(Album).limit(3) )"
      ]
    },
    {
      "cell_type": "markdown",
      "metadata": {
        "id": "JrtVOZZHR6fj"
      },
      "source": [
        "Or, using the `filter` function we may generate SQL `where` clauses to select rows:"
      ]
    },
    {
      "cell_type": "code",
      "execution_count": 6,
      "metadata": {
        "id": "tTYsKKEAR7y4"
      },
      "outputs": [
        {
          "name": "stdout",
          "output_type": "stream",
          "text": [
            "SELECT albums.\"AlbumId\" AS \"albums_AlbumId\", albums.\"Title\" AS \"albums_Title\", albums.\"ArtistId\" AS \"albums_ArtistId\" \n",
            "FROM albums \n",
            "WHERE albums.\"AlbumId\" = ?\n"
          ]
        }
      ],
      "source": [
        "with orm.Session(engine) as session:\n",
        "    print( session.query(Album).filter(Album.AlbumId == 5) )"
      ]
    },
    {
      "cell_type": "markdown",
      "metadata": {
        "id": "DPWm9WYRQ8ek"
      },
      "source": [
        "### Getting a single object"
      ]
    },
    {
      "cell_type": "markdown",
      "metadata": {
        "id": "v9G0axhhRDJa"
      },
      "source": [
        "We know that `AlbumId` is the primary key of the `albums` table. So, there should be just one row for an album with (for example) `AlbumId` of `5`.  \n",
        "The following code will run the SQL query and produce the `one` corresponding `Album` object:"
      ]
    },
    {
      "cell_type": "code",
      "execution_count": 8,
      "metadata": {
        "id": "7bdFdOQFS5zW"
      },
      "outputs": [
        {
          "name": "stdout",
          "output_type": "stream",
          "text": [
            "<class 'list'>\n",
            "[Album(AlbumId='5', Title='Big Ones', ArtistId='3')]\n"
          ]
        }
      ],
      "source": [
        "with orm.Session(engine) as session:\n",
        "    a = session.query(Album).filter(Album.AlbumId == 5).all()\n",
        "    print(type(a))\n",
        "    print(a)\n",
        "\n",
        "# print(a)                   # the object a may be invalid once the session is closed"
      ]
    },
    {
      "cell_type": "markdown",
      "metadata": {
        "id": "8OKd0-y0TpAn"
      },
      "source": [
        "You can see that indeed an object of the class `Album` was produced, although its content are not shown (will be discussed next). Note though, that the values from the table columns can be accessed conveniently as the class fields:"
      ]
    },
    {
      "cell_type": "code",
      "execution_count": null,
      "metadata": {
        "id": "DXlxASSFUGE4"
      },
      "outputs": [],
      "source": [
        "with orm.Session(engine) as session:\n",
        "    a = session.query(Album).filter(Album.AlbumId == 5).one()\n",
        "    print(a.AlbumId)\n",
        "    print(a.Title)"
      ]
    },
    {
      "cell_type": "markdown",
      "metadata": {
        "id": "ko-hTfHq1VSZ"
      },
      "source": [
        "### Nice printing of object fields"
      ]
    },
    {
      "cell_type": "markdown",
      "metadata": {
        "id": "VlwfuuXj1qPX"
      },
      "source": [
        "Redefine the `Album` object a add a method `__repr__`. This is a function used to get the text representation of an object when it gets `print`ed:"
      ]
    },
    {
      "cell_type": "code",
      "execution_count": 2,
      "metadata": {
        "id": "APX1gZZ06WsC"
      },
      "outputs": [],
      "source": [
        "Base = orm.declarative_base() # normally present once in a script!\n",
        "\n",
        "class Album(Base):\n",
        "  __tablename__ = \"albums\"\n",
        "  \n",
        "  AlbumId = sa.Column(sa.Integer,primary_key=True)\n",
        "  Title = sa.Column(sa.String(160))\n",
        "  ArtistId = sa.Column(sa.Integer)\n",
        "\n",
        "  def __repr__(self):\n",
        "    return \"Album(AlbumId='%s', Title='%s', ArtistId='%s')\" % (self.AlbumId, self.Title, self.ArtistId)"
      ]
    },
    {
      "cell_type": "markdown",
      "metadata": {
        "id": "uuBRfHplU6h3"
      },
      "source": [
        "Let's again get the object and print it:"
      ]
    },
    {
      "cell_type": "code",
      "execution_count": 9,
      "metadata": {
        "id": "Xgqsra_-6tsG"
      },
      "outputs": [
        {
          "name": "stdout",
          "output_type": "stream",
          "text": [
            "Album(AlbumId='5', Title='Big Ones', ArtistId='3')\n",
            "[Album(AlbumId='1', Title='For Those About To Rock We Salute You', ArtistId='1'), Album(AlbumId='2', Title='Balls to the Wall', ArtistId='2'), Album(AlbumId='3', Title='Restless and Wild', ArtistId='2'), Album(AlbumId='4', Title='Let There Be Rock', ArtistId='1'), Album(AlbumId='5', Title='Big Ones', ArtistId='3'), Album(AlbumId='6', Title='Jagged Little Pill', ArtistId='4'), Album(AlbumId='7', Title='Facelift', ArtistId='5'), Album(AlbumId='8', Title='Warner 25 Anos', ArtistId='6'), Album(AlbumId='9', Title='Plays Metallica By Four Cellos', ArtistId='7'), Album(AlbumId='10', Title='Audioslave', ArtistId='8'), Album(AlbumId='11', Title='Out Of Exile', ArtistId='8'), Album(AlbumId='12', Title='BackBeat Soundtrack', ArtistId='9'), Album(AlbumId='13', Title='The Best Of Billy Cobham', ArtistId='10'), Album(AlbumId='14', Title='Alcohol Fueled Brewtality Live! [Disc 1]', ArtistId='11'), Album(AlbumId='15', Title='Alcohol Fueled Brewtality Live! [Disc 2]', ArtistId='11'), Album(AlbumId='16', Title='Black Sabbath', ArtistId='12'), Album(AlbumId='17', Title='Black Sabbath Vol. 4 (Remaster)', ArtistId='12'), Album(AlbumId='18', Title='Body Count', ArtistId='13'), Album(AlbumId='19', Title='Chemical Wedding', ArtistId='14'), Album(AlbumId='20', Title='The Best Of Buddy Guy - The Millenium Collection', ArtistId='15'), Album(AlbumId='21', Title='Prenda Minha', ArtistId='16'), Album(AlbumId='22', Title='Sozinho Remix Ao Vivo', ArtistId='16'), Album(AlbumId='23', Title='Minha Historia', ArtistId='17'), Album(AlbumId='24', Title='Afrociberdelia', ArtistId='18'), Album(AlbumId='25', Title='Da Lama Ao Caos', ArtistId='18'), Album(AlbumId='26', Title='Acústico MTV [Live]', ArtistId='19'), Album(AlbumId='27', Title='Cidade Negra - Hits', ArtistId='19'), Album(AlbumId='28', Title='Na Pista', ArtistId='20'), Album(AlbumId='29', Title='Axé Bahia 2001', ArtistId='21'), Album(AlbumId='30', Title='BBC Sessions [Disc 1] [Live]', ArtistId='22'), Album(AlbumId='31', Title='Bongo Fury', ArtistId='23'), Album(AlbumId='32', Title='Carnaval 2001', ArtistId='21'), Album(AlbumId='33', Title='Chill: Brazil (Disc 1)', ArtistId='24'), Album(AlbumId='34', Title='Chill: Brazil (Disc 2)', ArtistId='6'), Album(AlbumId='35', Title='Garage Inc. (Disc 1)', ArtistId='50'), Album(AlbumId='36', Title='Greatest Hits II', ArtistId='51'), Album(AlbumId='37', Title='Greatest Kiss', ArtistId='52'), Album(AlbumId='38', Title='Heart of the Night', ArtistId='53'), Album(AlbumId='39', Title='International Superhits', ArtistId='54'), Album(AlbumId='40', Title='Into The Light', ArtistId='55'), Album(AlbumId='41', Title='Meus Momentos', ArtistId='56'), Album(AlbumId='42', Title='Minha História', ArtistId='57'), Album(AlbumId='43', Title='MK III The Final Concerts [Disc 1]', ArtistId='58'), Album(AlbumId='44', Title='Physical Graffiti [Disc 1]', ArtistId='22'), Album(AlbumId='45', Title='Sambas De Enredo 2001', ArtistId='21'), Album(AlbumId='46', Title='Supernatural', ArtistId='59'), Album(AlbumId='47', Title='The Best of Ed Motta', ArtistId='37'), Album(AlbumId='48', Title='The Essential Miles Davis [Disc 1]', ArtistId='68'), Album(AlbumId='49', Title='The Essential Miles Davis [Disc 2]', ArtistId='68'), Album(AlbumId='50', Title='The Final Concerts (Disc 2)', ArtistId='58'), Album(AlbumId='51', Title='Up An' Atom', ArtistId='69'), Album(AlbumId='52', Title='Vinícius De Moraes - Sem Limite', ArtistId='70'), Album(AlbumId='53', Title='Vozes do MPB', ArtistId='21'), Album(AlbumId='54', Title='Chronicle, Vol. 1', ArtistId='76'), Album(AlbumId='55', Title='Chronicle, Vol. 2', ArtistId='76'), Album(AlbumId='56', Title='Cássia Eller - Coleção Sem Limite [Disc 2]', ArtistId='77'), Album(AlbumId='57', Title='Cássia Eller - Sem Limite [Disc 1]', ArtistId='77'), Album(AlbumId='58', Title='Come Taste The Band', ArtistId='58'), Album(AlbumId='59', Title='Deep Purple In Rock', ArtistId='58'), Album(AlbumId='60', Title='Fireball', ArtistId='58'), Album(AlbumId='61', Title='Knocking at Your Back Door: The Best Of Deep Purple in the 80's', ArtistId='58'), Album(AlbumId='62', Title='Machine Head', ArtistId='58'), Album(AlbumId='63', Title='Purpendicular', ArtistId='58'), Album(AlbumId='64', Title='Slaves And Masters', ArtistId='58'), Album(AlbumId='65', Title='Stormbringer', ArtistId='58'), Album(AlbumId='66', Title='The Battle Rages On', ArtistId='58'), Album(AlbumId='67', Title='Vault: Def Leppard's Greatest Hits', ArtistId='78'), Album(AlbumId='68', Title='Outbreak', ArtistId='79'), Album(AlbumId='69', Title='Djavan Ao Vivo - Vol. 02', ArtistId='80'), Album(AlbumId='70', Title='Djavan Ao Vivo - Vol. 1', ArtistId='80'), Album(AlbumId='71', Title='Elis Regina-Minha História', ArtistId='41'), Album(AlbumId='72', Title='The Cream Of Clapton', ArtistId='81'), Album(AlbumId='73', Title='Unplugged', ArtistId='81'), Album(AlbumId='74', Title='Album Of The Year', ArtistId='82'), Album(AlbumId='75', Title='Angel Dust', ArtistId='82'), Album(AlbumId='76', Title='King For A Day Fool For A Lifetime', ArtistId='82'), Album(AlbumId='77', Title='The Real Thing', ArtistId='82'), Album(AlbumId='78', Title='Deixa Entrar', ArtistId='83'), Album(AlbumId='79', Title='In Your Honor [Disc 1]', ArtistId='84'), Album(AlbumId='80', Title='In Your Honor [Disc 2]', ArtistId='84'), Album(AlbumId='81', Title='One By One', ArtistId='84'), Album(AlbumId='82', Title='The Colour And The Shape', ArtistId='84'), Album(AlbumId='83', Title='My Way: The Best Of Frank Sinatra [Disc 1]', ArtistId='85'), Album(AlbumId='84', Title='Roda De Funk', ArtistId='86'), Album(AlbumId='85', Title='As Canções de Eu Tu Eles', ArtistId='27'), Album(AlbumId='86', Title='Quanta Gente Veio Ver (Live)', ArtistId='27'), Album(AlbumId='87', Title='Quanta Gente Veio ver--Bônus De Carnaval', ArtistId='27'), Album(AlbumId='88', Title='Faceless', ArtistId='87'), Album(AlbumId='89', Title='American Idiot', ArtistId='54'), Album(AlbumId='90', Title='Appetite for Destruction', ArtistId='88'), Album(AlbumId='91', Title='Use Your Illusion I', ArtistId='88'), Album(AlbumId='92', Title='Use Your Illusion II', ArtistId='88'), Album(AlbumId='93', Title='Blue Moods', ArtistId='89'), Album(AlbumId='94', Title='A Matter of Life and Death', ArtistId='90'), Album(AlbumId='95', Title='A Real Dead One', ArtistId='90'), Album(AlbumId='96', Title='A Real Live One', ArtistId='90'), Album(AlbumId='97', Title='Brave New World', ArtistId='90'), Album(AlbumId='98', Title='Dance Of Death', ArtistId='90'), Album(AlbumId='99', Title='Fear Of The Dark', ArtistId='90'), Album(AlbumId='100', Title='Iron Maiden', ArtistId='90'), Album(AlbumId='101', Title='Killers', ArtistId='90'), Album(AlbumId='102', Title='Live After Death', ArtistId='90'), Album(AlbumId='103', Title='Live At Donington 1992 (Disc 1)', ArtistId='90'), Album(AlbumId='104', Title='Live At Donington 1992 (Disc 2)', ArtistId='90'), Album(AlbumId='105', Title='No Prayer For The Dying', ArtistId='90'), Album(AlbumId='106', Title='Piece Of Mind', ArtistId='90'), Album(AlbumId='107', Title='Powerslave', ArtistId='90'), Album(AlbumId='108', Title='Rock In Rio [CD1]', ArtistId='90'), Album(AlbumId='109', Title='Rock In Rio [CD2]', ArtistId='90'), Album(AlbumId='110', Title='Seventh Son of a Seventh Son', ArtistId='90'), Album(AlbumId='111', Title='Somewhere in Time', ArtistId='90'), Album(AlbumId='112', Title='The Number of The Beast', ArtistId='90'), Album(AlbumId='113', Title='The X Factor', ArtistId='90'), Album(AlbumId='114', Title='Virtual XI', ArtistId='90'), Album(AlbumId='115', Title='Sex Machine', ArtistId='91'), Album(AlbumId='116', Title='Emergency On Planet Earth', ArtistId='92'), Album(AlbumId='117', Title='Synkronized', ArtistId='92'), Album(AlbumId='118', Title='The Return Of The Space Cowboy', ArtistId='92'), Album(AlbumId='119', Title='Get Born', ArtistId='93'), Album(AlbumId='120', Title='Are You Experienced?', ArtistId='94'), Album(AlbumId='121', Title='Surfing with the Alien (Remastered)', ArtistId='95'), Album(AlbumId='122', Title='Jorge Ben Jor 25 Anos', ArtistId='46'), Album(AlbumId='123', Title='Jota Quest-1995', ArtistId='96'), Album(AlbumId='124', Title='Cafezinho', ArtistId='97'), Album(AlbumId='125', Title='Living After Midnight', ArtistId='98'), Album(AlbumId='126', Title='Unplugged [Live]', ArtistId='52'), Album(AlbumId='127', Title='BBC Sessions [Disc 2] [Live]', ArtistId='22'), Album(AlbumId='128', Title='Coda', ArtistId='22'), Album(AlbumId='129', Title='Houses Of The Holy', ArtistId='22'), Album(AlbumId='130', Title='In Through The Out Door', ArtistId='22'), Album(AlbumId='131', Title='IV', ArtistId='22'), Album(AlbumId='132', Title='Led Zeppelin I', ArtistId='22'), Album(AlbumId='133', Title='Led Zeppelin II', ArtistId='22'), Album(AlbumId='134', Title='Led Zeppelin III', ArtistId='22'), Album(AlbumId='135', Title='Physical Graffiti [Disc 2]', ArtistId='22'), Album(AlbumId='136', Title='Presence', ArtistId='22'), Album(AlbumId='137', Title='The Song Remains The Same (Disc 1)', ArtistId='22'), Album(AlbumId='138', Title='The Song Remains The Same (Disc 2)', ArtistId='22'), Album(AlbumId='139', Title='A TempestadeTempestade Ou O Livro Dos Dias', ArtistId='99'), Album(AlbumId='140', Title='Mais Do Mesmo', ArtistId='99'), Album(AlbumId='141', Title='Greatest Hits', ArtistId='100'), Album(AlbumId='142', Title='Lulu Santos - RCA 100 Anos De Música - Álbum 01', ArtistId='101'), Album(AlbumId='143', Title='Lulu Santos - RCA 100 Anos De Música - Álbum 02', ArtistId='101'), Album(AlbumId='144', Title='Misplaced Childhood', ArtistId='102'), Album(AlbumId='145', Title='Barulhinho Bom', ArtistId='103'), Album(AlbumId='146', Title='Seek And Shall Find: More Of The Best (1963-1981)', ArtistId='104'), Album(AlbumId='147', Title='The Best Of Men At Work', ArtistId='105'), Album(AlbumId='148', Title='Black Album', ArtistId='50'), Album(AlbumId='149', Title='Garage Inc. (Disc 2)', ArtistId='50'), Album(AlbumId='150', Title='Kill 'Em All', ArtistId='50'), Album(AlbumId='151', Title='Load', ArtistId='50'), Album(AlbumId='152', Title='Master Of Puppets', ArtistId='50'), Album(AlbumId='153', Title='ReLoad', ArtistId='50'), Album(AlbumId='154', Title='Ride The Lightning', ArtistId='50'), Album(AlbumId='155', Title='St. Anger', ArtistId='50'), Album(AlbumId='156', Title='...And Justice For All', ArtistId='50'), Album(AlbumId='157', Title='Miles Ahead', ArtistId='68'), Album(AlbumId='158', Title='Milton Nascimento Ao Vivo', ArtistId='42'), Album(AlbumId='159', Title='Minas', ArtistId='42'), Album(AlbumId='160', Title='Ace Of Spades', ArtistId='106'), Album(AlbumId='161', Title='Demorou...', ArtistId='108'), Album(AlbumId='162', Title='Motley Crue Greatest Hits', ArtistId='109'), Album(AlbumId='163', Title='From The Muddy Banks Of The Wishkah [Live]', ArtistId='110'), Album(AlbumId='164', Title='Nevermind', ArtistId='110'), Album(AlbumId='165', Title='Compositores', ArtistId='111'), Album(AlbumId='166', Title='Olodum', ArtistId='112'), Album(AlbumId='167', Title='Acústico MTV', ArtistId='113'), Album(AlbumId='168', Title='Arquivo II', ArtistId='113'), Album(AlbumId='169', Title='Arquivo Os Paralamas Do Sucesso', ArtistId='113'), Album(AlbumId='170', Title='Bark at the Moon (Remastered)', ArtistId='114'), Album(AlbumId='171', Title='Blizzard of Ozz', ArtistId='114'), Album(AlbumId='172', Title='Diary of a Madman (Remastered)', ArtistId='114'), Album(AlbumId='173', Title='No More Tears (Remastered)', ArtistId='114'), Album(AlbumId='174', Title='Tribute', ArtistId='114'), Album(AlbumId='175', Title='Walking Into Clarksdale', ArtistId='115'), Album(AlbumId='176', Title='Original Soundtracks 1', ArtistId='116'), Album(AlbumId='177', Title='The Beast Live', ArtistId='117'), Album(AlbumId='178', Title='Live On Two Legs [Live]', ArtistId='118'), Album(AlbumId='179', Title='Pearl Jam', ArtistId='118'), Album(AlbumId='180', Title='Riot Act', ArtistId='118'), Album(AlbumId='181', Title='Ten', ArtistId='118'), Album(AlbumId='182', Title='Vs.', ArtistId='118'), Album(AlbumId='183', Title='Dark Side Of The Moon', ArtistId='120'), Album(AlbumId='184', Title='Os Cães Ladram Mas A Caravana Não Pára', ArtistId='121'), Album(AlbumId='185', Title='Greatest Hits I', ArtistId='51'), Album(AlbumId='186', Title='News Of The World', ArtistId='51'), Album(AlbumId='187', Title='Out Of Time', ArtistId='122'), Album(AlbumId='188', Title='Green', ArtistId='124'), Album(AlbumId='189', Title='New Adventures In Hi-Fi', ArtistId='124'), Album(AlbumId='190', Title='The Best Of R.E.M.: The IRS Years', ArtistId='124'), Album(AlbumId='191', Title='Cesta Básica', ArtistId='125'), Album(AlbumId='192', Title='Raul Seixas', ArtistId='126'), Album(AlbumId='193', Title='Blood Sugar Sex Magik', ArtistId='127'), Album(AlbumId='194', Title='By The Way', ArtistId='127'), Album(AlbumId='195', Title='Californication', ArtistId='127'), Album(AlbumId='196', Title='Retrospective I (1974-1980)', ArtistId='128'), Album(AlbumId='197', Title='Santana - As Years Go By', ArtistId='59'), Album(AlbumId='198', Title='Santana Live', ArtistId='59'), Album(AlbumId='199', Title='Maquinarama', ArtistId='130'), Album(AlbumId='200', Title='O Samba Poconé', ArtistId='130'), Album(AlbumId='201', Title='Judas 0: B-Sides and Rarities', ArtistId='131'), Album(AlbumId='202', Title='Rotten Apples: Greatest Hits', ArtistId='131'), Album(AlbumId='203', Title='A-Sides', ArtistId='132'), Album(AlbumId='204', Title='Morning Dance', ArtistId='53'), Album(AlbumId='205', Title='In Step', ArtistId='133'), Album(AlbumId='206', Title='Core', ArtistId='134'), Album(AlbumId='207', Title='Mezmerize', ArtistId='135'), Album(AlbumId='208', Title='[1997] Black Light Syndrome', ArtistId='136'), Album(AlbumId='209', Title='Live [Disc 1]', ArtistId='137'), Album(AlbumId='210', Title='Live [Disc 2]', ArtistId='137'), Album(AlbumId='211', Title='The Singles', ArtistId='138'), Album(AlbumId='212', Title='Beyond Good And Evil', ArtistId='139'), Album(AlbumId='213', Title='Pure Cult: The Best Of The Cult (For Rockers, Ravers, Lovers & Sinners) [UK]', ArtistId='139'), Album(AlbumId='214', Title='The Doors', ArtistId='140'), Album(AlbumId='215', Title='The Police Greatest Hits', ArtistId='141'), Album(AlbumId='216', Title='Hot Rocks, 1964-1971 (Disc 1)', ArtistId='142'), Album(AlbumId='217', Title='No Security', ArtistId='142'), Album(AlbumId='218', Title='Voodoo Lounge', ArtistId='142'), Album(AlbumId='219', Title='Tangents', ArtistId='143'), Album(AlbumId='220', Title='Transmission', ArtistId='143'), Album(AlbumId='221', Title='My Generation - The Very Best Of The Who', ArtistId='144'), Album(AlbumId='222', Title='Serie Sem Limite (Disc 1)', ArtistId='145'), Album(AlbumId='223', Title='Serie Sem Limite (Disc 2)', ArtistId='145'), Album(AlbumId='224', Title='Acústico', ArtistId='146'), Album(AlbumId='225', Title='Volume Dois', ArtistId='146'), Album(AlbumId='226', Title='Battlestar Galactica: The Story So Far', ArtistId='147'), Album(AlbumId='227', Title='Battlestar Galactica, Season 3', ArtistId='147'), Album(AlbumId='228', Title='Heroes, Season 1', ArtistId='148'), Album(AlbumId='229', Title='Lost, Season 3', ArtistId='149'), Album(AlbumId='230', Title='Lost, Season 1', ArtistId='149'), Album(AlbumId='231', Title='Lost, Season 2', ArtistId='149'), Album(AlbumId='232', Title='Achtung Baby', ArtistId='150'), Album(AlbumId='233', Title='All That You Can't Leave Behind', ArtistId='150'), Album(AlbumId='234', Title='B-Sides 1980-1990', ArtistId='150'), Album(AlbumId='235', Title='How To Dismantle An Atomic Bomb', ArtistId='150'), Album(AlbumId='236', Title='Pop', ArtistId='150'), Album(AlbumId='237', Title='Rattle And Hum', ArtistId='150'), Album(AlbumId='238', Title='The Best Of 1980-1990', ArtistId='150'), Album(AlbumId='239', Title='War', ArtistId='150'), Album(AlbumId='240', Title='Zooropa', ArtistId='150'), Album(AlbumId='241', Title='UB40 The Best Of - Volume Two [UK]', ArtistId='151'), Album(AlbumId='242', Title='Diver Down', ArtistId='152'), Album(AlbumId='243', Title='The Best Of Van Halen, Vol. I', ArtistId='152'), Album(AlbumId='244', Title='Van Halen', ArtistId='152'), Album(AlbumId='245', Title='Van Halen III', ArtistId='152'), Album(AlbumId='246', Title='Contraband', ArtistId='153'), Album(AlbumId='247', Title='Vinicius De Moraes', ArtistId='72'), Album(AlbumId='248', Title='Ao Vivo [IMPORT]', ArtistId='155'), Album(AlbumId='249', Title='The Office, Season 1', ArtistId='156'), Album(AlbumId='250', Title='The Office, Season 2', ArtistId='156'), Album(AlbumId='251', Title='The Office, Season 3', ArtistId='156'), Album(AlbumId='252', Title='Un-Led-Ed', ArtistId='157'), Album(AlbumId='253', Title='Battlestar Galactica (Classic), Season 1', ArtistId='158'), Album(AlbumId='254', Title='Aquaman', ArtistId='159'), Album(AlbumId='255', Title='Instant Karma: The Amnesty International Campaign to Save Darfur', ArtistId='150'), Album(AlbumId='256', Title='Speak of the Devil', ArtistId='114'), Album(AlbumId='257', Title='20th Century Masters - The Millennium Collection: The Best of Scorpions', ArtistId='179'), Album(AlbumId='258', Title='House of Pain', ArtistId='180'), Album(AlbumId='259', Title='Radio Brasil (O Som da Jovem Vanguarda) - Seleccao de Henrique Amaro', ArtistId='36'), Album(AlbumId='260', Title='Cake: B-Sides and Rarities', ArtistId='196'), Album(AlbumId='261', Title='LOST, Season 4', ArtistId='149'), Album(AlbumId='262', Title='Quiet Songs', ArtistId='197'), Album(AlbumId='263', Title='Muso Ko', ArtistId='198'), Album(AlbumId='264', Title='Realize', ArtistId='199'), Album(AlbumId='265', Title='Every Kind of Light', ArtistId='200'), Album(AlbumId='266', Title='Duos II', ArtistId='201'), Album(AlbumId='267', Title='Worlds', ArtistId='202'), Album(AlbumId='268', Title='The Best of Beethoven', ArtistId='203'), Album(AlbumId='269', Title='Temple of the Dog', ArtistId='204'), Album(AlbumId='270', Title='Carry On', ArtistId='205'), Album(AlbumId='271', Title='Revelations', ArtistId='8'), Album(AlbumId='272', Title='Adorate Deum: Gregorian Chant from the Proper of the Mass', ArtistId='206'), Album(AlbumId='273', Title='Allegri: Miserere', ArtistId='207'), Album(AlbumId='274', Title='Pachelbel: Canon & Gigue', ArtistId='208'), Album(AlbumId='275', Title='Vivaldi: The Four Seasons', ArtistId='209'), Album(AlbumId='276', Title='Bach: Violin Concertos', ArtistId='210'), Album(AlbumId='277', Title='Bach: Goldberg Variations', ArtistId='211'), Album(AlbumId='278', Title='Bach: The Cello Suites', ArtistId='212'), Album(AlbumId='279', Title='Handel: The Messiah (Highlights)', ArtistId='213'), Album(AlbumId='280', Title='The World of Classical Favourites', ArtistId='214'), Album(AlbumId='281', Title='Sir Neville Marriner: A Celebration', ArtistId='215'), Album(AlbumId='282', Title='Mozart: Wind Concertos', ArtistId='216'), Album(AlbumId='283', Title='Haydn: Symphonies 99 - 104', ArtistId='217'), Album(AlbumId='284', Title='Beethoven: Symhonies Nos. 5 & 6', ArtistId='218'), Album(AlbumId='285', Title='A Soprano Inspired', ArtistId='219'), Album(AlbumId='286', Title='Great Opera Choruses', ArtistId='220'), Album(AlbumId='287', Title='Wagner: Favourite Overtures', ArtistId='221'), Album(AlbumId='288', Title='Fauré: Requiem, Ravel: Pavane & Others', ArtistId='222'), Album(AlbumId='289', Title='Tchaikovsky: The Nutcracker', ArtistId='223'), Album(AlbumId='290', Title='The Last Night of the Proms', ArtistId='224'), Album(AlbumId='291', Title='Puccini: Madama Butterfly - Highlights', ArtistId='225'), Album(AlbumId='292', Title='Holst: The Planets, Op. 32 & Vaughan Williams: Fantasies', ArtistId='226'), Album(AlbumId='293', Title='Pavarotti's Opera Made Easy', ArtistId='227'), Album(AlbumId='294', Title='Great Performances - Barber's Adagio and Other Romantic Favorites for Strings', ArtistId='228'), Album(AlbumId='295', Title='Carmina Burana', ArtistId='229'), Album(AlbumId='296', Title='A Copland Celebration, Vol. I', ArtistId='230'), Album(AlbumId='297', Title='Bach: Toccata & Fugue in D Minor', ArtistId='231'), Album(AlbumId='298', Title='Prokofiev: Symphony No.1', ArtistId='232'), Album(AlbumId='299', Title='Scheherazade', ArtistId='233'), Album(AlbumId='300', Title='Bach: The Brandenburg Concertos', ArtistId='234'), Album(AlbumId='301', Title='Chopin: Piano Concertos Nos. 1 & 2', ArtistId='235'), Album(AlbumId='302', Title='Mascagni: Cavalleria Rusticana', ArtistId='236'), Album(AlbumId='303', Title='Sibelius: Finlandia', ArtistId='237'), Album(AlbumId='304', Title='Beethoven Piano Sonatas: Moonlight & Pastorale', ArtistId='238'), Album(AlbumId='305', Title='Great Recordings of the Century - Mahler: Das Lied von der Erde', ArtistId='240'), Album(AlbumId='306', Title='Elgar: Cello Concerto & Vaughan Williams: Fantasias', ArtistId='241'), Album(AlbumId='307', Title='Adams, John: The Chairman Dances', ArtistId='242'), Album(AlbumId='308', Title='Tchaikovsky: 1812 Festival Overture, Op.49, Capriccio Italien & Beethoven: Wellington's Victory', ArtistId='243'), Album(AlbumId='309', Title='Palestrina: Missa Papae Marcelli & Allegri: Miserere', ArtistId='244'), Album(AlbumId='310', Title='Prokofiev: Romeo & Juliet', ArtistId='245'), Album(AlbumId='311', Title='Strauss: Waltzes', ArtistId='226'), Album(AlbumId='312', Title='Berlioz: Symphonie Fantastique', ArtistId='245'), Album(AlbumId='313', Title='Bizet: Carmen Highlights', ArtistId='246'), Album(AlbumId='314', Title='English Renaissance', ArtistId='247'), Album(AlbumId='315', Title='Handel: Music for the Royal Fireworks (Original Version 1749)', ArtistId='208'), Album(AlbumId='316', Title='Grieg: Peer Gynt Suites & Sibelius: Pelléas et Mélisande', ArtistId='248'), Album(AlbumId='317', Title='Mozart Gala: Famous Arias', ArtistId='249'), Album(AlbumId='318', Title='SCRIABIN: Vers la flamme', ArtistId='250'), Album(AlbumId='319', Title='Armada: Music from the Courts of England and Spain', ArtistId='251'), Album(AlbumId='320', Title='Mozart: Symphonies Nos. 40 & 41', ArtistId='248'), Album(AlbumId='321', Title='Back to Black', ArtistId='252'), Album(AlbumId='322', Title='Frank', ArtistId='252'), Album(AlbumId='323', Title='Carried to Dust (Bonus Track Version)', ArtistId='253'), Album(AlbumId='324', Title='Beethoven: Symphony No. 6 'Pastoral' Etc.', ArtistId='254'), Album(AlbumId='325', Title='Bartok: Violin & Viola Concertos', ArtistId='255'), Album(AlbumId='326', Title='Mendelssohn: A Midsummer Night's Dream', ArtistId='256'), Album(AlbumId='327', Title='Bach: Orchestral Suites Nos. 1 - 4', ArtistId='257'), Album(AlbumId='328', Title='Charpentier: Divertissements, Airs & Concerts', ArtistId='258'), Album(AlbumId='329', Title='South American Getaway', ArtistId='259'), Album(AlbumId='330', Title='Górecki: Symphony No. 3', ArtistId='260'), Album(AlbumId='331', Title='Purcell: The Fairy Queen', ArtistId='261'), Album(AlbumId='332', Title='The Ultimate Relexation Album', ArtistId='262'), Album(AlbumId='333', Title='Purcell: Music for the Queen Mary', ArtistId='263'), Album(AlbumId='334', Title='Weill: The Seven Deadly Sins', ArtistId='264'), Album(AlbumId='335', Title='J.S. Bach: Chaconne, Suite in E Minor, Partita in E Major & Prelude, Fugue and Allegro', ArtistId='265'), Album(AlbumId='336', Title='Prokofiev: Symphony No.5 & Stravinksy: Le Sacre Du Printemps', ArtistId='248'), Album(AlbumId='337', Title='Szymanowski: Piano Works, Vol. 1', ArtistId='266'), Album(AlbumId='338', Title='Nielsen: The Six Symphonies', ArtistId='267'), Album(AlbumId='339', Title='Great Recordings of the Century: Paganini's 24 Caprices', ArtistId='268'), Album(AlbumId='340', Title='Liszt - 12 Études D'Execution Transcendante', ArtistId='269'), Album(AlbumId='341', Title='Great Recordings of the Century - Shubert: Schwanengesang, 4 Lieder', ArtistId='270'), Album(AlbumId='342', Title='Locatelli: Concertos for Violin, Strings and Continuo, Vol. 3', ArtistId='271'), Album(AlbumId='343', Title='Respighi:Pines of Rome', ArtistId='226'), Album(AlbumId='344', Title='Schubert: The Late String Quartets & String Quintet (3 CD's)', ArtistId='272'), Album(AlbumId='345', Title='Monteverdi: L'Orfeo', ArtistId='273'), Album(AlbumId='346', Title='Mozart: Chamber Music', ArtistId='274'), Album(AlbumId='347', Title='Koyaanisqatsi (Soundtrack from the Motion Picture)', ArtistId='275')]\n"
          ]
        }
      ],
      "source": [
        "with orm.Session(engine) as session:\n",
        "    a = session.query(Album).filter(Album.AlbumId == 5).one()\n",
        "    b = session.query(Album).filter().limit(None).all()\n",
        "    print(a)\n",
        "    print(b)"
      ]
    },
    {
      "cell_type": "markdown",
      "metadata": {
        "id": "ATsLK53bvsWU"
      },
      "source": [
        "### Getting many objects (list)"
      ]
    },
    {
      "cell_type": "markdown",
      "metadata": {
        "id": "9yPZBWu-v-S2"
      },
      "source": [
        "When a query may return any number of objects use the method `.all()` instead of `.one()`. The returned value will be a list with all query results. That elements of the list will be objects representing the table rows:"
      ]
    },
    {
      "cell_type": "code",
      "execution_count": null,
      "metadata": {
        "id": "7_8I60vV5_a2"
      },
      "outputs": [],
      "source": [
        "with orm.Session(engine) as session:\n",
        "    albums = session.query(Album).limit(3).all()\n",
        "    print( type( albums ) )\n",
        "    print( albums )"
      ]
    },
    {
      "cell_type": "markdown",
      "metadata": {
        "id": "99uLWjCAz4mu"
      },
      "source": [
        "Let's consider the first list element in more detail. Check its `type`, print it, and practice access to data from each table column:"
      ]
    },
    {
      "cell_type": "code",
      "execution_count": null,
      "metadata": {
        "id": "OuwEw6j_w1Y4"
      },
      "outputs": [],
      "source": [
        "with orm.Session(engine) as session:\n",
        "    albums = session.query(Album).limit(3).all()\n",
        "\n",
        "    a = albums[1]\n",
        "    print( type( a ) )\n",
        "    print( a )\n",
        "    print( a.Title )"
      ]
    },
    {
      "cell_type": "markdown",
      "metadata": {
        "id": "X5OYRmld2lvc"
      },
      "source": [
        "### Getting many objects (for loop)"
      ]
    },
    {
      "cell_type": "markdown",
      "metadata": {
        "id": "17nOOLze4uTX"
      },
      "source": [
        "The following code might be used to access resulting objects one by one:"
      ]
    },
    {
      "cell_type": "code",
      "execution_count": null,
      "metadata": {
        "id": "evj2zjUf6yRk"
      },
      "outputs": [],
      "source": [
        "with orm.Session(engine) as session:\n",
        "  for a in session.query(Album).limit(3):\n",
        "    print( a )"
      ]
    },
    {
      "cell_type": "markdown",
      "metadata": {
        "id": "zeMb9poD46Qm"
      },
      "source": [
        "Or using list comprehension:"
      ]
    },
    {
      "cell_type": "code",
      "execution_count": null,
      "metadata": {
        "id": "lhwW_rc84eZm"
      },
      "outputs": [],
      "source": [
        "with orm.Session(engine) as session:\n",
        "    titles = [a.Title for a in session.query(Album).limit(3)]\n",
        "\n",
        "print( titles ) # list of str objects, safe to use outside of the session block"
      ]
    },
    {
      "cell_type": "markdown",
      "metadata": {
        "id": "uTF2JFgldkpL"
      },
      "source": [
        "### Practice"
      ]
    },
    {
      "cell_type": "markdown",
      "metadata": {
        "id": "zLo2fc4CdtVQ"
      },
      "source": [
        "\n",
        "\n",
        "1.   Have a look into [the documentation](https://docs.sqlalchemy.org/en/14/orm/tutorial.html#returning-lists-and-scalars) and understand the functions: `one()`, `first()`, `all()`, `one_or_none()`.\n",
        "1.   Calculate the number of `Album`s in the database. Construct the query and use the [`count()`](https://docs.sqlalchemy.org/en/14/orm/tutorial.html#counting) function.\n",
        "\n"
      ]
    },
    {
      "cell_type": "code",
      "execution_count": 25,
      "metadata": {},
      "outputs": [
        {
          "name": "stdout",
          "output_type": "stream",
          "text": [
            "347\n"
          ]
        }
      ],
      "source": [
        "with orm.Session(engine) as session:\n",
        "  cou = session.query(Album).count()\n",
        "  print(cou)"
      ]
    },
    {
      "cell_type": "markdown",
      "metadata": {
        "id": "77RcJ8P2Y3BB"
      },
      "source": [
        "## Another class describing a related table"
      ]
    },
    {
      "cell_type": "markdown",
      "metadata": {
        "id": "uN_63iRze-Rn"
      },
      "source": [
        "### Class (partially) describing another table"
      ]
    },
    {
      "cell_type": "code",
      "execution_count": 11,
      "metadata": {
        "id": "ha7deS0hZBnt"
      },
      "outputs": [],
      "source": [
        "Base = orm.declarative_base() # normally present once in a script!\n",
        "\n",
        "class Album(Base):\n",
        "  __tablename__ = \"albums\"\n",
        "  \n",
        "  AlbumId = sa.Column(sa.Integer,primary_key=True)\n",
        "  Title = sa.Column(sa.String(160))\n",
        "  ArtistId = sa.Column(sa.Integer)\n",
        "\n",
        "  def __repr__(self):\n",
        "    return \"Album(AlbumId='%s', Title='%s', ArtistId='%s')\" % (self.AlbumId, self.Title, self.ArtistId)\n",
        "\n",
        "class Track(Base):\n",
        "  __tablename__ = \"tracks\"\n",
        "\n",
        "  TrackId = sa.Column(sa.Integer,primary_key=True)\n",
        "  Name = sa.Column(sa.String(200))\n",
        "  AlbumId = sa.Column(sa.Integer)\n",
        "\n",
        "  def __repr__(self):\n",
        "    return \"Track(TrackId='%s', Name='%s', AlbumId='%s')\" % (self.TrackId, self.Name, self.AlbumId)"
      ]
    },
    {
      "cell_type": "markdown",
      "metadata": {
        "id": "j93H1v9pfFUa"
      },
      "source": [
        "### Observing a relation between two tables"
      ]
    },
    {
      "attachments": {},
      "cell_type": "markdown",
      "metadata": {
        "id": "skIOnXTufVw0"
      },
      "source": [
        "Check in the database diagramm:\n",
        "- an `Album` refers to zero or more tracks\n",
        "- a `Track` refers to zero or one album (through the `AlbumId` foreign key)\n"
      ]
    },
    {
      "cell_type": "markdown",
      "metadata": {
        "id": "mWSUHyonfD60"
      },
      "source": [
        "Let's study the `Album` with `AlbumId` of 5:"
      ]
    },
    {
      "cell_type": "code",
      "execution_count": null,
      "metadata": {
        "id": "Tt_gDx4UgbUp"
      },
      "outputs": [],
      "source": [
        "with orm.Session(engine) as session:\n",
        "    a = session.query(Album).filter(Album.AlbumId == 5).one()\n",
        "    print(a)"
      ]
    },
    {
      "cell_type": "markdown",
      "metadata": {
        "id": "Ejrx42FharUE"
      },
      "source": [
        "These are the `Track`s which refer to this album:"
      ]
    },
    {
      "cell_type": "code",
      "execution_count": 14,
      "metadata": {
        "id": "9iwsJFYwfStp"
      },
      "outputs": [
        {
          "name": "stdout",
          "output_type": "stream",
          "text": [
            "Track(TrackId='24', Name='Love In An Elevator', AlbumId='5')\n"
          ]
        }
      ],
      "source": [
        "with orm.Session(engine) as session:\n",
        "  for t in session.query(Track).filter(Track.AlbumId == 5,Track.TrackId==24).all():\n",
        "    print(t)"
      ]
    },
    {
      "cell_type": "markdown",
      "metadata": {
        "id": "IOC77fGJh1Wv"
      },
      "source": [
        "### Generating methods representing relations"
      ]
    },
    {
      "attachments": {},
      "cell_type": "markdown",
      "metadata": {
        "id": "Ibt9dHW5iJr1"
      },
      "source": [
        "From the object oriented programming point of view it would be useful to:\n",
        "- Have a method `album()` in the class `Track` which returns the `Album` object corresponding to the `AlbumId` of the track.\n",
        "- Have a method `tracks()` in the class `Album` which returns the list of `Track` objects referring to this album."
      ]
    },
    {
      "cell_type": "markdown",
      "metadata": {
        "id": "mImihJy4wHsV"
      },
      "source": [
        "To define such a relation the following two changes are needed (look at the code below):\n",
        "- In the `Track` class:\n",
        "\n",
        "  the field `AlbumId` gets declared as a `ForeginKey` to `albums.AlbumId` (so a foreign key to the table `albums` where the key is in column `AlbumId`). With `nullable` you can specify whether it is allowed that a `Track` does not refer to any `Album`.\n",
        "- In the `Album` class:\n",
        "\n",
        "  the field `tracks` gets declared as a relationship to the class `Track`. In the class `Track` the reverse relationship should be called `album`.\n",
        "\n",
        "See [relationship patterns](https://docs.sqlalchemy.org/en/14/orm/basic_relationships.html#relationship-patterns) for more details."
      ]
    },
    {
      "cell_type": "code",
      "execution_count": 32,
      "metadata": {
        "id": "oBeAuUT-kB62"
      },
      "outputs": [],
      "source": [
        "Base = orm.declarative_base() # normally present once in a script!\n",
        "\n",
        "class Album(Base):\n",
        "  __tablename__ = \"albums\"\n",
        "  \n",
        "  AlbumId = sa.Column(sa.Integer,primary_key=True)\n",
        "  Title = sa.Column(sa.String(160))\n",
        "  ArtistId = sa.Column(sa.Integer)\n",
        "  tracks = orm.relationship(\"Track\", backref=\"album\")                 # <<<< HERE\n",
        "\n",
        "  def __repr__(self):\n",
        "    return \"Album(AlbumId='%s', Title='%s', ArtistId='%s')\" % (self.AlbumId, self.Title, self.ArtistId)\n",
        "\n",
        "class Track(Base):\n",
        "  __tablename__ = \"tracks\"\n",
        "\n",
        "  TrackId = sa.Column(sa.Integer,primary_key=True)\n",
        "  Name = sa.Column(sa.String(200))\n",
        "  AlbumId = sa.Column(sa.ForeignKey('albums.AlbumId'), nullable=True) # <<<< HERE\n",
        "\n",
        "  def __repr__(self):\n",
        "    return \"Track(TrackId='%s', Name='%s', AlbumId='%s')\" % (self.TrackId, self.Name, self.AlbumId)"
      ]
    },
    {
      "attachments": {},
      "cell_type": "markdown",
      "metadata": {
        "id": "h84KKIBp0UCL"
      },
      "source": [
        "Let's get an `Album` object `a` now and see the corresponding `Track` objects through the `tracks` method:"
      ]
    },
    {
      "cell_type": "code",
      "execution_count": null,
      "metadata": {
        "id": "MCkCNeTMueqp"
      },
      "outputs": [],
      "source": [
        "with orm.Session(engine) as session:\n",
        "    a = session.query(Album).filter(Album.AlbumId == 5).one()\n",
        "    print(a)\n",
        "    print(a.tracks)"
      ]
    },
    {
      "cell_type": "markdown",
      "metadata": {
        "id": "JLgyv3mLG2iD"
      },
      "source": [
        "## Adding objects with new data to database"
      ]
    },
    {
      "attachments": {},
      "cell_type": "markdown",
      "metadata": {
        "id": "DfF1qON3pun-"
      },
      "source": [
        "Let's consider the goal of adding a new `Album` to the database.  \n",
        "*Note:* (check on the database diagramm) that each album must refer to exactly one artist. So it is impossible to add an album without a proper reference to an artist.  \n",
        "Consequently, we first need to properly describe the relationship between `albums` and `artists` tables.  \n",
        "Then, we will choose a random artist and add a new fictional album of that artist."
      ]
    },
    {
      "cell_type": "code",
      "execution_count": null,
      "metadata": {},
      "outputs": [],
      "source": []
    },
    {
      "cell_type": "markdown",
      "metadata": {
        "id": "ZQq8g9Rhqt8E"
      },
      "source": [
        "### Another table, another relationship"
      ]
    },
    {
      "attachments": {},
      "cell_type": "markdown",
      "metadata": {
        "id": "2spWhysGsKQf"
      },
      "source": [
        "The following modifications are made here (try yourself to introduce these modifications without looking into the code below):\n",
        "- New class `Artist` describing the `artists` table\n",
        "- The `Album` gets updated to have a proper foreign key to `Artist`\n",
        "- The `Artist` gets a relationship to `Album` through fields: `Artist.albums` and `Album.artist`."
      ]
    },
    {
      "cell_type": "code",
      "execution_count": 22,
      "metadata": {
        "id": "fR2j0AS2q1i-"
      },
      "outputs": [],
      "source": [
        "Base = orm.declarative_base() # normally present once in a script!\n",
        "\n",
        "class Album(Base):\n",
        "  __tablename__ = \"albums\"\n",
        "  \n",
        "  AlbumId = sa.Column(sa.Integer,primary_key=True)\n",
        "  Title = sa.Column(sa.String(160))\n",
        "  ArtistId = sa.Column(sa.ForeignKey('artists.ArtistId'), nullable=False) # <<<< HERE\n",
        "  tracks = orm.relationship(\"Track\", backref=\"album\")\n",
        "\n",
        "  def __repr__(self):\n",
        "    return \"Album(AlbumId='%s', Title='%s', ArtistId='%s')\" % (self.AlbumId, self.Title, self.ArtistId)\n",
        "\n",
        "class Track(Base):\n",
        "  __tablename__ = \"tracks\"\n",
        "\n",
        "  TrackId = sa.Column(sa.Integer,primary_key=True)\n",
        "  Name = sa.Column(sa.String(200))\n",
        "  AlbumId = sa.Column(sa.ForeignKey('albums.AlbumId'), nullable=True)\n",
        "\n",
        "  def __repr__(self):\n",
        "    return \"Track(TrackId='%s', Name='%s', AlbumId='%s')\" % (self.TrackId, self.Name, self.AlbumId)\n",
        "\n",
        "class Artist(Base):\n",
        "  __tablename__ = \"artists\"\n",
        "\n",
        "  ArtistId = sa.Column(sa.Integer,primary_key=True)\n",
        "  Name = sa.Column(sa.String(120))\n",
        "  albums = orm.relationship(\"Album\", backref=\"artist\")                  # <<<< HERE\n",
        "\n",
        "  def __repr__(self):\n",
        "    return \"Artist(ArtistId='%s', Name='%s')\" % (self.ArtistId, self.Name)\n"
      ]
    },
    {
      "cell_type": "markdown",
      "metadata": {
        "id": "8GjGRCd8szuk"
      },
      "source": [
        "Let's check the new Artist-Album relationship:"
      ]
    },
    {
      "cell_type": "code",
      "execution_count": null,
      "metadata": {
        "id": "p4G6x4hGs4Kt"
      },
      "outputs": [],
      "source": [
        "with orm.Session(engine) as session:\n",
        "    print( session.query(Artist).count() )        # total number of artists in the database\n",
        "    print( session.query(Artist).first() )        # first artist\n",
        "    print( session.query(Artist).first().albums ) # albums of the first artist"
      ]
    },
    {
      "cell_type": "markdown",
      "metadata": {
        "id": "rB9VmnrA4VGn"
      },
      "source": [
        "### Adding a new object (related to existing data/objects)"
      ]
    },
    {
      "attachments": {},
      "cell_type": "markdown",
      "metadata": {
        "id": "9LcydMUd4jZc"
      },
      "source": [
        "The lifetime of the `Session` object defines a transaction.  \n",
        "When changes to table/row objects are made they are not written immediately.  \n",
        "They get written when `commit()` method of the `Session` object is called.  \n",
        "Note, that if multiple session objects exist simultaneously, the data between them are not synchronized.  \n",
        "Consequently, checking newly added (modified) content after `commit()` cannot be done through another session object which was created before `commit()` was called."
      ]
    },
    {
      "attachments": {},
      "cell_type": "markdown",
      "metadata": {
        "id": "qPl51kY9-6p4"
      },
      "source": [
        "Let's list the `Album`s of Metallica existing in the database:"
      ]
    },
    {
      "cell_type": "code",
      "execution_count": null,
      "metadata": {
        "id": "HMYOAGKItNie"
      },
      "outputs": [],
      "source": [
        "with orm.Session(engine) as session:\n",
        "  artist = session.query(Artist).filter(Artist.Name==\"Metallica\").one()\n",
        "  print(artist, \"\\n\") \n",
        "  for album in artist.albums: \n",
        "    print( album )"
      ]
    },
    {
      "attachments": {},
      "cell_type": "markdown",
      "metadata": {
        "id": "Z7GW5nbA_HnF"
      },
      "source": [
        "Here is an example of adding a new `Album`.  \n",
        "Note, that the `AlbumId` will get automatically generated and that the `ArtistId` will be automatically collected when `theArtist` is assigned to the `artist` relationship field.  \n",
        "The changes will get written to the database the moment of `commit()`."
      ]
    },
    {
      "cell_type": "code",
      "execution_count": null,
      "metadata": {
        "id": "vL07b1K6zQ8Q"
      },
      "outputs": [],
      "source": [
        "with orm.Session(engine) as session:\n",
        "  artist = session.query(Artist).filter(Artist.Name==\"Metallica\").one()\n",
        "\n",
        "  newAlbum = Album(Title='Hardwired... to Self-Destruct') # new Album object, only in memory\n",
        "  newAlbum.artist = artist                                # building relation to theArtist\n",
        "  print(newAlbum)\n",
        "\n",
        "  session.add(newAlbum)                                   # staging Album to become written to the database\n",
        "  session.commit()                                        # writing to the database\n",
        "  \n",
        "  print(newAlbum)"
      ]
    },
    {
      "attachments": {},
      "cell_type": "markdown",
      "metadata": {},
      "source": [
        "Let's check whether the new album has been added:"
      ]
    },
    {
      "cell_type": "code",
      "execution_count": null,
      "metadata": {
        "id": "V4H7nBhR2mA1"
      },
      "outputs": [],
      "source": [
        "with orm.Session(engine) as session:\n",
        "  artist = session.query(Artist).filter(Artist.Name==\"Metallica\").one()\n",
        "  print(artist, \"\\n\") \n",
        "  for album in artist.albums: \n",
        "    print( album )"
      ]
    },
    {
      "cell_type": "markdown",
      "metadata": {
        "id": "Qw2PjfliXr2c"
      },
      "source": [
        "## Multistep exercise"
      ]
    },
    {
      "attachments": {},
      "cell_type": "markdown",
      "metadata": {
        "id": "-H5XxgZ_4k4w"
      },
      "source": [
        "The final goal of this session is to build a class providing access to a database.  \n",
        "This class should provide all needed database content through a well defined interface.  \n",
        "\n",
        "Follow the points below in the provided order (later points depend on the earlier ones).  \n",
        "Try to implement each step without checking the solution provided below.  \n",
        "Try to type. Do not copy-paste.\n",
        "\n",
        "The solution is suboptimal - the returned objects are not fully independent of the current session and they may provide inconsistent data."
      ]
    },
    {
      "attachments": {},
      "cell_type": "markdown",
      "metadata": {
        "id": "0CusUEgnyQRo"
      },
      "source": [
        "1. Define a new class `Chinook`. This class will contain all methods to access the database. The methods will be added gradually.\n",
        "1. In the class `Chinook`: \n",
        "    - Define the class constructor `__init__(self, url)`.\n",
        "    - The `url` argument will provide the location of the database as needed by the `create_engine` function.\n",
        "1. In the class `Chinook`:\n",
        "    - In the constructor create the engine and store it in the attribute `self._engine`. \n",
        "1. Outside the class:\n",
        "    - Create an object instance of the class `Chinook`. \n",
        "    - Use the proper `url` argument (so it uses the `chinook.db` file).\n",
        "    - Store the new object in the variable `db`.\n",
        "1. In the class `Chinook`:\n",
        "    - Define a new method `addArtist(self, name)`. \n",
        "    - The method should add a new artist of `name` to the database. \n",
        "    - Perform adding within a new local session. \n",
        "    - Remember to call `commit` in the session. \n",
        "    - The function should return the value of `ArtistId` of the newly added artist.\n",
        "1. In the class `Chinook`:\n",
        "    - Define a new method `getArtist(self, artistId)`. \n",
        "    - The method should return an `Artist` object for the provided `artistId`.\n",
        "    - (Returning the `Artist` object is not the best solution because it would exist outside the session; but it is good enough for now.)\n",
        "1. Outside the class:\n",
        "    - Recreate the object in `db` with the updated class. \n",
        "    - Write the code to `addArtist` with a randomly chosen name.\n",
        "    - Store the returned `artistId` value in a variable.\n",
        "    - Check whether you can get the artist back with `getArtist`.\n",
        "1. In the class `Chinook`:\n",
        "    - Define a new method `allArtists(self)`.\n",
        "    - The method should return a list of all `Artist` objects present in the database.\n",
        "    - (Returning the list of `Artist` objects is not the best solution because it would exist outside the session; but it is good enough for now.)\n",
        "1. Outside the class:\n",
        "    - Recreate the object in `db` with the updated class. \n",
        "    - Use the result of `db.allArtists()` in a `for` loop to print all artists from the database.\n",
        "    - Find how to print only the last 10 of the returned objects.\n",
        "1. Outside the class:\n",
        "    - In `firstNames` create a vector with several random popular first names.\n",
        "    - Similar for `surNames`.\n",
        "    - From package `random` use `choice` method. It randomly selects an element from a list.\n",
        "    - Create a random name by concatenating a random first name and a random surname from your lists.\n",
        "    - Insert above into a loop which adds to the database 10 artists with randomly generated names.\n",
        "    - Print last 10 artists to check whether they were indeed added.\n"
      ]
    },
    {
      "cell_type": "code",
      "execution_count": 23,
      "metadata": {
        "id": "uzmrcpDQYNNe"
      },
      "outputs": [
        {
          "name": "stdout",
          "output_type": "stream",
          "text": [
            "The ArtistId of the new artist is:  276\n",
            "Artist(ArtistId='276', Name='The Singer')\n",
            "Artist(ArtistId='274', Name='Nash Ensemble')\n",
            "Artist(ArtistId='275', Name='Philip Glass Ensemble')\n",
            "Artist(ArtistId='276', Name='The Singer')\n",
            "Artist(ArtistId='277', Name='Ivan Kowalski')\n",
            "Artist(ArtistId='278', Name='Ivan Kowalski')\n",
            "Artist(ArtistId='279', Name='John Kovalsky')\n",
            "Artist(ArtistId='280', Name='John Kowalski')\n"
          ]
        }
      ],
      "source": [
        "class Chinook:\n",
        "  def __init__(self, url):\n",
        "    self._engine = sa.create_engine(url=url,echo=False)\n",
        "\n",
        "  def addArtist(self, name):\n",
        "    with orm.Session(self._engine) as session:\n",
        "      a = Artist(Name=name)\n",
        "      session.add(a)\n",
        "      session.commit()\n",
        "      return a.ArtistId # here a number is returned, no Session object needed\n",
        "\n",
        "  def getArtist(self, artistId):\n",
        "    with orm.Session(self._engine) as session:\n",
        "      a = session.query(Artist).where(Artist.ArtistId == artistId).one()\n",
        "    return a # this is not safe; the object exists outside the session object; relations will fail\n",
        "\n",
        "  def allArtists(self):\n",
        "    with orm.Session(self._engine) as session:\n",
        "      artists = session.query(Artist).all()\n",
        "    return artists # this is not safe; the object exists outside the session object; relations will fail\n",
        "\n",
        "db = Chinook(\"sqlite:///chinook.db\") # this should be used inside \"with\" context manager\n",
        "aId = db.addArtist(name=\"The Singer\")\n",
        "print( \"The ArtistId of the new artist is: \", aId)\n",
        "print( db.getArtist(artistId=aId))\n",
        "\n",
        "from random import choice\n",
        "\n",
        "firstNames = [ \"John\", \"Johan\", \"Jan\", \"Ivan\" ]\n",
        "lastNames = [ \"Smith\", \"Kowalski\", \"Kovalsky\" ]\n",
        "\n",
        "for i in range(5):\n",
        "  n = choice(firstNames) + \" \" + choice(lastNames)\n",
        "  db.addArtist(name=n)\n",
        "\n",
        "for a in db.allArtists()[-8:-1]:\n",
        "  print(a)"
      ]
    }
  ],
  "metadata": {
    "colab": {
      "authorship_tag": "ABX9TyM+fdQExjqO5Tp7uhYj8eK7",
      "collapsed_sections": [
        "cB1iky0ekfcZ",
        "xwjOj9CrHBn5",
        "DPWm9WYRQ8ek",
        "ko-hTfHq1VSZ",
        "ATsLK53bvsWU",
        "X5OYRmld2lvc",
        "uN_63iRze-Rn",
        "j93H1v9pfFUa",
        "IOC77fGJh1Wv"
      ],
      "include_colab_link": true,
      "name": "orm_practice.ipynb",
      "private_outputs": true,
      "provenance": [],
      "toc_visible": true
    },
    "kernelspec": {
      "display_name": "Python 3",
      "name": "python3"
    },
    "language_info": {
      "codemirror_mode": {
        "name": "ipython",
        "version": 3
      },
      "file_extension": ".py",
      "mimetype": "text/x-python",
      "name": "python",
      "nbconvert_exporter": "python",
      "pygments_lexer": "ipython3",
      "version": "3.11.4"
    }
  },
  "nbformat": 4,
  "nbformat_minor": 0
}
