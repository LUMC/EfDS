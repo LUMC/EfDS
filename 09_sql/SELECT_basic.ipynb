{
 "cells": [
  {
   "cell_type": "markdown",
   "id": "a79a05df",
   "metadata": {},
   "source": [
    "# SQL querying and selecting data"
   ]
  },
  {
   "attachments": {},
   "cell_type": "markdown",
   "id": "db2128e6",
   "metadata": {},
   "source": [
    "## Preparation"
   ]
  },
  {
   "attachments": {},
   "cell_type": "markdown",
   "id": "0e07a946",
   "metadata": {},
   "source": [
    "For this section you need `chinook.db` database file and working `%sql` magic.  \n",
    "If you don't have it, please go back to the [previous section](connect_to_database.ipynb) and follow the instructions.  \n",
    "The following code should not produce any errors:"
   ]
  },
  {
   "cell_type": "code",
   "execution_count": null,
   "id": "521a990f",
   "metadata": {},
   "outputs": [],
   "source": [
    "%load_ext sql\n",
    "%sql sqlite:///chinook.db"
   ]
  },
  {
   "cell_type": "markdown",
   "id": "f099e9fa",
   "metadata": {},
   "source": [
    "## `SELECT` - querying the database"
   ]
  },
  {
   "cell_type": "markdown",
   "id": "a3ff5cb4",
   "metadata": {},
   "source": [
    "### Selecting some/all columns and their order"
   ]
  },
  {
   "cell_type": "markdown",
   "id": "32a95c13",
   "metadata": {},
   "source": [
    "Write the 1st query to retrieve some data of several (first five) customers from this database:\n",
    "- after `SELECT` you write the name(s) of the column(s) that we want to retireve\n",
    "- after `FROM` you write the name of the table\n",
    "- the optional part `LIMIT` allows to specify how many rows to show"
   ]
  },
  {
   "cell_type": "code",
   "execution_count": null,
   "id": "ebd27184",
   "metadata": {},
   "outputs": [],
   "source": [
    "%%sql\n",
    "SELECT FirstName, LastName\n",
    "  FROM customers \n",
    "  LIMIT 5"
   ]
  },
  {
   "cell_type": "markdown",
   "id": "aa3c2cd8",
   "metadata": {},
   "source": [
    "We can retrieve all columns from the table using `*` instead of the column names:"
   ]
  },
  {
   "cell_type": "code",
   "execution_count": null,
   "id": "c4724287",
   "metadata": {},
   "outputs": [],
   "source": [
    "%%sql\n",
    "SELECT * \n",
    "  FROM customers \n",
    "  LIMIT 5"
   ]
  },
  {
   "cell_type": "markdown",
   "id": "0a4e84db",
   "metadata": {},
   "source": [
    "The order of the names of the column define the order of columns in the table. It is also possible to directly perform arithmetic operations:"
   ]
  },
  {
   "cell_type": "code",
   "execution_count": null,
   "id": "740e6f56",
   "metadata": {},
   "outputs": [],
   "source": [
    "%%sql\n",
    "SELECT TrackId, Name, UnitPrice + 10\n",
    "  FROM tracks\n",
    "  LIMIT 5"
   ]
  },
  {
   "cell_type": "markdown",
   "id": "5dd1fa6e",
   "metadata": {},
   "source": [
    "### `LIMIT`- limiting the number of returned rows"
   ]
  },
  {
   "cell_type": "markdown",
   "id": "a23ae2a4",
   "metadata": {},
   "source": [
    "Simple limit of the records returned from the query:"
   ]
  },
  {
   "cell_type": "code",
   "execution_count": null,
   "id": "6a6e513d",
   "metadata": {},
   "outputs": [],
   "source": [
    "%%sql\n",
    "SELECT TrackId, Name\n",
    "  FROM tracks\n",
    "  LIMIT 3"
   ]
  },
  {
   "cell_type": "markdown",
   "id": "fc993a0a",
   "metadata": {},
   "source": [
    "*Note:* if you want to get the first 10 rows starting from the 10th row of the result set, you use `OFFSET` keyword:"
   ]
  },
  {
   "cell_type": "code",
   "execution_count": null,
   "id": "739e8886",
   "metadata": {},
   "outputs": [],
   "source": [
    "%%sql\n",
    "SELECT TrackId, Name\n",
    "  FROM tracks\n",
    "  LIMIT 3 OFFSET 10"
   ]
  },
  {
   "cell_type": "markdown",
   "id": "caf6b31d",
   "metadata": {},
   "source": [
    "### `AS` - renaming columns"
   ]
  },
  {
   "cell_type": "markdown",
   "id": "8808d597",
   "metadata": {},
   "source": [
    "To provide an own name to a column use the `AS` keyword. Put the new name in quotes:"
   ]
  },
  {
   "cell_type": "code",
   "execution_count": null,
   "id": "32907487",
   "metadata": {},
   "outputs": [],
   "source": [
    "%%sql\n",
    "SELECT TrackId, Name, UnitPrice, UnitPrice + 10 AS 'NewUnitPrice'\n",
    "  FROM tracks\n",
    "  LIMIT 5"
   ]
  },
  {
   "cell_type": "markdown",
   "id": "b05cb147",
   "metadata": {},
   "source": [
    "### `ORDER` - sorting rows"
   ]
  },
  {
   "cell_type": "markdown",
   "id": "d5d85b6b",
   "metadata": {},
   "source": [
    "With `ORDER BY` you define the sorting order. Additional keywords:\n",
    "- The `ASC` keyword means ascending (default, when you don't specify).\n",
    "- The `DESC` keyword means descending."
   ]
  },
  {
   "cell_type": "code",
   "execution_count": null,
   "id": "db0aead7",
   "metadata": {},
   "outputs": [],
   "source": [
    "%%sql\n",
    "SELECT Name, Milliseconds, AlbumId\n",
    "  FROM tracks\n",
    "  ORDER BY AlbumId DESC\n",
    "  LIMIT 10"
   ]
  },
  {
   "cell_type": "markdown",
   "id": "674d77f4",
   "metadata": {},
   "source": [
    "### `DISTINCT` - select unique rows (remove duplicated rows)"
   ]
  },
  {
   "cell_type": "markdown",
   "id": "4e7dd2fb",
   "metadata": {},
   "source": [
    "With `DISTINCT` you force duplicate rows to be removed from the query result. Compare the following two queries:"
   ]
  },
  {
   "cell_type": "code",
   "execution_count": null,
   "id": "5e548456",
   "metadata": {},
   "outputs": [],
   "source": [
    "%%sql \n",
    "SELECT City\n",
    "  FROM customers\n",
    "  LIMIT 10"
   ]
  },
  {
   "cell_type": "code",
   "execution_count": null,
   "id": "95c1d6fd",
   "metadata": {},
   "outputs": [],
   "source": [
    "%%sql \n",
    "SELECT DISTINCT City\n",
    "  FROM customers\n",
    "  LIMIT 10"
   ]
  },
  {
   "cell_type": "markdown",
   "id": "b77c1e01",
   "metadata": {},
   "source": [
    "### `WHERE` - selecting rows by a condition"
   ]
  },
  {
   "cell_type": "markdown",
   "id": "d9d6ba05",
   "metadata": {},
   "source": [
    "#### Relational operators"
   ]
  },
  {
   "cell_type": "markdown",
   "id": "bef9583c",
   "metadata": {},
   "source": [
    "Let's filter all tracks for which: `millisconds > 300000`:"
   ]
  },
  {
   "cell_type": "code",
   "execution_count": null,
   "id": "fbff785b",
   "metadata": {},
   "outputs": [],
   "source": [
    "%%sql\n",
    "SELECT TrackId, Milliseconds\n",
    "  FROM tracks\n",
    "  WHERE Milliseconds > 300000\n",
    "  LIMIT 5"
   ]
  },
  {
   "cell_type": "markdown",
   "id": "1b85f2fe",
   "metadata": {},
   "source": [
    "SQL uses the following relational operators: `>`, `>=`, `<`, `<=`, `=` (equality), `!=` or `<>` (both inequality).  \n",
    "Let's find customers from Prague:"
   ]
  },
  {
   "cell_type": "code",
   "execution_count": null,
   "id": "efc75118",
   "metadata": {},
   "outputs": [],
   "source": [
    "%%sql\n",
    "SELECT FirstName, LastName, City \n",
    "  FROM customers\n",
    "  WHERE City = 'Prague'"
   ]
  },
  {
   "cell_type": "markdown",
   "id": "1d1f2ec0",
   "metadata": {},
   "source": [
    "#### `OR`, `AND`, `NOT` - Logical operators"
   ]
  },
  {
   "cell_type": "markdown",
   "id": "7fa6a6db",
   "metadata": {},
   "source": [
    "Understand the following examples of `OR`, `AND`, `NOT`:"
   ]
  },
  {
   "cell_type": "code",
   "execution_count": null,
   "id": "a5fa2622",
   "metadata": {},
   "outputs": [],
   "source": [
    "%%sql\n",
    "SELECT FirstName, Country\n",
    "  FROM customers \n",
    "  WHERE Country = \"Netherlands\" OR Country = \"Germany\"\n",
    "  LIMIT 5"
   ]
  },
  {
   "cell_type": "code",
   "execution_count": null,
   "id": "5264a3b8",
   "metadata": {},
   "outputs": [],
   "source": [
    "%%sql\n",
    "SELECT FirstName, Country\n",
    "  FROM customers \n",
    "  WHERE NOT( Country = \"Netherlands\" OR Country = \"Germany\" )\n",
    "  LIMIT 5"
   ]
  },
  {
   "cell_type": "code",
   "execution_count": null,
   "id": "f120c9a7",
   "metadata": {},
   "outputs": [],
   "source": [
    "%%sql\n",
    "SELECT *\n",
    "  FROM invoice_items\n",
    "  WHERE InvoiceId = 26 AND TrackId > 850"
   ]
  },
  {
   "cell_type": "markdown",
   "id": "a9986e0d",
   "metadata": {},
   "source": [
    "#### `IS NULL` - Value is missing"
   ]
  },
  {
   "cell_type": "markdown",
   "id": "617f66cd",
   "metadata": {},
   "source": [
    "The following statement attempts to find tracks whose composers are NULL: `IS NULL`.  \n",
    "\n",
    "To find the tracks whose composers are not `NULL`, use: `IS NOT NULL`."
   ]
  },
  {
   "cell_type": "code",
   "execution_count": null,
   "id": "6fab4a44",
   "metadata": {},
   "outputs": [],
   "source": [
    "%%sql\n",
    "SELECT Name, Composer\n",
    "  FROM tracks\n",
    "  WHERE Composer IS NULL\n",
    "  LIMIT 5"
   ]
  },
  {
   "cell_type": "markdown",
   "id": "567c2389",
   "metadata": {},
   "source": [
    "#### `IN` - Set membership (for categorical variables)"
   ]
  },
  {
   "cell_type": "markdown",
   "id": "da6ebf96",
   "metadata": {},
   "source": [
    "Compare the following two notations to test whether a value belongs to a set.  \n",
    "The `OR` notation works only with a fixed set of values and does not scale well:"
   ]
  },
  {
   "cell_type": "code",
   "execution_count": null,
   "id": "ab1fa988",
   "metadata": {},
   "outputs": [],
   "source": [
    "%%sql\n",
    "SELECT *\n",
    "  FROM customers\n",
    "  WHERE country = \"Brazil\" OR country = \"Finland\" OR country = \"Poland\" OR country = \"Spain\""
   ]
  },
  {
   "cell_type": "markdown",
   "id": "8e5ad168",
   "metadata": {},
   "source": [
    "The `IN` notation might use a directly written list but also a result of a subquery (not shown here)."
   ]
  },
  {
   "cell_type": "code",
   "execution_count": null,
   "id": "73dc656e",
   "metadata": {},
   "outputs": [],
   "source": [
    "%%sql\n",
    "SELECT *\n",
    "  FROM customers\n",
    "  WHERE country IN (\"Brazil\", \"Finland\", \"Poland\", \"Spain\")"
   ]
  },
  {
   "cell_type": "markdown",
   "id": "e7c9ec13",
   "metadata": {},
   "source": [
    "#### `BETWEEN` - Value in range (for numerical variables)"
   ]
  },
  {
   "cell_type": "markdown",
   "id": "f3acff50",
   "metadata": {},
   "source": [
    "Use `BETWEEN` (and `NOT BETWEEN`) to find whether a value is in (or out) a certain range.\n",
    "\n",
    "How to find invoices whose invoice dates are from January 1 2010 and January 31 2010?"
   ]
  },
  {
   "cell_type": "code",
   "execution_count": null,
   "id": "9bcf1665",
   "metadata": {},
   "outputs": [],
   "source": [
    "%%sql\n",
    "SELECT InvoiceId, BillingAddress, InvoiceDate, Total\n",
    "  FROM invoices\n",
    "  WHERE InvoiceDate BETWEEN '2010-01-01' AND '2010-01-31'\n",
    "  ORDER BY InvoiceDate"
   ]
  },
  {
   "cell_type": "markdown",
   "id": "e3470003",
   "metadata": {},
   "source": [
    "#### `LIKE` - Value matches a pattern (for text variables)"
   ]
  },
  {
   "cell_type": "markdown",
   "id": "27b9baeb",
   "metadata": {},
   "source": [
    "Sometimes, you don’t know exactly the complete keyword that you want to query. For example, you may know that your most favorite song contains the word `elevator` but you don’t know exactly the name."
   ]
  },
  {
   "cell_type": "markdown",
   "id": "3b34e490",
   "metadata": {},
   "source": [
    "1) To find the tracks whose names start with the `Wild` string, you use the percent sign `%` wildcard at the end of the pattern.\n",
    "\n",
    "2) To find the tracks whose names end with `Wild` word, you use `%` wildcard at the beginning of the pattern.\n",
    "\n",
    "3) To find the tracks whose names contain the `Wild` literal string, you use `%` wildcard at the beginning and end of the pattern:"
   ]
  },
  {
   "cell_type": "code",
   "execution_count": null,
   "id": "43cc632b",
   "metadata": {},
   "outputs": [],
   "source": [
    "%%sql\n",
    "SELECT TrackId, Name\n",
    "  FROM tracks\n",
    "  WHERE Name LIKE 'Wild%'"
   ]
  },
  {
   "cell_type": "markdown",
   "id": "f212e5e5",
   "metadata": {},
   "source": [
    "Get track name by exact number of charchters and finish by `y`:"
   ]
  },
  {
   "cell_type": "code",
   "execution_count": null,
   "id": "1ea8c8cd",
   "metadata": {},
   "outputs": [],
   "source": [
    "%%sql\n",
    "SELECT Trackid, Name\n",
    "  FROM tracks\n",
    "  WHERE Name LIKE '___y'"
   ]
  }
 ],
 "metadata": {
  "kernelspec": {
   "display_name": "EfDS",
   "language": "python",
   "name": "python3"
  },
  "language_info": {
   "codemirror_mode": {
    "name": "ipython",
    "version": 3
   },
   "file_extension": ".py",
   "mimetype": "text/x-python",
   "name": "python",
   "nbconvert_exporter": "python",
   "pygments_lexer": "ipython3",
   "version": "3.12.1"
  }
 },
 "nbformat": 4,
 "nbformat_minor": 5
}
