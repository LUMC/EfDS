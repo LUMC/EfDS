{
 "cells": [
  {
   "cell_type": "markdown",
   "id": "fbe6f526",
   "metadata": {},
   "source": [
    "# SQL grouping and summarizing data (exercises)"
   ]
  },
  {
   "cell_type": "markdown",
   "id": "cefaaedd",
   "metadata": {},
   "source": [
    "## Preparation"
   ]
  },
  {
   "cell_type": "markdown",
   "id": "abfaf104",
   "metadata": {},
   "source": [
    "For this section you need `chinook.db` database file and working `%sql` magic.  \n",
    "If you don't have it, please go back to the [previous section](connect_to_database.ipynb) and follow the instructions.  \n",
    "The following code should not produce any errors:"
   ]
  },
  {
   "cell_type": "code",
   "execution_count": 1,
   "id": "428da208",
   "metadata": {},
   "outputs": [
    {
     "data": {
      "text/html": [
       "<span style=\"None\">Connecting to &#x27;sqlite:///chinook.db&#x27;</span>"
      ],
      "text/plain": [
       "Connecting to 'sqlite:///chinook.db'"
      ]
     },
     "metadata": {},
     "output_type": "display_data"
    }
   ],
   "source": [
    "%load_ext sql\n",
    "%sql sqlite:///chinook.db"
   ]
  },
  {
   "cell_type": "markdown",
   "id": "03a97867",
   "metadata": {},
   "source": [
    "## Exercise: summaries per group"
   ]
  },
  {
   "cell_type": "markdown",
   "id": "8e25011d",
   "metadata": {},
   "source": [
    "Using SQL only create a table containing summary info of the `tracks` table grouped by albums (so, by the `AlbumId` column).  \n",
    "In the result table report columns:\n",
    "- `AlbumId`\n",
    "- `TracksNum`: the total count of tracks in the album\n",
    "- `TotalPrice`: sum of all track `UnitPrice`s\n",
    "- `MeanTrackSec`: based on `Milliseconds`, the average time duration of tracks expressed in seconds\n",
    "\n",
    "Order the final table with decreasing `TotalPrice`. Show first 10 rows.    \n",
    "Additionally, you may `ROUND` the prices to two positions and times to full seconds."
   ]
  },
  {
   "cell_type": "code",
   "execution_count": 3,
   "id": "4d549b06",
   "metadata": {},
   "outputs": [
    {
     "data": {
      "text/html": [
       "<span style=\"None\">Running query in &#x27;sqlite:///chinook.db&#x27;</span>"
      ],
      "text/plain": [
       "Running query in 'sqlite:///chinook.db'"
      ]
     },
     "metadata": {},
     "output_type": "display_data"
    },
    {
     "data": {
      "text/html": [
       "<table>\n",
       "    <thead>\n",
       "        <tr>\n",
       "            <th>TrackId</th>\n",
       "            <th>Name</th>\n",
       "            <th>AlbumId</th>\n",
       "            <th>MediaTypeId</th>\n",
       "            <th>GenreId</th>\n",
       "            <th>Composer</th>\n",
       "            <th>Milliseconds</th>\n",
       "            <th>Bytes</th>\n",
       "            <th>UnitPrice</th>\n",
       "        </tr>\n",
       "    </thead>\n",
       "    <tbody>\n",
       "        <tr>\n",
       "            <td>1</td>\n",
       "            <td>For Those About To Rock (We Salute You)</td>\n",
       "            <td>1</td>\n",
       "            <td>1</td>\n",
       "            <td>1</td>\n",
       "            <td>Angus Young, Malcolm Young, Brian Johnson</td>\n",
       "            <td>343719</td>\n",
       "            <td>11170334</td>\n",
       "            <td>0.99</td>\n",
       "        </tr>\n",
       "        <tr>\n",
       "            <td>2</td>\n",
       "            <td>Balls to the Wall</td>\n",
       "            <td>2</td>\n",
       "            <td>2</td>\n",
       "            <td>1</td>\n",
       "            <td>None</td>\n",
       "            <td>342562</td>\n",
       "            <td>5510424</td>\n",
       "            <td>0.99</td>\n",
       "        </tr>\n",
       "        <tr>\n",
       "            <td>3</td>\n",
       "            <td>Fast As a Shark</td>\n",
       "            <td>3</td>\n",
       "            <td>2</td>\n",
       "            <td>1</td>\n",
       "            <td>F. Baltes, S. Kaufman, U. Dirkscneider & W. Hoffman</td>\n",
       "            <td>230619</td>\n",
       "            <td>3990994</td>\n",
       "            <td>0.99</td>\n",
       "        </tr>\n",
       "        <tr>\n",
       "            <td>4</td>\n",
       "            <td>Restless and Wild</td>\n",
       "            <td>3</td>\n",
       "            <td>2</td>\n",
       "            <td>1</td>\n",
       "            <td>F. Baltes, R.A. Smith-Diesel, S. Kaufman, U. Dirkscneider & W. Hoffman</td>\n",
       "            <td>252051</td>\n",
       "            <td>4331779</td>\n",
       "            <td>0.99</td>\n",
       "        </tr>\n",
       "        <tr>\n",
       "            <td>5</td>\n",
       "            <td>Princess of the Dawn</td>\n",
       "            <td>3</td>\n",
       "            <td>2</td>\n",
       "            <td>1</td>\n",
       "            <td>Deaffy & R.A. Smith-Diesel</td>\n",
       "            <td>375418</td>\n",
       "            <td>6290521</td>\n",
       "            <td>0.99</td>\n",
       "        </tr>\n",
       "        <tr>\n",
       "            <td>6</td>\n",
       "            <td>Put The Finger On You</td>\n",
       "            <td>1</td>\n",
       "            <td>1</td>\n",
       "            <td>1</td>\n",
       "            <td>Angus Young, Malcolm Young, Brian Johnson</td>\n",
       "            <td>205662</td>\n",
       "            <td>6713451</td>\n",
       "            <td>0.99</td>\n",
       "        </tr>\n",
       "        <tr>\n",
       "            <td>7</td>\n",
       "            <td>Let's Get It Up</td>\n",
       "            <td>1</td>\n",
       "            <td>1</td>\n",
       "            <td>1</td>\n",
       "            <td>Angus Young, Malcolm Young, Brian Johnson</td>\n",
       "            <td>233926</td>\n",
       "            <td>7636561</td>\n",
       "            <td>0.99</td>\n",
       "        </tr>\n",
       "        <tr>\n",
       "            <td>8</td>\n",
       "            <td>Inject The Venom</td>\n",
       "            <td>1</td>\n",
       "            <td>1</td>\n",
       "            <td>1</td>\n",
       "            <td>Angus Young, Malcolm Young, Brian Johnson</td>\n",
       "            <td>210834</td>\n",
       "            <td>6852860</td>\n",
       "            <td>0.99</td>\n",
       "        </tr>\n",
       "        <tr>\n",
       "            <td>9</td>\n",
       "            <td>Snowballed</td>\n",
       "            <td>1</td>\n",
       "            <td>1</td>\n",
       "            <td>1</td>\n",
       "            <td>Angus Young, Malcolm Young, Brian Johnson</td>\n",
       "            <td>203102</td>\n",
       "            <td>6599424</td>\n",
       "            <td>0.99</td>\n",
       "        </tr>\n",
       "        <tr>\n",
       "            <td>10</td>\n",
       "            <td>Evil Walks</td>\n",
       "            <td>1</td>\n",
       "            <td>1</td>\n",
       "            <td>1</td>\n",
       "            <td>Angus Young, Malcolm Young, Brian Johnson</td>\n",
       "            <td>263497</td>\n",
       "            <td>8611245</td>\n",
       "            <td>0.99</td>\n",
       "        </tr>\n",
       "    </tbody>\n",
       "</table>\n",
       "<span style=\"font-style:italic;text-align:center;\">Truncated to <a href=\"https://jupysql.ploomber.io/en/latest/api/configuration.html#displaylimit\">displaylimit</a> of 10.</span>"
      ],
      "text/plain": [
       "+---------+-----------------------------------------+---------+-------------+---------+------------------------------------------------------------------------+--------------+----------+-----------+\n",
       "| TrackId |                   Name                  | AlbumId | MediaTypeId | GenreId |                                Composer                                | Milliseconds |  Bytes   | UnitPrice |\n",
       "+---------+-----------------------------------------+---------+-------------+---------+------------------------------------------------------------------------+--------------+----------+-----------+\n",
       "|    1    | For Those About To Rock (We Salute You) |    1    |      1      |    1    |               Angus Young, Malcolm Young, Brian Johnson                |    343719    | 11170334 |    0.99   |\n",
       "|    2    |            Balls to the Wall            |    2    |      2      |    1    |                                  None                                  |    342562    | 5510424  |    0.99   |\n",
       "|    3    |             Fast As a Shark             |    3    |      2      |    1    |          F. Baltes, S. Kaufman, U. Dirkscneider & W. Hoffman           |    230619    | 3990994  |    0.99   |\n",
       "|    4    |            Restless and Wild            |    3    |      2      |    1    | F. Baltes, R.A. Smith-Diesel, S. Kaufman, U. Dirkscneider & W. Hoffman |    252051    | 4331779  |    0.99   |\n",
       "|    5    |           Princess of the Dawn          |    3    |      2      |    1    |                       Deaffy & R.A. Smith-Diesel                       |    375418    | 6290521  |    0.99   |\n",
       "|    6    |          Put The Finger On You          |    1    |      1      |    1    |               Angus Young, Malcolm Young, Brian Johnson                |    205662    | 6713451  |    0.99   |\n",
       "|    7    |             Let's Get It Up             |    1    |      1      |    1    |               Angus Young, Malcolm Young, Brian Johnson                |    233926    | 7636561  |    0.99   |\n",
       "|    8    |             Inject The Venom            |    1    |      1      |    1    |               Angus Young, Malcolm Young, Brian Johnson                |    210834    | 6852860  |    0.99   |\n",
       "|    9    |                Snowballed               |    1    |      1      |    1    |               Angus Young, Malcolm Young, Brian Johnson                |    203102    | 6599424  |    0.99   |\n",
       "|    10   |                Evil Walks               |    1    |      1      |    1    |               Angus Young, Malcolm Young, Brian Johnson                |    263497    | 8611245  |    0.99   |\n",
       "+---------+-----------------------------------------+---------+-------------+---------+------------------------------------------------------------------------+--------------+----------+-----------+\n",
       "Truncated to displaylimit of 10."
      ]
     },
     "execution_count": 3,
     "metadata": {},
     "output_type": "execute_result"
    }
   ],
   "source": [
    "%sql SELECT * FROM tracks"
   ]
  },
  {
   "cell_type": "code",
   "execution_count": 2,
   "id": "c28ec99a",
   "metadata": {},
   "outputs": [
    {
     "data": {
      "text/html": [
       "<span style=\"None\">Running query in &#x27;sqlite:///chinook.db&#x27;</span>"
      ],
      "text/plain": [
       "Running query in 'sqlite:///chinook.db'"
      ]
     },
     "metadata": {},
     "output_type": "display_data"
    },
    {
     "data": {
      "text/html": [
       "<table>\n",
       "    <thead>\n",
       "        <tr>\n",
       "            <th>TrackId</th>\n",
       "            <th>Name</th>\n",
       "            <th>AlbumId</th>\n",
       "            <th>MediaTypeId</th>\n",
       "            <th>GenreId</th>\n",
       "            <th>Composer</th>\n",
       "            <th>Milliseconds</th>\n",
       "            <th>Bytes</th>\n",
       "            <th>UnitPrice</th>\n",
       "        </tr>\n",
       "    </thead>\n",
       "    <tbody>\n",
       "        <tr>\n",
       "            <td>1</td>\n",
       "            <td>For Those About To Rock (We Salute You)</td>\n",
       "            <td>1</td>\n",
       "            <td>1</td>\n",
       "            <td>1</td>\n",
       "            <td>Angus Young, Malcolm Young, Brian Johnson</td>\n",
       "            <td>343719</td>\n",
       "            <td>11170334</td>\n",
       "            <td>0.99</td>\n",
       "        </tr>\n",
       "        <tr>\n",
       "            <td>2</td>\n",
       "            <td>Balls to the Wall</td>\n",
       "            <td>2</td>\n",
       "            <td>2</td>\n",
       "            <td>1</td>\n",
       "            <td>None</td>\n",
       "            <td>342562</td>\n",
       "            <td>5510424</td>\n",
       "            <td>0.99</td>\n",
       "        </tr>\n",
       "        <tr>\n",
       "            <td>3</td>\n",
       "            <td>Fast As a Shark</td>\n",
       "            <td>3</td>\n",
       "            <td>2</td>\n",
       "            <td>1</td>\n",
       "            <td>F. Baltes, S. Kaufman, U. Dirkscneider & W. Hoffman</td>\n",
       "            <td>230619</td>\n",
       "            <td>3990994</td>\n",
       "            <td>0.99</td>\n",
       "        </tr>\n",
       "        <tr>\n",
       "            <td>15</td>\n",
       "            <td>Go Down</td>\n",
       "            <td>4</td>\n",
       "            <td>1</td>\n",
       "            <td>1</td>\n",
       "            <td>AC/DC</td>\n",
       "            <td>331180</td>\n",
       "            <td>10847611</td>\n",
       "            <td>0.99</td>\n",
       "        </tr>\n",
       "        <tr>\n",
       "            <td>23</td>\n",
       "            <td>Walk On Water</td>\n",
       "            <td>5</td>\n",
       "            <td>1</td>\n",
       "            <td>1</td>\n",
       "            <td>Steven Tyler, Joe Perry, Jack Blades, Tommy Shaw</td>\n",
       "            <td>295680</td>\n",
       "            <td>9719579</td>\n",
       "            <td>0.99</td>\n",
       "        </tr>\n",
       "    </tbody>\n",
       "</table>"
      ],
      "text/plain": [
       "+---------+-----------------------------------------+---------+-------------+---------+-----------------------------------------------------+--------------+----------+-----------+\n",
       "| TrackId |                   Name                  | AlbumId | MediaTypeId | GenreId |                       Composer                      | Milliseconds |  Bytes   | UnitPrice |\n",
       "+---------+-----------------------------------------+---------+-------------+---------+-----------------------------------------------------+--------------+----------+-----------+\n",
       "|    1    | For Those About To Rock (We Salute You) |    1    |      1      |    1    |      Angus Young, Malcolm Young, Brian Johnson      |    343719    | 11170334 |    0.99   |\n",
       "|    2    |            Balls to the Wall            |    2    |      2      |    1    |                         None                        |    342562    | 5510424  |    0.99   |\n",
       "|    3    |             Fast As a Shark             |    3    |      2      |    1    | F. Baltes, S. Kaufman, U. Dirkscneider & W. Hoffman |    230619    | 3990994  |    0.99   |\n",
       "|    15   |                 Go Down                 |    4    |      1      |    1    |                        AC/DC                        |    331180    | 10847611 |    0.99   |\n",
       "|    23   |              Walk On Water              |    5    |      1      |    1    |   Steven Tyler, Joe Perry, Jack Blades, Tommy Shaw  |    295680    | 9719579  |    0.99   |\n",
       "+---------+-----------------------------------------+---------+-------------+---------+-----------------------------------------------------+--------------+----------+-----------+"
      ]
     },
     "execution_count": 2,
     "metadata": {},
     "output_type": "execute_result"
    }
   ],
   "source": [
    "%%sql\n",
    "SELECT AlbumId,COUNT(*),SUM(UnitPrice),AVG()\n",
    "  FROM tracks \n",
    "  GROUP BY AlbumId\n",
    "  LIMIT 5"
   ]
  },
  {
   "cell_type": "markdown",
   "id": "b569efed",
   "metadata": {},
   "source": [
    "## Exercise: summaries per group (with pandas)"
   ]
  },
  {
   "cell_type": "markdown",
   "id": "4e850b68",
   "metadata": {},
   "source": [
    "Use another strategy to generate the table from the previous exercise.  \n",
    "Use SQL only to get the complete `tracks` table into a Pandas `DataFrame`.  \n",
    "Then, perform the same calculations using Pandas `groupby` and `agg` commands.  \n",
    "\n",
    "Now, imagine that the database is very large and remote, located on multiple servers somewhere in the world:\n",
    "- What data are transmitted over the database connection in both exercises?\n",
    "- Where are the calculations performed in both exercises?\n",
    "- Which approach would scale better?"
   ]
  },
  {
   "cell_type": "markdown",
   "id": "dac4d616",
   "metadata": {},
   "source": [
    "## Exercise: filtering based on summary result"
   ]
  },
  {
   "cell_type": "markdown",
   "id": "ba8a675a",
   "metadata": {},
   "source": [
    "Find `AlbumId`s that have the number of tracks between 18 and 20. Show 5 rows."
   ]
  },
  {
   "cell_type": "markdown",
   "id": "879d2e27",
   "metadata": {},
   "source": [
    "## Exercise: concatenating texts in a group"
   ]
  },
  {
   "cell_type": "markdown",
   "id": "65966311",
   "metadata": {},
   "source": [
    "Based on `tracks` grouped by `AlbumId`, create a table with two columns:\n",
    "- `AlbumId`\n",
    "- `Tracks`: a semicolon-separated concatenated track names of the album\n",
    "\n",
    "Show some 5 rows."
   ]
  }
 ],
 "metadata": {
  "kernelspec": {
   "display_name": "Python 3 (ipykernel)",
   "language": "python",
   "name": "python3"
  },
  "language_info": {
   "codemirror_mode": {
    "name": "ipython",
    "version": 3
   },
   "file_extension": ".py",
   "mimetype": "text/x-python",
   "name": "python",
   "nbconvert_exporter": "python",
   "pygments_lexer": "ipython3",
   "version": "3.11.4"
  }
 },
 "nbformat": 4,
 "nbformat_minor": 5
}
