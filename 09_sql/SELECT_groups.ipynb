{
 "cells": [
  {
   "cell_type": "markdown",
   "id": "a61965c8",
   "metadata": {},
   "source": [
    "# SQL grouping and summarizing data"
   ]
  },
  {
   "cell_type": "markdown",
   "id": "a6870e06",
   "metadata": {},
   "source": [
    "## Preparation"
   ]
  },
  {
   "cell_type": "markdown",
   "id": "2030a118",
   "metadata": {},
   "source": [
    "For this section you need `chinook.db` database file and working `%sql` magic.  \n",
    "If you don't have it, please go back to the [previous section](connect_to_database.ipynb) and follow the instructions.  \n",
    "The following code should not produce any errors:"
   ]
  },
  {
   "cell_type": "code",
   "execution_count": null,
   "id": "a660da27",
   "metadata": {},
   "outputs": [],
   "source": [
    "%load_ext sql\n",
    "%sql sqlite:///chinook.db"
   ]
  },
  {
   "cell_type": "markdown",
   "id": "dbfdcc71",
   "metadata": {},
   "source": [
    "## `GROUP BY` - operations on sets of (multiple) rows"
   ]
  },
  {
   "cell_type": "markdown",
   "id": "8eeb64c9",
   "metadata": {},
   "source": [
    "SQL allows to perform aggregation (descriptive statistics) operations on disjoint sets of rows.  \n",
    "Then, for each input group (so multiple rows belonging to the same group) a single summary row is generated at the output.  \n",
    "Here we definie grops and illustrate usage with a simple `COUNT` rows operation. Later we show other aggregations."
   ]
  },
  {
   "cell_type": "markdown",
   "id": "55d81243",
   "metadata": {},
   "source": [
    "Let's build groups step-by-step."
   ]
  },
  {
   "cell_type": "markdown",
   "id": "28b3c36c",
   "metadata": {},
   "source": [
    "### A table before grouping"
   ]
  },
  {
   "cell_type": "markdown",
   "id": "57fdb50d",
   "metadata": {},
   "source": [
    "Let's consider some rows of the `tracks` table:"
   ]
  },
  {
   "cell_type": "code",
   "execution_count": null,
   "id": "21389833",
   "metadata": {},
   "outputs": [],
   "source": [
    "%%sql\n",
    "SELECT * \n",
    "  FROM tracks \n",
    "  LIMIT 5"
   ]
  },
  {
   "cell_type": "markdown",
   "id": "19d409e5",
   "metadata": {},
   "source": [
    "### Simple `GROUP BY`"
   ]
  },
  {
   "cell_type": "markdown",
   "id": "606e6085",
   "metadata": {},
   "source": [
    "Observe, that a simple `GROUP BY` performed on the `AlbumId` prints one row for each value of `AlbumId`:"
   ]
  },
  {
   "cell_type": "code",
   "execution_count": null,
   "id": "756b75fc",
   "metadata": {},
   "outputs": [],
   "source": [
    "%%sql\n",
    "SELECT * \n",
    "  FROM tracks \n",
    "  GROUP BY AlbumId\n",
    "  LIMIT 5"
   ]
  },
  {
   "cell_type": "markdown",
   "id": "5940efd1",
   "metadata": {},
   "source": [
    "### `COUNT` - counting rows (suboptimal)"
   ]
  },
  {
   "cell_type": "markdown",
   "id": "931b9af3",
   "metadata": {},
   "source": [
    "Using `COUNT(*)` for each `GROUP BY` set of rows we will get the number of rows in the group.  \n",
    "*Note:* The star (`*`) denotes that a subtable is referred to, not a particular column (see below)."
   ]
  },
  {
   "cell_type": "code",
   "execution_count": null,
   "id": "63a6465a",
   "metadata": {},
   "outputs": [],
   "source": [
    "%%sql\n",
    "SELECT COUNT(*)\n",
    "  FROM tracks\n",
    "  GROUP BY AlbumId\n",
    "  LIMIT 5"
   ]
  },
  {
   "cell_type": "markdown",
   "id": "5dca7aea",
   "metadata": {},
   "source": [
    "### `COUNT` - counting rows (better)"
   ]
  },
  {
   "cell_type": "markdown",
   "id": "d5710eb9",
   "metadata": {},
   "source": [
    "The above example does not show to which `AlbumId`s the counts correspond.  \n",
    "Better code (with `AlbumId` column, renamed column with counts and special sort order):"
   ]
  },
  {
   "cell_type": "code",
   "execution_count": null,
   "id": "99bf2f59",
   "metadata": {},
   "outputs": [],
   "source": [
    "%%sql\n",
    "SELECT AlbumId, COUNT(*) AS TracksNum\n",
    "  FROM tracks\n",
    "  GROUP BY AlbumId\n",
    "  ORDER BY TracksNum DESC\n",
    "  LIMIT 5"
   ]
  },
  {
   "cell_type": "markdown",
   "id": "45b49a94",
   "metadata": {},
   "source": [
    "## `HAVING` - filtering based on group aggregations results\n",
    "\n",
    "In SQL to filter rows of an aggregated result it is necessary to use `HAVING` statement (`WHERE` does not operate on the results of aggregation).\n",
    "\n",
    "Consider the following modification of the above example:"
   ]
  },
  {
   "cell_type": "code",
   "execution_count": null,
   "id": "16055fbf",
   "metadata": {},
   "outputs": [],
   "source": [
    "%%sql\n",
    "SELECT AlbumId, COUNT(*) AS TracksNum\n",
    "  FROM tracks\n",
    "  GROUP BY AlbumId\n",
    "  HAVING TracksNum > 30\n",
    "  ORDER BY TracksNum DESC\n",
    "  LIMIT 5"
   ]
  },
  {
   "cell_type": "markdown",
   "id": "eb19ad0c",
   "metadata": {},
   "source": [
    "## Aggregation functions"
   ]
  },
  {
   "cell_type": "markdown",
   "id": "2524febb",
   "metadata": {},
   "source": [
    "Aggregate functions operate on a set of rows and return a single result.  \n",
    "Aggregate functions are often used in conjunction with `GROUP BY` and `HAVING` clauses in the `SELECT` statement.  \n",
    "When `GROUP BY` is not provided, the aggregation of the whole table is performed.\n",
    "\n",
    "SQL provides the following aggregate functions:\n",
    "\n",
    "- `COUNT(*)` – Returns the number of rows.\n",
    "- `COUNT(col)` – Returns the number of non-`NULL` values in `col`.\n",
    "- `AVG(col)` – Returns the average of values.\n",
    "- `MAX(col)` – Returns the maximum of values.\n",
    "- `MIN(col)` – Returns the minimum of values.\n",
    "- `SUM(col)` – Returns the sum of values.\n",
    "- `GROUP_CONCAT(col,sep)` - Returns a string that is the concatenation of all non-`NULL` values of the input expression separated by the separator.\n",
    "\n",
    "See examples below."
   ]
  },
  {
   "cell_type": "markdown",
   "id": "276eebfb",
   "metadata": {},
   "source": [
    "### `AVG` - average of values"
   ]
  },
  {
   "cell_type": "markdown",
   "id": "3b2c6fcc",
   "metadata": {},
   "source": [
    "The `AVG` function is an aggregate function that calculates the average value of all non-NULL values within a group.\n",
    "\n",
    "To calculate the average length of all `tracks` in milliseconds, you use the following statement:"
   ]
  },
  {
   "cell_type": "code",
   "execution_count": null,
   "id": "eae62ef0",
   "metadata": {},
   "outputs": [],
   "source": [
    "%%sql\n",
    "SELECT AVG(Milliseconds) AS MeanMilliseconds\n",
    "  FROM tracks"
   ]
  },
  {
   "cell_type": "markdown",
   "id": "5e49d2f7",
   "metadata": {},
   "source": [
    "To calculate the average length of tracks for every album the following modification is needed:"
   ]
  },
  {
   "cell_type": "code",
   "execution_count": null,
   "id": "286c1339",
   "metadata": {},
   "outputs": [],
   "source": [
    "%%sql\n",
    "SELECT AlbumId, AVG(Milliseconds) AS MeanMilliseconds\n",
    "  FROM tracks\n",
    "  GROUP BY AlbumId\n",
    "  LIMIT 5"
   ]
  },
  {
   "cell_type": "markdown",
   "id": "e52f0e95",
   "metadata": {},
   "source": [
    "### `GROUP_CONCAT` - merging texts of the values"
   ]
  },
  {
   "cell_type": "markdown",
   "id": "7d4dcb55",
   "metadata": {},
   "source": [
    "The `GROUP_CONCAT()` function is an aggregate function that concatenates all non-null values in a column.  \n",
    "It uses a comma by default but you can use different separator given as the second argument.\n",
    "\n",
    "For example, let's concatenate all track `Name`s separately for each album:"
   ]
  },
  {
   "cell_type": "code",
   "execution_count": null,
   "id": "ef327866",
   "metadata": {},
   "outputs": [],
   "source": [
    "%%sql\n",
    "SELECT AlbumId, GROUP_CONCAT( Name, \";\" ) AS TrackNames\n",
    "  FROM tracks \n",
    "  GROUP BY AlbumId\n",
    "  LIMIT 5"
   ]
  }
 ],
 "metadata": {
  "kernelspec": {
   "display_name": "EfDS",
   "language": "python",
   "name": "python3"
  },
  "language_info": {
   "codemirror_mode": {
    "name": "ipython",
    "version": 3
   },
   "file_extension": ".py",
   "mimetype": "text/x-python",
   "name": "python",
   "nbconvert_exporter": "python",
   "pygments_lexer": "ipython3",
   "version": "3.12.1"
  }
 },
 "nbformat": 4,
 "nbformat_minor": 5
}
