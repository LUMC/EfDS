{
 "cells": [
  {
   "cell_type": "markdown",
   "id": "418dbc66",
   "metadata": {},
   "source": [
    "# SQL querying and selecting data (exercises)"
   ]
  },
  {
   "cell_type": "markdown",
   "id": "e710fd5e",
   "metadata": {},
   "source": [
    "## Preparation"
   ]
  },
  {
   "cell_type": "markdown",
   "id": "fc48115f",
   "metadata": {},
   "source": [
    "For this section you need `chinook.db` database file and working `%sql` magic.  \n",
    "If you don't have it, please go back to the [previous section](connect_to_database.ipynb) and follow the instructions.  \n",
    "The following code should not produce any errors:"
   ]
  },
  {
   "cell_type": "code",
   "execution_count": 5,
   "id": "43aaa7d6",
   "metadata": {},
   "outputs": [
    {
     "name": "stdout",
     "output_type": "stream",
     "text": [
      "The sql extension is already loaded. To reload it, use:\n",
      "  %reload_ext sql\n"
     ]
    },
    {
     "data": {
      "text/html": [
       "<span style=\"None\">Running query in &#x27;sqlite:///chinook.db&#x27;</span>"
      ],
      "text/plain": [
       "Running query in 'sqlite:///chinook.db'"
      ]
     },
     "metadata": {},
     "output_type": "display_data"
    },
    {
     "data": {
      "text/html": [
       "<table>\n",
       "    <thead>\n",
       "        <tr>\n",
       "            <th>TrackId</th>\n",
       "            <th>Name</th>\n",
       "            <th>AlbumId</th>\n",
       "            <th>MediaTypeId</th>\n",
       "            <th>GenreId</th>\n",
       "            <th>Composer</th>\n",
       "            <th>Milliseconds</th>\n",
       "            <th>Bytes</th>\n",
       "            <th>UnitPrice</th>\n",
       "        </tr>\n",
       "    </thead>\n",
       "    <tbody>\n",
       "        <tr>\n",
       "            <td>1</td>\n",
       "            <td>For Those About To Rock (We Salute You)</td>\n",
       "            <td>1</td>\n",
       "            <td>1</td>\n",
       "            <td>1</td>\n",
       "            <td>Angus Young, Malcolm Young, Brian Johnson</td>\n",
       "            <td>343719</td>\n",
       "            <td>11170334</td>\n",
       "            <td>0.99</td>\n",
       "        </tr>\n",
       "        <tr>\n",
       "            <td>2</td>\n",
       "            <td>Balls to the Wall</td>\n",
       "            <td>2</td>\n",
       "            <td>2</td>\n",
       "            <td>1</td>\n",
       "            <td>None</td>\n",
       "            <td>342562</td>\n",
       "            <td>5510424</td>\n",
       "            <td>0.99</td>\n",
       "        </tr>\n",
       "        <tr>\n",
       "            <td>3</td>\n",
       "            <td>Fast As a Shark</td>\n",
       "            <td>3</td>\n",
       "            <td>2</td>\n",
       "            <td>1</td>\n",
       "            <td>F. Baltes, S. Kaufman, U. Dirkscneider & W. Hoffman</td>\n",
       "            <td>230619</td>\n",
       "            <td>3990994</td>\n",
       "            <td>0.99</td>\n",
       "        </tr>\n",
       "        <tr>\n",
       "            <td>4</td>\n",
       "            <td>Restless and Wild</td>\n",
       "            <td>3</td>\n",
       "            <td>2</td>\n",
       "            <td>1</td>\n",
       "            <td>F. Baltes, R.A. Smith-Diesel, S. Kaufman, U. Dirkscneider & W. Hoffman</td>\n",
       "            <td>252051</td>\n",
       "            <td>4331779</td>\n",
       "            <td>0.99</td>\n",
       "        </tr>\n",
       "        <tr>\n",
       "            <td>5</td>\n",
       "            <td>Princess of the Dawn</td>\n",
       "            <td>3</td>\n",
       "            <td>2</td>\n",
       "            <td>1</td>\n",
       "            <td>Deaffy & R.A. Smith-Diesel</td>\n",
       "            <td>375418</td>\n",
       "            <td>6290521</td>\n",
       "            <td>0.99</td>\n",
       "        </tr>\n",
       "    </tbody>\n",
       "</table>"
      ],
      "text/plain": [
       "+---------+-----------------------------------------+---------+-------------+---------+------------------------------------------------------------------------+--------------+----------+-----------+\n",
       "| TrackId |                   Name                  | AlbumId | MediaTypeId | GenreId |                                Composer                                | Milliseconds |  Bytes   | UnitPrice |\n",
       "+---------+-----------------------------------------+---------+-------------+---------+------------------------------------------------------------------------+--------------+----------+-----------+\n",
       "|    1    | For Those About To Rock (We Salute You) |    1    |      1      |    1    |               Angus Young, Malcolm Young, Brian Johnson                |    343719    | 11170334 |    0.99   |\n",
       "|    2    |            Balls to the Wall            |    2    |      2      |    1    |                                  None                                  |    342562    | 5510424  |    0.99   |\n",
       "|    3    |             Fast As a Shark             |    3    |      2      |    1    |          F. Baltes, S. Kaufman, U. Dirkscneider & W. Hoffman           |    230619    | 3990994  |    0.99   |\n",
       "|    4    |            Restless and Wild            |    3    |      2      |    1    | F. Baltes, R.A. Smith-Diesel, S. Kaufman, U. Dirkscneider & W. Hoffman |    252051    | 4331779  |    0.99   |\n",
       "|    5    |           Princess of the Dawn          |    3    |      2      |    1    |                       Deaffy & R.A. Smith-Diesel                       |    375418    | 6290521  |    0.99   |\n",
       "+---------+-----------------------------------------+---------+-------------+---------+------------------------------------------------------------------------+--------------+----------+-----------+"
      ]
     },
     "execution_count": 5,
     "metadata": {},
     "output_type": "execute_result"
    }
   ],
   "source": [
    "%load_ext sql\n",
    "%sql sqlite:///chinook.db\n",
    "%sql SELECT * FROM tracks LIMIT 5"
   ]
  },
  {
   "cell_type": "code",
   "execution_count": 19,
   "id": "c8a05db0",
   "metadata": {},
   "outputs": [
    {
     "data": {
      "text/html": [
       "<span style=\"None\">Running query in &#x27;sqlite:///chinook.db&#x27;</span>"
      ],
      "text/plain": [
       "Running query in 'sqlite:///chinook.db'"
      ]
     },
     "metadata": {},
     "output_type": "display_data"
    },
    {
     "data": {
      "text/html": [
       "<table>\n",
       "    <thead>\n",
       "        <tr>\n",
       "            <th>name</th>\n",
       "        </tr>\n",
       "    </thead>\n",
       "    <tbody>\n",
       "        <tr>\n",
       "            <td>albums</td>\n",
       "        </tr>\n",
       "        <tr>\n",
       "            <td>artists</td>\n",
       "        </tr>\n",
       "        <tr>\n",
       "            <td>customers</td>\n",
       "        </tr>\n",
       "        <tr>\n",
       "            <td>employees</td>\n",
       "        </tr>\n",
       "        <tr>\n",
       "            <td>genres</td>\n",
       "        </tr>\n",
       "        <tr>\n",
       "            <td>invoices</td>\n",
       "        </tr>\n",
       "        <tr>\n",
       "            <td>invoice_items</td>\n",
       "        </tr>\n",
       "        <tr>\n",
       "            <td>media_types</td>\n",
       "        </tr>\n",
       "        <tr>\n",
       "            <td>playlists</td>\n",
       "        </tr>\n",
       "        <tr>\n",
       "            <td>playlist_track</td>\n",
       "        </tr>\n",
       "    </tbody>\n",
       "</table>\n",
       "<span style=\"font-style:italic;text-align:center;\">Truncated to <a href=\"https://jupysql.ploomber.io/en/latest/api/configuration.html#displaylimit\">displaylimit</a> of 10.</span>"
      ],
      "text/plain": [
       "+----------------+\n",
       "|      name      |\n",
       "+----------------+\n",
       "|     albums     |\n",
       "|    artists     |\n",
       "|   customers    |\n",
       "|   employees    |\n",
       "|     genres     |\n",
       "|    invoices    |\n",
       "| invoice_items  |\n",
       "|  media_types   |\n",
       "|   playlists    |\n",
       "| playlist_track |\n",
       "+----------------+\n",
       "Truncated to displaylimit of 10."
      ]
     },
     "execution_count": 19,
     "metadata": {},
     "output_type": "execute_result"
    }
   ],
   "source": [
    "%%sql\n",
    "SELECT \n",
    "    name\n",
    "FROM \n",
    "    sqlite_master \n",
    "WHERE \n",
    "    type ='table' AND \n",
    "    name NOT LIKE 'sqlite_%';"
   ]
  },
  {
   "cell_type": "code",
   "execution_count": 18,
   "id": "42d8fd65",
   "metadata": {},
   "outputs": [
    {
     "data": {
      "text/html": [
       "<span style=\"None\">Running query in &#x27;sqlite:///chinook.db&#x27;</span>"
      ],
      "text/plain": [
       "Running query in 'sqlite:///chinook.db'"
      ]
     },
     "metadata": {},
     "output_type": "display_data"
    },
    {
     "name": "stderr",
     "output_type": "stream",
     "text": [
      "RuntimeError: If using snippets, you may pass the --with argument explicitly.\n",
      "For more details please refer: https://jupysql.ploomber.io/en/latest/compose.html#with-argument\n",
      "\n",
      "\n",
      "Original error message from DB driver:\n",
      "(sqlite3.OperationalError) no such table: sys.tables\n",
      "[SQL: SELECT name FROM sys.tables]\n",
      "(Background on this error at: https://sqlalche.me/e/20/e3q8)\n",
      "\n",
      "If you need help solving this issue, send us a message: https://ploomber.io/community\n"
     ]
    }
   ],
   "source": [
    "# %sql SELECT name FROM sys.tables"
   ]
  },
  {
   "cell_type": "markdown",
   "id": "173858f6",
   "metadata": {},
   "source": [
    "## Exercise: biggest tracks"
   ]
  },
  {
   "cell_type": "markdown",
   "id": "2782b529",
   "metadata": {},
   "source": [
    "Print (select) the top 10 biggest `tracks` according to size in `Bytes` column."
   ]
  },
  {
   "cell_type": "code",
   "execution_count": 9,
   "id": "1f53e39f",
   "metadata": {},
   "outputs": [
    {
     "data": {
      "text/html": [
       "<span style=\"None\">Running query in &#x27;sqlite:///chinook.db&#x27;</span>"
      ],
      "text/plain": [
       "Running query in 'sqlite:///chinook.db'"
      ]
     },
     "metadata": {},
     "output_type": "display_data"
    },
    {
     "data": {
      "text/html": [
       "<table>\n",
       "    <thead>\n",
       "        <tr>\n",
       "            <th>TrackId</th>\n",
       "            <th>Name</th>\n",
       "            <th>AlbumId</th>\n",
       "            <th>MediaTypeId</th>\n",
       "            <th>GenreId</th>\n",
       "            <th>Composer</th>\n",
       "            <th>Milliseconds</th>\n",
       "            <th>Bytes</th>\n",
       "            <th>UnitPrice</th>\n",
       "        </tr>\n",
       "    </thead>\n",
       "    <tbody>\n",
       "        <tr>\n",
       "            <td>3224</td>\n",
       "            <td>Through a Looking Glass</td>\n",
       "            <td>229</td>\n",
       "            <td>3</td>\n",
       "            <td>21</td>\n",
       "            <td>None</td>\n",
       "            <td>5088838</td>\n",
       "            <td>1059546140</td>\n",
       "            <td>1.99</td>\n",
       "        </tr>\n",
       "        <tr>\n",
       "            <td>2820</td>\n",
       "            <td>Occupation / Precipice</td>\n",
       "            <td>227</td>\n",
       "            <td>3</td>\n",
       "            <td>19</td>\n",
       "            <td>None</td>\n",
       "            <td>5286953</td>\n",
       "            <td>1054423946</td>\n",
       "            <td>1.99</td>\n",
       "        </tr>\n",
       "        <tr>\n",
       "            <td>3236</td>\n",
       "            <td>The Young Lords</td>\n",
       "            <td>253</td>\n",
       "            <td>3</td>\n",
       "            <td>20</td>\n",
       "            <td>None</td>\n",
       "            <td>2863571</td>\n",
       "            <td>587051735</td>\n",
       "            <td>1.99</td>\n",
       "        </tr>\n",
       "        <tr>\n",
       "            <td>3242</td>\n",
       "            <td>The Man With Nine Lives</td>\n",
       "            <td>253</td>\n",
       "            <td>3</td>\n",
       "            <td>20</td>\n",
       "            <td>None</td>\n",
       "            <td>2956998</td>\n",
       "            <td>577829804</td>\n",
       "            <td>1.99</td>\n",
       "        </tr>\n",
       "        <tr>\n",
       "            <td>2910</td>\n",
       "            <td>Dave</td>\n",
       "            <td>231</td>\n",
       "            <td>3</td>\n",
       "            <td>19</td>\n",
       "            <td>None</td>\n",
       "            <td>2825166</td>\n",
       "            <td>574325829</td>\n",
       "            <td>1.99</td>\n",
       "        </tr>\n",
       "        <tr>\n",
       "            <td>3235</td>\n",
       "            <td>The Magnificent Warriors</td>\n",
       "            <td>253</td>\n",
       "            <td>3</td>\n",
       "            <td>20</td>\n",
       "            <td>None</td>\n",
       "            <td>2924716</td>\n",
       "            <td>570152232</td>\n",
       "            <td>1.99</td>\n",
       "        </tr>\n",
       "        <tr>\n",
       "            <td>3231</td>\n",
       "            <td>The Lost Warrior</td>\n",
       "            <td>253</td>\n",
       "            <td>3</td>\n",
       "            <td>20</td>\n",
       "            <td>None</td>\n",
       "            <td>2920045</td>\n",
       "            <td>558872190</td>\n",
       "            <td>1.99</td>\n",
       "        </tr>\n",
       "        <tr>\n",
       "            <td>2902</td>\n",
       "            <td>Maternity Leave</td>\n",
       "            <td>231</td>\n",
       "            <td>3</td>\n",
       "            <td>21</td>\n",
       "            <td>None</td>\n",
       "            <td>2780416</td>\n",
       "            <td>555244214</td>\n",
       "            <td>1.99</td>\n",
       "        </tr>\n",
       "        <tr>\n",
       "            <td>3228</td>\n",
       "            <td>Battlestar Galactica, Pt. 3</td>\n",
       "            <td>253</td>\n",
       "            <td>3</td>\n",
       "            <td>20</td>\n",
       "            <td>None</td>\n",
       "            <td>2927802</td>\n",
       "            <td>554509033</td>\n",
       "            <td>1.99</td>\n",
       "        </tr>\n",
       "        <tr>\n",
       "            <td>2832</td>\n",
       "            <td>The Woman King</td>\n",
       "            <td>227</td>\n",
       "            <td>3</td>\n",
       "            <td>18</td>\n",
       "            <td>None</td>\n",
       "            <td>2626376</td>\n",
       "            <td>552893447</td>\n",
       "            <td>1.99</td>\n",
       "        </tr>\n",
       "    </tbody>\n",
       "</table>\n",
       "<span style=\"font-style:italic;text-align:center;\">Truncated to <a href=\"https://jupysql.ploomber.io/en/latest/api/configuration.html#displaylimit\">displaylimit</a> of 10.</span>"
      ],
      "text/plain": [
       "+---------+-----------------------------+---------+-------------+---------+----------+--------------+------------+-----------+\n",
       "| TrackId |             Name            | AlbumId | MediaTypeId | GenreId | Composer | Milliseconds |   Bytes    | UnitPrice |\n",
       "+---------+-----------------------------+---------+-------------+---------+----------+--------------+------------+-----------+\n",
       "|   3224  |   Through a Looking Glass   |   229   |      3      |    21   |   None   |   5088838    | 1059546140 |    1.99   |\n",
       "|   2820  |    Occupation / Precipice   |   227   |      3      |    19   |   None   |   5286953    | 1054423946 |    1.99   |\n",
       "|   3236  |       The Young Lords       |   253   |      3      |    20   |   None   |   2863571    | 587051735  |    1.99   |\n",
       "|   3242  |   The Man With Nine Lives   |   253   |      3      |    20   |   None   |   2956998    | 577829804  |    1.99   |\n",
       "|   2910  |             Dave            |   231   |      3      |    19   |   None   |   2825166    | 574325829  |    1.99   |\n",
       "|   3235  |   The Magnificent Warriors  |   253   |      3      |    20   |   None   |   2924716    | 570152232  |    1.99   |\n",
       "|   3231  |       The Lost Warrior      |   253   |      3      |    20   |   None   |   2920045    | 558872190  |    1.99   |\n",
       "|   2902  |       Maternity Leave       |   231   |      3      |    21   |   None   |   2780416    | 555244214  |    1.99   |\n",
       "|   3228  | Battlestar Galactica, Pt. 3 |   253   |      3      |    20   |   None   |   2927802    | 554509033  |    1.99   |\n",
       "|   2832  |        The Woman King       |   227   |      3      |    18   |   None   |   2626376    | 552893447  |    1.99   |\n",
       "+---------+-----------------------------+---------+-------------+---------+----------+--------------+------------+-----------+\n",
       "Truncated to displaylimit of 10."
      ]
     },
     "execution_count": 9,
     "metadata": {},
     "output_type": "execute_result"
    }
   ],
   "source": [
    "%%sql\n",
    "SELECT *\n",
    "  FROM tracks\n",
    "  ORDER BY Bytes DESC\n",
    "  LIMIT 10\n",
    "  "
   ]
  },
  {
   "cell_type": "markdown",
   "id": "b53b734f",
   "metadata": {},
   "source": [
    "## Exercise: simple filtering"
   ]
  },
  {
   "cell_type": "markdown",
   "id": "b5de19c1",
   "metadata": {},
   "source": [
    "Write statements to get `tracks` with: the `AlbumId` equal to `1` and the `Bytes` length greater than 200,000 milliseconds."
   ]
  },
  {
   "cell_type": "code",
   "execution_count": 24,
   "id": "80d31506",
   "metadata": {},
   "outputs": [
    {
     "data": {
      "text/html": [
       "<span style=\"None\">Running query in &#x27;sqlite:///chinook.db&#x27;</span>"
      ],
      "text/plain": [
       "Running query in 'sqlite:///chinook.db'"
      ]
     },
     "metadata": {},
     "output_type": "display_data"
    },
    {
     "data": {
      "text/html": [
       "<table>\n",
       "    <thead>\n",
       "        <tr>\n",
       "            <th>TrackId</th>\n",
       "            <th>Name</th>\n",
       "            <th>AlbumId</th>\n",
       "            <th>MediaTypeId</th>\n",
       "            <th>GenreId</th>\n",
       "            <th>Composer</th>\n",
       "            <th>Milliseconds</th>\n",
       "            <th>Bytes</th>\n",
       "            <th>UnitPrice</th>\n",
       "        </tr>\n",
       "    </thead>\n",
       "    <tbody>\n",
       "        <tr>\n",
       "            <td>1</td>\n",
       "            <td>For Those About To Rock (We Salute You)</td>\n",
       "            <td>1</td>\n",
       "            <td>1</td>\n",
       "            <td>1</td>\n",
       "            <td>Angus Young, Malcolm Young, Brian Johnson</td>\n",
       "            <td>343719</td>\n",
       "            <td>11170334</td>\n",
       "            <td>0.99</td>\n",
       "        </tr>\n",
       "        <tr>\n",
       "            <td>6</td>\n",
       "            <td>Put The Finger On You</td>\n",
       "            <td>1</td>\n",
       "            <td>1</td>\n",
       "            <td>1</td>\n",
       "            <td>Angus Young, Malcolm Young, Brian Johnson</td>\n",
       "            <td>205662</td>\n",
       "            <td>6713451</td>\n",
       "            <td>0.99</td>\n",
       "        </tr>\n",
       "        <tr>\n",
       "            <td>7</td>\n",
       "            <td>Let's Get It Up</td>\n",
       "            <td>1</td>\n",
       "            <td>1</td>\n",
       "            <td>1</td>\n",
       "            <td>Angus Young, Malcolm Young, Brian Johnson</td>\n",
       "            <td>233926</td>\n",
       "            <td>7636561</td>\n",
       "            <td>0.99</td>\n",
       "        </tr>\n",
       "        <tr>\n",
       "            <td>8</td>\n",
       "            <td>Inject The Venom</td>\n",
       "            <td>1</td>\n",
       "            <td>1</td>\n",
       "            <td>1</td>\n",
       "            <td>Angus Young, Malcolm Young, Brian Johnson</td>\n",
       "            <td>210834</td>\n",
       "            <td>6852860</td>\n",
       "            <td>0.99</td>\n",
       "        </tr>\n",
       "        <tr>\n",
       "            <td>9</td>\n",
       "            <td>Snowballed</td>\n",
       "            <td>1</td>\n",
       "            <td>1</td>\n",
       "            <td>1</td>\n",
       "            <td>Angus Young, Malcolm Young, Brian Johnson</td>\n",
       "            <td>203102</td>\n",
       "            <td>6599424</td>\n",
       "            <td>0.99</td>\n",
       "        </tr>\n",
       "    </tbody>\n",
       "</table>"
      ],
      "text/plain": [
       "+---------+-----------------------------------------+---------+-------------+---------+-------------------------------------------+--------------+----------+-----------+\n",
       "| TrackId |                   Name                  | AlbumId | MediaTypeId | GenreId |                  Composer                 | Milliseconds |  Bytes   | UnitPrice |\n",
       "+---------+-----------------------------------------+---------+-------------+---------+-------------------------------------------+--------------+----------+-----------+\n",
       "|    1    | For Those About To Rock (We Salute You) |    1    |      1      |    1    | Angus Young, Malcolm Young, Brian Johnson |    343719    | 11170334 |    0.99   |\n",
       "|    6    |          Put The Finger On You          |    1    |      1      |    1    | Angus Young, Malcolm Young, Brian Johnson |    205662    | 6713451  |    0.99   |\n",
       "|    7    |             Let's Get It Up             |    1    |      1      |    1    | Angus Young, Malcolm Young, Brian Johnson |    233926    | 7636561  |    0.99   |\n",
       "|    8    |             Inject The Venom            |    1    |      1      |    1    | Angus Young, Malcolm Young, Brian Johnson |    210834    | 6852860  |    0.99   |\n",
       "|    9    |                Snowballed               |    1    |      1      |    1    | Angus Young, Malcolm Young, Brian Johnson |    203102    | 6599424  |    0.99   |\n",
       "+---------+-----------------------------------------+---------+-------------+---------+-------------------------------------------+--------------+----------+-----------+"
      ]
     },
     "execution_count": 24,
     "metadata": {},
     "output_type": "execute_result"
    }
   ],
   "source": [
    "%%sql\n",
    "SELECT *\n",
    "  FROM tracks\n",
    "  WHERE Milliseconds > 200000 AND AlbumId = 1\n",
    "  LIMIT 5"
   ]
  },
  {
   "cell_type": "markdown",
   "id": "c4377cc4",
   "metadata": {},
   "source": [
    "## Exercise: filter with `IN`"
   ]
  },
  {
   "cell_type": "markdown",
   "id": "14475996",
   "metadata": {},
   "source": [
    "Return `customers` from `State` of `FL` (Florida), `WA` (Washington), `CA` (California).  \n",
    "Use `IN`, not `AND`."
   ]
  },
  {
   "cell_type": "code",
   "execution_count": 22,
   "id": "2027e25b",
   "metadata": {},
   "outputs": [
    {
     "data": {
      "text/html": [
       "<span style=\"None\">Running query in &#x27;sqlite:///chinook.db&#x27;</span>"
      ],
      "text/plain": [
       "Running query in 'sqlite:///chinook.db'"
      ]
     },
     "metadata": {},
     "output_type": "display_data"
    },
    {
     "data": {
      "text/html": [
       "<table>\n",
       "    <thead>\n",
       "        <tr>\n",
       "            <th>CustomerId</th>\n",
       "            <th>FirstName</th>\n",
       "            <th>LastName</th>\n",
       "            <th>Company</th>\n",
       "            <th>Address</th>\n",
       "            <th>City</th>\n",
       "            <th>State</th>\n",
       "            <th>Country</th>\n",
       "            <th>PostalCode</th>\n",
       "            <th>Phone</th>\n",
       "            <th>Fax</th>\n",
       "            <th>Email</th>\n",
       "            <th>SupportRepId</th>\n",
       "        </tr>\n",
       "    </thead>\n",
       "    <tbody>\n",
       "        <tr>\n",
       "            <td>16</td>\n",
       "            <td>Frank</td>\n",
       "            <td>Harris</td>\n",
       "            <td>Google Inc.</td>\n",
       "            <td>1600 Amphitheatre Parkway</td>\n",
       "            <td>Mountain View</td>\n",
       "            <td>CA</td>\n",
       "            <td>USA</td>\n",
       "            <td>94043-1351</td>\n",
       "            <td>+1 (650) 253-0000</td>\n",
       "            <td>+1 (650) 253-0000</td>\n",
       "            <td>fharris@google.com</td>\n",
       "            <td>4</td>\n",
       "        </tr>\n",
       "        <tr>\n",
       "            <td>17</td>\n",
       "            <td>Jack</td>\n",
       "            <td>Smith</td>\n",
       "            <td>Microsoft Corporation</td>\n",
       "            <td>1 Microsoft Way</td>\n",
       "            <td>Redmond</td>\n",
       "            <td>WA</td>\n",
       "            <td>USA</td>\n",
       "            <td>98052-8300</td>\n",
       "            <td>+1 (425) 882-8080</td>\n",
       "            <td>+1 (425) 882-8081</td>\n",
       "            <td>jacksmith@microsoft.com</td>\n",
       "            <td>5</td>\n",
       "        </tr>\n",
       "        <tr>\n",
       "            <td>19</td>\n",
       "            <td>Tim</td>\n",
       "            <td>Goyer</td>\n",
       "            <td>Apple Inc.</td>\n",
       "            <td>1 Infinite Loop</td>\n",
       "            <td>Cupertino</td>\n",
       "            <td>CA</td>\n",
       "            <td>USA</td>\n",
       "            <td>95014</td>\n",
       "            <td>+1 (408) 996-1010</td>\n",
       "            <td>+1 (408) 996-1011</td>\n",
       "            <td>tgoyer@apple.com</td>\n",
       "            <td>3</td>\n",
       "        </tr>\n",
       "        <tr>\n",
       "            <td>20</td>\n",
       "            <td>Dan</td>\n",
       "            <td>Miller</td>\n",
       "            <td>None</td>\n",
       "            <td>541 Del Medio Avenue</td>\n",
       "            <td>Mountain View</td>\n",
       "            <td>CA</td>\n",
       "            <td>USA</td>\n",
       "            <td>94040-111</td>\n",
       "            <td>+1 (650) 644-3358</td>\n",
       "            <td>None</td>\n",
       "            <td>dmiller@comcast.com</td>\n",
       "            <td>4</td>\n",
       "        </tr>\n",
       "        <tr>\n",
       "            <td>22</td>\n",
       "            <td>Heather</td>\n",
       "            <td>Leacock</td>\n",
       "            <td>None</td>\n",
       "            <td>120 S Orange Ave</td>\n",
       "            <td>Orlando</td>\n",
       "            <td>FL</td>\n",
       "            <td>USA</td>\n",
       "            <td>32801</td>\n",
       "            <td>+1 (407) 999-7788</td>\n",
       "            <td>None</td>\n",
       "            <td>hleacock@gmail.com</td>\n",
       "            <td>4</td>\n",
       "        </tr>\n",
       "    </tbody>\n",
       "</table>"
      ],
      "text/plain": [
       "+------------+-----------+----------+-----------------------+---------------------------+---------------+-------+---------+------------+-------------------+-------------------+-------------------------+--------------+\n",
       "| CustomerId | FirstName | LastName |        Company        |          Address          |      City     | State | Country | PostalCode |       Phone       |        Fax        |          Email          | SupportRepId |\n",
       "+------------+-----------+----------+-----------------------+---------------------------+---------------+-------+---------+------------+-------------------+-------------------+-------------------------+--------------+\n",
       "|     16     |   Frank   |  Harris  |      Google Inc.      | 1600 Amphitheatre Parkway | Mountain View |   CA  |   USA   | 94043-1351 | +1 (650) 253-0000 | +1 (650) 253-0000 |    fharris@google.com   |      4       |\n",
       "|     17     |    Jack   |  Smith   | Microsoft Corporation |      1 Microsoft Way      |    Redmond    |   WA  |   USA   | 98052-8300 | +1 (425) 882-8080 | +1 (425) 882-8081 | jacksmith@microsoft.com |      5       |\n",
       "|     19     |    Tim    |  Goyer   |       Apple Inc.      |      1 Infinite Loop      |   Cupertino   |   CA  |   USA   |   95014    | +1 (408) 996-1010 | +1 (408) 996-1011 |     tgoyer@apple.com    |      3       |\n",
       "|     20     |    Dan    |  Miller  |          None         |    541 Del Medio Avenue   | Mountain View |   CA  |   USA   | 94040-111  | +1 (650) 644-3358 |        None       |   dmiller@comcast.com   |      4       |\n",
       "|     22     |  Heather  | Leacock  |          None         |      120 S Orange Ave     |    Orlando    |   FL  |   USA   |   32801    | +1 (407) 999-7788 |        None       |    hleacock@gmail.com   |      4       |\n",
       "+------------+-----------+----------+-----------------------+---------------------------+---------------+-------+---------+------------+-------------------+-------------------+-------------------------+--------------+"
      ]
     },
     "execution_count": 22,
     "metadata": {},
     "output_type": "execute_result"
    }
   ],
   "source": [
    "%%sql \n",
    "SELECT * \n",
    "FROM customers \n",
    "WHERE State IN (\"FL\", \"WA\", \"CA\")\n"
   ]
  },
  {
   "cell_type": "markdown",
   "id": "900d17ec",
   "metadata": {},
   "source": [
    "## Exercise: filter for numbers in range"
   ]
  },
  {
   "cell_type": "markdown",
   "id": "4fc328df",
   "metadata": {},
   "source": [
    "Find `invoices` whose `Total` is between 14.96 and 18.86. Use `BETWEEN`.  \n",
    "Sort the output with increasing `Total`. Show only these columns: `InvoiceId`, `BillingAddress`, `Total`."
   ]
  },
  {
   "cell_type": "code",
   "execution_count": 31,
   "id": "4c02e879",
   "metadata": {},
   "outputs": [
    {
     "data": {
      "text/html": [
       "<span style=\"None\">Running query in &#x27;sqlite:///chinook.db&#x27;</span>"
      ],
      "text/plain": [
       "Running query in 'sqlite:///chinook.db'"
      ]
     },
     "metadata": {},
     "output_type": "display_data"
    },
    {
     "data": {
      "text/html": [
       "<span style=\"None\">Running query in &#x27;sqlite:///chinook.db&#x27;</span>"
      ],
      "text/plain": [
       "Running query in 'sqlite:///chinook.db'"
      ]
     },
     "metadata": {},
     "output_type": "display_data"
    },
    {
     "data": {
      "text/html": [
       "<table>\n",
       "    <thead>\n",
       "        <tr>\n",
       "            <th>InvoiceId</th>\n",
       "            <th>BillingAddress</th>\n",
       "            <th>Total</th>\n",
       "        </tr>\n",
       "    </thead>\n",
       "    <tbody>\n",
       "        <tr>\n",
       "            <td>88</td>\n",
       "            <td>Calle Lira, 198</td>\n",
       "            <td>17.91</td>\n",
       "        </tr>\n",
       "        <tr>\n",
       "            <td>89</td>\n",
       "            <td>Rotenturmstraße 4, 1010 Innere Stadt</td>\n",
       "            <td>18.86</td>\n",
       "        </tr>\n",
       "        <tr>\n",
       "            <td>103</td>\n",
       "            <td>162 E Superior Street</td>\n",
       "            <td>15.86</td>\n",
       "        </tr>\n",
       "        <tr>\n",
       "            <td>201</td>\n",
       "            <td>319 N. Frances Street</td>\n",
       "            <td>18.86</td>\n",
       "        </tr>\n",
       "        <tr>\n",
       "            <td>208</td>\n",
       "            <td>Ullevålsveien 14</td>\n",
       "            <td>15.86</td>\n",
       "        </tr>\n",
       "        <tr>\n",
       "            <td>306</td>\n",
       "            <td>Klanova 9/506</td>\n",
       "            <td>16.86</td>\n",
       "        </tr>\n",
       "        <tr>\n",
       "            <td>313</td>\n",
       "            <td>68, Rue Jouvence</td>\n",
       "            <td>16.86</td>\n",
       "        </tr>\n",
       "    </tbody>\n",
       "</table>"
      ],
      "text/plain": [
       "+-----------+--------------------------------------+-------+\n",
       "| InvoiceId |            BillingAddress            | Total |\n",
       "+-----------+--------------------------------------+-------+\n",
       "|     88    |           Calle Lira, 198            | 17.91 |\n",
       "|     89    | Rotenturmstraße 4, 1010 Innere Stadt | 18.86 |\n",
       "|    103    |        162 E Superior Street         | 15.86 |\n",
       "|    201    |        319 N. Frances Street         | 18.86 |\n",
       "|    208    |           Ullevålsveien 14           | 15.86 |\n",
       "|    306    |            Klanova 9/506             | 16.86 |\n",
       "|    313    |           68, Rue Jouvence           | 16.86 |\n",
       "+-----------+--------------------------------------+-------+"
      ]
     },
     "execution_count": 31,
     "metadata": {},
     "output_type": "execute_result"
    }
   ],
   "source": [
    "%sql SELECT * FROM invoices \n",
    "%sql SELECT InvoiceId, BillingAddress, Total FROM invoices WHERE Total BETWEEN 14.96 AND 18.86"
   ]
  },
  {
   "cell_type": "markdown",
   "id": "876a5f87",
   "metadata": {},
   "source": [
    "## Exercise: filter partially matching words"
   ]
  },
  {
   "cell_type": "markdown",
   "id": "dc34f541",
   "metadata": {},
   "source": [
    "Find the `tracks` whose `Name`s contain a substring: `Br` (two letters), one letter, `wn` (two letters)."
   ]
  },
  {
   "cell_type": "code",
   "execution_count": 36,
   "metadata": {},
   "outputs": [
    {
     "data": {
      "text/html": [
       "<span style=\"None\">Running query in &#x27;sqlite:///chinook.db&#x27;</span>"
      ],
      "text/plain": [
       "Running query in 'sqlite:///chinook.db'"
      ]
     },
     "metadata": {},
     "output_type": "display_data"
    },
    {
     "data": {
      "text/html": [
       "<table>\n",
       "    <thead>\n",
       "        <tr>\n",
       "            <th>TrackId</th>\n",
       "            <th>Name</th>\n",
       "            <th>AlbumId</th>\n",
       "            <th>MediaTypeId</th>\n",
       "            <th>GenreId</th>\n",
       "            <th>Composer</th>\n",
       "            <th>Milliseconds</th>\n",
       "            <th>Bytes</th>\n",
       "            <th>UnitPrice</th>\n",
       "        </tr>\n",
       "    </thead>\n",
       "    <tbody>\n",
       "        <tr>\n",
       "            <td>12</td>\n",
       "            <td>Breaking The Rules</td>\n",
       "            <td>1</td>\n",
       "            <td>1</td>\n",
       "            <td>1</td>\n",
       "            <td>Angus Young, Malcolm Young, Brian Johnson</td>\n",
       "            <td>263288</td>\n",
       "            <td>8596840</td>\n",
       "            <td>0.99</td>\n",
       "        </tr>\n",
       "        <tr>\n",
       "            <td>95</td>\n",
       "            <td>Bring'em Back Alive</td>\n",
       "            <td>10</td>\n",
       "            <td>1</td>\n",
       "            <td>1</td>\n",
       "            <td>Audioslave/Chris Cornell</td>\n",
       "            <td>329534</td>\n",
       "            <td>7911634</td>\n",
       "            <td>0.99</td>\n",
       "        </tr>\n",
       "        <tr>\n",
       "            <td>230</td>\n",
       "            <td>Bye, Bye Brasil</td>\n",
       "            <td>23</td>\n",
       "            <td>1</td>\n",
       "            <td>7</td>\n",
       "            <td>None</td>\n",
       "            <td>283402</td>\n",
       "            <td>9499590</td>\n",
       "            <td>0.99</td>\n",
       "        </tr>\n",
       "        <tr>\n",
       "            <td>239</td>\n",
       "            <td>Brejo Da Cruz</td>\n",
       "            <td>23</td>\n",
       "            <td>1</td>\n",
       "            <td>7</td>\n",
       "            <td>None</td>\n",
       "            <td>214099</td>\n",
       "            <td>7270749</td>\n",
       "            <td>0.99</td>\n",
       "        </tr>\n",
       "        <tr>\n",
       "            <td>256</td>\n",
       "            <td>Sobremesa</td>\n",
       "            <td>24</td>\n",
       "            <td>1</td>\n",
       "            <td>7</td>\n",
       "            <td>Chico Science</td>\n",
       "            <td>240091</td>\n",
       "            <td>7960868</td>\n",
       "            <td>0.99</td>\n",
       "        </tr>\n",
       "        <tr>\n",
       "            <td>283</td>\n",
       "            <td>A Sombra Da Maldade</td>\n",
       "            <td>26</td>\n",
       "            <td>1</td>\n",
       "            <td>8</td>\n",
       "            <td>Da Gama/Toni Garrido</td>\n",
       "            <td>230922</td>\n",
       "            <td>7697230</td>\n",
       "            <td>0.99</td>\n",
       "        </tr>\n",
       "        <tr>\n",
       "            <td>301</td>\n",
       "            <td>A Sombra Da Maldade</td>\n",
       "            <td>27</td>\n",
       "            <td>1</td>\n",
       "            <td>8</td>\n",
       "            <td>Da Gama/Toni Garrido</td>\n",
       "            <td>285231</td>\n",
       "            <td>9544383</td>\n",
       "            <td>0.99</td>\n",
       "        </tr>\n",
       "        <tr>\n",
       "            <td>326</td>\n",
       "            <td>Tapa Aqui, Descobre Ali</td>\n",
       "            <td>29</td>\n",
       "            <td>1</td>\n",
       "            <td>9</td>\n",
       "            <td>Paulo Levi/W. Rangel</td>\n",
       "            <td>188630</td>\n",
       "            <td>6327391</td>\n",
       "            <td>0.99</td>\n",
       "        </tr>\n",
       "        <tr>\n",
       "            <td>329</td>\n",
       "            <td>Garotas do Brasil</td>\n",
       "            <td>29</td>\n",
       "            <td>1</td>\n",
       "            <td>9</td>\n",
       "            <td>Garay, Ricardo Engels/Luca Predabom/Ludwig, Carlos Henrique/Maurício Vieira</td>\n",
       "            <td>210155</td>\n",
       "            <td>6973625</td>\n",
       "            <td>0.99</td>\n",
       "        </tr>\n",
       "        <tr>\n",
       "            <td>339</td>\n",
       "            <td>Communication Breakdown</td>\n",
       "            <td>30</td>\n",
       "            <td>1</td>\n",
       "            <td>1</td>\n",
       "            <td>Jimmy Page/John Bonham/John Paul Jones</td>\n",
       "            <td>192653</td>\n",
       "            <td>6287257</td>\n",
       "            <td>0.99</td>\n",
       "        </tr>\n",
       "    </tbody>\n",
       "</table>\n",
       "<span style=\"font-style:italic;text-align:center;\">Truncated to <a href=\"https://jupysql.ploomber.io/en/latest/api/configuration.html#displaylimit\">displaylimit</a> of 10.</span>"
      ],
      "text/plain": [
       "+---------+-------------------------+---------+-------------+---------+-----------------------------------------------------------------------------+--------------+---------+-----------+\n",
       "| TrackId |           Name          | AlbumId | MediaTypeId | GenreId |                                   Composer                                  | Milliseconds |  Bytes  | UnitPrice |\n",
       "+---------+-------------------------+---------+-------------+---------+-----------------------------------------------------------------------------+--------------+---------+-----------+\n",
       "|    12   |    Breaking The Rules   |    1    |      1      |    1    |                  Angus Young, Malcolm Young, Brian Johnson                  |    263288    | 8596840 |    0.99   |\n",
       "|    95   |   Bring'em Back Alive   |    10   |      1      |    1    |                           Audioslave/Chris Cornell                          |    329534    | 7911634 |    0.99   |\n",
       "|   230   |     Bye, Bye Brasil     |    23   |      1      |    7    |                                     None                                    |    283402    | 9499590 |    0.99   |\n",
       "|   239   |      Brejo Da Cruz      |    23   |      1      |    7    |                                     None                                    |    214099    | 7270749 |    0.99   |\n",
       "|   256   |        Sobremesa        |    24   |      1      |    7    |                                Chico Science                                |    240091    | 7960868 |    0.99   |\n",
       "|   283   |   A Sombra Da Maldade   |    26   |      1      |    8    |                             Da Gama/Toni Garrido                            |    230922    | 7697230 |    0.99   |\n",
       "|   301   |   A Sombra Da Maldade   |    27   |      1      |    8    |                             Da Gama/Toni Garrido                            |    285231    | 9544383 |    0.99   |\n",
       "|   326   | Tapa Aqui, Descobre Ali |    29   |      1      |    9    |                             Paulo Levi/W. Rangel                            |    188630    | 6327391 |    0.99   |\n",
       "|   329   |    Garotas do Brasil    |    29   |      1      |    9    | Garay, Ricardo Engels/Luca Predabom/Ludwig, Carlos Henrique/Maurício Vieira |    210155    | 6973625 |    0.99   |\n",
       "|   339   | Communication Breakdown |    30   |      1      |    1    |                    Jimmy Page/John Bonham/John Paul Jones                   |    192653    | 6287257 |    0.99   |\n",
       "+---------+-------------------------+---------+-------------+---------+-----------------------------------------------------------------------------+--------------+---------+-----------+\n",
       "Truncated to displaylimit of 10."
      ]
     },
     "execution_count": 36,
     "metadata": {},
     "output_type": "execute_result"
    }
   ],
   "source": [
    "\n",
    "%%sql\n",
    "SELECT *\n",
    "FROM tracks\n",
    "WHERE Name LIKE '%BR%' OR '%wn%'"
   ]
  },
  {
   "cell_type": "markdown",
   "id": "1dfd899f",
   "metadata": {},
   "source": [
    "## Exercise: filtering missing values"
   ]
  },
  {
   "cell_type": "markdown",
   "id": "0ae6824d",
   "metadata": {},
   "source": [
    "Find the `customers` who do not have phone numbers. In the result show only the name and the (missing) phone number."
   ]
  },
  {
   "cell_type": "code",
   "execution_count": 38,
   "id": "df25a9ac",
   "metadata": {},
   "outputs": [
    {
     "data": {
      "text/html": [
       "<span style=\"None\">Running query in &#x27;sqlite:///chinook.db&#x27;</span>"
      ],
      "text/plain": [
       "Running query in 'sqlite:///chinook.db'"
      ]
     },
     "metadata": {},
     "output_type": "display_data"
    },
    {
     "data": {
      "text/html": [
       "<table>\n",
       "    <thead>\n",
       "        <tr>\n",
       "            <th>FirstName</th>\n",
       "            <th>LastName</th>\n",
       "            <th>Phone</th>\n",
       "        </tr>\n",
       "    </thead>\n",
       "    <tbody>\n",
       "        <tr>\n",
       "            <td>Ladislav</td>\n",
       "            <td>Kovács</td>\n",
       "            <td>None</td>\n",
       "        </tr>\n",
       "    </tbody>\n",
       "</table>"
      ],
      "text/plain": [
       "+-----------+----------+-------+\n",
       "| FirstName | LastName | Phone |\n",
       "+-----------+----------+-------+\n",
       "|  Ladislav |  Kovács  |  None |\n",
       "+-----------+----------+-------+"
      ]
     },
     "execution_count": 38,
     "metadata": {},
     "output_type": "execute_result"
    }
   ],
   "source": [
    "%%sql \n",
    "SELECT FirstName,LastName,Phone\n",
    "FROM customers \n",
    "WHERE Phone IS NULL"
   ]
  },
  {
   "cell_type": "markdown",
   "id": "d9e0d8d7",
   "metadata": {},
   "source": [
    "## Exercise: from the database to a Python list"
   ]
  },
  {
   "cell_type": "markdown",
   "id": "245f69c0",
   "metadata": {},
   "source": [
    "Create a Python variable `bs` to be a list containing all `tracks` sizes as provided in the `Bytes` column.  \n",
    "Print the `type` of the `bs` variable. Print the first 10 elements of `bs`."
   ]
  },
  {
   "cell_type": "code",
   "execution_count": 56,
   "id": "db46cd78",
   "metadata": {},
   "outputs": [
    {
     "data": {
      "text/html": [
       "<span style=\"None\">Running query in &#x27;sqlite:///chinook.db&#x27;</span>"
      ],
      "text/plain": [
       "Running query in 'sqlite:///chinook.db'"
      ]
     },
     "metadata": {},
     "output_type": "display_data"
    },
    {
     "name": "stdout",
     "output_type": "stream",
     "text": [
      "[(11170334,), (5510424,), (3990994,), (4331779,), (6290521,), (6713451,), (7636561,), (6852860,), (6599424,), (8611245,)]\n",
      "(5510424,)\n"
     ]
    },
    {
     "data": {
      "text/plain": [
       "[11170334,\n",
       " 5510424,\n",
       " 3990994,\n",
       " 4331779,\n",
       " 6290521,\n",
       " 6713451,\n",
       " 7636561,\n",
       " 6852860,\n",
       " 6599424,\n",
       " 8611245]"
      ]
     },
     "execution_count": 56,
     "metadata": {},
     "output_type": "execute_result"
    }
   ],
   "source": [
    "res = %sql SELECT Bytes FROM tracks\n",
    "# bs = res.DataFrame()\n",
    "bs = list(res)\n",
    "print(bs[:10])\n",
    "# print(type(bs[0]))\n",
    "# for i in bs[:10]:\n",
    "#     print(i[0])\n",
    "print(bs[1])\n",
    "bs2 = [x[0] for x in bs[:10]]\n",
    "bs2"
   ]
  },
  {
   "cell_type": "markdown",
   "id": "aba50815",
   "metadata": {},
   "source": [
    "## Exercise: from the database to a Pandas data frame"
   ]
  },
  {
   "cell_type": "markdown",
   "id": "beded0f4",
   "metadata": {},
   "source": [
    "Create a Python variable `df` to be a Pandas `DataFrame` with two columns corresponding to `Milliseconds` and `Bytes` columns of the `tracks` table. Print `df`.  \n",
    "You will likely need to:\n",
    "- Import `pandas` package.\n",
    "- Use `read_sql` function from `pandas`.\n",
    "- Create a separate connection `engine` with `creeate_engine`."
   ]
  },
  {
   "cell_type": "code",
   "execution_count": 59,
   "metadata": {},
   "outputs": [],
   "source": [
    "# %sql SELECT Milliseconds, Bytes FROM tracks"
   ]
  },
  {
   "cell_type": "code",
   "execution_count": 63,
   "id": "822086b5",
   "metadata": {},
   "outputs": [
    {
     "data": {
      "text/html": [
       "<div>\n",
       "<style scoped>\n",
       "    .dataframe tbody tr th:only-of-type {\n",
       "        vertical-align: middle;\n",
       "    }\n",
       "\n",
       "    .dataframe tbody tr th {\n",
       "        vertical-align: top;\n",
       "    }\n",
       "\n",
       "    .dataframe thead th {\n",
       "        text-align: right;\n",
       "    }\n",
       "</style>\n",
       "<table border=\"1\" class=\"dataframe\">\n",
       "  <thead>\n",
       "    <tr style=\"text-align: right;\">\n",
       "      <th></th>\n",
       "      <th>Milliseconds</th>\n",
       "      <th>Bytes</th>\n",
       "    </tr>\n",
       "  </thead>\n",
       "  <tbody>\n",
       "    <tr>\n",
       "      <th>0</th>\n",
       "      <td>343719</td>\n",
       "      <td>11170334</td>\n",
       "    </tr>\n",
       "    <tr>\n",
       "      <th>1</th>\n",
       "      <td>342562</td>\n",
       "      <td>5510424</td>\n",
       "    </tr>\n",
       "    <tr>\n",
       "      <th>2</th>\n",
       "      <td>230619</td>\n",
       "      <td>3990994</td>\n",
       "    </tr>\n",
       "    <tr>\n",
       "      <th>3</th>\n",
       "      <td>252051</td>\n",
       "      <td>4331779</td>\n",
       "    </tr>\n",
       "    <tr>\n",
       "      <th>4</th>\n",
       "      <td>375418</td>\n",
       "      <td>6290521</td>\n",
       "    </tr>\n",
       "    <tr>\n",
       "      <th>...</th>\n",
       "      <td>...</td>\n",
       "      <td>...</td>\n",
       "    </tr>\n",
       "    <tr>\n",
       "      <th>3498</th>\n",
       "      <td>286741</td>\n",
       "      <td>4718950</td>\n",
       "    </tr>\n",
       "    <tr>\n",
       "      <th>3499</th>\n",
       "      <td>139200</td>\n",
       "      <td>2283131</td>\n",
       "    </tr>\n",
       "    <tr>\n",
       "      <th>3500</th>\n",
       "      <td>66639</td>\n",
       "      <td>1189062</td>\n",
       "    </tr>\n",
       "    <tr>\n",
       "      <th>3501</th>\n",
       "      <td>221331</td>\n",
       "      <td>3665114</td>\n",
       "    </tr>\n",
       "    <tr>\n",
       "      <th>3502</th>\n",
       "      <td>206005</td>\n",
       "      <td>3305164</td>\n",
       "    </tr>\n",
       "  </tbody>\n",
       "</table>\n",
       "<p>3503 rows × 2 columns</p>\n",
       "</div>"
      ],
      "text/plain": [
       "      Milliseconds     Bytes\n",
       "0           343719  11170334\n",
       "1           342562   5510424\n",
       "2           230619   3990994\n",
       "3           252051   4331779\n",
       "4           375418   6290521\n",
       "...            ...       ...\n",
       "3498        286741   4718950\n",
       "3499        139200   2283131\n",
       "3500         66639   1189062\n",
       "3501        221331   3665114\n",
       "3502        206005   3305164\n",
       "\n",
       "[3503 rows x 2 columns]"
      ]
     },
     "execution_count": 63,
     "metadata": {},
     "output_type": "execute_result"
    }
   ],
   "source": [
    "import pandas as pd\n",
    "import sqlalchemy as sa\n",
    "engine = sa.create_engine(\"sqlite:///chinook.db\")\n",
    "conn = engine.connect()\n",
    "df = pd.read_sql(sa.text('SELECT Milliseconds, Bytes FROM tracks'), conn)\n",
    "df"
   ]
  }
 ],
 "metadata": {
  "kernelspec": {
   "display_name": "EfDS",
   "language": "python",
   "name": "python3"
  },
  "language_info": {
   "codemirror_mode": {
    "name": "ipython",
    "version": 3
   },
   "file_extension": ".py",
   "mimetype": "text/x-python",
   "name": "python",
   "nbconvert_exporter": "python",
   "pygments_lexer": "ipython3",
   "version": "3.11.4"
  }
 },
 "nbformat": 4,
 "nbformat_minor": 5
}
