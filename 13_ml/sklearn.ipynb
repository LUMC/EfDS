{
 "cells": [
  {
   "attachments": {},
   "cell_type": "markdown",
   "metadata": {
    "collapsed": false
   },
   "source": [
    "## Machine learning Python libraries\n",
    "\n",
    "**Machine learning**\n",
    "\n",
    "''Machine learning is a rapidly growing field of study that involves the development of algorithms and statistical models that enable computers to learn from data and make predictions or decisions without being explicitly programmed. Machine learning techniques are increasingly being used in a variety of applications, from image and speech recognition to natural language processing and autonomous vehicles. As a statistics student, you already have a strong foundation in data analysis and statistical inference, which are crucial skills in machine learning. Through the study of machine learning, you can gain a deeper understanding of how to model complex data and extract useful insights from it, as well as how to design and evaluate algorithms that can learn from this data.''\n",
    "\n",
    "**Key points:** *algorithms, statistical models, not explicitly programmed, statistical inference*\n",
    "\n",
    "**Learning goals:**\n",
    "\n",
    "- Basic introduction of two Python modules: Scikit-learn & Keras\n",
    "- How to prepare the data into training and test sets.\n",
    "- Apply simple regression and classification methods.\n",
    "\n",
    "**Python libraries**\n",
    "\n",
    "- scikit-learn\n",
    "    - preprocessing\n",
    "    - classification\n",
    "    - regression\n",
    "    - clustering\n",
    "    - dimensionality reduction\n",
    "    - model selection\n",
    "- Keras\n",
    "    - Demo : simple neural network\n",
    "\n"
   ]
  },
  {
   "attachments": {},
   "cell_type": "markdown",
   "metadata": {
    "collapsed": false
   },
   "source": [
    "## Iris dataset\n",
    "\n",
    "The iris dataset contains 150 samples of iris species, `setosa`, `versiecolor` and `virginica` with 50 observations per species. An iris has two features `setal` and `petal`, see figure below, and for each feature there are the length and width measurements.\n",
    "\n",
    "<img src=\"images/iris1.png\" alt= “” width=\"600\" align='center'>\n"
   ]
  },
  {
   "cell_type": "code",
   "execution_count": 35,
   "metadata": {
    "ExecuteTime": {
     "end_time": "2023-05-15T09:24:19.693688Z",
     "start_time": "2023-05-15T09:24:19.653241Z"
    },
    "collapsed": false
   },
   "outputs": [],
   "source": [
    "import pandas as pd\n",
    "import matplotlib.pyplot as plt\n",
    "import seaborn as sb"
   ]
  },
  {
   "cell_type": "code",
   "execution_count": 36,
   "metadata": {
    "ExecuteTime": {
     "end_time": "2023-05-15T09:24:21.692002Z",
     "start_time": "2023-05-15T09:24:21.677409Z"
    },
    "collapsed": false
   },
   "outputs": [
    {
     "data": {
      "text/html": [
       "<div>\n",
       "<style scoped>\n",
       "    .dataframe tbody tr th:only-of-type {\n",
       "        vertical-align: middle;\n",
       "    }\n",
       "\n",
       "    .dataframe tbody tr th {\n",
       "        vertical-align: top;\n",
       "    }\n",
       "\n",
       "    .dataframe thead th {\n",
       "        text-align: right;\n",
       "    }\n",
       "</style>\n",
       "<table border=\"1\" class=\"dataframe\">\n",
       "  <thead>\n",
       "    <tr style=\"text-align: right;\">\n",
       "      <th></th>\n",
       "      <th>sepal_length</th>\n",
       "      <th>sepal_width</th>\n",
       "      <th>petal_length</th>\n",
       "      <th>petal_width</th>\n",
       "      <th>class</th>\n",
       "    </tr>\n",
       "  </thead>\n",
       "  <tbody>\n",
       "    <tr>\n",
       "      <th>0</th>\n",
       "      <td>5.1</td>\n",
       "      <td>3.5</td>\n",
       "      <td>1.4</td>\n",
       "      <td>0.2</td>\n",
       "      <td>Iris-setosa</td>\n",
       "    </tr>\n",
       "    <tr>\n",
       "      <th>1</th>\n",
       "      <td>4.9</td>\n",
       "      <td>3.0</td>\n",
       "      <td>1.4</td>\n",
       "      <td>0.2</td>\n",
       "      <td>Iris-setosa</td>\n",
       "    </tr>\n",
       "    <tr>\n",
       "      <th>2</th>\n",
       "      <td>4.7</td>\n",
       "      <td>3.2</td>\n",
       "      <td>1.3</td>\n",
       "      <td>0.2</td>\n",
       "      <td>Iris-setosa</td>\n",
       "    </tr>\n",
       "    <tr>\n",
       "      <th>3</th>\n",
       "      <td>4.6</td>\n",
       "      <td>3.1</td>\n",
       "      <td>1.5</td>\n",
       "      <td>0.2</td>\n",
       "      <td>Iris-setosa</td>\n",
       "    </tr>\n",
       "    <tr>\n",
       "      <th>4</th>\n",
       "      <td>5.0</td>\n",
       "      <td>3.6</td>\n",
       "      <td>1.4</td>\n",
       "      <td>0.2</td>\n",
       "      <td>Iris-setosa</td>\n",
       "    </tr>\n",
       "  </tbody>\n",
       "</table>\n",
       "</div>"
      ],
      "text/plain": [
       "   sepal_length  sepal_width  petal_length  petal_width        class\n",
       "0           5.1          3.5           1.4          0.2  Iris-setosa\n",
       "1           4.9          3.0           1.4          0.2  Iris-setosa\n",
       "2           4.7          3.2           1.3          0.2  Iris-setosa\n",
       "3           4.6          3.1           1.5          0.2  Iris-setosa\n",
       "4           5.0          3.6           1.4          0.2  Iris-setosa"
      ]
     },
     "execution_count": 36,
     "metadata": {},
     "output_type": "execute_result"
    }
   ],
   "source": [
    "iris = pd.read_csv('data/iris.csv')\n",
    "iris.head()"
   ]
  },
  {
   "cell_type": "code",
   "execution_count": 37,
   "metadata": {
    "ExecuteTime": {
     "end_time": "2023-05-15T09:24:24.851493Z",
     "start_time": "2023-05-15T09:24:24.844636Z"
    },
    "collapsed": false
   },
   "outputs": [
    {
     "data": {
      "text/plain": [
       "Iris-setosa        50\n",
       "Iris-versicolor    50\n",
       "Iris-virginica     50\n",
       "Name: class, dtype: int64"
      ]
     },
     "execution_count": 37,
     "metadata": {},
     "output_type": "execute_result"
    }
   ],
   "source": [
    "iris['class'].value_counts()"
   ]
  },
  {
   "cell_type": "code",
   "execution_count": 40,
   "metadata": {
    "ExecuteTime": {
     "end_time": "2023-05-15T09:24:51.276374Z",
     "start_time": "2023-05-15T09:24:50.600723Z"
    },
    "collapsed": false
   },
   "outputs": [
    {
     "data": {
      "image/png": "[encoded data removed]",
      "text/plain": [
       "<Figure size 1000x400 with 2 Axes>"
      ]
     },
     "metadata": {},
     "output_type": "display_data"
    }
   ],
   "source": [
    "fig, axes = plt.subplots(1,2,figsize=(10,4))\n",
    "fig.suptitle(\"Iris\")\n",
    "axes[0].set_title(\"Sepal\")\n",
    "axes[1].set_title(\"Petal\")\n",
    "sb.scatterplot(iris, x='sepal_length', y='sepal_width', hue='class',ax=axes[0])\n",
    "sb.scatterplot(iris, x='petal_length', y='petal_width', hue='class',ax=axes[1]);"
   ]
  },
  {
   "attachments": {},
   "cell_type": "markdown",
   "metadata": {
    "collapsed": false
   },
   "source": [
    "\n",
    "## Supervised classifier\n",
    "\n",
    "We will build a supervised classifier to predict the species based on the features {sepal, petal} dimensions.\n",
    "\n",
    "### Data preparation\n",
    "\n",
    "- features and target variables\n",
    "- train/test sets\n",
    "- encode variable\n",
    "- standardisation\n"
   ]
  },
  {
   "attachments": {},
   "cell_type": "markdown",
   "metadata": {
    "collapsed": false
   },
   "source": [
    "#### Features/target"
   ]
  },
  {
   "cell_type": "code",
   "execution_count": 41,
   "metadata": {
    "ExecuteTime": {
     "end_time": "2023-05-15T09:24:54.226290Z",
     "start_time": "2023-05-15T09:24:54.222816Z"
    },
    "collapsed": false
   },
   "outputs": [],
   "source": [
    "features = iris.columns.drop('class')\n",
    "target = 'class'\n",
    "X, Y = iris[features], iris[target]"
   ]
  },
  {
   "attachments": {},
   "cell_type": "markdown",
   "metadata": {
    "collapsed": false
   },
   "source": [
    "#### Train/test sets"
   ]
  },
  {
   "cell_type": "code",
   "execution_count": 42,
   "metadata": {
    "ExecuteTime": {
     "end_time": "2023-05-15T09:24:57.416931Z",
     "start_time": "2023-05-15T09:24:57.411727Z"
    },
    "collapsed": false
   },
   "outputs": [],
   "source": [
    "from sklearn.model_selection import train_test_split\n",
    "x_train, x_test, y_train, y_test = train_test_split(X, Y, test_size=0.40, random_state=42)"
   ]
  },
  {
   "cell_type": "code",
   "execution_count": 43,
   "metadata": {
    "ExecuteTime": {
     "end_time": "2023-05-15T09:25:00.575112Z",
     "start_time": "2023-05-15T09:25:00.532185Z"
    },
    "collapsed": false
   },
   "outputs": [
    {
     "data": {
      "text/plain": [
       "[(90, 4), (60, 4), (90,), (60,)]"
      ]
     },
     "execution_count": 43,
     "metadata": {},
     "output_type": "execute_result"
    }
   ],
   "source": [
    "list(map(lambda x : x.shape , [x_train, x_test, y_train, y_test])) # inspect dimensions of train/test variables"
   ]
  },
  {
   "attachments": {},
   "cell_type": "markdown",
   "metadata": {
    "collapsed": false
   },
   "source": [
    "The `train_test_split` function argument `test_size` control the size of the test/train groups and `random_state` is for reproducibility."
   ]
  },
  {
   "attachments": {},
   "cell_type": "markdown",
   "metadata": {
    "collapsed": false
   },
   "source": [
    "#### Label encoder\n",
    "\n",
    "We need numerical values for the response variable `class`. We can roughly mimic R factors using the Scikit Learn `LabelEncoder` class. The `LabelEncoder` encodes the labels of the target variable with values from the range [0, number of classes -1]. Since our target value has three species of Iris, we'd expect to have the numerical values 0, 1 and 2 after encoding:"
   ]
  },
  {
   "cell_type": "code",
   "execution_count": 44,
   "metadata": {
    "ExecuteTime": {
     "end_time": "2023-05-15T09:28:47.028782Z",
     "start_time": "2023-05-15T09:28:47.021670Z"
    },
    "collapsed": false
   },
   "outputs": [],
   "source": [
    "from sklearn.preprocessing import LabelEncoder\n",
    "le = LabelEncoder()  # class instance\n",
    "le.fit(y_train);"
   ]
  },
  {
   "cell_type": "code",
   "execution_count": 11,
   "metadata": {
    "ExecuteTime": {
     "end_time": "2023-05-15T07:32:39.588698Z",
     "start_time": "2023-05-15T07:32:39.535654Z"
    },
    "collapsed": false
   },
   "outputs": [
    {
     "data": {
      "text/plain": [
       "123     Iris-virginica\n",
       "24         Iris-setosa\n",
       "25         Iris-setosa\n",
       "23         Iris-setosa\n",
       "94     Iris-versicolor\n",
       "            ...       \n",
       "71     Iris-versicolor\n",
       "106     Iris-virginica\n",
       "14         Iris-setosa\n",
       "92     Iris-versicolor\n",
       "102     Iris-virginica\n",
       "Name: class, Length: 90, dtype: object"
      ]
     },
     "execution_count": 11,
     "metadata": {},
     "output_type": "execute_result"
    }
   ],
   "source": [
    "y_train"
   ]
  },
  {
   "attachments": {},
   "cell_type": "markdown",
   "metadata": {
    "collapsed": false
   },
   "source": [
    "The attribute `.classes_` holds the levels present in the training targets:"
   ]
  },
  {
   "cell_type": "code",
   "execution_count": 12,
   "metadata": {
    "ExecuteTime": {
     "end_time": "2023-05-15T07:32:39.589689Z",
     "start_time": "2023-05-15T07:32:39.577403Z"
    },
    "collapsed": false
   },
   "outputs": [
    {
     "data": {
      "text/plain": [
       "array(['Iris-setosa', 'Iris-versicolor', 'Iris-virginica'], dtype=object)"
      ]
     },
     "execution_count": 12,
     "metadata": {},
     "output_type": "execute_result"
    }
   ],
   "source": [
    "le.classes_"
   ]
  },
  {
   "cell_type": "code",
   "execution_count": 45,
   "metadata": {
    "ExecuteTime": {
     "end_time": "2023-05-15T09:28:54.450629Z",
     "start_time": "2023-05-15T09:28:54.446911Z"
    },
    "collapsed": false
   },
   "outputs": [
    {
     "data": {
      "text/plain": [
       "array([2, 0, 0, 0, 1, 0, 1, 2, 0, 1, 2, 0, 2, 2, 1, 1, 2, 1, 0, 1, 2, 0,\n",
       "       0, 1, 1, 0, 2, 0, 0, 1, 1, 2, 1, 2, 2, 1, 0, 0, 2, 2, 0, 0, 0, 1,\n",
       "       2, 0, 2, 2, 0, 1, 1, 2, 1, 2, 0, 2, 1, 2, 1, 1, 1, 0, 1, 1, 0, 1,\n",
       "       2, 2, 0, 1, 2, 2, 0, 2, 0, 1, 2, 2, 1, 2, 1, 1, 2, 2, 0, 1, 2, 0,\n",
       "       1, 2])"
      ]
     },
     "execution_count": 45,
     "metadata": {},
     "output_type": "execute_result"
    }
   ],
   "source": [
    "le.transform(y_train)"
   ]
  },
  {
   "attachments": {},
   "cell_type": "markdown",
   "metadata": {
    "collapsed": false
   },
   "source": [
    "We then apply the method `.transform()` on `y_train` and `y_test` separately."
   ]
  },
  {
   "cell_type": "code",
   "execution_count": 46,
   "metadata": {
    "ExecuteTime": {
     "end_time": "2023-05-15T09:29:00.140077Z",
     "start_time": "2023-05-15T09:29:00.099626Z"
    },
    "collapsed": false
   },
   "outputs": [],
   "source": [
    "y_train = le.transform(y_train)\n",
    "y_test = le.transform(y_test)"
   ]
  },
  {
   "attachments": {},
   "cell_type": "markdown",
   "metadata": {
    "collapsed": false
   },
   "source": [
    "To encode back use `le.inverse_transform(y_test)`."
   ]
  },
  {
   "attachments": {},
   "cell_type": "markdown",
   "metadata": {
    "collapsed": false
   },
   "source": [
    "#### Feature standardisation\n",
    "In order to perform properly some multivariate models require `standardisation` of the features. The standard score $z = (x-\\mu)/\\sigma$, where $x$ is a feature, $\\mu$ the mean and $\\sigma$ the standard deviation of the training samples. The class `StandardScaler` performs standardisation of all features of the dataset in a one run."
   ]
  },
  {
   "cell_type": "code",
   "execution_count": 47,
   "metadata": {
    "ExecuteTime": {
     "end_time": "2023-05-15T09:29:06.731926Z",
     "start_time": "2023-05-15T09:29:06.728567Z"
    },
    "collapsed": false
   },
   "outputs": [],
   "source": [
    "from sklearn.preprocessing import StandardScaler\n",
    "scaler = StandardScaler()\n",
    "scaler.fit(x_train)\n",
    "x_train_st = scaler.transform(x_train)\n",
    "x_test_st = scaler.transform(x_test)"
   ]
  },
  {
   "cell_type": "code",
   "execution_count": 49,
   "metadata": {
    "ExecuteTime": {
     "end_time": "2023-05-15T09:29:14.900696Z",
     "start_time": "2023-05-15T09:29:14.356392Z"
    },
    "collapsed": false
   },
   "outputs": [
    {
     "data": {
      "image/png": "[encoded data removed]",
      "text/plain": [
       "<Figure size 1000x400 with 2 Axes>"
      ]
     },
     "metadata": {},
     "output_type": "display_data"
    }
   ],
   "source": [
    "fig, axes = plt.subplots(1,2,figsize=(10,4))\n",
    "fig.suptitle(\"X training set\")\n",
    "axes[0].set_title(\"Raw\")\n",
    "axes[1].set_title(\"Standardised\")\n",
    "sb.kdeplot(x_train, ax=axes[0])\n",
    "sb.kdeplot(x_train_st,ax=axes[1]);"
   ]
  },
  {
   "attachments": {},
   "cell_type": "markdown",
   "metadata": {
    "collapsed": false
   },
   "source": [
    "### Model : logistic regression\n",
    "\n",
    "We import the class `LogisticRegression` from the `linear_model` subsection of the `sklearn`:"
   ]
  },
  {
   "cell_type": "code",
   "execution_count": 52,
   "metadata": {
    "ExecuteTime": {
     "end_time": "2023-05-15T09:31:10.477887Z",
     "start_time": "2023-05-15T09:31:10.469788Z"
    },
    "collapsed": false
   },
   "outputs": [
    {
     "data": {
      "text/plain": [
       "array([1, 0, 2, 1, 1, 0, 1, 2, 1, 1, 2, 0, 0, 0, 0, 1, 2, 1, 1, 2, 0, 2,\n",
       "       0, 2, 2, 2, 2, 2, 0, 0, 0, 0, 1, 0, 0, 2, 1, 0, 0, 0, 2, 1, 1, 0,\n",
       "       0, 1, 1, 2, 1, 2, 1, 2, 1, 0, 2, 1, 0, 0, 0, 1])"
      ]
     },
     "execution_count": 52,
     "metadata": {},
     "output_type": "execute_result"
    }
   ],
   "source": [
    "from sklearn.linear_model import LogisticRegression\n",
    "\n",
    "model = LogisticRegression(random_state=0)           # model object\n",
    "model.fit(x_train_st, y_train)                       # train the model in the training set\n",
    "y_pred = model.predict(x_test_st)                    # make predictions on the test set\n",
    "\n",
    "y_pred\n"
   ]
  },
  {
   "cell_type": "code",
   "execution_count": 18,
   "metadata": {
    "ExecuteTime": {
     "end_time": "2023-05-15T07:32:40.097018Z",
     "start_time": "2023-05-15T07:32:40.027955Z"
    },
    "collapsed": false
   },
   "outputs": [
    {
     "data": {
      "text/plain": [
       "0.9833333333333333"
      ]
     },
     "execution_count": 18,
     "metadata": {},
     "output_type": "execute_result"
    }
   ],
   "source": [
    "(y_test == y_pred).sum()/len(y_test)                 # fraction of correct classifications, i.e. accuracy"
   ]
  },
  {
   "attachments": {},
   "cell_type": "markdown",
   "metadata": {
    "collapsed": false
   },
   "source": [
    "## Classification quality evaluation"
   ]
  },
  {
   "attachments": {},
   "cell_type": "markdown",
   "metadata": {
    "collapsed": false
   },
   "source": [
    "Knowing the values of the predicted classes, we can evaluate the classification with metrics such as `accuracy`:"
   ]
  },
  {
   "cell_type": "code",
   "execution_count": 19,
   "metadata": {
    "ExecuteTime": {
     "end_time": "2023-05-15T07:32:40.098332Z",
     "start_time": "2023-05-15T07:32:40.030740Z"
    },
    "collapsed": false
   },
   "outputs": [
    {
     "data": {
      "text/plain": [
       "0.9833333333333333"
      ]
     },
     "execution_count": 19,
     "metadata": {},
     "output_type": "execute_result"
    }
   ],
   "source": [
    "from sklearn.metrics import accuracy_score\n",
    "accuracy_score(y_test, y_pred)"
   ]
  },
  {
   "attachments": {},
   "cell_type": "markdown",
   "metadata": {
    "collapsed": false
   },
   "source": [
    "See [Metrics](https://scikit-learn.org/stable/modules/model_evaluation.html) for more on prediction quality evaluation."
   ]
  },
  {
   "attachments": {},
   "cell_type": "markdown",
   "metadata": {
    "collapsed": false
   },
   "source": [
    "### Cross validation\n",
    "We can see that the accuracy score is quite high, but how can we be sure this is not due to the train/test choice in this instance? Let's repeat the procedure as a function:"
   ]
  },
  {
   "cell_type": "code",
   "execution_count": 53,
   "metadata": {
    "ExecuteTime": {
     "end_time": "2023-05-15T09:33:52.850323Z",
     "start_time": "2023-05-15T09:33:52.847366Z"
    },
    "collapsed": false
   },
   "outputs": [],
   "source": [
    "def logreg(X, Y, test_size=0.45, random_state=123):\n",
    "    X_train, X_test, y_train, y_test = \\\n",
    "        train_test_split(X, Y, test_size=test_size, random_state=random_state)                     # split train/test\n",
    "    le =LabelEncoder()                                                                             # encode\n",
    "    le.fit(y_train)\n",
    "    y_train = le.transform(y_train)\n",
    "    y_test = le.transform(y_test)\n",
    "    scaler = StandardScaler()                                                                      # scaler : standardisation\n",
    "    scaler.fit(X_train)\n",
    "    X_train_st = scaler.transform(X_train)\n",
    "    X_test_st = scaler.transform(X_test)\n",
    "    model = LogisticRegression(random_state=random_state)                                          # model: logistic regression\n",
    "    model.fit(X_train_st, y_train)\n",
    "    y_pred = model.predict(X_test_st)                                                              # prediction / accuracy score\n",
    "    return accuracy_score(y_test, y_pred)"
   ]
  },
  {
   "cell_type": "code",
   "execution_count": 62,
   "metadata": {
    "ExecuteTime": {
     "end_time": "2023-05-15T09:34:42.839918Z",
     "start_time": "2023-05-15T09:34:42.796027Z"
    },
    "collapsed": false
   },
   "outputs": [
    {
     "data": {
      "text/plain": [
       "0.9264705882352942"
      ]
     },
     "execution_count": 62,
     "metadata": {},
     "output_type": "execute_result"
    }
   ],
   "source": [
    "logreg(X,Y,random_state=None)"
   ]
  },
  {
   "attachments": {},
   "cell_type": "markdown",
   "metadata": {
    "collapsed": false
   },
   "source": [
    "The resulting accuracy scores differ significantly depending on how the data set is split, which does not allow to evaluate the performance of the model objectively. In practice the problem is solved using *cross-validation*. The basic idea is to repeat the procedure, e.g. `logreg`, and take the mean accuracy.  The predefined Scikit learn function `cross_validate()` does exactly that. The main parameters of the function are the `model`, in this case logistic regression, the `full feature set and the target` and `cv` which is the number of iterations to be performed:"
   ]
  },
  {
   "cell_type": "code",
   "execution_count": 63,
   "metadata": {
    "ExecuteTime": {
     "end_time": "2023-05-15T09:37:30.735422Z",
     "start_time": "2023-05-15T09:37:30.675970Z"
    },
    "collapsed": false
   },
   "outputs": [
    {
     "data": {
      "text/plain": [
       "{'fit_time': array([0.00421238, 0.00361586, 0.0039413 , 0.00453043, 0.00621247,\n",
       "        0.00360537, 0.00317025, 0.00578642, 0.00457072, 0.0049746 ]),\n",
       " 'score_time': array([0.00057244, 0.00054193, 0.00120664, 0.00068164, 0.00042129,\n",
       "        0.00043011, 0.00073481, 0.00106859, 0.00083828, 0.00045466]),\n",
       " 'test_score': array([1.        , 0.93333333, 1.        , 1.        , 0.93333333,\n",
       "        0.93333333, 0.8       , 1.        , 1.        , 1.        ])}"
      ]
     },
     "execution_count": 63,
     "metadata": {},
     "output_type": "execute_result"
    }
   ],
   "source": [
    "from sklearn.model_selection import cross_validate\n",
    "# Standardise the features on the full data set\n",
    "scaler = StandardScaler()\n",
    "full_train = scaler.fit_transform(iris[features])\n",
    "# Encode the label\n",
    "le =LabelEncoder()\n",
    "class_encoded = le.fit_transform(iris['class'])\n",
    "cv = cross_validate(model, full_train, class_encoded, cv=10)\n",
    "cv"
   ]
  },
  {
   "cell_type": "code",
   "execution_count": 23,
   "metadata": {
    "ExecuteTime": {
     "end_time": "2023-05-15T07:32:40.194811Z",
     "start_time": "2023-05-15T07:32:40.144181Z"
    },
    "collapsed": false
   },
   "outputs": [
    {
     "data": {
      "text/plain": [
       "0.9600000000000002"
      ]
     },
     "execution_count": 23,
     "metadata": {},
     "output_type": "execute_result"
    }
   ],
   "source": [
    "cv['test_score'].mean()"
   ]
  },
  {
   "attachments": {},
   "cell_type": "markdown",
   "metadata": {
    "collapsed": false
   },
   "source": [
    "## Hyperparameter tuning - Grid Search"
   ]
  },
  {
   "attachments": {},
   "cell_type": "markdown",
   "metadata": {
    "collapsed": false
   },
   "source": [
    "Trying to solve a quite simple problem of Iris type classification, we were able to achieve a very high accuracy rate by applying a default version of the classifier. But what if the performance quality is not satisfactory? It is possible to improve the model performance with *hyperparameter optimization*. In Scikit learn, such possibility is provided with the class `GridSearchCV`.\n"
   ]
  },
  {
   "cell_type": "code",
   "execution_count": 24,
   "metadata": {
    "ExecuteTime": {
     "end_time": "2023-05-15T07:32:40.195048Z",
     "start_time": "2023-05-15T07:32:40.184330Z"
    },
    "collapsed": false
   },
   "outputs": [],
   "source": [
    "from sklearn.model_selection import GridSearchCV"
   ]
  },
  {
   "attachments": {},
   "cell_type": "markdown",
   "metadata": {
    "collapsed": false
   },
   "source": [
    "Recall the te logistic regression regularisation penalties $L1$ and $L2$ and the *complexity* parameter $\\lambda$. These were used in regression coefficients shrinkage where larger $\\lambda$ means greater shrinkage. With these parameters one could control the models behaviour for better or worse. The function `GridSearchCV` provides the machinery to traverse different settings using a dictionary along with a `cv` parameter for number cross-validation iterations."
   ]
  },
  {
   "cell_type": "code",
   "execution_count": 25,
   "metadata": {
    "ExecuteTime": {
     "end_time": "2023-05-15T07:32:40.280146Z",
     "start_time": "2023-05-15T07:32:40.184396Z"
    },
    "collapsed": false
   },
   "outputs": [],
   "source": [
    "?LogisticRegression"
   ]
  },
  {
   "attachments": {},
   "cell_type": "markdown",
   "metadata": {
    "collapsed": false
   },
   "source": [
    "From the documentation we can see that the parameter **C** ( $1/\\lambda$ ), has a default value 1, but, in theory can be any value higher than 0. The default value of a penalty norm is an `l2` norm, but there are other choices available, such as: `{'l1', 'l2', 'elasticnet', 'none'}`. In addition, you may choose among difference solvers (optimisation algorithms) such as `lbfgs`, `liblinear` etc. See for more details [Linear Models](https://scikit-learn.org/stable/modules/linear_model.html).\n",
    "\n"
   ]
  },
  {
   "cell_type": "code",
   "execution_count": 64,
   "metadata": {
    "ExecuteTime": {
     "end_time": "2023-05-15T09:40:53.259401Z",
     "start_time": "2023-05-15T09:40:52.683991Z"
    },
    "collapsed": false
   },
   "outputs": [],
   "source": [
    "gs_params = {'C': [0.001, 0.01, 0.1, 0.5, 1, 2, 5],                       # C = 1/lambda\n",
    "             'penalty': ['l2'],                                           #\n",
    "             'solver' : ['liblinear', 'newton-cg', 'newton-cholesky', 'lbfgs'] }   # add default 'lbfgs'\n",
    "\n",
    "gs = GridSearchCV(model, gs_params, cv=5)\n",
    "gs.fit(full_train, class_encoded);"
   ]
  },
  {
   "attachments": {},
   "cell_type": "markdown",
   "metadata": {
    "collapsed": false
   },
   "source": [
    "Using the attribute `.best_params_` we can check which values of the parameters were selected by the `GridSearch` algorithm as optimal:"
   ]
  },
  {
   "cell_type": "code",
   "execution_count": 65,
   "metadata": {
    "ExecuteTime": {
     "end_time": "2023-05-15T09:40:59.827899Z",
     "start_time": "2023-05-15T09:40:59.785640Z"
    },
    "collapsed": false
   },
   "outputs": [
    {
     "data": {
      "text/plain": [
       "{'C': 2, 'penalty': 'l2', 'solver': 'newton-cg'}"
      ]
     },
     "execution_count": 65,
     "metadata": {},
     "output_type": "execute_result"
    }
   ],
   "source": [
    "gs.best_params_"
   ]
  },
  {
   "attachments": {},
   "cell_type": "markdown",
   "metadata": {
    "collapsed": false
   },
   "source": [
    "The attribute `.best_score_` allows us to check what is the level of the classification accuracy after the best values of model parameters (`best_params_`) have been applied:"
   ]
  },
  {
   "cell_type": "code",
   "execution_count": 66,
   "metadata": {
    "ExecuteTime": {
     "end_time": "2023-05-15T09:42:48.956159Z",
     "start_time": "2023-05-15T09:42:48.950085Z"
    },
    "collapsed": false
   },
   "outputs": [
    {
     "data": {
      "text/plain": [
       "0.9666666666666668"
      ]
     },
     "execution_count": 66,
     "metadata": {},
     "output_type": "execute_result"
    }
   ],
   "source": [
    "# Mean cross-validated score of the best_estimator\n",
    "gs.best_score_"
   ]
  },
  {
   "attachments": {},
   "cell_type": "markdown",
   "metadata": {
    "collapsed": false
   },
   "source": [
    "## SVM\n",
    "\n",
    "With scikit-learn framework you can easily switch between models. Here we use support vector machine as another supervised model for classification:"
   ]
  },
  {
   "cell_type": "code",
   "execution_count": 29,
   "metadata": {
    "ExecuteTime": {
     "end_time": "2023-05-15T07:32:40.678852Z",
     "start_time": "2023-05-15T07:32:40.662156Z"
    },
    "collapsed": false
   },
   "outputs": [],
   "source": [
    "from sklearn import svm\n",
    "clf = svm.SVC()\n",
    "clf.fit(x_train_st, y_train)\n",
    "y_pred = clf.predict(x_test_st)"
   ]
  },
  {
   "cell_type": "code",
   "execution_count": 30,
   "metadata": {
    "ExecuteTime": {
     "end_time": "2023-05-15T07:32:40.767553Z",
     "start_time": "2023-05-15T07:32:40.675426Z"
    },
    "collapsed": false
   },
   "outputs": [
    {
     "data": {
      "text/plain": [
       "0.9833333333333333"
      ]
     },
     "execution_count": 30,
     "metadata": {},
     "output_type": "execute_result"
    }
   ],
   "source": [
    "accuracy_score(y_pred,y_test)"
   ]
  },
  {
   "attachments": {},
   "cell_type": "markdown",
   "metadata": {
    "collapsed": false
   },
   "source": [
    "## k-nearest neighbors"
   ]
  },
  {
   "cell_type": "code",
   "execution_count": 31,
   "metadata": {
    "ExecuteTime": {
     "end_time": "2023-05-15T07:32:40.767840Z",
     "start_time": "2023-05-15T07:32:40.716432Z"
    },
    "collapsed": false
   },
   "outputs": [],
   "source": [
    "from sklearn.neighbors import KNeighborsClassifier\n",
    "neigh = KNeighborsClassifier(n_neighbors=3)\n",
    "neigh.fit(x_train_st,y_train)\n",
    "y_pred = neigh.predict(x_test_st)"
   ]
  },
  {
   "cell_type": "code",
   "execution_count": 32,
   "metadata": {
    "ExecuteTime": {
     "end_time": "2023-05-15T07:32:40.768924Z",
     "start_time": "2023-05-15T07:32:40.757290Z"
    },
    "collapsed": false
   },
   "outputs": [
    {
     "data": {
      "text/plain": [
       "0    23\n",
       "1    20\n",
       "2    17\n",
       "dtype: int64"
      ]
     },
     "execution_count": 32,
     "metadata": {},
     "output_type": "execute_result"
    }
   ],
   "source": [
    "pd.Series(y_pred).value_counts()"
   ]
  },
  {
   "cell_type": "code",
   "execution_count": 33,
   "metadata": {
    "ExecuteTime": {
     "end_time": "2023-05-15T07:32:40.769337Z",
     "start_time": "2023-05-15T07:32:40.757417Z"
    },
    "collapsed": false
   },
   "outputs": [
    {
     "data": {
      "text/plain": [
       "0    23\n",
       "1    19\n",
       "2    18\n",
       "dtype: int64"
      ]
     },
     "execution_count": 33,
     "metadata": {},
     "output_type": "execute_result"
    }
   ],
   "source": [
    "pd.Series(y_test).value_counts()"
   ]
  },
  {
   "cell_type": "code",
   "execution_count": 34,
   "metadata": {
    "ExecuteTime": {
     "end_time": "2023-05-15T07:32:40.769549Z",
     "start_time": "2023-05-15T07:32:40.757489Z"
    },
    "collapsed": false
   },
   "outputs": [
    {
     "data": {
      "text/plain": [
       "0.9833333333333333"
      ]
     },
     "execution_count": 34,
     "metadata": {},
     "output_type": "execute_result"
    }
   ],
   "source": [
    "accuracy_score(y_test,y_pred)"
   ]
  }
 ],
 "metadata": {
  "kernelspec": {
   "display_name": "Python 3",
   "language": "python",
   "name": "python3"
  },
  "language_info": {
   "codemirror_mode": {
    "name": "ipython",
    "version": 2
   },
   "file_extension": ".py",
   "mimetype": "text/x-python",
   "name": "python",
   "nbconvert_exporter": "python",
   "pygments_lexer": "ipython2",
   "version": "2.7.6"
  }
 },
 "nbformat": 4,
 "nbformat_minor": 0
}
