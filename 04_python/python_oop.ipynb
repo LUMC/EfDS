{
 "cells": [
  {
   "cell_type": "markdown",
   "metadata": {},
   "source": [
    "# Python Object Oriented Programming"
   ]
  },
  {
   "attachments": {},
   "cell_type": "markdown",
   "metadata": {},
   "source": [
    "## Case study: own food consumption"
   ]
  },
  {
   "attachments": {},
   "cell_type": "markdown",
   "metadata": {},
   "source": [
    "### Collected data and some summaries"
   ]
  },
  {
   "attachments": {},
   "cell_type": "markdown",
   "metadata": {},
   "source": [
    "Study [the table(s) with some food consumption data](./two_tables.png).\n",
    " \n",
    "![](./two_tables.png)\n",
    "\n",
    "Observations from collecting data about own food consumption:\n",
    "- eatable products are labelled with amount of kilocalories in 100 grams of food\n",
    "- some products (loose) need to be weighted (in grams); other products are typically consumed in well standardized units (e.g. one cookie)\n",
    "- some basic components are eaten repeatably: it makes no sense to check their labels every time\n",
    "- some meals have relatively fixed mixture of components (e.g. \"my sweet milk coffee\"); it makes no sense to weigh all components every time\n",
    "- some meals can be only approximated (e.g. lunch in your office)\n",
    "- daily total amounts of consumed kilocalories are of practical interest\n",
    "- registration process must be trivial, otherwise it is requires too much effort and data are not collected\n",
    "- in the future: maybe amount of carbohydrates, proteins, salt is also of interest?\n",
    "\n",
    "Goals:\n",
    "- for all types of food we want to be able to ask: \"how many kCal is in g grams of food?\""
   ]
  },
  {
   "attachments": {},
   "cell_type": "markdown",
   "metadata": {},
   "source": [
    "Proposed [hierarchy of classes describing food](./food_classes.png).\n",
    "\n",
    "![](./food_classes.png)"
   ]
  },
  {
   "attachments": {},
   "cell_type": "markdown",
   "metadata": {},
   "source": [
    "### A first class"
   ]
  },
  {
   "attachments": {},
   "cell_type": "markdown",
   "metadata": {},
   "source": [
    "First, let's create a class `LooseFood`.  \n",
    "It is supposed to keep data on this type of food which is typically eaten in different amounts and which is annotated with energy in 100g."
   ]
  },
  {
   "cell_type": "code",
   "execution_count": 44,
   "metadata": {},
   "outputs": [],
   "source": [
    "class LooseFood():                                     # defines a new class (which inherits from a default \"object\" type)\n",
    "    def __init__(self, name, kCalPer100g):           # constructor of the class\n",
    "        self._name = name                            # self stores instance data (attributes)\n",
    "        self._kCalPer100g = kCalPer100g              # _name and _kCalPer100g are instance attributes\n",
    "        \n",
    "    # def __repr__(self):\n",
    "    #     return f\"this {self._name}\""
   ]
  },
  {
   "attachments": {},
   "cell_type": "markdown",
   "metadata": {},
   "source": [
    "The following code creates an instance of `LooseFood` (a new object of type `LooseFood` with its own data):"
   ]
  },
  {
   "cell_type": "code",
   "execution_count": 45,
   "metadata": {},
   "outputs": [
    {
     "name": "stdout",
     "output_type": "stream",
     "text": [
      "<__main__.LooseFood object at 0x000002B33C298E50>\n"
     ]
    },
    {
     "data": {
      "text/plain": [
       "380"
      ]
     },
     "execution_count": 45,
     "metadata": {},
     "output_type": "execute_result"
    }
   ],
   "source": [
    "sugar = LooseFood(name=\"sugar\", kCalPer100g=380)     # create an instance (sugar, 380kCal/100g)\n",
    "print( sugar )                                       # type and location in memory is shown\n",
    "sugar._kCalPer100g      #python has public variable, hence you can access the attribute. Other programming doesnt have"
   ]
  },
  {
   "attachments": {},
   "cell_type": "markdown",
   "metadata": {},
   "source": [
    "The text shown above by the `print` command comes from a default `__repr__(...)` method.  \n",
    "It is possible to override this method and provide an own text to be shown:"
   ]
  },
  {
   "cell_type": "code",
   "execution_count": 167,
   "metadata": {},
   "outputs": [],
   "source": [
    "class LooseFood:\n",
    "    def __init__(self, name, kCalPer100g):          # note: self is always the first arg of method\n",
    "        self._name = name\n",
    "        self._kCalPer100g = kCalPer100g\n",
    "    \n",
    "                                                    # note: self is always the first arg of method\n",
    "    def __repr__(self):                             # own method overriding object's __repr__(...)\n",
    "        return f\"{self._name}:{self._kCalPer100g}kCal/100g\"                 # own text to be shown"
   ]
  },
  {
   "attachments": {},
   "cell_type": "markdown",
   "metadata": {},
   "source": [
    "Note the output of the `print` command now:"
   ]
  },
  {
   "cell_type": "code",
   "execution_count": 168,
   "metadata": {},
   "outputs": [
    {
     "name": "stdout",
     "output_type": "stream",
     "text": [
      "sugar:380kCal/100g\n"
     ]
    }
   ],
   "source": [
    "sugar = LooseFood(name=\"sugar\", kCalPer100g=380)    # create an instance of the updated class\n",
    "print( sugar )                                      # now the LooseFood.__repr__ will be used"
   ]
  },
  {
   "attachments": {},
   "cell_type": "markdown",
   "metadata": {},
   "source": [
    "Let's finally define an own method `kCalPerG(g)`.  \n",
    "The method calculates how many kCal of energy is in the amount of grams `g` of the food described by `self`:"
   ]
  },
  {
   "cell_type": "code",
   "execution_count": 48,
   "metadata": {},
   "outputs": [],
   "source": [
    "class LooseFood:\n",
    "    def __init__(self, name, kCalPer100g):\n",
    "        self._name = name\n",
    "        self._kCalPer100g = kCalPer100g\n",
    "    \n",
    "    def __repr__(self):\n",
    "        return f\"{self._name}:{self._kCalPer100g}kCal/100g\"\n",
    "        \n",
    "    def kCalPerG(self, g):\n",
    "        return self._kCalPer100g/100*g             # uses the instance variable _kCalPer100g\n",
    "                                                   # and the argument g\n",
    "                                                   # to calculate the amount of energy in g grams of the food"
   ]
  },
  {
   "attachments": {},
   "cell_type": "markdown",
   "metadata": {},
   "source": [
    "Let's recreate the object with the new class definition.  \n",
    "Then, let's calculate the amount of kCal in 50 grams of sugar:"
   ]
  },
  {
   "cell_type": "code",
   "execution_count": 49,
   "metadata": {},
   "outputs": [
    {
     "name": "stdout",
     "output_type": "stream",
     "text": [
      "50 g of sugar corresponds to 190.0 kCal.\n"
     ]
    }
   ],
   "source": [
    "sugar = LooseFood(name=\"sugar\", kCalPer100g=380)\n",
    "print( \"50 g of sugar corresponds to\", sugar.kCalPerG(50), \"kCal.\" )    # calls kCalPerG method of sugar"
   ]
  },
  {
   "attachments": {},
   "cell_type": "markdown",
   "metadata": {},
   "source": [
    "### A second class"
   ]
  },
  {
   "attachments": {},
   "cell_type": "markdown",
   "metadata": {},
   "source": [
    "Let's follow the same scheme and define another class.  \n",
    "`UnitFood` is a class supposed to describe food eaten in \"units\" (e.g. chocolate bars):"
   ]
  },
  {
   "cell_type": "code",
   "execution_count": 50,
   "metadata": {},
   "outputs": [
    {
     "data": {
      "text/plain": [
       "knop:138kCal/25g"
      ]
     },
     "execution_count": 50,
     "metadata": {},
     "output_type": "execute_result"
    }
   ],
   "source": [
    "class UnitFood:\n",
    "    def __init__(self, name, kCal, g):            # g provides the weight of the \"unit\", kCal the energy of the \"unit\"\n",
    "        self._name = name\n",
    "        self._kCal = kCal\n",
    "        self._g = g\n",
    "\n",
    "    def __repr__(self):\n",
    "        return f\"{self._name}:{self._kCal}kCal/{self._g}g\"\n",
    "    \n",
    "    def kCalPerG(self, g):                        # here an own version of calculation of energy in g grams is needed\n",
    "        return self._kCal/self._g*g\n",
    "\n",
    "knop = UnitFood(name=\"knop\", kCal=138, g=25)      # this is a new instance of UnitFood\n",
    "knop"
   ]
  },
  {
   "cell_type": "markdown",
   "metadata": {},
   "source": [
    "### A base class"
   ]
  },
  {
   "attachments": {},
   "cell_type": "markdown",
   "metadata": {},
   "source": [
    "Note, that `UnitFood` and `LooseFood` both store the `name`.  \n",
    "The code to handle `name` should be identical for both classes.  \n",
    "Let's define a base class `Food` which will be responsible for handling `name`.  \n",
    "This will be an *abstract* class (we have no intention to create instances of this class)."
   ]
  },
  {
   "cell_type": "code",
   "execution_count": 51,
   "metadata": {},
   "outputs": [],
   "source": [
    "class Food:\n",
    "    def __init__(self, name):\n",
    "        self._name = name\n",
    "\n",
    "    def name(self):\n",
    "        return self._name\n",
    "        \n",
    "    def kCalPerG(self, g):\n",
    "        # abstract method; should be always overridden and never called here\n",
    "        raise TypeError()\n",
    "\n",
    "f = Food(\"mysterious food\")                      # this can be done, but we don't want that\n",
    "                                                   # this is an abstract class"
   ]
  },
  {
   "attachments": {},
   "cell_type": "markdown",
   "metadata": {},
   "source": [
    "Let's adjust `UnitFood` and `LooseFood` classes to express inheritance:"
   ]
  },
  {
   "cell_type": "code",
   "execution_count": 52,
   "metadata": {},
   "outputs": [],
   "source": [
    "class LooseFood(Food):                             # LooseFood inherits from Food\n",
    "    def __init__(self, name, kCalPer100g):\n",
    "        super().__init__(name)                     # name is passed to the constructor of Food\n",
    "        self._kCalPer100g = kCalPer100g\n",
    "    \n",
    "    def __repr__(self):\n",
    "        return f\"{self._name}:{self._kCalPer100g}kCal/100g\"  # we can use _name from the base class\n",
    "\n",
    "    def kCalPerG(self, g):\n",
    "        return self._kCalPer100g/100*g\n",
    "\n",
    "class UnitFood(Food):                              # UnitFood inherits from Food\n",
    "    def __init__(self, name, kCal, g):\n",
    "        super().__init__(name)                     # name is passed to the constructor of Food\n",
    "        self._kCal = kCal\n",
    "        self._g = g\n",
    "\n",
    "    def __repr__(self):\n",
    "        return f\"{self._name}:{self._kCal}kCal/{self._g}g\"\n",
    "    \n",
    "    def kCalPerG(self, g):\n",
    "        return self._kCal/self._g*g"
   ]
  },
  {
   "attachments": {},
   "cell_type": "markdown",
   "metadata": {},
   "source": [
    "We can create and use instances of the new classes:"
   ]
  },
  {
   "cell_type": "code",
   "execution_count": 53,
   "metadata": {},
   "outputs": [
    {
     "name": "stdout",
     "output_type": "stream",
     "text": [
      "oat flakes:375kCal/100g\n",
      "37.5\n",
      "knoppers:138kCal/25g\n",
      "552.0\n"
     ]
    }
   ],
   "source": [
    "of = LooseFood(\"oat flakes\", 375)\n",
    "print( of )\n",
    "print( of.kCalPerG(g=10) )\n",
    "\n",
    "kp = UnitFood(\"knoppers\", kCal=138, g=25)\n",
    "print( kp )\n",
    "print( kp.kCalPerG(100) )"
   ]
  },
  {
   "attachments": {},
   "cell_type": "markdown",
   "metadata": {},
   "source": [
    "The function `isinstance(obj, cls)` allows to check whether `obj` is an instance of the type `cls`:"
   ]
  },
  {
   "cell_type": "code",
   "execution_count": 54,
   "metadata": {},
   "outputs": [
    {
     "name": "stdout",
     "output_type": "stream",
     "text": [
      "isinstance(of, LooseFood): True\n",
      "isinstance(of, LooseFood): True\n",
      "isinstance(of, LooseFood): False\n"
     ]
    }
   ],
   "source": [
    "print( \"isinstance(of, LooseFood):\", isinstance(of, LooseFood) )\n",
    "print( \"isinstance(of, LooseFood):\", isinstance(of, Food) )\n",
    "print( \"isinstance(of, LooseFood):\", isinstance(of, UnitFood) )"
   ]
  },
  {
   "attachments": {},
   "cell_type": "markdown",
   "metadata": {},
   "source": [
    "The following example shows an array of elements which are of different types but they are also all `Food`:"
   ]
  },
  {
   "cell_type": "code",
   "execution_count": 55,
   "metadata": {},
   "outputs": [
    {
     "data": {
      "text/plain": [
       "True"
      ]
     },
     "execution_count": 55,
     "metadata": {},
     "output_type": "execute_result"
    }
   ],
   "source": [
    "foods = [ LooseFood(\"oat flakes\", 375), UnitFood(\"knoppers\", kCal=138, g=25) ]\n",
    "all( (isinstance(f, Food) for f in foods) )"
   ]
  },
  {
   "attachments": {},
   "cell_type": "markdown",
   "metadata": {},
   "source": [
    "### A third class"
   ]
  },
  {
   "attachments": {},
   "cell_type": "markdown",
   "metadata": {},
   "source": [
    "Let's create the last class to describe food.  \n",
    "This class is intended to represent a perfect mixture of different amounts of other `Food` elements."
   ]
  },
  {
   "cell_type": "code",
   "execution_count": 56,
   "metadata": {},
   "outputs": [],
   "source": [
    "class MixedFood(Food):                        # again inherits from Food base\n",
    "    def __init__(self, name):\n",
    "        super().__init__(name)\n",
    "        self._foodGrams = []                  # this will keep a list of tuples (food object, g)\n",
    "\n",
    "    def add(self, food, g):                   # add g grams of food to the mixture\n",
    "        self._foodGrams.append( (food, g) )   # add a tuple (food, g) to the instance list\n",
    "\n",
    "    def kCalPerG(self, g):                    # sum all grams and all kCals\n",
    "        sumG = sum( (fg[1] for fg in self._foodGrams) )\n",
    "        sumKCal = sum( (fg[0].kCalPerG(fg[1]) for fg in self._foodGrams) )\n",
    "        return sumKCal/sumG*g\n",
    "    \n",
    "    def totalG(self):\n",
    "        return sum( (fg[1] for fg in self._foodGrams) )"
   ]
  },
  {
   "attachments": {},
   "cell_type": "markdown",
   "metadata": {},
   "source": [
    "Let's create a mixture `porridge`:"
   ]
  },
  {
   "cell_type": "code",
   "execution_count": 57,
   "metadata": {},
   "outputs": [
    {
     "data": {
      "text/plain": [
       "369.9"
      ]
     },
     "execution_count": 57,
     "metadata": {},
     "output_type": "execute_result"
    }
   ],
   "source": [
    "of = LooseFood(name=\"oat flakes\", kCalPer100g=375)\n",
    "su = LooseFood(name=\"sugar\", kCalPer100g=380)\n",
    "hm = LooseFood(name=\"half milk\", kCalPer100g=46)\n",
    "bn = LooseFood(name=\"banana\", kCalPer100g=89)\n",
    "bb = LooseFood(name=\"blueberries\", kCalPer100g=57)\n",
    "\n",
    "mf = MixedFood(\"porridge\")\n",
    "mf.add(food=of, g=50)\n",
    "mf.add(food=su, g=5)\n",
    "mf.add(food=hm, g=75)\n",
    "mf.add(food=bn, g=100)\n",
    "mf.add(food=bb, g=70)\n",
    "mf.kCalPerG(g=mf.totalG())"
   ]
  },
  {
   "cell_type": "markdown",
   "metadata": {},
   "source": [
    "## Programming-related concepts"
   ]
  },
  {
   "attachments": {},
   "cell_type": "markdown",
   "metadata": {},
   "source": [
    "### Scope of variables"
   ]
  },
  {
   "attachments": {},
   "cell_type": "markdown",
   "metadata": {},
   "source": [
    "There are variables which exists or are accessible only in a part of a program.  \n",
    "Consider the code:"
   ]
  },
  {
   "cell_type": "code",
   "execution_count": 58,
   "metadata": {},
   "outputs": [
    {
     "data": {
      "text/plain": [
       "2.0"
      ]
     },
     "execution_count": 58,
     "metadata": {},
     "output_type": "execute_result"
    }
   ],
   "source": [
    "                             # myMean is a file-global function, it is defined from here till the end of the file\n",
    "def myMean(x):               # x is a local function parameter, it is defined within the function\n",
    "    xSum = sum(x)            # xSum is a local variable, it is defined from here till the end of the function\n",
    "    xLen = len(x)            # xLen is a local variable, it is defined from here till the end of the function\n",
    "    return xSum/xLen\n",
    "\n",
    "vs = [1,2,3]                 # vs is a file-global variable, it is defined here till the end of the file\n",
    "myMean(vs)"
   ]
  },
  {
   "attachments": {},
   "cell_type": "markdown",
   "metadata": {},
   "source": [
    "Note, there are two different variables `x` in the following code:"
   ]
  },
  {
   "cell_type": "code",
   "execution_count": 59,
   "metadata": {},
   "outputs": [
    {
     "name": "stdout",
     "output_type": "stream",
     "text": [
      "['a', 'b', 'c']\n"
     ]
    }
   ],
   "source": [
    "x = [\"a\",\"b\",\"c\"]      # x is a file-global variable, different than x in myMean\n",
    "\n",
    "                             # myMean is a file-global function, it is defined from here till the end of the file\n",
    "def myMean(x):               # x is a local function parameter, it is defined within the function\n",
    "    xSum = sum(x)            # xSum is a local variable, it is defined from here till the end of the function\n",
    "    xLen = len(x)            # xLen is a local variable, it is defined from here till the end of the function\n",
    "    return xSum/xLen\n",
    "\n",
    "vs = [1,2,3]                 # vs is a file-global variable, it is defined here till the end of the file\n",
    "myMean(vs)\n",
    "\n",
    "print(x)"
   ]
  },
  {
   "attachments": {},
   "cell_type": "markdown",
   "metadata": {},
   "source": [
    "Also here, there are two different variables `x`:"
   ]
  },
  {
   "cell_type": "code",
   "execution_count": 60,
   "metadata": {},
   "outputs": [
    {
     "name": "stdout",
     "output_type": "stream",
     "text": [
      "[1, 4, 9]\n",
      "['a', 'b', 'c']\n"
     ]
    }
   ],
   "source": [
    "x = [\"a\",\"b\",\"c\"]           # x is a file-global variable\n",
    "y = [1,2,3]\n",
    "y2 = [x**2 for x in y]      # x here is local to comprehension; it is a different variable than the one above\n",
    "print(y2)\n",
    "print(x)                    # x is the same as in the top line"
   ]
  },
  {
   "attachments": {},
   "cell_type": "markdown",
   "metadata": {},
   "source": [
    "### Class vs. instance, constructor, attribute"
   ]
  },
  {
   "attachments": {},
   "cell_type": "markdown",
   "metadata": {},
   "source": [
    "Let's define a class (a new type):"
   ]
  },
  {
   "cell_type": "code",
   "execution_count": 61,
   "metadata": {},
   "outputs": [],
   "source": [
    "class LooseFood:                                     # start of a new class\n",
    "    def __init__(self, name, kCalPer100g):           # constructor: the method used to initialize a new instance of the class\n",
    "        self._name = name\n",
    "        self._kCalPer100g = kCalPer100g\n",
    "    \n",
    "    def kCalPerG(self, g):                           # a method (a function designed to work on the instance provided in the self variable)\n",
    "        return self._kCalPer100g/100*g"
   ]
  },
  {
   "attachments": {},
   "cell_type": "markdown",
   "metadata": {},
   "source": [
    "Now, several instances of the new class can be created (=allocated and initialized):"
   ]
  },
  {
   "cell_type": "code",
   "execution_count": 62,
   "metadata": {},
   "outputs": [],
   "source": [
    "sugar = LooseFood(name=\"sugar\", kCalPer100g=380)        # create a new instance of LooseFood:\n",
    "                                                        # - memory for the new instance gets allocated\n",
    "                                                        # - __init__(...) is called to initialize the instance\n",
    "\n",
    "halfMilk = LooseFood(name=\"halfMilk\", kCalPer100g=46)   # create another new instance of LooseFood"
   ]
  },
  {
   "attachments": {},
   "cell_type": "markdown",
   "metadata": {},
   "source": [
    "Here are some relevant objects:"
   ]
  },
  {
   "cell_type": "code",
   "execution_count": 63,
   "metadata": {},
   "outputs": [
    {
     "data": {
      "text/plain": [
       "__main__.LooseFood"
      ]
     },
     "execution_count": 63,
     "metadata": {},
     "output_type": "execute_result"
    }
   ],
   "source": [
    "type( LooseFood )                                  # LooseFood is a new type\n",
    "\n",
    "type( sugar )                                      # sugar is an instance of LooseFood\n",
    "type( halfMilk )                                   # halfMilk is an instance of LooseFood"
   ]
  },
  {
   "attachments": {},
   "cell_type": "markdown",
   "metadata": {},
   "source": [
    "Note, the code uses two separate *attribute* namespaces:\n",
    "- `LooseFood`: namespace of the class:\n",
    "    - `__init__` and `kCalPerG` are defined there.\n",
    "    - Attributes in this namespace start to exist when the class is defined.\n",
    "- `self`: namespace of an instance of the class:\n",
    "    - `_name` and `_kCalPer100g` are defined there.\n",
    "    - Attributes in this namespace are owned by each instance separately and they are not accessible by other instances."
   ]
  },
  {
   "cell_type": "code",
   "execution_count": 64,
   "metadata": {},
   "outputs": [
    {
     "data": {
      "text/plain": [
       "method"
      ]
     },
     "execution_count": 64,
     "metadata": {},
     "output_type": "execute_result"
    }
   ],
   "source": [
    "type( LooseFood.kCalPerG )                         # LooseFood.kCalPerG is a function\n",
    "\n",
    "type( sugar.kCalPerG )                             # sugar.kCalPerG is a method bound to the sugar instance\n",
    "                                                     # (a function which knows that it should work on sugar instance)"
   ]
  },
  {
   "cell_type": "markdown",
   "metadata": {},
   "source": [
    "### Encapsulation"
   ]
  },
  {
   "attachments": {},
   "cell_type": "markdown",
   "metadata": {},
   "source": [
    "[Encapsulation](https://en.wikipedia.org/wiki/Encapsulation_(computer_programming)) (from Wikipedia):  \n",
    "\"In software systems, encapsulation refers to the bundling of data with the mechanisms or methods that operate on the data.  \n",
    "It may also refer to the limiting of direct access to some of that data, such as an object's components.\" \n"
   ]
  },
  {
   "cell_type": "code",
   "execution_count": null,
   "metadata": {},
   "outputs": [],
   "source": [
    "class LooseFood:\n",
    "    def __init__(self, name, kCalPer100g):\n",
    "        self._name = name                                          # self._name: instance data\n",
    "        self._kCalPer100g = kCalPer100g                            #             conceptually hidden\n",
    "    \n",
    "    def __repr__(self):                                            # a class method\n",
    "        return f\"{self._name}:{self._kCalPer100g}kCal/100g\"\n",
    "        \n",
    "    def kCalPerG(self, g):                                         # a method, operates on the instance data\n",
    "        return self._kCalPer100g/100*g\n",
    "\n",
    "sugar = LooseFood(name=\"sugar\", kCalPer100g=380)\n",
    "print( \"50 g of sugar corresponds to\", sugar.kCalPerG(50), \"kCal.\" )"
   ]
  },
  {
   "cell_type": "markdown",
   "metadata": {},
   "source": [
    "### Inheritance"
   ]
  },
  {
   "attachments": {},
   "cell_type": "markdown",
   "metadata": {},
   "source": [
    "Let's create an object being inherited by another one:"
   ]
  },
  {
   "cell_type": "code",
   "execution_count": 68,
   "metadata": {},
   "outputs": [
    {
     "name": "stdout",
     "output_type": "stream",
     "text": [
      "50 g of sugar corresponds to 190.0 kCal.\n"
     ]
    }
   ],
   "source": [
    "class Food:\n",
    "    def __init__(self, name):                                      # Food constructor\n",
    "        self._name = name                                          # self instance namespace\n",
    "\n",
    "    def kCalPerG(self, g):\n",
    "        raise TypeError()                                          # abstract method; should be always overridden and never called here\n",
    "\n",
    "class LooseFood(Food):                                             # LooseFood class inherits from Food class\n",
    "    def __init__(self, name, kCalPer100g):                         # LooseFood constructor\n",
    "        super().__init__(name = name)                              # Delegates some initialization to the Food constructor through super()\n",
    "        self._kCalPer100g = kCalPer100g                            # self instance namespace contains the namespace of the base instance\n",
    "    \n",
    "    def __repr__(self):                                            # overrides a default method (in object)\n",
    "        return f\"{self._name}:{self._kCalPer100g}kCal/100g\"\n",
    "        \n",
    "    def kCalPerG(self, g):                                         # overrides (abstract) Food.kCalPerG\n",
    "        return self._kCalPer100g/100*g\n",
    "sugar = LooseFood(name=\"sugar\", kCalPer100g=380)\n",
    "print( \"50 g of sugar corresponds to\", sugar.kCalPerG(50), \"kCal.\" )"
   ]
  },
  {
   "attachments": {},
   "cell_type": "markdown",
   "metadata": {},
   "source": [
    "## Self-study tasks"
   ]
  },
  {
   "attachments": {},
   "cell_type": "markdown",
   "metadata": {},
   "source": [
    "### Grid printing classes (simple inheritance, overriding functions)"
   ]
  },
  {
   "attachments": {},
   "cell_type": "markdown",
   "metadata": {},
   "source": [
    "The following code:\n",
    "\n",
    "```python\n",
    "grids = [ XGrid(name=\"Small X\", size=3), Grid(name=\"Nothing\"), XGrid(name=\"Large X\", size=9) ]\n",
    "for g in grids:\n",
    "    g.print()\n",
    "```\n",
    "\n",
    "produces this output:\n",
    "\n",
    "```\n",
    "Small X:\n",
    "\n",
    "#.#\n",
    ".#.\n",
    "#.#\n",
    "\n",
    "Nothing:\n",
    "\n",
    "\n",
    "Large X:\n",
    "\n",
    "#.......#\n",
    ".#.....#.\n",
    "..#...#..\n",
    "...#.#...\n",
    "....#....\n",
    "...#.#...\n",
    "..#...#..\n",
    ".#.....#.\n",
    "#.......#\n",
    "```\n",
    "\n",
    "*Goal:* Rewrite the `printX` function from the previous lecture as a `print` method of the `XGrid` class.  \n",
    "The `XGrid` class should inherit from `Grid`.\n",
    "\n",
    "Detailed requirements for `Grid`:\n",
    "- `Grid` should be the base class\n",
    "- the constructor of `Grid` should take an argument `name` and store its value in the instance\n",
    "- `Grid` should have a method `print`; for `Grid` it should just print the stored `name`\n",
    "\n",
    "Detailed requirements for `XGrid`:\n",
    "- `XGrid` should inherit from `Grid`\n",
    "- the constructor of `XGrid` should pass the `name` argument to the base class\n",
    "- the constructor of `XGrid` should take another argument `size` specifying number of rows and cols of the X shape\n",
    "- the `print` method of `XGrid` should first call the base `print` method and then it should print the X shape\n",
    "\n",
    "Finally, based on `XGrid` define another class `RectGrid`:\n",
    "- `RectGrid` should inherit from `Grid`\n",
    "- `RectGrid(name=\"A rectangle\", colSize=10, rowSize=5)` should specify the shape\n",
    "- define the `print` method so that it produces a \"rectangle of stars\""
   ]
  },
  {
   "cell_type": "code",
   "execution_count": 87,
   "metadata": {},
   "outputs": [
    {
     "name": "stdout",
     "output_type": "stream",
     "text": [
      "Small X\n",
      "#.#\n",
      ".#.\n",
      "#.#\n",
      "Nothing\n",
      "Large X\n",
      "#.......#\n",
      ".#.....#.\n",
      "..#...#..\n",
      "...#.#...\n",
      "....#....\n",
      "...#.#...\n",
      "..#...#..\n",
      ".#.....#.\n",
      "#.......#\n",
      "A rectangle\n",
      "**********\n",
      "**********\n",
      "**********\n",
      "**********\n",
      "**********\n"
     ]
    }
   ],
   "source": [
    "class Grid:\n",
    "    def __init__(self,name):\n",
    "        self._name = name\n",
    "    \n",
    "    def print(self):\n",
    "        print(self._name)\n",
    "\n",
    "class XGrid(Grid):\n",
    "    def __init__(self,name,size):\n",
    "        super().__init__(name = name)  \n",
    "        self._size = size\n",
    "        \n",
    "    def print(self):\n",
    "        super().print()\n",
    "        for i in range(self._size):\n",
    "            for j in range(self._size):\n",
    "                if j == i or j == self._size-1-i:\n",
    "                    print(\"#\",end=\"\")\n",
    "                else:\n",
    "                    print(\".\",end=\"\")\n",
    "            print()\n",
    "    \n",
    "class RectGrid(Grid):\n",
    "    def __init__(self,name,colSize,rowSize):\n",
    "        super().__init__(name = name)  \n",
    "        self._colSize = colSize\n",
    "        self._rowSize = rowSize\n",
    "    \n",
    "    def print(self):\n",
    "        super().print()\n",
    "        for i in range(self._rowSize):\n",
    "            print(\"*\"*self._colSize) \n",
    "        \n",
    "\n",
    "# grids = [Grid(name = \"Nothing\")]\n",
    "grids = [ XGrid(name=\"Small X\", size=3), Grid(name=\"Nothing\"), XGrid(name=\"Large X\", size=9) ]\n",
    "for g in grids:\n",
    "    g.print()\n",
    "RectGrid(name=\"A rectangle\", colSize=10, rowSize=5).print()"
   ]
  },
  {
   "attachments": {},
   "cell_type": "markdown",
   "metadata": {},
   "source": [
    "### Matrix class (encapsulation, incremental code development, lambdas, raising exceptions)"
   ]
  },
  {
   "attachments": {},
   "cell_type": "markdown",
   "metadata": {},
   "source": [
    "Python `list` can be used as a model of a mathematical one-dimensional vector.  \n",
    "Design and implement a class `matrix` which could represent a mathematical two-dimensional matrix.  \n",
    "Here are some ideas and requirements (split your implementation in the suggested phases):\n",
    "\n",
    "- phase 1 (construction and memory allocation):\n",
    "    - `m = Matrix( dims=(r,c) )` should create an instance of the matrix with `r` rows and `c` columns\n",
    "    - a matrix with `r` rows an `c` columns can be stored as a `list` with `r*c` elements (conceptually, columns of the matrix are stacked into one long vector)\n",
    "    - the constructor needs to allocate a list of `r*c` elements and store it in an instance variable (`self._data`)\n",
    "    - after construction all elements of the matrix should be set to `0`\n",
    "    - the `dims` (dimensions) of the matrix need to be stored in an instance variable (`self._dims`)\n",
    "    - the code below for `phase 1` should work now\n",
    "- phase 2 (getting/setting an element):\n",
    "    - `m.set( pos=(r,c), val=v )` should set the matrix `m` element in the row `r`, column `c` to the value `v`\n",
    "    - `m.get( pos=(r,c) )` should return the value of the matrix `m` element in the row `r`, column `c`\n",
    "    - both `set` and `get` need to know how to convert row/column to the index of the `self._data` list\n",
    "    - let's have an internal function `_pos2idx(self, pos)` which performs the above calculation\n",
    "- phase 3 (checking ranges, init value):\n",
    "    - when `pos` is out of range raise `IndexError`; add this to `_pos2idx` function\n",
    "    - the error message should say what is the allowed range (e.g. `column 5 requested but only 0..3 exist in the matrix`)\n",
    "    - the constructor should have a second argument `val` with the default value of `0`; this value should be used to fill the matrix\n",
    "    - `m = Matrix( dims=(3,2), val=1 )` should create an instance of the matrix with 3 rows, 2 columns and all values equal to 1\n",
    "- phase 4 (printing):\n",
    "    - `m.print()` should print the matrix in a user readable form\n",
    "- phase 5 (string representation of the matrix) [ADVANCED]:\n",
    "    - write `__repr__(self)` method which should generate a string with text representation of the matrix\n",
    "    - note the difference: `print(self)` generates the output directly to the console whereas the `__repr__(self)` method should return a string\n",
    "    - check the function `join( sep, list )`; it might be useful in this phase\n",
    "    - implementation proposal (implement lambdas inside `__repr__`):\n",
    "        - the final text is composed by joining with `\"\\n\"` the texts of individual `rows`\n",
    "        - `rows` is created by calling `getRow(r)` for all rows `r`\n",
    "        - `getRow(r)` is a lambda function of `r` (row): it joins with `\", \"` the texts of column elements from the row `r` returned by `getColsOfRow(r)`\n",
    "        - `getColsOfRow(r)` is a lambda function of `r` (row): it returns a list of column elements from the row `r` converted to `str`"
   ]
  },
  {
   "cell_type": "code",
   "execution_count": 24,
   "metadata": {},
   "outputs": [],
   "source": [
    "class Matrix:\n",
    "    def __init__(self,dims,val=0):\n",
    "        self._dims = dims\n",
    "        self._data = [val]*dims[0]*dims[1]\n",
    "        \n",
    "    def set(self,pos,val):\n",
    "        self._data[self._pos2idx(pos)] = val\n",
    "    \n",
    "    def get(self,pos):\n",
    "        return(self._data[self._pos2idx(pos)])\n",
    "    \n",
    "    def _pos2idx(self,pos):\n",
    "        if pos[0]>self._dims[0]-1 or pos[0]<0:\n",
    "            raise Exception(f\"Column {pos[0]} requested but only 0..{self._dims[0]-1} exists in matrix\")\n",
    "        if pos[1]>self._dims[1]-1 or pos[1]<0:\n",
    "            raise Exception(f\"Row {pos[1]} requested but only 0..{self._dims[1]-1} exists in matrix\")\n",
    "        return(self._dims[1]*pos[0]+pos[1])\n",
    "    \n",
    "    def print(self):\n",
    "        for i in range(self._dims[0]):\n",
    "            for j in range(self._dims[1]):\n",
    "                print(f\"{self._data[self._pos2idx((i,j))]} \",end=\"\")\n",
    "            print()\n",
    "    \n",
    "    def __repr__(self):\n",
    "        getColsOfRow = lambda r:self._data[r*self._dims[1]:r*self._dims[1]+self._dims[1]] \n",
    "        getRows = lambda r:\",\".join(r)\n",
    "        matrix_str = \"\"\n",
    "        for row in range(self._dims[0]):\n",
    "            # print(getColsOfRow(row))\n",
    "            rows = getRows(getColsOfRow(row))\n",
    "            matrix_str += rows + \"\\n\"\n",
    "        return matrix_str\n",
    "        \n",
    "        "
   ]
  },
  {
   "attachments": {},
   "cell_type": "markdown",
   "metadata": {},
   "source": [
    "Use the following pieces of code for different phases of implementation:"
   ]
  },
  {
   "cell_type": "code",
   "execution_count": 98,
   "metadata": {},
   "outputs": [
    {
     "data": {
      "text/plain": [
       "(2, 3)"
      ]
     },
     "execution_count": 98,
     "metadata": {},
     "output_type": "execute_result"
    }
   ],
   "source": [
    "# ----- phase 1 -----\n",
    "m = Matrix(dims=(2,3))\n",
    "m._data                         # this should be a list with 6 zeroes\n",
    "m._dims                         # this should be (2,3) tuple denoting 2 rows and 3 columns"
   ]
  },
  {
   "cell_type": "code",
   "execution_count": 143,
   "metadata": {},
   "outputs": [
    {
     "data": {
      "text/plain": [
       "20"
      ]
     },
     "execution_count": 143,
     "metadata": {},
     "output_type": "execute_result"
    }
   ],
   "source": [
    "# ----- phase 2 -----\n",
    "m = Matrix(dims=(3,3))\n",
    "m.set( pos=(0,0), val=10 )\n",
    "m.set( pos=(2,2), val=20 )\n",
    "m._data                         # [10, 0, 0, 0, 0, 20] <- 10 and 20 should be there\n",
    "                                  # note, that you may use a different mapping of r,c to list\n",
    "\n",
    "m.get( pos=(1,2) )                # should be 20\n",
    "m.get( pos=(2,2) )                # should be 0\n",
    "# m._pos2idx((2,3))"
   ]
  },
  {
   "cell_type": "code",
   "execution_count": 14,
   "metadata": {},
   "outputs": [
    {
     "data": {
      "text/plain": [
       "[10, 10, 10, 10, 10, 10]"
      ]
     },
     "execution_count": 14,
     "metadata": {},
     "output_type": "execute_result"
    }
   ],
   "source": [
    "# ----- phase 3 -----\n",
    "m = Matrix(dims=(3,2))\n",
    "# m.set(pos=(-1,0), val=-1)       # should raise an exception\n",
    "# m._data\n",
    "# m.get(pos=[5,5])                # should raise an exception\n",
    "\n",
    "m = Matrix(dims=(3,2), val=10)\n",
    "m._data                         # should be a vector of 6 values equal to 10"
   ]
  },
  {
   "cell_type": "code",
   "execution_count": 15,
   "metadata": {},
   "outputs": [
    {
     "name": "stdout",
     "output_type": "stream",
     "text": [
      "lu . ru \n",
      "lb . rb \n"
     ]
    }
   ],
   "source": [
    "# ----- phase 4 -----\n",
    "m = Matrix(dims=(2,3), val=\".\")\n",
    "m.set( pos=(0,0), val=\"lu\" ) # left-upper\n",
    "m.set( pos=(0,2), val=\"ru\" ) # right-upper\n",
    "m.set( pos=[1,0], val=\"lb\" ) # left-bottom\n",
    "m.set( [1,2], \"rb\" )         # right-bottom\n",
    "m.print()"
   ]
  },
  {
   "cell_type": "code",
   "execution_count": 26,
   "metadata": {},
   "outputs": [
    {
     "name": "stdout",
     "output_type": "stream",
     "text": [
      "['lu', '.', 'ru']\n",
      "['lb', '.', 'rb']\n",
      "['.', '.', '.']\n",
      "lu,.,ru\n",
      "lb,.,rb\n",
      ".,.,.\n",
      "\n"
     ]
    }
   ],
   "source": [
    "# ----- phase 5 -----\n",
    "m = Matrix(dims=(3,3), val=\".\")\n",
    "m.set( pos=(0,0), val=\"lu\" ) # left-upper\n",
    "m.set( pos=(0,2), val=\"ru\" ) # right-upper\n",
    "m.set( pos=[1,0], val=\"lb\" ) # left-bottom\n",
    "m.set( [1,2], \"rb\" )         # right-bottom\n",
    "\n",
    "print( m )                   # should print:\n",
    "                             # lu, ., ru\n",
    "                             # lb, ., rb\n"
   ]
  },
  {
   "attachments": {},
   "cell_type": "markdown",
   "metadata": {},
   "source": [
    "### Array (more complex code) [ADVANCED]"
   ]
  },
  {
   "attachments": {},
   "cell_type": "markdown",
   "metadata": {},
   "source": [
    "Note, that in the `Matrix` task the functions `get` and `set` require the position `pos` to be specified as a two-elements tuple instead of two separate arguments `r` and `c`. Consequently, the interface can be easily generalized to multi-dimensional arrays.  \n",
    "\n",
    "Implement a class `Array`, where the `dims` argument describes sizes in 1,2,3,... dimensions.  \n",
    "For example: `m=Array( dims=(2,3,4) )` should be a 3-dimensional array with 2 positions in dimension `0`, 3 positions in dimension `1` and 4 positions in dimension `2` (so, in total, 2*3*4=24 elements). Getting an element would become, for example: `m.get(pos=(0,1,2))`. Printing functions are more difficult to generalize - ideas are welcome."
   ]
  },
  {
   "cell_type": "code",
   "execution_count": 40,
   "metadata": {},
   "outputs": [],
   "source": [
    "class Array:\n",
    "    def _produc_dim(self,dim):\n",
    "        result = 1\n",
    "        for i in dim:\n",
    "            result *= i\n",
    "        return result\n",
    "\n",
    "    def __init__(self,dims,val=0):\n",
    "        self._dims = dims\n",
    "        self._data = [val]*self._produc_dim(dims)\n",
    "        \n",
    "    def set(self,pos,val):\n",
    "        self._data[self._pos2idx(pos)] = val\n",
    "    \n",
    "    def get(self,pos):\n",
    "        return(self._data[self._pos2idx(pos)])\n",
    "    \n",
    "    def _pos2idx(self,pos):\n",
    "        sum1 = 0\n",
    "        for i in range(len(pos)):\n",
    "            if pos[i] < 0:\n",
    "                raise Exception(\"Negative dimension detected\")\n",
    "            if pos[i]>self._dims[i]-1:\n",
    "                raise Exception(f\"Dimension[{i}] requested has exceeded the array Dimension[{i}]\")\n",
    "            sum1 += self._produc_dim(self._dims[i+1:])*pos[i] \n",
    "        return(sum1)\n",
    "    \n"
   ]
  },
  {
   "cell_type": "code",
   "execution_count": 47,
   "metadata": {},
   "outputs": [
    {
     "data": {
      "text/plain": [
       "[0, 10, 0, 0, 0, 0, 0, 0, 0, 0, 0, 0, 0, 0, 0, 0, 0, 0, 0, 0, 0, 0, 0, 20]"
      ]
     },
     "execution_count": 47,
     "metadata": {},
     "output_type": "execute_result"
    }
   ],
   "source": [
    "m = Array(dims=(2,3,4))\n",
    "m.set( pos=(0,0,1), val=10 )\n",
    "m.set( pos=(1,2,3), val=20 )\n",
    "m.get( pos=(0,0,0) )\n",
    "# m.get( pos=(-1,-1,-1) )           # IndexError\n",
    "m.get( pos=(1,1,1) )\n",
    "m._data                           # 24 elements, 22 zeroes, one 10, one 20"
   ]
  }
 ],
 "metadata": {
  "kernelspec": {
   "display_name": "jupyter",
   "language": "python",
   "name": "python3"
  },
  "language_info": {
   "codemirror_mode": {
    "name": "ipython",
    "version": 3
   },
   "file_extension": ".py",
   "mimetype": "text/x-python",
   "name": "python",
   "nbconvert_exporter": "python",
   "pygments_lexer": "ipython3",
   "version": "3.11.5"
  },
  "orig_nbformat": 4,
  "vscode": {
   "interpreter": {
    "hash": "0fadeaac72bf3c14f9665939c662a31c8aa4e36681a8cd408ae34884627e6cff"
   }
  }
 },
 "nbformat": 4,
 "nbformat_minor": 2
}
