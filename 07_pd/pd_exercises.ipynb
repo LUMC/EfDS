{
 "cells": [
  {
   "cell_type": "code",
   "execution_count": 1,
   "metadata": {
    "collapsed": false
   },
   "outputs": [],
   "source": [
    "import pandas as pd\n",
    "import numpy as np\n",
    "from numpy.random import default_rng\n",
    "rng = default_rng()"
   ]
  },
  {
   "cell_type": "markdown",
   "metadata": {
    "collapsed": false
   },
   "source": [
    "## Series"
   ]
  },
  {
   "cell_type": "markdown",
   "metadata": {
    "collapsed": false
   },
   "source": [
    "Given the Series below:"
   ]
  },
  {
   "cell_type": "code",
   "execution_count": 2,
   "metadata": {
    "collapsed": false
   },
   "outputs": [],
   "source": [
    "s = pd.Series(np.arange(5),index=list(\"abcde\"))"
   ]
  },
  {
   "cell_type": "markdown",
   "metadata": {
    "collapsed": false
   },
   "source": [
    "without entering the statements:\n",
    "\n",
    "- predict the values and the type of object returned for each statement:"
   ]
  },
  {
   "cell_type": "code",
   "execution_count": 3,
   "metadata": {
    "collapsed": false
   },
   "outputs": [
    {
     "data": {
      "text/plain": [
       "b    1\n",
       "a    0\n",
       "dtype: int32"
      ]
     },
     "execution_count": 3,
     "metadata": {},
     "output_type": "execute_result"
    }
   ],
   "source": [
    "s['d']        # ...\n",
    "s['b':'d']    # ...\n",
    "s[2::2][::-1] # ...\n",
    "s[['b', 'a']] # ..."
   ]
  },
  {
   "cell_type": "markdown",
   "metadata": {
    "collapsed": false
   },
   "source": [
    "- predict the contents of `s`, `s1` and `lst`:"
   ]
  },
  {
   "cell_type": "code",
   "execution_count": null,
   "metadata": {
    "collapsed": false
   },
   "outputs": [],
   "source": [
    "lst, idx = np.arange(5), list(\"abcde\")\n",
    "s = pd.Series(lst,idx)\n",
    "s[-1:] = 10               # ...\n",
    "lst[0] = 5                # ...\n",
    "s1 = pd.Series(s.copy())  # ...\n",
    "s1[0] = -1                # ..."
   ]
  },
  {
   "cell_type": "markdown",
   "metadata": {
    "collapsed": false
   },
   "source": [
    "- predict the result of the operations"
   ]
  },
  {
   "cell_type": "code",
   "execution_count": null,
   "metadata": {
    "collapsed": false
   },
   "outputs": [],
   "source": [
    "s1 = pd.Series({'a': 0, 'b': 1, 'c': 2, 'd': 3, 'e': 4})\n",
    "s2 = pd.Series({'d': 0, 'e': 1, 'f': 2, 'g': 3})\n",
    "\n",
    "s1 + s2           # ...\n",
    "s1[3:] * s2[:-2]  # ..."
   ]
  },
  {
   "cell_type": "markdown",
   "metadata": {
    "collapsed": false
   },
   "source": [
    "## DataFrame"
   ]
  },
  {
   "cell_type": "markdown",
   "metadata": {
    "collapsed": false
   },
   "source": [
    "Given the DataFrame `df` below:"
   ]
  },
  {
   "cell_type": "code",
   "execution_count": 47,
   "metadata": {
    "collapsed": false
   },
   "outputs": [],
   "source": [
    "rng = default_rng(1234)\n",
    "df = pd.DataFrame(np.array(rng.standard_normal(25)).reshape(5,5),\n",
    "             index=[1, 0, 4, 3, 2], columns=list(\"abcde\"))"
   ]
  },
  {
   "cell_type": "markdown",
   "metadata": {
    "collapsed": false
   },
   "source": [
    "retrieve:\n",
    "- 2nd row as a Series\n",
    "- 3rd row as a DataFrame\n",
    "- rows on even positions\n",
    "- rows with even indices\n",
    "- 3d column\n",
    "- odd (index) rows and columns 'b' to 'd'"
   ]
  },
  {
   "cell_type": "code",
   "execution_count": 50,
   "metadata": {
    "collapsed": false
   },
   "outputs": [
    {
     "name": "stdout",
     "output_type": "stream",
     "text": [
      "          a         b         c         d         e\n",
      "1 -1.603837  0.064100  0.740891  0.152619  0.863744\n",
      "0  2.913099 -1.478823  0.945473 -1.666135  0.343745\n",
      "4 -0.512444  1.323759 -0.860280  0.519493 -1.265144\n",
      "3 -2.159139  0.434734  1.733289  0.520134 -1.002166\n",
      "2  0.268346  0.767175  1.191272 -1.157411  0.696279\n"
     ]
    },
    {
     "data": {
      "text/html": [
       "<div>\n",
       "<style scoped>\n",
       "    .dataframe tbody tr th:only-of-type {\n",
       "        vertical-align: middle;\n",
       "    }\n",
       "\n",
       "    .dataframe tbody tr th {\n",
       "        vertical-align: top;\n",
       "    }\n",
       "\n",
       "    .dataframe thead th {\n",
       "        text-align: right;\n",
       "    }\n",
       "</style>\n",
       "<table border=\"1\" class=\"dataframe\">\n",
       "  <thead>\n",
       "    <tr style=\"text-align: right;\">\n",
       "      <th></th>\n",
       "      <th>b</th>\n",
       "      <th>c</th>\n",
       "      <th>d</th>\n",
       "    </tr>\n",
       "  </thead>\n",
       "  <tbody>\n",
       "    <tr>\n",
       "      <th>1</th>\n",
       "      <td>0.064100</td>\n",
       "      <td>0.740891</td>\n",
       "      <td>0.152619</td>\n",
       "    </tr>\n",
       "    <tr>\n",
       "      <th>3</th>\n",
       "      <td>0.434734</td>\n",
       "      <td>1.733289</td>\n",
       "      <td>0.520134</td>\n",
       "    </tr>\n",
       "  </tbody>\n",
       "</table>\n",
       "</div>"
      ],
      "text/plain": [
       "          b         c         d\n",
       "1  0.064100  0.740891  0.152619\n",
       "3  0.434734  1.733289  0.520134"
      ]
     },
     "execution_count": 50,
     "metadata": {},
     "output_type": "execute_result"
    }
   ],
   "source": [
    "# ...\n",
    "print(df)\n",
    "df.loc[2]\n",
    "df.loc[[3]]\n",
    "df.iloc[1::2]\n",
    "df.loc[df.index%2==0]\n",
    "df[\"c\"]\n",
    "df.iloc[:,2]\n",
    "df.iloc[df.index%2==1,1:4]\n"
   ]
  },
  {
   "cell_type": "markdown",
   "metadata": {
    "collapsed": false
   },
   "source": [
    "### Merge DataFrames\n",
    "\n",
    "Given `df1`, `df2` and `df3` apply the following:\n",
    "\n",
    "- merge df1 and df2 side by side\n",
    "- merge df1 and df3 stacked\n",
    "- merge all and reset index"
   ]
  },
  {
   "cell_type": "code",
   "execution_count": 29,
   "metadata": {
    "collapsed": false
   },
   "outputs": [],
   "source": [
    "df1 = pd.DataFrame({'name': ['ants', 'bees','wasps'] , 'order':['Hymenoptera']*3})\n",
    "df2 = pd.DataFrame({'name': ['beetles', 'weevils'] , 'order':['Coleoptera']*2})\n",
    "df3 = pd.DataFrame({'name': ['butterflies', 'moths'], 'order':['Lepidoptera']*2 })"
   ]
  },
  {
   "cell_type": "code",
   "execution_count": 35,
   "metadata": {
    "collapsed": false,
    "pycharm": {
     "is_executing": true
    }
   },
   "outputs": [
    {
     "data": {
      "text/html": [
       "<div>\n",
       "<style scoped>\n",
       "    .dataframe tbody tr th:only-of-type {\n",
       "        vertical-align: middle;\n",
       "    }\n",
       "\n",
       "    .dataframe tbody tr th {\n",
       "        vertical-align: top;\n",
       "    }\n",
       "\n",
       "    .dataframe thead th {\n",
       "        text-align: right;\n",
       "    }\n",
       "</style>\n",
       "<table border=\"1\" class=\"dataframe\">\n",
       "  <thead>\n",
       "    <tr style=\"text-align: right;\">\n",
       "      <th></th>\n",
       "      <th>name</th>\n",
       "      <th>order</th>\n",
       "    </tr>\n",
       "  </thead>\n",
       "  <tbody>\n",
       "    <tr>\n",
       "      <th>0</th>\n",
       "      <td>ants</td>\n",
       "      <td>Hymenoptera</td>\n",
       "    </tr>\n",
       "    <tr>\n",
       "      <th>1</th>\n",
       "      <td>bees</td>\n",
       "      <td>Hymenoptera</td>\n",
       "    </tr>\n",
       "    <tr>\n",
       "      <th>2</th>\n",
       "      <td>wasps</td>\n",
       "      <td>Hymenoptera</td>\n",
       "    </tr>\n",
       "    <tr>\n",
       "      <th>3</th>\n",
       "      <td>beetles</td>\n",
       "      <td>Coleoptera</td>\n",
       "    </tr>\n",
       "    <tr>\n",
       "      <th>4</th>\n",
       "      <td>weevils</td>\n",
       "      <td>Coleoptera</td>\n",
       "    </tr>\n",
       "    <tr>\n",
       "      <th>5</th>\n",
       "      <td>butterflies</td>\n",
       "      <td>Lepidoptera</td>\n",
       "    </tr>\n",
       "    <tr>\n",
       "      <th>6</th>\n",
       "      <td>moths</td>\n",
       "      <td>Lepidoptera</td>\n",
       "    </tr>\n",
       "  </tbody>\n",
       "</table>\n",
       "</div>"
      ],
      "text/plain": [
       "          name        order\n",
       "0         ants  Hymenoptera\n",
       "1         bees  Hymenoptera\n",
       "2        wasps  Hymenoptera\n",
       "3      beetles   Coleoptera\n",
       "4      weevils   Coleoptera\n",
       "5  butterflies  Lepidoptera\n",
       "6        moths  Lepidoptera"
      ]
     },
     "execution_count": 35,
     "metadata": {},
     "output_type": "execute_result"
    }
   ],
   "source": [
    "# ...\n",
    "\n",
    "pd.concat([df1,df2],axis=1)     \n",
    "pd.concat([df1,df2])\n",
    "pd.concat([df1,df2,df3],ignore_index=True) "
   ]
  },
  {
   "cell_type": "markdown",
   "metadata": {
    "collapsed": false
   },
   "source": [
    "### Missing values"
   ]
  },
  {
   "cell_type": "markdown",
   "metadata": {
    "collapsed": false
   },
   "source": [
    "Given the following DataFrame"
   ]
  },
  {
   "cell_type": "code",
   "execution_count": 73,
   "metadata": {
    "collapsed": false
   },
   "outputs": [],
   "source": [
    "df = pd.DataFrame(np.arange(25).reshape(5,5))\n"
   ]
  },
  {
   "cell_type": "code",
   "execution_count": null,
   "metadata": {},
   "outputs": [],
   "source": [
    "\n",
    "# 0\t1\t2\t3\t4\n",
    "# 0\tNaN\t1.0\tNaN\t3.0\tNaN\n",
    "# 1\t5.0\t6.0\t7.0\t8.0\tNaN\n",
    "# 2\tNaN\tNaN\tNaN\tNaN\tNaN\n",
    "# 3\t15.0\t16.0\t17.0\t18.0\tNaN\n",
    "# 4\t20.0\t21.0\tNaN\t23.0\tNaN"
   ]
  },
  {
   "cell_type": "markdown",
   "metadata": {
    "collapsed": false
   },
   "source": [
    "set the values to NaN as such to reproduce the following DataFrame:"
   ]
  },
  {
   "cell_type": "code",
   "execution_count": 75,
   "metadata": {
    "collapsed": false
   },
   "outputs": [
    {
     "name": "stdout",
     "output_type": "stream",
     "text": [
      "      0     1     2     3   4\n",
      "0   NaN   1.0   NaN   3.0 NaN\n",
      "1   5.0   6.0   7.0   8.0 NaN\n",
      "2   NaN   NaN   NaN   NaN NaN\n",
      "3  15.0  16.0  17.0  18.0 NaN\n",
      "4  20.0  21.0   NaN  23.0 NaN\n"
     ]
    },
    {
     "data": {
      "text/html": [
       "<div>\n",
       "<style scoped>\n",
       "    .dataframe tbody tr th:only-of-type {\n",
       "        vertical-align: middle;\n",
       "    }\n",
       "\n",
       "    .dataframe tbody tr th {\n",
       "        vertical-align: top;\n",
       "    }\n",
       "\n",
       "    .dataframe thead th {\n",
       "        text-align: right;\n",
       "    }\n",
       "</style>\n",
       "<table border=\"1\" class=\"dataframe\">\n",
       "  <thead>\n",
       "    <tr style=\"text-align: right;\">\n",
       "      <th></th>\n",
       "      <th>0</th>\n",
       "      <th>1</th>\n",
       "      <th>2</th>\n",
       "      <th>3</th>\n",
       "      <th>4</th>\n",
       "    </tr>\n",
       "  </thead>\n",
       "  <tbody>\n",
       "    <tr>\n",
       "      <th>0</th>\n",
       "      <td>NaN</td>\n",
       "      <td>1.0</td>\n",
       "      <td>NaN</td>\n",
       "      <td>3.0</td>\n",
       "      <td>NaN</td>\n",
       "    </tr>\n",
       "    <tr>\n",
       "      <th>1</th>\n",
       "      <td>5.0</td>\n",
       "      <td>6.0</td>\n",
       "      <td>7.0</td>\n",
       "      <td>8.0</td>\n",
       "      <td>NaN</td>\n",
       "    </tr>\n",
       "    <tr>\n",
       "      <th>2</th>\n",
       "      <td>NaN</td>\n",
       "      <td>NaN</td>\n",
       "      <td>NaN</td>\n",
       "      <td>NaN</td>\n",
       "      <td>NaN</td>\n",
       "    </tr>\n",
       "    <tr>\n",
       "      <th>3</th>\n",
       "      <td>15.0</td>\n",
       "      <td>16.0</td>\n",
       "      <td>17.0</td>\n",
       "      <td>18.0</td>\n",
       "      <td>NaN</td>\n",
       "    </tr>\n",
       "    <tr>\n",
       "      <th>4</th>\n",
       "      <td>20.0</td>\n",
       "      <td>21.0</td>\n",
       "      <td>NaN</td>\n",
       "      <td>23.0</td>\n",
       "      <td>NaN</td>\n",
       "    </tr>\n",
       "  </tbody>\n",
       "</table>\n",
       "</div>"
      ],
      "text/plain": [
       "      0     1     2     3   4\n",
       "0   NaN   1.0   NaN   3.0 NaN\n",
       "1   5.0   6.0   7.0   8.0 NaN\n",
       "2   NaN   NaN   NaN   NaN NaN\n",
       "3  15.0  16.0  17.0  18.0 NaN\n",
       "4  20.0  21.0   NaN  23.0 NaN"
      ]
     },
     "execution_count": 75,
     "metadata": {},
     "output_type": "execute_result"
    }
   ],
   "source": [
    "# ...\n",
    "print(df)\n",
    "df.loc[2] = np.nan\n",
    "df.iloc[0,::2] = np.nan\n",
    "df.iloc[:,4] = np.nan\n",
    "df.iloc[4,2] = np.nan\n",
    "df\n",
    "\n"
   ]
  },
  {
   "cell_type": "markdown",
   "metadata": {
    "collapsed": false
   },
   "source": [
    "Apply the following on the dataframe with missing values created in the previous step.\n",
    "\n",
    "Drop missing:\n",
    "- rows with missing values\n",
    "- columns with missing values\n",
    "- rows where all values are missing\n",
    "- columns where all values are missing\n",
    "\n",
    "Fill missing:\n",
    "- with 0\n",
    "- with mean based on column values\n",
    "- with median based on row values"
   ]
  },
  {
   "cell_type": "code",
   "execution_count": 95,
   "metadata": {
    "collapsed": false
   },
   "outputs": [
    {
     "data": {
      "text/html": [
       "<div>\n",
       "<style scoped>\n",
       "    .dataframe tbody tr th:only-of-type {\n",
       "        vertical-align: middle;\n",
       "    }\n",
       "\n",
       "    .dataframe tbody tr th {\n",
       "        vertical-align: top;\n",
       "    }\n",
       "\n",
       "    .dataframe thead th {\n",
       "        text-align: right;\n",
       "    }\n",
       "</style>\n",
       "<table border=\"1\" class=\"dataframe\">\n",
       "  <thead>\n",
       "    <tr style=\"text-align: right;\">\n",
       "      <th></th>\n",
       "      <th>0</th>\n",
       "      <th>1</th>\n",
       "      <th>2</th>\n",
       "      <th>3</th>\n",
       "      <th>4</th>\n",
       "    </tr>\n",
       "  </thead>\n",
       "  <tbody>\n",
       "    <tr>\n",
       "      <th>0</th>\n",
       "      <td>NaN</td>\n",
       "      <td>1.0</td>\n",
       "      <td>NaN</td>\n",
       "      <td>3.0</td>\n",
       "      <td>NaN</td>\n",
       "    </tr>\n",
       "    <tr>\n",
       "      <th>1</th>\n",
       "      <td>5.0</td>\n",
       "      <td>6.0</td>\n",
       "      <td>7.0</td>\n",
       "      <td>8.0</td>\n",
       "      <td>NaN</td>\n",
       "    </tr>\n",
       "    <tr>\n",
       "      <th>3</th>\n",
       "      <td>15.0</td>\n",
       "      <td>16.0</td>\n",
       "      <td>17.0</td>\n",
       "      <td>18.0</td>\n",
       "      <td>NaN</td>\n",
       "    </tr>\n",
       "    <tr>\n",
       "      <th>4</th>\n",
       "      <td>20.0</td>\n",
       "      <td>21.0</td>\n",
       "      <td>NaN</td>\n",
       "      <td>23.0</td>\n",
       "      <td>NaN</td>\n",
       "    </tr>\n",
       "  </tbody>\n",
       "</table>\n",
       "</div>"
      ],
      "text/plain": [
       "      0     1     2     3   4\n",
       "0   NaN   1.0   NaN   3.0 NaN\n",
       "1   5.0   6.0   7.0   8.0 NaN\n",
       "3  15.0  16.0  17.0  18.0 NaN\n",
       "4  20.0  21.0   NaN  23.0 NaN"
      ]
     },
     "execution_count": 95,
     "metadata": {},
     "output_type": "execute_result"
    }
   ],
   "source": [
    "# ...\n",
    "df.dropna(axis=0)\n",
    "df.dropna(axis=1)\n",
    "df.dropna(axis=0,how='all')\n",
    "df.dropna(axis=1,how='all')\n",
    "df.fillna(0)\n",
    "df.fillna(df.mean(axis=0))  #axis = 0 refers to horizonal axis -> hence on all coloum\n",
    "df.fillna(df.median(axis=1))\n",
    "# df.mean(axis=0)"
   ]
  },
  {
   "cell_type": "markdown",
   "metadata": {
    "collapsed": false
   },
   "source": [
    "### Natural gas consumption in the Netherlands\n",
    "\n",
    "The dataset can be downloaded from [CBS Open data StatLine](https://opendata.cbs.nl/statline/portal.html?_la=en&_catalog=CBS). A version is already included in the data directory of this session's git repository. We will be using this dataset in the exercises to prepare for visualisation later on in the course.\n",
    "\n",
    "We first read the data with `pd.read_csv`. Here we only select the columns `Periods` and `TotalSupply_1`:"
   ]
  },
  {
   "cell_type": "code",
   "execution_count": 96,
   "metadata": {
    "collapsed": false
   },
   "outputs": [],
   "source": [
    "cbs = pd.read_csv(\"data/00372eng_UntypedDataSet_17032023_161051.csv\",sep=\";\")\n",
    "df0 = cbs[['Periods','TotalSupply_1']].copy()"
   ]
  },
  {
   "cell_type": "markdown",
   "metadata": {
    "collapsed": false
   },
   "source": [
    "The column `Periods`has the year (yyyy) followed by a tag {JJ,KW,MM} representing the yearly, quarterly and monthly terms respectively, and finally ending with two digits `00..12`. The two digit followed by the tags have different meaning per tag. For JJ it is always `00`, MM with `00..12` for 12 months and `KW`  with  `01..04` for four quarters. The column `TotaalAanbod_1` holds the natural gas consumption (MCM).\n",
    "\n",
    "In order to get more control over the date ranges we will need to split the string based on the pattern `YYYY{MM,KW,JJ}{00,...,12}`. The Series class has a comprehensive set of submodules, one of which being `pandas.Series.str` with the method `split`. The `split` method takes a [regular expression](https://docs.python.org/3/library/re.html) describing the pattern and  splits the string based on the pattern. Regular expressions fall beyond the scope of this course, therefore the solution is given here for the exercise."
   ]
  },
  {
   "cell_type": "code",
   "execution_count": 103,
   "metadata": {
    "collapsed": false
   },
   "outputs": [
    {
     "data": {
      "text/html": [
       "<div>\n",
       "<style scoped>\n",
       "    .dataframe tbody tr th:only-of-type {\n",
       "        vertical-align: middle;\n",
       "    }\n",
       "\n",
       "    .dataframe tbody tr th {\n",
       "        vertical-align: top;\n",
       "    }\n",
       "\n",
       "    .dataframe thead th {\n",
       "        text-align: right;\n",
       "    }\n",
       "</style>\n",
       "<table border=\"1\" class=\"dataframe\">\n",
       "  <thead>\n",
       "    <tr style=\"text-align: right;\">\n",
       "      <th></th>\n",
       "      <th>year</th>\n",
       "      <th>term</th>\n",
       "      <th>idx</th>\n",
       "      <th>TotalSupply_1</th>\n",
       "    </tr>\n",
       "  </thead>\n",
       "  <tbody>\n",
       "    <tr>\n",
       "      <th>700</th>\n",
       "      <td>2021</td>\n",
       "      <td>MM</td>\n",
       "      <td>2</td>\n",
       "      <td>4622</td>\n",
       "    </tr>\n",
       "    <tr>\n",
       "      <th>701</th>\n",
       "      <td>2021</td>\n",
       "      <td>MM</td>\n",
       "      <td>3</td>\n",
       "      <td>4414</td>\n",
       "    </tr>\n",
       "    <tr>\n",
       "      <th>702</th>\n",
       "      <td>2021</td>\n",
       "      <td>KW</td>\n",
       "      <td>1</td>\n",
       "      <td>14631</td>\n",
       "    </tr>\n",
       "    <tr>\n",
       "      <th>703</th>\n",
       "      <td>2021</td>\n",
       "      <td>MM</td>\n",
       "      <td>4</td>\n",
       "      <td>3655</td>\n",
       "    </tr>\n",
       "    <tr>\n",
       "      <th>704</th>\n",
       "      <td>2021</td>\n",
       "      <td>MM</td>\n",
       "      <td>5</td>\n",
       "      <td>2976</td>\n",
       "    </tr>\n",
       "    <tr>\n",
       "      <th>705</th>\n",
       "      <td>2021</td>\n",
       "      <td>MM</td>\n",
       "      <td>6</td>\n",
       "      <td>2303</td>\n",
       "    </tr>\n",
       "    <tr>\n",
       "      <th>706</th>\n",
       "      <td>2021</td>\n",
       "      <td>KW</td>\n",
       "      <td>2</td>\n",
       "      <td>8934</td>\n",
       "    </tr>\n",
       "    <tr>\n",
       "      <th>707</th>\n",
       "      <td>2021</td>\n",
       "      <td>MM</td>\n",
       "      <td>7</td>\n",
       "      <td>2147</td>\n",
       "    </tr>\n",
       "    <tr>\n",
       "      <th>708</th>\n",
       "      <td>2021</td>\n",
       "      <td>MM</td>\n",
       "      <td>8</td>\n",
       "      <td>1835</td>\n",
       "    </tr>\n",
       "    <tr>\n",
       "      <th>709</th>\n",
       "      <td>2021</td>\n",
       "      <td>MM</td>\n",
       "      <td>9</td>\n",
       "      <td>2131</td>\n",
       "    </tr>\n",
       "    <tr>\n",
       "      <th>710</th>\n",
       "      <td>2021</td>\n",
       "      <td>KW</td>\n",
       "      <td>3</td>\n",
       "      <td>6114</td>\n",
       "    </tr>\n",
       "    <tr>\n",
       "      <th>711</th>\n",
       "      <td>2021</td>\n",
       "      <td>MM</td>\n",
       "      <td>10</td>\n",
       "      <td>2582</td>\n",
       "    </tr>\n",
       "    <tr>\n",
       "      <th>712</th>\n",
       "      <td>2021</td>\n",
       "      <td>MM</td>\n",
       "      <td>11</td>\n",
       "      <td>3667</td>\n",
       "    </tr>\n",
       "    <tr>\n",
       "      <th>713</th>\n",
       "      <td>2021</td>\n",
       "      <td>MM</td>\n",
       "      <td>12</td>\n",
       "      <td>4206</td>\n",
       "    </tr>\n",
       "    <tr>\n",
       "      <th>714</th>\n",
       "      <td>2021</td>\n",
       "      <td>KW</td>\n",
       "      <td>4</td>\n",
       "      <td>10454</td>\n",
       "    </tr>\n",
       "    <tr>\n",
       "      <th>715</th>\n",
       "      <td>2021</td>\n",
       "      <td>JJ</td>\n",
       "      <td>0</td>\n",
       "      <td>40134</td>\n",
       "    </tr>\n",
       "    <tr>\n",
       "      <th>716</th>\n",
       "      <td>2022</td>\n",
       "      <td>MM</td>\n",
       "      <td>1</td>\n",
       "      <td>4257</td>\n",
       "    </tr>\n",
       "    <tr>\n",
       "      <th>717</th>\n",
       "      <td>2022</td>\n",
       "      <td>MM</td>\n",
       "      <td>2</td>\n",
       "      <td>3412</td>\n",
       "    </tr>\n",
       "    <tr>\n",
       "      <th>718</th>\n",
       "      <td>2022</td>\n",
       "      <td>MM</td>\n",
       "      <td>3</td>\n",
       "      <td>3245</td>\n",
       "    </tr>\n",
       "    <tr>\n",
       "      <th>719</th>\n",
       "      <td>2022</td>\n",
       "      <td>KW</td>\n",
       "      <td>1</td>\n",
       "      <td>10914</td>\n",
       "    </tr>\n",
       "    <tr>\n",
       "      <th>720</th>\n",
       "      <td>2022</td>\n",
       "      <td>MM</td>\n",
       "      <td>4</td>\n",
       "      <td>2651</td>\n",
       "    </tr>\n",
       "    <tr>\n",
       "      <th>721</th>\n",
       "      <td>2022</td>\n",
       "      <td>MM</td>\n",
       "      <td>5</td>\n",
       "      <td>2079</td>\n",
       "    </tr>\n",
       "    <tr>\n",
       "      <th>722</th>\n",
       "      <td>2022</td>\n",
       "      <td>MM</td>\n",
       "      <td>6</td>\n",
       "      <td>1920</td>\n",
       "    </tr>\n",
       "    <tr>\n",
       "      <th>723</th>\n",
       "      <td>2022</td>\n",
       "      <td>KW</td>\n",
       "      <td>2</td>\n",
       "      <td>6650</td>\n",
       "    </tr>\n",
       "    <tr>\n",
       "      <th>724</th>\n",
       "      <td>2022</td>\n",
       "      <td>MM</td>\n",
       "      <td>7</td>\n",
       "      <td>1747</td>\n",
       "    </tr>\n",
       "    <tr>\n",
       "      <th>725</th>\n",
       "      <td>2022</td>\n",
       "      <td>MM</td>\n",
       "      <td>8</td>\n",
       "      <td>1667</td>\n",
       "    </tr>\n",
       "    <tr>\n",
       "      <th>726</th>\n",
       "      <td>2022</td>\n",
       "      <td>MM</td>\n",
       "      <td>9</td>\n",
       "      <td>1727</td>\n",
       "    </tr>\n",
       "    <tr>\n",
       "      <th>727</th>\n",
       "      <td>2022</td>\n",
       "      <td>KW</td>\n",
       "      <td>3</td>\n",
       "      <td>5142</td>\n",
       "    </tr>\n",
       "    <tr>\n",
       "      <th>728</th>\n",
       "      <td>2022</td>\n",
       "      <td>MM</td>\n",
       "      <td>10</td>\n",
       "      <td>2094</td>\n",
       "    </tr>\n",
       "    <tr>\n",
       "      <th>729</th>\n",
       "      <td>2022</td>\n",
       "      <td>MM</td>\n",
       "      <td>11</td>\n",
       "      <td>2616</td>\n",
       "    </tr>\n",
       "    <tr>\n",
       "      <th>730</th>\n",
       "      <td>2022</td>\n",
       "      <td>MM</td>\n",
       "      <td>12</td>\n",
       "      <td>3812</td>\n",
       "    </tr>\n",
       "    <tr>\n",
       "      <th>731</th>\n",
       "      <td>2022</td>\n",
       "      <td>KW</td>\n",
       "      <td>4</td>\n",
       "      <td>8521</td>\n",
       "    </tr>\n",
       "    <tr>\n",
       "      <th>732</th>\n",
       "      <td>2022</td>\n",
       "      <td>JJ</td>\n",
       "      <td>0</td>\n",
       "      <td>31227</td>\n",
       "    </tr>\n",
       "    <tr>\n",
       "      <th>733</th>\n",
       "      <td>2023</td>\n",
       "      <td>MM</td>\n",
       "      <td>1</td>\n",
       "      <td>3386</td>\n",
       "    </tr>\n",
       "    <tr>\n",
       "      <th>734</th>\n",
       "      <td>2023</td>\n",
       "      <td>MM</td>\n",
       "      <td>2</td>\n",
       "      <td>3057</td>\n",
       "    </tr>\n",
       "  </tbody>\n",
       "</table>\n",
       "</div>"
      ],
      "text/plain": [
       "     year term  idx  TotalSupply_1\n",
       "700  2021   MM    2           4622\n",
       "701  2021   MM    3           4414\n",
       "702  2021   KW    1          14631\n",
       "703  2021   MM    4           3655\n",
       "704  2021   MM    5           2976\n",
       "705  2021   MM    6           2303\n",
       "706  2021   KW    2           8934\n",
       "707  2021   MM    7           2147\n",
       "708  2021   MM    8           1835\n",
       "709  2021   MM    9           2131\n",
       "710  2021   KW    3           6114\n",
       "711  2021   MM   10           2582\n",
       "712  2021   MM   11           3667\n",
       "713  2021   MM   12           4206\n",
       "714  2021   KW    4          10454\n",
       "715  2021   JJ    0          40134\n",
       "716  2022   MM    1           4257\n",
       "717  2022   MM    2           3412\n",
       "718  2022   MM    3           3245\n",
       "719  2022   KW    1          10914\n",
       "720  2022   MM    4           2651\n",
       "721  2022   MM    5           2079\n",
       "722  2022   MM    6           1920\n",
       "723  2022   KW    2           6650\n",
       "724  2022   MM    7           1747\n",
       "725  2022   MM    8           1667\n",
       "726  2022   MM    9           1727\n",
       "727  2022   KW    3           5142\n",
       "728  2022   MM   10           2094\n",
       "729  2022   MM   11           2616\n",
       "730  2022   MM   12           3812\n",
       "731  2022   KW    4           8521\n",
       "732  2022   JJ    0          31227\n",
       "733  2023   MM    1           3386\n",
       "734  2023   MM    2           3057"
      ]
     },
     "execution_count": 103,
     "metadata": {},
     "output_type": "execute_result"
    }
   ],
   "source": [
    "df = df0.Periods.str.split(r'(JJ|MM|KW)', regex=True, expand=True)  # expand=True forces the result into\n",
    "                                                                        # a DataFrame\n",
    "df = pd.DataFrame({'year': df[0].astype(int),                 # Create DataFrame {year,term,idx}\n",
    "                        'term': df[1],\n",
    "                        'idx': df[2].astype(int)})\n",
    "\n",
    "df = pd.concat([df,cbs[['TotalSupply_1']]],axis=1)\n",
    "df.loc[700::]\n",
    "# df.shape[0]"
   ]
  },
  {
   "cell_type": "markdown",
   "metadata": {
    "collapsed": false
   },
   "source": [
    "1) Write a function given a Series with {year,term,idx} returns a timestamp according to the following specification:\n",
    "\n",
    "```\n",
    "JJ : yyyyJJ00 => 31-12-yyyy\n",
    "KW : yyyyKWmm => where mm in {1,2,3,4}\n",
    "                 01: 1-1-yyyy to 31-3-yyyy\n",
    "                 02: 1-4-yyyy to 30-6-yyyy\n",
    "                 03: 1-7-yyyy to 30-9-yyyy\n",
    "                 04: 1-10-yyyy to 31-12-yyyy\n",
    "MM : yyyyMMmm => dd-mm-yyyy where dd is the last day of the month and\n",
    "                 mm in {1,..,12}\n",
    "```\n",
    "\n",
    "2) Create a new DataFrame called `ngc` (natural gas consumption) with three columns {term, date, consumption} :\n",
    "- term : {JJ,KW,MM}\n",
    "- date : timestamps as specified in the previous exercise\n",
    "- consumption: which is `TotalSupply_1` only renamed"
   ]
  },
  {
   "cell_type": "code",
   "execution_count": 147,
   "metadata": {
    "collapsed": false
   },
   "outputs": [
    {
     "data": {
      "text/plain": [
       "'28-2-2005'"
      ]
     },
     "execution_count": 147,
     "metadata": {},
     "output_type": "execute_result"
    }
   ],
   "source": [
    "# ...\n",
    "s = pd.Series([2005,\"MM\",2])\n",
    "s[0]\n",
    "df2 = df.loc[df.year == s[0]]\n",
    "s[1]\n",
    "df2['term'].isin([s[1]]).any()\n",
    "df2.loc[df2.term == s[1]]\n",
    "\"-\".join(str(x) for x in [1,2,'a'])\n",
    "def get_time(series1):\n",
    "    quart = [(\"1-1-\",\"31-3-\"),(\"1-4-\",\"30-6-\"),(\"1-7-\",\"30-9-\"),(\"1-10-\",\"31-12-\")]\n",
    "    mon_end = [31,28,31,30,31,30,30,31,30,31,30,31]\n",
    "    if s[1] == \"JJ\" and s[2]==0:\n",
    "        return f\"31-12-{s[0]}\"\n",
    "    elif s[1] == \"KW\" and s[2] in [1,2,3,4]:\n",
    "        return f\"{quart[s[2]-1][0]}{s[0]} to {quart[s[2]-1][1]}{s[0]}\"\n",
    "    elif s[1] == \"MM\":\n",
    "        if s[2] == 2:\n",
    "            if (s[0]%4==0 and s[0]%100!=0) or s[0]%400==0:\n",
    "                return f\"29-{s[2]}-{s[0]}\" \n",
    "        return f\"{mon_end[s[2]-1]}-{s[2]}-{s[0]}\"\n",
    "    else:\n",
    "        return \"some terms are wrong\"\n",
    "get_time(s)\n",
    "# s.isin([0]).any()\n",
    "    "
   ]
  },
  {
   "cell_type": "markdown",
   "metadata": {
    "collapsed": false
   },
   "source": [
    "Validate entries in the ngc DataFrame from the previous step:\n",
    "- whether sum of 3 months consumptions are equal to the corresponding quarterly entries(KW)\n",
    "- whether sum of 4 quarters addup to the yearly (JJ) entries"
   ]
  },
  {
   "cell_type": "code",
   "execution_count": null,
   "metadata": {
    "collapsed": false
   },
   "outputs": [],
   "source": [
    "# ..."
   ]
  }
 ],
 "metadata": {
  "kernelspec": {
   "display_name": "Python 3",
   "language": "python",
   "name": "python3"
  },
  "language_info": {
   "codemirror_mode": {
    "name": "ipython",
    "version": 3
   },
   "file_extension": ".py",
   "mimetype": "text/x-python",
   "name": "python",
   "nbconvert_exporter": "python",
   "pygments_lexer": "ipython3",
   "version": "3.11.4"
  }
 },
 "nbformat": 4,
 "nbformat_minor": 0
}
