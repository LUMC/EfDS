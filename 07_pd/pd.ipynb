{
 "cells": [
  {
   "cell_type": "markdown",
   "metadata": {
    "collapsed": false
   },
   "source": [
    "# pandas\n",
    "\n",
    "[pandas](https://pandas.pydata.org/) is an open source library for tabular heterogeneous data manipulation. The core structures are `Series` and `DataFrame` which can be seen as a collection of Series.  In addition `pandas` provides the necessary means for data cleaning and preparation. `pandas` uses NumPy array structure  as an extension type with methods for conversion in both directions.\n",
    "\n",
    "&#9888; A major difference between numpy arrays and `pandas` Series and DataFrame is in the way that <tt>pandas</tt> indices are used. In NumPy the index is implicitly assigned $0..(n-1)$ whereas `pandas` Series and DataFrame have similar behaviour but in addition allow labels as indices. In addition the indices are preserved after applying operations.\n",
    "\n",
    "Many parallels can be drawn between <tt>pandas</tt> and `tidyverse` R package. In terms of data structure, Series and DataFrame can be viewed as vectors and data.frame/tibble respectively. Furthermore, in terms of functionality most data manipulation operations available in tidyverse have a counterparts in <tt>pandas</tt>.\n"
   ]
  },
  {
   "cell_type": "code",
   "execution_count": 2,
   "metadata": {
    "collapsed": false
   },
   "outputs": [],
   "source": [
    "# convention\n",
    "import pandas as pd\n",
    "import numpy as np\n",
    "#\n",
    "from numpy.random import default_rng\n",
    "rng = default_rng()"
   ]
  },
  {
   "cell_type": "markdown",
   "metadata": {
    "collapsed": false
   },
   "source": [
    "## Series\n",
    "\n",
    "`Series` is a sequence of values, possibly of heterogeneous types. You can create Series with the <tt>pd.Series</tt> function.\n",
    "\n",
    "**Synopsis: &nbsp; &nbsp;**<tt>Series(data=None, index=None, dtype=None, name=None, copy=False)</tt>\n",
    " - data: array, iterable, dict, scalar\n",
    " - index: 1-dimensional array, otherwise $0..(n-1)$\n",
    " - dtype: [data types](https://pandas.pydata.org/docs/user_guide/basics.html#basics-dtypes), otherwise inferred\n",
    " - name: optional\n",
    " - copy: default False, data is not copied but is a reference"
   ]
  },
  {
   "cell_type": "code",
   "execution_count": 4,
   "metadata": {
    "collapsed": false
   },
   "outputs": [
    {
     "data": {
      "text/plain": [
       "0    3\n",
       "1    5\n",
       "2    7\n",
       "dtype: int64"
      ]
     },
     "execution_count": 4,
     "metadata": {},
     "output_type": "execute_result"
    }
   ],
   "source": [
    "s = pd.Series([3,5,7])\n",
    "s = pd.Series({'a':3, 'b':5, 'c':7})\n",
    "s = pd.Series([3,5,7], index=['a','b','c'])\n",
    "s = pd.Series([3,5,7])\n",
    "s"
   ]
  },
  {
   "cell_type": "markdown",
   "metadata": {
    "collapsed": false
   },
   "source": [
    "Input data to pd.Series is not copied by default. In the following scenario an update to Series `s` propogates to NumPy array `arr`:"
   ]
  },
  {
   "cell_type": "code",
   "execution_count": null,
   "metadata": {
    "collapsed": false
   },
   "outputs": [],
   "source": [
    "arr = np.array(range(3,7+1,2)) # NumPy array [3,7] with step=2\n",
    "s = pd.Series(arr, copy=False) # default copy=False\n",
    "s[1] = -1                      # set value s[1] to -1"
   ]
  },
  {
   "cell_type": "markdown",
   "metadata": {
    "collapsed": false
   },
   "source": [
    "Series, besides the ordered indices $0..(n-1)$, may also be viewed as a dictionary where values are accessed based on mapped indices to values:"
   ]
  },
  {
   "cell_type": "code",
   "execution_count": null,
   "metadata": {
    "collapsed": false
   },
   "outputs": [],
   "source": [
    "s = pd.Series({'a':3, 'b':5, 'c':7})\n",
    "s[1] == s['b']"
   ]
  },
  {
   "cell_type": "markdown",
   "metadata": {
    "collapsed": false
   },
   "source": [
    "Operations between Series are carried out based on matching indices as opposed to element-wise:"
   ]
  },
  {
   "cell_type": "code",
   "execution_count": null,
   "metadata": {
    "collapsed": false
   },
   "outputs": [],
   "source": [
    "s1 = pd.Series({'a':3, 'b':5, 'c':2})\n",
    "s2 = pd.Series({'b':3, 'a':5, 'c':2})\n",
    "s1+s2"
   ]
  },
  {
   "cell_type": "markdown",
   "metadata": {
    "collapsed": false
   },
   "source": [
    "and they don't have to be the same size:"
   ]
  },
  {
   "cell_type": "code",
   "execution_count": null,
   "metadata": {
    "collapsed": false
   },
   "outputs": [],
   "source": [
    "s3 = pd.Series({'b':3, 'a':5, 'c':2, 'd':10}) # there is no matching 'd' in s1 therefore d=NaN\n",
    "s1+s3"
   ]
  },
  {
   "cell_type": "markdown",
   "metadata": {
    "collapsed": false
   },
   "source": [
    "Index membership:"
   ]
  },
  {
   "cell_type": "code",
   "execution_count": null,
   "metadata": {
    "collapsed": false
   },
   "outputs": [],
   "source": [
    "\"b\" in s1 # s1 : {'a':3, 'b':5, 'c':2}"
   ]
  },
  {
   "cell_type": "markdown",
   "metadata": {
    "collapsed": false
   },
   "source": [
    "In contrast to NumPy arrays, and R vectors, being homogenous containers, Series may take up values of different types:"
   ]
  },
  {
   "cell_type": "code",
   "execution_count": null,
   "metadata": {
    "collapsed": false
   },
   "outputs": [],
   "source": [
    "s = pd.Series({'a':3, 'b':5, 'c':'7'})\n",
    "s.dtype\n",
    "[type(v) for v in s]"
   ]
  },
  {
   "cell_type": "markdown",
   "metadata": {
    "collapsed": false
   },
   "source": [
    "## Series methods and submodules\n",
    "\n",
    "An exhaustive review of [Series' methods and submodules](https://pandas.pydata.org/docs/reference/series.html#) is beyond the scope of this course. Here we only review several common uses.\n",
    "\n"
   ]
  },
  {
   "cell_type": "code",
   "execution_count": null,
   "metadata": {
    "collapsed": false
   },
   "outputs": [],
   "source": [
    "s1 = pd.Series(['apple', 'watermelon', 'orange', 'pear', 'cherry', 'strawberry'],\n",
    "               index=list(\"abcdef\"))\n",
    "s2 = pd.Series(['apple', 'kiwi', 'orange', 'pear', 'cherry', 'grape'],\n",
    "               index=list(\"abcdef\"))\n",
    "s3 = pd.Series(np.log(np.arange(0.1,10,.1)), index=np.arange(0.1,10,.1))\n",
    "\n",
    "s4 = np.array([\"\"])\n",
    "\n",
    "s1.unique()\n",
    "s1.count()\n",
    "s1.compare(s2)\n",
    "s1.filter(['a','b'])\n",
    "s3.plot();\n",
    "s1.drop(['b','f'])\n",
    "s3.apply(lambda x: np.abs(x))"
   ]
  },
  {
   "cell_type": "markdown",
   "metadata": {
    "collapsed": false
   },
   "source": [
    "## Timestamp"
   ]
  },
  {
   "cell_type": "code",
   "execution_count": 24,
   "metadata": {
    "collapsed": false
   },
   "outputs": [
    {
     "data": {
      "text/plain": [
       "0   1988-04-01\n",
       "1   1987-01-01\n",
       "2   2011-12-01\n",
       "3   2005-06-01\n",
       "4   2005-05-01\n",
       "dtype: datetime64[ns]"
      ]
     },
     "execution_count": 24,
     "metadata": {},
     "output_type": "execute_result"
    }
   ],
   "source": [
    "dates = pd.Series(['1-4-1988', '1-1-1987', '1-12-2011', '1-6-2005', '1-5-2005'])\n",
    "tss = pd.to_datetime(dates,format=\"%d-%m-%Y\")\n",
    "# tss.min(), tss.max()\n",
    "# tss.sort_values()\n",
    "# tss[1].year\n",
    "tss"
   ]
  },
  {
   "cell_type": "markdown",
   "metadata": {
    "collapsed": false
   },
   "source": [
    "# DataFrame\n",
    "\n",
    "The pandas' DataFrame is a 2-dimensional structure which may be viewed as a collection of Series. It has indices for both dimensions. We will use the terms observations and variables for rows and columns interchangeably. DataFrame, and Series, can hold dimensions $>2$ with the so called `hierarchical indexing` which is beyond the scope of this course.\n",
    "\n",
    "&#9888; We will be working with homogeneous Series in the context of DataFrames.\n",
    "\n",
    "To create a DataFrame use the function pd.DataFrame:\n",
    "\n",
    "**Synopsis: &nbsp; &nbsp;**<tt>DataFrame(data=None, index=None, columns=None, dtype=None, copy=None)</tt>\n",
    "\n",
    "Most arguments are familiar from pd.Series except the additional *columns* with which the indices of the second dimension are controlled.\n"
   ]
  },
  {
   "cell_type": "code",
   "execution_count": null,
   "metadata": {
    "collapsed": false
   },
   "outputs": [],
   "source": [
    "df = pd.DataFrame(data=[[3,'a'], [5,'b'], [7,'c']],                    # list, tuple, or np.array\n",
    "                  columns=['x', 'y'])                                  #\n",
    "df = pd.DataFrame({'x': [3,5,7], 'y': ['a','b','c']})                  # dictionary of columns / can use dic.items()\n",
    "df = pd.DataFrame({3:'a', 5:'b', 7: 'c'}.items(), columns= ['x','y'])  # dictionary of rows"
   ]
  },
  {
   "cell_type": "markdown",
   "metadata": {
    "collapsed": false
   },
   "source": [
    "## DataFrame : read/write\n",
    "\n",
    "You may want to store or share with others the DataFrame you just created. The most common data format to store a DataFrame is comma-separated-values (csv) format. Use `to_csv` method to export a DataFrame and `pd.read_csv` import:"
   ]
  },
  {
   "cell_type": "code",
   "execution_count": null,
   "metadata": {
    "collapsed": false
   },
   "outputs": [],
   "source": [
    "df = pd.DataFrame({'x': rng.standard_normal(10), 'y': rng.standard_normal(10)})\n",
    "df.to_csv(\"df.csv\",index=False)   # write df to file 'df.csv', do not include index\n",
    "df = pd.read_csv(\"df.csv\")        # read df.csv into df object"
   ]
  },
  {
   "cell_type": "markdown",
   "metadata": {
    "collapsed": false
   },
   "source": [
    "## Inspect content"
   ]
  },
  {
   "cell_type": "code",
   "execution_count": null,
   "metadata": {
    "collapsed": false
   },
   "outputs": [],
   "source": [
    "df = pd.DataFrame({'x': rng.standard_normal(10), 'y': rng.standard_normal(10)}) # x and y two random variables\n",
    "\n",
    "df.head()                   # top 5 (default) observation\n",
    "df.tail(2)                  # last 2 observations\n",
    "df.head(5).tail(2)          # composition\n",
    "df.shape                    # size of the dimensions\n",
    "df.size                     # total number of elements\n",
    "df.columns                  # the columns indices/names\n",
    "df.dtypes                   # listing of all columns' types\n",
    "df.describe()               # descriptive summary of all variables"
   ]
  },
  {
   "cell_type": "markdown",
   "metadata": {
    "collapsed": false
   },
   "source": [
    "## Select columns\n",
    "\n",
    "### Single column\n",
    "\n",
    "You can select a column from a DataFrame using the square bracket `df[\"column_name\"]` or `df.column_name`. When only one column name is given the result is a Series, with a list of columns the result is a DataFrame:"
   ]
  },
  {
   "cell_type": "code",
   "execution_count": null,
   "metadata": {
    "collapsed": false
   },
   "outputs": [],
   "source": [
    "df[\"x\"]   # Series\n",
    "df.x      # <=>  df[\"x\"]\n",
    "df[[\"x\"]] # DataFrame"
   ]
  },
  {
   "cell_type": "markdown",
   "metadata": {
    "collapsed": false
   },
   "source": [
    "Only `valid python names` can be accessed through dot `.`:"
   ]
  },
  {
   "cell_type": "code",
   "execution_count": null,
   "metadata": {
    "collapsed": false
   },
   "outputs": [],
   "source": [
    "pd.DataFrame({'valid_name': [1,2,3], 'another variable':[3,2,1]  }).valid_name"
   ]
  },
  {
   "cell_type": "markdown",
   "metadata": {
    "collapsed": false
   },
   "source": [
    "### Multiple columns\n",
    "\n",
    "Use a list of indices to select multiple columns:"
   ]
  },
  {
   "cell_type": "code",
   "execution_count": null,
   "metadata": {
    "collapsed": false
   },
   "outputs": [],
   "source": [
    "df[['Periods', 'TotalSupply_1']]  # explicit\n",
    "df[df.columns[[1,2]]]             # use indices on df.columns"
   ]
  },
  {
   "cell_type": "markdown",
   "metadata": {
    "collapsed": false
   },
   "source": [
    "## Select rows\n",
    "\n",
    "### Using logical criteria\n",
    "\n",
    "Similar to NumPy logical masks we can filter out rows for which the logical condition succeeds. A condition on the variables of a DataFrame returns a logical value for each row in a format of a `Series` object:"
   ]
  },
  {
   "cell_type": "code",
   "execution_count": 7,
   "metadata": {
    "collapsed": false
   },
   "outputs": [
    {
     "data": {
      "text/html": [
       "<div>\n",
       "<style scoped>\n",
       "    .dataframe tbody tr th:only-of-type {\n",
       "        vertical-align: middle;\n",
       "    }\n",
       "\n",
       "    .dataframe tbody tr th {\n",
       "        vertical-align: top;\n",
       "    }\n",
       "\n",
       "    .dataframe thead th {\n",
       "        text-align: right;\n",
       "    }\n",
       "</style>\n",
       "<table border=\"1\" class=\"dataframe\">\n",
       "  <thead>\n",
       "    <tr style=\"text-align: right;\">\n",
       "      <th></th>\n",
       "      <th>x</th>\n",
       "      <th>y</th>\n",
       "    </tr>\n",
       "  </thead>\n",
       "  <tbody>\n",
       "    <tr>\n",
       "      <th>0</th>\n",
       "      <td>0.223717</td>\n",
       "      <td>0.509649</td>\n",
       "    </tr>\n",
       "    <tr>\n",
       "      <th>1</th>\n",
       "      <td>-0.447446</td>\n",
       "      <td>0.101695</td>\n",
       "    </tr>\n",
       "    <tr>\n",
       "      <th>2</th>\n",
       "      <td>-0.464626</td>\n",
       "      <td>0.854175</td>\n",
       "    </tr>\n",
       "    <tr>\n",
       "      <th>3</th>\n",
       "      <td>-0.096093</td>\n",
       "      <td>2.941185</td>\n",
       "    </tr>\n",
       "    <tr>\n",
       "      <th>4</th>\n",
       "      <td>0.877597</td>\n",
       "      <td>0.430239</td>\n",
       "    </tr>\n",
       "    <tr>\n",
       "      <th>5</th>\n",
       "      <td>0.629790</td>\n",
       "      <td>0.811382</td>\n",
       "    </tr>\n",
       "    <tr>\n",
       "      <th>6</th>\n",
       "      <td>0.604654</td>\n",
       "      <td>-0.926509</td>\n",
       "    </tr>\n",
       "    <tr>\n",
       "      <th>7</th>\n",
       "      <td>-0.701953</td>\n",
       "      <td>0.730740</td>\n",
       "    </tr>\n",
       "    <tr>\n",
       "      <th>8</th>\n",
       "      <td>-1.239491</td>\n",
       "      <td>0.333525</td>\n",
       "    </tr>\n",
       "    <tr>\n",
       "      <th>9</th>\n",
       "      <td>0.154013</td>\n",
       "      <td>-0.270494</td>\n",
       "    </tr>\n",
       "  </tbody>\n",
       "</table>\n",
       "</div>"
      ],
      "text/plain": [
       "          x         y\n",
       "0  0.223717  0.509649\n",
       "1 -0.447446  0.101695\n",
       "2 -0.464626  0.854175\n",
       "3 -0.096093  2.941185\n",
       "4  0.877597  0.430239\n",
       "5  0.629790  0.811382\n",
       "6  0.604654 -0.926509\n",
       "7 -0.701953  0.730740\n",
       "8 -1.239491  0.333525\n",
       "9  0.154013 -0.270494"
      ]
     },
     "execution_count": 7,
     "metadata": {},
     "output_type": "execute_result"
    }
   ],
   "source": [
    "df = pd.DataFrame({'x': rng.standard_normal(10), 'y': rng.standard_normal(10)}) # x and y two random variables\n",
    "df[((df.x < 0) & (df.y > 0))]  # parentheses are required\n",
    "df"
   ]
  },
  {
   "cell_type": "markdown",
   "metadata": {
    "collapsed": false
   },
   "source": [
    "### Using index : loc method\n",
    "\n",
    "Rows in a Dataframe are by default indexed with $[0,n)$. The `DataFrame` method `loc` can be used in the following forms:\n",
    "\n",
    "- `df.loc[<row-label>]`                : select a row by numeric index\n",
    "- `df.loc[<row-label>,<column-label>]` : select the indexed entry\n",
    "\n",
    "Both row-label and column-label may take values such as, a single label,  list/array of labels, slices, boolean arrays and series. Though these indexing schemes may look similar to NumPy, there are two cautionary remarks:\n",
    "\n",
    "- The labels are not positional indices.\n",
    "- The slices used with `.loc` are inclusive of start and stop, i.e. [0,k].\n"
   ]
  },
  {
   "cell_type": "code",
   "execution_count": 9,
   "metadata": {
    "collapsed": false
   },
   "outputs": [
    {
     "data": {
      "text/plain": [
       "4    0.877597\n",
       "6    0.604654\n",
       "9    0.154013\n",
       "Name: x, dtype: float64"
      ]
     },
     "execution_count": 9,
     "metadata": {},
     "output_type": "execute_result"
    }
   ],
   "source": [
    "df.loc[1]               # [.] row 1 as a Series\n",
    "df.loc[[1]]             # [[.]] row 1 as a DataFrame\n",
    "df.loc[1,'x']           # [.,.] labels\n",
    "df.loc[0:3, 'x':'y']    # [.,.] slices\n",
    "df.loc[df.x > df.y,'x'] # [.,.] boolean"
   ]
  },
  {
   "cell_type": "markdown",
   "metadata": {
    "collapsed": false
   },
   "source": [
    "**iloc:** Also take a look at the method `iloc` which is similar to `loc` except it only accepts positional integers or ranges for rows and columns indices."
   ]
  },
  {
   "cell_type": "markdown",
   "metadata": {
    "collapsed": false
   },
   "source": [
    "## Update variables\n",
    "\n",
    "DataFrame's columns can be updated with an assignment `=` with or without a row selection:"
   ]
  },
  {
   "cell_type": "code",
   "execution_count": null,
   "metadata": {
    "collapsed": false
   },
   "outputs": [],
   "source": [
    "df.x=range(df.shape[0])            # variable size and the size of the new values must match.\n",
    "df.loc[(df.x % 2 ==0),'y'] = None  # set y values to NaN where x is an even value"
   ]
  },
  {
   "cell_type": "markdown",
   "metadata": {
    "collapsed": false
   },
   "source": [
    "Value update according to a selection should only be done using `.loc` (or `.iloc`) method. For example both selections below are equivalent but only the `.loc` version can be used in an assignment:"
   ]
  },
  {
   "cell_type": "code",
   "execution_count": null,
   "metadata": {
    "collapsed": false
   },
   "outputs": [],
   "source": [
    "s1 = df[0::2]['y']      # selection with composition (aka chained)\n",
    "s2 = df.loc[0::2, 'y']  # selection with loc\n",
    "s1.equals(s2)           # s1 == s2\n",
    "df[0::2]['y'] = -2      # warning\n",
    "df.loc[0::2, 'y'] = -2  # valid"
   ]
  },
  {
   "cell_type": "markdown",
   "metadata": {
    "collapsed": false
   },
   "source": [
    "## Merge Series and DataFrames\n",
    "\n",
    "To combine DataFrames use the `pd.concat` function:\n",
    "\n",
    "**Synopsis: &nbsp; &nbsp;**<tt>concat(objs, axis=0, ignore_index=False, copy=True)</tt>"
   ]
  },
  {
   "cell_type": "code",
   "execution_count": null,
   "metadata": {
    "collapsed": false
   },
   "outputs": [],
   "source": [
    "s1 = pd.Series(list(\"abcd\"))          # ['a', 'b', 'c', 'd']\n",
    "s2 = pd.Series(range(4))              # [0, 4)\n",
    "pd.concat([s1,s2])                    # Series\n",
    "pd.concat([s1,s2], ignore_index=True)  # Series\n",
    "pd.concat([s1,s2], axis=1)            # DataFrame"
   ]
  },
  {
   "cell_type": "code",
   "execution_count": null,
   "metadata": {
    "collapsed": false
   },
   "outputs": [],
   "source": [
    "df1 = pd.DataFrame({'a':range(3), 'b':list(\"abc\")})\n",
    "df2 = pd.DataFrame({'c':range(5), 'b':list(\"abcde\"[::-1])})\n",
    "pd.concat([df1,df2], axis=0, join='outer')  # along axis 0\n",
    "pd.concat([df1,df2], axis=1, join='outer')  # along axis 1"
   ]
  },
  {
   "cell_type": "markdown",
   "metadata": {
    "collapsed": false
   },
   "source": [
    "## Add row to DataFrame\n",
    "\n",
    "For this we can use the `pd.concat` function:"
   ]
  },
  {
   "cell_type": "code",
   "execution_count": null,
   "metadata": {
    "collapsed": false
   },
   "outputs": [],
   "source": [
    "df = pd.DataFrame({'Year': [2021, 2021], 'Month': [11, 12],'Day': [9, 16]})\n",
    "new_row =  pd.DataFrame({'Year': [2023], 'Month': [3],'Day': [20]})\n",
    "pd.concat([df, new_row])"
   ]
  },
  {
   "cell_type": "markdown",
   "metadata": {
    "collapsed": false
   },
   "source": [
    "## Missing values\n",
    "\n",
    "Recall the special values None and NaN from the lectures representing no value and not a number. They are of different types and have different properties. In the context of DataFrames we have the notion of missing values, and they can be represented by both.\n",
    "\n",
    "NaN and None types:"
   ]
  },
  {
   "cell_type": "code",
   "execution_count": null,
   "metadata": {
    "collapsed": false
   },
   "outputs": [],
   "source": [
    "s = pd.Series([\"0\", float('nan'), np.nan,  2, None])\n",
    "[type(v) for v in s]"
   ]
  },
  {
   "cell_type": "markdown",
   "metadata": {
    "collapsed": false
   },
   "source": [
    "### Handling missing data\n",
    "\n",
    "Possible actions when dealing with missing data are  *summarise*, *remove* or *replace* missing values.\n",
    "\n",
    "To be able to do any action on missing values you'll need to first find them. DataFrame and Series have the methods `isna` and `isnull` (alias to `isna`) for finding missing values. Both return a logical mask with `True` marking the location of the missing values. We will use `isna` throughout the lectures."
   ]
  },
  {
   "cell_type": "code",
   "execution_count": 11,
   "metadata": {
    "collapsed": false
   },
   "outputs": [
    {
     "data": {
      "text/plain": [
       "0    3\n",
       "1    5\n",
       "2    7\n",
       "dtype: int64"
      ]
     },
     "execution_count": 11,
     "metadata": {},
     "output_type": "execute_result"
    }
   ],
   "source": [
    "s.isna()      # isna: boolean marking missing value\n",
    "s[s.notna()]  # <=> s[~ s.isna()]"
   ]
  },
  {
   "cell_type": "markdown",
   "metadata": {
    "collapsed": false
   },
   "source": [
    "With `dropna` you may discard all missing from a Series object. With DataFrames you'll have more control in how to discard the missing\n",
    "\n",
    "**Synopsis: &nbsp; &nbsp;**<tt>pandas.DataFrame.dropna(axis=0, how='any', thresh=None, inplace=False)</tt>"
   ]
  },
  {
   "cell_type": "code",
   "execution_count": 13,
   "metadata": {
    "collapsed": false
   },
   "outputs": [
    {
     "data": {
      "text/html": [
       "<div>\n",
       "<style scoped>\n",
       "    .dataframe tbody tr th:only-of-type {\n",
       "        vertical-align: middle;\n",
       "    }\n",
       "\n",
       "    .dataframe tbody tr th {\n",
       "        vertical-align: top;\n",
       "    }\n",
       "\n",
       "    .dataframe thead th {\n",
       "        text-align: right;\n",
       "    }\n",
       "</style>\n",
       "<table border=\"1\" class=\"dataframe\">\n",
       "  <thead>\n",
       "    <tr style=\"text-align: right;\">\n",
       "      <th></th>\n",
       "      <th>0</th>\n",
       "      <th>1</th>\n",
       "      <th>2</th>\n",
       "      <th>3</th>\n",
       "      <th>4</th>\n",
       "    </tr>\n",
       "  </thead>\n",
       "  <tbody>\n",
       "    <tr>\n",
       "      <th>0</th>\n",
       "      <td>NaN</td>\n",
       "      <td>NaN</td>\n",
       "      <td>1.0</td>\n",
       "      <td>NaN</td>\n",
       "      <td>8.0</td>\n",
       "    </tr>\n",
       "    <tr>\n",
       "      <th>1</th>\n",
       "      <td>6.0</td>\n",
       "      <td>5.0</td>\n",
       "      <td>9.0</td>\n",
       "      <td>8.0</td>\n",
       "      <td>4.0</td>\n",
       "    </tr>\n",
       "    <tr>\n",
       "      <th>2</th>\n",
       "      <td>NaN</td>\n",
       "      <td>0.0</td>\n",
       "      <td>8.0</td>\n",
       "      <td>7.0</td>\n",
       "      <td>8.0</td>\n",
       "    </tr>\n",
       "    <tr>\n",
       "      <th>3</th>\n",
       "      <td>6.0</td>\n",
       "      <td>0.0</td>\n",
       "      <td>8.0</td>\n",
       "      <td>2.0</td>\n",
       "      <td>4.0</td>\n",
       "    </tr>\n",
       "    <tr>\n",
       "      <th>4</th>\n",
       "      <td>3.0</td>\n",
       "      <td>0.0</td>\n",
       "      <td>0.0</td>\n",
       "      <td>2.0</td>\n",
       "      <td>4.0</td>\n",
       "    </tr>\n",
       "  </tbody>\n",
       "</table>\n",
       "</div>"
      ],
      "text/plain": [
       "     0    1    2    3    4\n",
       "0  NaN  NaN  1.0  NaN  8.0\n",
       "1  6.0  5.0  9.0  8.0  4.0\n",
       "2  NaN  0.0  8.0  7.0  8.0\n",
       "3  6.0  0.0  8.0  2.0  4.0\n",
       "4  3.0  0.0  0.0  2.0  4.0"
      ]
     },
     "execution_count": 13,
     "metadata": {},
     "output_type": "execute_result"
    }
   ],
   "source": [
    "sample_space = np.arange(10).tolist() + ([np.nan]*2)\n",
    "df = pd.DataFrame(rng.choice(sample_space,25).reshape(5,5))\n",
    "df"
   ]
  },
  {
   "cell_type": "code",
   "execution_count": 14,
   "metadata": {
    "collapsed": false
   },
   "outputs": [
    {
     "data": {
      "text/html": [
       "<div>\n",
       "<style scoped>\n",
       "    .dataframe tbody tr th:only-of-type {\n",
       "        vertical-align: middle;\n",
       "    }\n",
       "\n",
       "    .dataframe tbody tr th {\n",
       "        vertical-align: top;\n",
       "    }\n",
       "\n",
       "    .dataframe thead th {\n",
       "        text-align: right;\n",
       "    }\n",
       "</style>\n",
       "<table border=\"1\" class=\"dataframe\">\n",
       "  <thead>\n",
       "    <tr style=\"text-align: right;\">\n",
       "      <th></th>\n",
       "      <th>0</th>\n",
       "      <th>1</th>\n",
       "      <th>2</th>\n",
       "      <th>3</th>\n",
       "      <th>4</th>\n",
       "    </tr>\n",
       "  </thead>\n",
       "  <tbody>\n",
       "    <tr>\n",
       "      <th>1</th>\n",
       "      <td>6.0</td>\n",
       "      <td>5.0</td>\n",
       "      <td>9.0</td>\n",
       "      <td>8.0</td>\n",
       "      <td>4.0</td>\n",
       "    </tr>\n",
       "    <tr>\n",
       "      <th>3</th>\n",
       "      <td>6.0</td>\n",
       "      <td>0.0</td>\n",
       "      <td>8.0</td>\n",
       "      <td>2.0</td>\n",
       "      <td>4.0</td>\n",
       "    </tr>\n",
       "    <tr>\n",
       "      <th>4</th>\n",
       "      <td>3.0</td>\n",
       "      <td>0.0</td>\n",
       "      <td>0.0</td>\n",
       "      <td>2.0</td>\n",
       "      <td>4.0</td>\n",
       "    </tr>\n",
       "  </tbody>\n",
       "</table>\n",
       "</div>"
      ],
      "text/plain": [
       "     0    1    2    3    4\n",
       "1  6.0  5.0  9.0  8.0  4.0\n",
       "3  6.0  0.0  8.0  2.0  4.0\n",
       "4  3.0  0.0  0.0  2.0  4.0"
      ]
     },
     "execution_count": 14,
     "metadata": {},
     "output_type": "execute_result"
    }
   ],
   "source": [
    "df.dropna(axis=0) # default : drop rows having any missing values\n",
    "# df.dropna(axis=1) # drop columns having any missing values\n",
    "# df.dropna(axis=1, how='all') # drop columns having only missing values"
   ]
  },
  {
   "cell_type": "markdown",
   "metadata": {
    "collapsed": false
   },
   "source": [
    "With `fillna` we can replace the missing with values, either fixed or a set of values (Series,DataFrame etc.) according to the indices. We only illustrate scalars here:"
   ]
  },
  {
   "cell_type": "code",
   "execution_count": null,
   "metadata": {
    "collapsed": false
   },
   "outputs": [],
   "source": [
    "df.fillna(0)\n",
    "df.fillna(df.mean(axis=0))"
   ]
  },
  {
   "cell_type": "markdown",
   "metadata": {
    "collapsed": false
   },
   "source": [
    "## Group operations\n",
    "\n",
    "When the data has categorical variables we may be interested in descriptive statistics on each group. This can be done by first grouping the data with `groupby` method and then summarise on those groups. I'll use the [diamonds](https://ggplot2.tidyverse.org/reference/diamonds.html) dataset for illustration."
   ]
  },
  {
   "cell_type": "code",
   "execution_count": 17,
   "metadata": {
    "collapsed": false
   },
   "outputs": [],
   "source": [
    "diamonds = pd.read_csv(\"data/diamonds.csv\") # read diamonds.csv"
   ]
  },
  {
   "cell_type": "code",
   "execution_count": 19,
   "metadata": {
    "collapsed": false
   },
   "outputs": [
    {
     "data": {
      "text/html": [
       "<div>\n",
       "<style scoped>\n",
       "    .dataframe tbody tr th:only-of-type {\n",
       "        vertical-align: middle;\n",
       "    }\n",
       "\n",
       "    .dataframe tbody tr th {\n",
       "        vertical-align: top;\n",
       "    }\n",
       "\n",
       "    .dataframe thead th {\n",
       "        text-align: right;\n",
       "    }\n",
       "</style>\n",
       "<table border=\"1\" class=\"dataframe\">\n",
       "  <thead>\n",
       "    <tr style=\"text-align: right;\">\n",
       "      <th></th>\n",
       "      <th>cut</th>\n",
       "      <th>clarity</th>\n",
       "      <th>carat</th>\n",
       "      <th>depth</th>\n",
       "      <th>table</th>\n",
       "      <th>price</th>\n",
       "      <th>x</th>\n",
       "      <th>y</th>\n",
       "      <th>z</th>\n",
       "    </tr>\n",
       "  </thead>\n",
       "  <tbody>\n",
       "    <tr>\n",
       "      <th>0</th>\n",
       "      <td>Fair</td>\n",
       "      <td>I1</td>\n",
       "      <td>1.361000</td>\n",
       "      <td>65.699048</td>\n",
       "      <td>58.114286</td>\n",
       "      <td>3703.533333</td>\n",
       "      <td>6.723000</td>\n",
       "      <td>6.624238</td>\n",
       "      <td>4.386905</td>\n",
       "    </tr>\n",
       "    <tr>\n",
       "      <th>1</th>\n",
       "      <td>Fair</td>\n",
       "      <td>IF</td>\n",
       "      <td>0.474444</td>\n",
       "      <td>60.066667</td>\n",
       "      <td>59.111111</td>\n",
       "      <td>1912.333333</td>\n",
       "      <td>5.050000</td>\n",
       "      <td>5.050000</td>\n",
       "      <td>3.033333</td>\n",
       "    </tr>\n",
       "    <tr>\n",
       "      <th>2</th>\n",
       "      <td>Fair</td>\n",
       "      <td>SI1</td>\n",
       "      <td>0.964632</td>\n",
       "      <td>63.910294</td>\n",
       "      <td>59.126961</td>\n",
       "      <td>4208.279412</td>\n",
       "      <td>6.127230</td>\n",
       "      <td>6.071985</td>\n",
       "      <td>3.895711</td>\n",
       "    </tr>\n",
       "    <tr>\n",
       "      <th>3</th>\n",
       "      <td>Fair</td>\n",
       "      <td>SI2</td>\n",
       "      <td>1.203841</td>\n",
       "      <td>64.421888</td>\n",
       "      <td>58.828326</td>\n",
       "      <td>5173.916309</td>\n",
       "      <td>6.570343</td>\n",
       "      <td>6.503927</td>\n",
       "      <td>4.211867</td>\n",
       "    </tr>\n",
       "    <tr>\n",
       "      <th>4</th>\n",
       "      <td>Fair</td>\n",
       "      <td>VS1</td>\n",
       "      <td>0.879824</td>\n",
       "      <td>62.945294</td>\n",
       "      <td>60.365294</td>\n",
       "      <td>4165.141176</td>\n",
       "      <td>5.932353</td>\n",
       "      <td>5.864059</td>\n",
       "      <td>3.709882</td>\n",
       "    </tr>\n",
       "    <tr>\n",
       "      <th>5</th>\n",
       "      <td>Fair</td>\n",
       "      <td>VS2</td>\n",
       "      <td>0.885249</td>\n",
       "      <td>63.637548</td>\n",
       "      <td>59.050958</td>\n",
       "      <td>4174.724138</td>\n",
       "      <td>5.966590</td>\n",
       "      <td>5.907011</td>\n",
       "      <td>3.780230</td>\n",
       "    </tr>\n",
       "    <tr>\n",
       "      <th>6</th>\n",
       "      <td>Fair</td>\n",
       "      <td>VVS1</td>\n",
       "      <td>0.664706</td>\n",
       "      <td>60.417647</td>\n",
       "      <td>61.235294</td>\n",
       "      <td>3871.352941</td>\n",
       "      <td>5.503529</td>\n",
       "      <td>5.508824</td>\n",
       "      <td>3.327647</td>\n",
       "    </tr>\n",
       "    <tr>\n",
       "      <th>7</th>\n",
       "      <td>Fair</td>\n",
       "      <td>VVS2</td>\n",
       "      <td>0.691594</td>\n",
       "      <td>62.847826</td>\n",
       "      <td>59.237681</td>\n",
       "      <td>3349.768116</td>\n",
       "      <td>5.495507</td>\n",
       "      <td>5.464638</td>\n",
       "      <td>3.444058</td>\n",
       "    </tr>\n",
       "    <tr>\n",
       "      <th>8</th>\n",
       "      <td>Good</td>\n",
       "      <td>I1</td>\n",
       "      <td>1.203021</td>\n",
       "      <td>62.067708</td>\n",
       "      <td>59.497917</td>\n",
       "      <td>3596.635417</td>\n",
       "      <td>6.651562</td>\n",
       "      <td>6.614792</td>\n",
       "      <td>4.065625</td>\n",
       "    </tr>\n",
       "    <tr>\n",
       "      <th>9</th>\n",
       "      <td>Good</td>\n",
       "      <td>IF</td>\n",
       "      <td>0.616338</td>\n",
       "      <td>61.440845</td>\n",
       "      <td>59.056338</td>\n",
       "      <td>4098.323944</td>\n",
       "      <td>5.278310</td>\n",
       "      <td>5.315070</td>\n",
       "      <td>3.252958</td>\n",
       "    </tr>\n",
       "    <tr>\n",
       "      <th>10</th>\n",
       "      <td>Good</td>\n",
       "      <td>SI1</td>\n",
       "      <td>0.830397</td>\n",
       "      <td>62.696346</td>\n",
       "      <td>58.430962</td>\n",
       "      <td>3689.533333</td>\n",
       "      <td>5.799776</td>\n",
       "      <td>5.809974</td>\n",
       "      <td>3.635064</td>\n",
       "    </tr>\n",
       "    <tr>\n",
       "      <th>11</th>\n",
       "      <td>Good</td>\n",
       "      <td>SI2</td>\n",
       "      <td>1.035227</td>\n",
       "      <td>62.242831</td>\n",
       "      <td>58.924977</td>\n",
       "      <td>4580.260870</td>\n",
       "      <td>6.272414</td>\n",
       "      <td>6.276577</td>\n",
       "      <td>3.895245</td>\n",
       "    </tr>\n",
       "    <tr>\n",
       "      <th>12</th>\n",
       "      <td>Good</td>\n",
       "      <td>VS1</td>\n",
       "      <td>0.757685</td>\n",
       "      <td>62.018673</td>\n",
       "      <td>58.775772</td>\n",
       "      <td>3801.445988</td>\n",
       "      <td>5.636852</td>\n",
       "      <td>5.657176</td>\n",
       "      <td>3.499954</td>\n",
       "    </tr>\n",
       "    <tr>\n",
       "      <th>13</th>\n",
       "      <td>Good</td>\n",
       "      <td>VS2</td>\n",
       "      <td>0.850787</td>\n",
       "      <td>62.363292</td>\n",
       "      <td>58.664826</td>\n",
       "      <td>4262.236196</td>\n",
       "      <td>5.863262</td>\n",
       "      <td>5.878395</td>\n",
       "      <td>3.658231</td>\n",
       "    </tr>\n",
       "    <tr>\n",
       "      <th>14</th>\n",
       "      <td>Good</td>\n",
       "      <td>VVS1</td>\n",
       "      <td>0.502312</td>\n",
       "      <td>62.123118</td>\n",
       "      <td>58.922581</td>\n",
       "      <td>2254.774194</td>\n",
       "      <td>4.926290</td>\n",
       "      <td>4.950806</td>\n",
       "      <td>3.068602</td>\n",
       "    </tr>\n",
       "    <tr>\n",
       "      <th>15</th>\n",
       "      <td>Good</td>\n",
       "      <td>VVS2</td>\n",
       "      <td>0.614930</td>\n",
       "      <td>62.311538</td>\n",
       "      <td>58.672727</td>\n",
       "      <td>3079.108392</td>\n",
       "      <td>5.246154</td>\n",
       "      <td>5.269406</td>\n",
       "      <td>3.273497</td>\n",
       "    </tr>\n",
       "    <tr>\n",
       "      <th>16</th>\n",
       "      <td>Ideal</td>\n",
       "      <td>I1</td>\n",
       "      <td>1.222671</td>\n",
       "      <td>61.648630</td>\n",
       "      <td>56.102740</td>\n",
       "      <td>4335.726027</td>\n",
       "      <td>6.751712</td>\n",
       "      <td>6.736712</td>\n",
       "      <td>4.158493</td>\n",
       "    </tr>\n",
       "    <tr>\n",
       "      <th>17</th>\n",
       "      <td>Ideal</td>\n",
       "      <td>IF</td>\n",
       "      <td>0.455041</td>\n",
       "      <td>61.645710</td>\n",
       "      <td>55.707013</td>\n",
       "      <td>2272.913366</td>\n",
       "      <td>4.827261</td>\n",
       "      <td>4.850289</td>\n",
       "      <td>2.982211</td>\n",
       "    </tr>\n",
       "    <tr>\n",
       "      <th>18</th>\n",
       "      <td>Ideal</td>\n",
       "      <td>SI1</td>\n",
       "      <td>0.801808</td>\n",
       "      <td>61.737482</td>\n",
       "      <td>56.061023</td>\n",
       "      <td>3752.118169</td>\n",
       "      <td>5.781287</td>\n",
       "      <td>5.791226</td>\n",
       "      <td>3.570801</td>\n",
       "    </tr>\n",
       "    <tr>\n",
       "      <th>19</th>\n",
       "      <td>Ideal</td>\n",
       "      <td>SI2</td>\n",
       "      <td>1.007925</td>\n",
       "      <td>61.701001</td>\n",
       "      <td>56.120516</td>\n",
       "      <td>4755.952656</td>\n",
       "      <td>6.262621</td>\n",
       "      <td>6.268853</td>\n",
       "      <td>3.865889</td>\n",
       "    </tr>\n",
       "    <tr>\n",
       "      <th>20</th>\n",
       "      <td>Ideal</td>\n",
       "      <td>VS1</td>\n",
       "      <td>0.674714</td>\n",
       "      <td>61.706436</td>\n",
       "      <td>55.894037</td>\n",
       "      <td>3489.744497</td>\n",
       "      <td>5.449746</td>\n",
       "      <td>5.470635</td>\n",
       "      <td>3.366615</td>\n",
       "    </tr>\n",
       "    <tr>\n",
       "      <th>21</th>\n",
       "      <td>Ideal</td>\n",
       "      <td>VS2</td>\n",
       "      <td>0.670566</td>\n",
       "      <td>61.730901</td>\n",
       "      <td>55.931256</td>\n",
       "      <td>3284.550385</td>\n",
       "      <td>5.428111</td>\n",
       "      <td>5.434484</td>\n",
       "      <td>3.352102</td>\n",
       "    </tr>\n",
       "    <tr>\n",
       "      <th>22</th>\n",
       "      <td>Ideal</td>\n",
       "      <td>VVS1</td>\n",
       "      <td>0.495960</td>\n",
       "      <td>61.679091</td>\n",
       "      <td>55.839912</td>\n",
       "      <td>2468.129458</td>\n",
       "      <td>4.960596</td>\n",
       "      <td>4.978012</td>\n",
       "      <td>3.064304</td>\n",
       "    </tr>\n",
       "    <tr>\n",
       "      <th>23</th>\n",
       "      <td>Ideal</td>\n",
       "      <td>VVS2</td>\n",
       "      <td>0.586213</td>\n",
       "      <td>61.690714</td>\n",
       "      <td>55.915848</td>\n",
       "      <td>3250.290100</td>\n",
       "      <td>5.214693</td>\n",
       "      <td>5.231869</td>\n",
       "      <td>3.221550</td>\n",
       "    </tr>\n",
       "    <tr>\n",
       "      <th>24</th>\n",
       "      <td>Premium</td>\n",
       "      <td>I1</td>\n",
       "      <td>1.287024</td>\n",
       "      <td>61.183415</td>\n",
       "      <td>59.068293</td>\n",
       "      <td>3947.331707</td>\n",
       "      <td>6.842098</td>\n",
       "      <td>6.785902</td>\n",
       "      <td>4.130683</td>\n",
       "    </tr>\n",
       "    <tr>\n",
       "      <th>25</th>\n",
       "      <td>Premium</td>\n",
       "      <td>IF</td>\n",
       "      <td>0.603478</td>\n",
       "      <td>61.047826</td>\n",
       "      <td>58.730435</td>\n",
       "      <td>3856.143478</td>\n",
       "      <td>5.234957</td>\n",
       "      <td>5.220870</td>\n",
       "      <td>3.191478</td>\n",
       "    </tr>\n",
       "    <tr>\n",
       "      <th>26</th>\n",
       "      <td>Premium</td>\n",
       "      <td>SI1</td>\n",
       "      <td>0.908601</td>\n",
       "      <td>61.303329</td>\n",
       "      <td>58.758993</td>\n",
       "      <td>4455.269371</td>\n",
       "      <td>6.045410</td>\n",
       "      <td>6.009731</td>\n",
       "      <td>3.692162</td>\n",
       "    </tr>\n",
       "    <tr>\n",
       "      <th>27</th>\n",
       "      <td>Premium</td>\n",
       "      <td>SI2</td>\n",
       "      <td>1.144161</td>\n",
       "      <td>61.178976</td>\n",
       "      <td>58.779654</td>\n",
       "      <td>5545.936928</td>\n",
       "      <td>6.569495</td>\n",
       "      <td>6.543822</td>\n",
       "      <td>4.001967</td>\n",
       "    </tr>\n",
       "    <tr>\n",
       "      <th>28</th>\n",
       "      <td>Premium</td>\n",
       "      <td>VS1</td>\n",
       "      <td>0.793308</td>\n",
       "      <td>61.318451</td>\n",
       "      <td>58.690397</td>\n",
       "      <td>4485.462041</td>\n",
       "      <td>5.738049</td>\n",
       "      <td>5.710935</td>\n",
       "      <td>3.509703</td>\n",
       "    </tr>\n",
       "    <tr>\n",
       "      <th>29</th>\n",
       "      <td>Premium</td>\n",
       "      <td>VS2</td>\n",
       "      <td>0.833774</td>\n",
       "      <td>61.283408</td>\n",
       "      <td>58.754155</td>\n",
       "      <td>4550.331248</td>\n",
       "      <td>5.834665</td>\n",
       "      <td>5.806175</td>\n",
       "      <td>3.565639</td>\n",
       "    </tr>\n",
       "    <tr>\n",
       "      <th>30</th>\n",
       "      <td>Premium</td>\n",
       "      <td>VVS1</td>\n",
       "      <td>0.534821</td>\n",
       "      <td>61.260877</td>\n",
       "      <td>58.674513</td>\n",
       "      <td>2831.206169</td>\n",
       "      <td>5.037955</td>\n",
       "      <td>5.018847</td>\n",
       "      <td>3.080000</td>\n",
       "    </tr>\n",
       "    <tr>\n",
       "      <th>31</th>\n",
       "      <td>Premium</td>\n",
       "      <td>VVS2</td>\n",
       "      <td>0.654724</td>\n",
       "      <td>61.280230</td>\n",
       "      <td>58.654483</td>\n",
       "      <td>3795.122989</td>\n",
       "      <td>5.390920</td>\n",
       "      <td>5.367126</td>\n",
       "      <td>3.295920</td>\n",
       "    </tr>\n",
       "    <tr>\n",
       "      <th>32</th>\n",
       "      <td>Very Good</td>\n",
       "      <td>I1</td>\n",
       "      <td>1.281905</td>\n",
       "      <td>61.755952</td>\n",
       "      <td>59.372619</td>\n",
       "      <td>4078.226190</td>\n",
       "      <td>6.800119</td>\n",
       "      <td>6.796071</td>\n",
       "      <td>4.197381</td>\n",
       "    </tr>\n",
       "    <tr>\n",
       "      <th>33</th>\n",
       "      <td>Very Good</td>\n",
       "      <td>IF</td>\n",
       "      <td>0.618769</td>\n",
       "      <td>61.363806</td>\n",
       "      <td>57.455224</td>\n",
       "      <td>4396.216418</td>\n",
       "      <td>5.293097</td>\n",
       "      <td>5.334403</td>\n",
       "      <td>3.259813</td>\n",
       "    </tr>\n",
       "    <tr>\n",
       "      <th>34</th>\n",
       "      <td>Very Good</td>\n",
       "      <td>SI1</td>\n",
       "      <td>0.845978</td>\n",
       "      <td>61.947222</td>\n",
       "      <td>58.014907</td>\n",
       "      <td>3932.391049</td>\n",
       "      <td>5.869244</td>\n",
       "      <td>5.897009</td>\n",
       "      <td>3.643451</td>\n",
       "    </tr>\n",
       "    <tr>\n",
       "      <th>35</th>\n",
       "      <td>Very Good</td>\n",
       "      <td>SI2</td>\n",
       "      <td>1.064338</td>\n",
       "      <td>61.862952</td>\n",
       "      <td>58.251571</td>\n",
       "      <td>4988.688095</td>\n",
       "      <td>6.365814</td>\n",
       "      <td>6.391233</td>\n",
       "      <td>3.944495</td>\n",
       "    </tr>\n",
       "    <tr>\n",
       "      <th>36</th>\n",
       "      <td>Very Good</td>\n",
       "      <td>VS1</td>\n",
       "      <td>0.733307</td>\n",
       "      <td>61.729127</td>\n",
       "      <td>57.822197</td>\n",
       "      <td>3805.353239</td>\n",
       "      <td>5.575758</td>\n",
       "      <td>5.607448</td>\n",
       "      <td>3.467177</td>\n",
       "    </tr>\n",
       "    <tr>\n",
       "      <th>37</th>\n",
       "      <td>Very Good</td>\n",
       "      <td>VS2</td>\n",
       "      <td>0.811181</td>\n",
       "      <td>61.849247</td>\n",
       "      <td>57.958665</td>\n",
       "      <td>4215.759552</td>\n",
       "      <td>5.769097</td>\n",
       "      <td>5.799263</td>\n",
       "      <td>3.576144</td>\n",
       "    </tr>\n",
       "    <tr>\n",
       "      <th>38</th>\n",
       "      <td>Very Good</td>\n",
       "      <td>VVS1</td>\n",
       "      <td>0.494588</td>\n",
       "      <td>61.675919</td>\n",
       "      <td>57.622687</td>\n",
       "      <td>2459.441065</td>\n",
       "      <td>4.895513</td>\n",
       "      <td>4.927503</td>\n",
       "      <td>3.031420</td>\n",
       "    </tr>\n",
       "    <tr>\n",
       "      <th>39</th>\n",
       "      <td>Very Good</td>\n",
       "      <td>VVS2</td>\n",
       "      <td>0.566389</td>\n",
       "      <td>61.660972</td>\n",
       "      <td>57.712308</td>\n",
       "      <td>3037.765182</td>\n",
       "      <td>5.083004</td>\n",
       "      <td>5.115911</td>\n",
       "      <td>3.144348</td>\n",
       "    </tr>\n",
       "  </tbody>\n",
       "</table>\n",
       "</div>"
      ],
      "text/plain": [
       "          cut clarity     carat      depth      table        price         x  \\\n",
       "0        Fair      I1  1.361000  65.699048  58.114286  3703.533333  6.723000   \n",
       "1        Fair      IF  0.474444  60.066667  59.111111  1912.333333  5.050000   \n",
       "2        Fair     SI1  0.964632  63.910294  59.126961  4208.279412  6.127230   \n",
       "3        Fair     SI2  1.203841  64.421888  58.828326  5173.916309  6.570343   \n",
       "4        Fair     VS1  0.879824  62.945294  60.365294  4165.141176  5.932353   \n",
       "5        Fair     VS2  0.885249  63.637548  59.050958  4174.724138  5.966590   \n",
       "6        Fair    VVS1  0.664706  60.417647  61.235294  3871.352941  5.503529   \n",
       "7        Fair    VVS2  0.691594  62.847826  59.237681  3349.768116  5.495507   \n",
       "8        Good      I1  1.203021  62.067708  59.497917  3596.635417  6.651562   \n",
       "9        Good      IF  0.616338  61.440845  59.056338  4098.323944  5.278310   \n",
       "10       Good     SI1  0.830397  62.696346  58.430962  3689.533333  5.799776   \n",
       "11       Good     SI2  1.035227  62.242831  58.924977  4580.260870  6.272414   \n",
       "12       Good     VS1  0.757685  62.018673  58.775772  3801.445988  5.636852   \n",
       "13       Good     VS2  0.850787  62.363292  58.664826  4262.236196  5.863262   \n",
       "14       Good    VVS1  0.502312  62.123118  58.922581  2254.774194  4.926290   \n",
       "15       Good    VVS2  0.614930  62.311538  58.672727  3079.108392  5.246154   \n",
       "16      Ideal      I1  1.222671  61.648630  56.102740  4335.726027  6.751712   \n",
       "17      Ideal      IF  0.455041  61.645710  55.707013  2272.913366  4.827261   \n",
       "18      Ideal     SI1  0.801808  61.737482  56.061023  3752.118169  5.781287   \n",
       "19      Ideal     SI2  1.007925  61.701001  56.120516  4755.952656  6.262621   \n",
       "20      Ideal     VS1  0.674714  61.706436  55.894037  3489.744497  5.449746   \n",
       "21      Ideal     VS2  0.670566  61.730901  55.931256  3284.550385  5.428111   \n",
       "22      Ideal    VVS1  0.495960  61.679091  55.839912  2468.129458  4.960596   \n",
       "23      Ideal    VVS2  0.586213  61.690714  55.915848  3250.290100  5.214693   \n",
       "24    Premium      I1  1.287024  61.183415  59.068293  3947.331707  6.842098   \n",
       "25    Premium      IF  0.603478  61.047826  58.730435  3856.143478  5.234957   \n",
       "26    Premium     SI1  0.908601  61.303329  58.758993  4455.269371  6.045410   \n",
       "27    Premium     SI2  1.144161  61.178976  58.779654  5545.936928  6.569495   \n",
       "28    Premium     VS1  0.793308  61.318451  58.690397  4485.462041  5.738049   \n",
       "29    Premium     VS2  0.833774  61.283408  58.754155  4550.331248  5.834665   \n",
       "30    Premium    VVS1  0.534821  61.260877  58.674513  2831.206169  5.037955   \n",
       "31    Premium    VVS2  0.654724  61.280230  58.654483  3795.122989  5.390920   \n",
       "32  Very Good      I1  1.281905  61.755952  59.372619  4078.226190  6.800119   \n",
       "33  Very Good      IF  0.618769  61.363806  57.455224  4396.216418  5.293097   \n",
       "34  Very Good     SI1  0.845978  61.947222  58.014907  3932.391049  5.869244   \n",
       "35  Very Good     SI2  1.064338  61.862952  58.251571  4988.688095  6.365814   \n",
       "36  Very Good     VS1  0.733307  61.729127  57.822197  3805.353239  5.575758   \n",
       "37  Very Good     VS2  0.811181  61.849247  57.958665  4215.759552  5.769097   \n",
       "38  Very Good    VVS1  0.494588  61.675919  57.622687  2459.441065  4.895513   \n",
       "39  Very Good    VVS2  0.566389  61.660972  57.712308  3037.765182  5.083004   \n",
       "\n",
       "           y         z  \n",
       "0   6.624238  4.386905  \n",
       "1   5.050000  3.033333  \n",
       "2   6.071985  3.895711  \n",
       "3   6.503927  4.211867  \n",
       "4   5.864059  3.709882  \n",
       "5   5.907011  3.780230  \n",
       "6   5.508824  3.327647  \n",
       "7   5.464638  3.444058  \n",
       "8   6.614792  4.065625  \n",
       "9   5.315070  3.252958  \n",
       "10  5.809974  3.635064  \n",
       "11  6.276577  3.895245  \n",
       "12  5.657176  3.499954  \n",
       "13  5.878395  3.658231  \n",
       "14  4.950806  3.068602  \n",
       "15  5.269406  3.273497  \n",
       "16  6.736712  4.158493  \n",
       "17  4.850289  2.982211  \n",
       "18  5.791226  3.570801  \n",
       "19  6.268853  3.865889  \n",
       "20  5.470635  3.366615  \n",
       "21  5.434484  3.352102  \n",
       "22  4.978012  3.064304  \n",
       "23  5.231869  3.221550  \n",
       "24  6.785902  4.130683  \n",
       "25  5.220870  3.191478  \n",
       "26  6.009731  3.692162  \n",
       "27  6.543822  4.001967  \n",
       "28  5.710935  3.509703  \n",
       "29  5.806175  3.565639  \n",
       "30  5.018847  3.080000  \n",
       "31  5.367126  3.295920  \n",
       "32  6.796071  4.197381  \n",
       "33  5.334403  3.259813  \n",
       "34  5.897009  3.643451  \n",
       "35  6.391233  3.944495  \n",
       "36  5.607448  3.467177  \n",
       "37  5.799263  3.576144  \n",
       "38  4.927503  3.031420  \n",
       "39  5.115911  3.144348  "
      ]
     },
     "execution_count": 19,
     "metadata": {},
     "output_type": "execute_result"
    }
   ],
   "source": [
    "grp = diamonds[diamonds.columns.drop(['color'])].groupby(['cut', 'clarity'], as_index=False) #\n",
    "grp.indices\n",
    "grp.ngroups\n",
    "df = grp.mean()\n",
    "df"
   ]
  }
 ],
 "metadata": {
  "kernelspec": {
   "display_name": "Python 3",
   "language": "python",
   "name": "python3"
  },
  "language_info": {
   "codemirror_mode": {
    "name": "ipython",
    "version": 3
   },
   "file_extension": ".py",
   "mimetype": "text/x-python",
   "name": "python",
   "nbconvert_exporter": "python",
   "pygments_lexer": "ipython3",
   "version": "3.11.4"
  }
 },
 "nbformat": 4,
 "nbformat_minor": 0
}
