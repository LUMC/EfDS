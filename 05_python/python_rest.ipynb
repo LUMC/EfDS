{
 "cells": [
  {
   "attachments": {},
   "cell_type": "markdown",
   "metadata": {},
   "source": [
    "# Python standard libraries and scripts"
   ]
  },
  {
   "attachments": {},
   "cell_type": "markdown",
   "metadata": {},
   "source": [
    "More details: [The Python standard library](https://docs.python.org/3/library/index.html)."
   ]
  },
  {
   "attachments": {},
   "cell_type": "markdown",
   "metadata": {},
   "source": [
    "## Exceptions"
   ]
  },
  {
   "attachments": {},
   "cell_type": "markdown",
   "metadata": {},
   "source": [
    "### Observe several exceptions"
   ]
  },
  {
   "cell_type": "markdown",
   "metadata": {},
   "source": [
    "There are [many exceptions](https://docs.python.org/3/library/exceptions.html#exception-hierarchy) defined in Python.  \n",
    "Here are a few examples of code raising exceptions:"
   ]
  },
  {
   "cell_type": "code",
   "execution_count": null,
   "metadata": {},
   "outputs": [],
   "source": [
    "# 1/0                   # ZeroDivisionError"
   ]
  },
  {
   "cell_type": "code",
   "execution_count": null,
   "metadata": {},
   "outputs": [],
   "source": [
    "# dct = { \"a\":1 }\n",
    "# dct[\"b\"]              # KeyError"
   ]
  },
  {
   "cell_type": "code",
   "execution_count": null,
   "metadata": {},
   "outputs": [],
   "source": [
    "# print( wrongVarName ) # ValueError"
   ]
  },
  {
   "cell_type": "code",
   "execution_count": null,
   "metadata": {},
   "outputs": [],
   "source": [
    "# int( \"a\" )            # ValueError"
   ]
  },
  {
   "cell_type": "code",
   "execution_count": null,
   "metadata": {},
   "outputs": [],
   "source": [
    "# personAge = 199\n",
    "# if personAge >= 120:\n",
    "#    raise ValueError( f\"Value of personAge must be below 120, not {personAge}.\" )"
   ]
  },
  {
   "attachments": {},
   "cell_type": "markdown",
   "metadata": {},
   "source": [
    "### Flow control of exceptions"
   ]
  },
  {
   "attachments": {},
   "cell_type": "markdown",
   "metadata": {},
   "source": [
    "Using `try`/`except`/`except`/`finally` blocks it is possible to write code which can react to exceptions.  \n",
    "The `try` statement declares a block of code in which exceptions are monitored.  \n",
    "The `except` clauses specify how to react to provided types of exceptions.  \n",
    "The `final` clause allows to provide a block of code which is always executed (even if an exception has happened in the `try` block)."
   ]
  },
  {
   "attachments": {},
   "cell_type": "markdown",
   "metadata": {},
   "source": [
    "Let's define a function `fun` which may generate an exception depending on the value of `div` argument:"
   ]
  },
  {
   "cell_type": "code",
   "execution_count": 2,
   "metadata": {},
   "outputs": [],
   "source": [
    "def fun(div):\n",
    "    print( f\"fun({div}) start\" )\n",
    "\n",
    "    try:\n",
    "        print( f\"fun({div}) try start\" )\n",
    "        1/div\n",
    "        print( f\"fun({div}) try done\" )\n",
    "    except ZeroDivisionError:            # if ZeroDivisionError-exception-happened:\n",
    "        print( f\"fun({div}) except ZeroDivisionError\" )\n",
    "    finally:\n",
    "        print( f\"fun({div}) finally\" )\n",
    "\n",
    "    print(f\"fun({div}) end\")"
   ]
  },
  {
   "attachments": {},
   "cell_type": "markdown",
   "metadata": {},
   "source": [
    "To understand `try`/`expect`/`finally` study the differences between outputs of the following code cells:"
   ]
  },
  {
   "cell_type": "code",
   "execution_count": 3,
   "metadata": {},
   "outputs": [
    {
     "name": "stdout",
     "output_type": "stream",
     "text": [
      "main start\n",
      "fun(1) start\n",
      "fun(1) try start\n",
      "fun(1) try done\n",
      "fun(1) finally\n",
      "fun(1) end\n",
      "main end\n"
     ]
    }
   ],
   "source": [
    "print(\"main start\")\n",
    "fun(1)\n",
    "print(\"main end\")"
   ]
  },
  {
   "cell_type": "code",
   "execution_count": 4,
   "metadata": {},
   "outputs": [
    {
     "name": "stdout",
     "output_type": "stream",
     "text": [
      "main start\n",
      "fun(0) start\n",
      "fun(0) try start\n",
      "fun(0) except ZeroDivisionError\n",
      "fun(0) finally\n",
      "fun(0) end\n",
      "main end\n"
     ]
    }
   ],
   "source": [
    "print(\"main start\")\n",
    "fun(0)\n",
    "print(\"main end\")"
   ]
  },
  {
   "cell_type": "code",
   "execution_count": 5,
   "metadata": {},
   "outputs": [
    {
     "name": "stdout",
     "output_type": "stream",
     "text": [
      "main start\n",
      "fun(A) start\n",
      "fun(A) try start\n",
      "fun(A) finally\n"
     ]
    },
    {
     "ename": "TypeError",
     "evalue": "unsupported operand type(s) for /: 'int' and 'str'",
     "output_type": "error",
     "traceback": [
      "\u001b[1;31m---------------------------------------------------------------------------\u001b[0m",
      "\u001b[1;31mTypeError\u001b[0m                                 Traceback (most recent call last)",
      "Cell \u001b[1;32mIn[5], line 2\u001b[0m\n\u001b[0;32m      1\u001b[0m \u001b[38;5;28mprint\u001b[39m(\u001b[38;5;124m\"\u001b[39m\u001b[38;5;124mmain start\u001b[39m\u001b[38;5;124m\"\u001b[39m)\n\u001b[1;32m----> 2\u001b[0m \u001b[43mfun\u001b[49m\u001b[43m(\u001b[49m\u001b[38;5;124;43m\"\u001b[39;49m\u001b[38;5;124;43mA\u001b[39;49m\u001b[38;5;124;43m\"\u001b[39;49m\u001b[43m)\u001b[49m\n\u001b[0;32m      3\u001b[0m \u001b[38;5;28mprint\u001b[39m(\u001b[38;5;124m\"\u001b[39m\u001b[38;5;124mmain end\u001b[39m\u001b[38;5;124m\"\u001b[39m)\n",
      "Cell \u001b[1;32mIn[2], line 6\u001b[0m, in \u001b[0;36mfun\u001b[1;34m(div)\u001b[0m\n\u001b[0;32m      4\u001b[0m \u001b[38;5;28;01mtry\u001b[39;00m:\n\u001b[0;32m      5\u001b[0m     \u001b[38;5;28mprint\u001b[39m( \u001b[38;5;124mf\u001b[39m\u001b[38;5;124m\"\u001b[39m\u001b[38;5;124mfun(\u001b[39m\u001b[38;5;132;01m{\u001b[39;00mdiv\u001b[38;5;132;01m}\u001b[39;00m\u001b[38;5;124m) try start\u001b[39m\u001b[38;5;124m\"\u001b[39m )\n\u001b[1;32m----> 6\u001b[0m     \u001b[38;5;241;43m1\u001b[39;49m\u001b[38;5;241;43m/\u001b[39;49m\u001b[43mdiv\u001b[49m\n\u001b[0;32m      7\u001b[0m     \u001b[38;5;28mprint\u001b[39m( \u001b[38;5;124mf\u001b[39m\u001b[38;5;124m\"\u001b[39m\u001b[38;5;124mfun(\u001b[39m\u001b[38;5;132;01m{\u001b[39;00mdiv\u001b[38;5;132;01m}\u001b[39;00m\u001b[38;5;124m) try done\u001b[39m\u001b[38;5;124m\"\u001b[39m )\n\u001b[0;32m      8\u001b[0m \u001b[38;5;28;01mexcept\u001b[39;00m \u001b[38;5;167;01mZeroDivisionError\u001b[39;00m:            \u001b[38;5;66;03m# if ZeroDivisionError-exception-happened:\u001b[39;00m\n",
      "\u001b[1;31mTypeError\u001b[0m: unsupported operand type(s) for /: 'int' and 'str'"
     ]
    }
   ],
   "source": [
    "print(\"main start\")\n",
    "fun(\"A\")\n",
    "print(\"main end\")"
   ]
  },
  {
   "attachments": {},
   "cell_type": "markdown",
   "metadata": {},
   "source": [
    "Another example which forces a user to enter a positive number.  \n",
    "This code does not crash when the user enters some text instead of a number."
   ]
  },
  {
   "cell_type": "code",
   "execution_count": null,
   "metadata": {},
   "outputs": [],
   "source": [
    "while True:\n",
    "    try:\n",
    "        val = float( input( \"Please enter a positive number\" ) )\n",
    "        if val > 0:\n",
    "            break\n",
    "        print( \"Not a positive number. Try again...\" )\n",
    "    except ValueError:\n",
    "        print( \"Not a number. Try again...\" )\n",
    "\n",
    "print( f\"You entered {val}. Thanks.\" )\n"
   ]
  },
  {
   "attachments": {},
   "cell_type": "markdown",
   "metadata": {},
   "source": [
    "## Files"
   ]
  },
  {
   "attachments": {},
   "cell_type": "markdown",
   "metadata": {},
   "source": [
    "A *file* can be thought of as a (large) vector of bytes.  \n",
    "Due to technical limitations of *(physical) devices* which preserve the files, access to the content might be slow\n",
    "(this is an old device keeping files: [tape device](https://en.wikipedia.org/wiki/Tape_drive)).  \n",
    "Usually, the most optimal way of accessing the full content of a file is to read or write it progressively without any seeking (jumping).  "
   ]
  },
  {
   "attachments": {},
   "cell_type": "markdown",
   "metadata": {},
   "source": [
    "A *file system* is a standard which defines how to organize files stored on a device and how to access them.  \n",
    "Typically, files are identified by (short) file names. These names are further organized in a hierarchical *directory* structures.  \n",
    "When a *full path* (i.e. a file name in a directory) is provided the file system can provide access to the file."
   ]
  },
  {
   "attachments": {},
   "cell_type": "markdown",
   "metadata": {},
   "source": [
    "It depends on the program which uses the file how the file content is interpreted:\n",
    "- A *text file* is intended to be processed line-by-line and usually can be opened in simple text editors.  \n",
    "    (often there might be some extra characters added or removed to make the file transferrable between different operating systems and character encoding environments):\n",
    "    - A *simple text file* (popular ending of the file name, called *extension*: `.txt`).\n",
    "    - A *markdown file* (extension: `.md`).\n",
    "    - A *python script file* (extension: `.py`).\n",
    "    - A *[json](https://www.json.org/json-en.html)* file (extension: `.json`): good for storing nested collections.\n",
    "    - A *python notebook file* (extension: `.ipynb`): a collection of data describing python jupyter notebook cells.\n",
    "- A *binary file* is usually processed in blocks of unmodified file bytes:\n",
    "    - A *gzip* file (extension: `.gz`): another file compressed\n",
    "    - A *zip* file (extension: `.zip`): multiple other files compressed"
   ]
  },
  {
   "attachments": {},
   "cell_type": "markdown",
   "metadata": {},
   "source": [
    "Example:"
   ]
  },
  {
   "attachments": {},
   "cell_type": "markdown",
   "metadata": {},
   "source": [
    "```text\n",
    ".                                                # The top-level (root) directory\n",
    "├── 01_python\n",
    "│   ├── git_github_intro.md\n",
    "│   ├── git_simple_cmds.jpg                      # Binary file, an image in \"jpg\" format\n",
    "│   ├── memory_organization.md\n",
    "│   ├── memory_pointers.jpg\n",
    "│   ├── memory_units.jpg\n",
    "│   ├── python_basic.ipynb\n",
    "│   └── python_lists_tuples.ipynb\n",
    "├── 02_python\n",
    "│   ├── git_practice.md\n",
    "│   ├── python_sets_dicts.ipynb\n",
    "│   └── set_operations.png                       # Binary file, an image in \"png\" format\n",
    "├── 03_python                                    # A directory\n",
    "│   └── python_flow_control.ipynb                # A file named \"python_flow_control.ipynb\" in directory \"03_python\"\n",
    "├── 04_python\n",
    "│   ├── food_classes.png                         # File extension: .png\n",
    "│   ├── git_assignment.md\n",
    "│   ├── python_oop.ipynb                         # Full path from the root: 04_python/python_oop.ipynb\n",
    "│   └── two_tables.png\n",
    "├── 05_python                                    # THIS IS THE CURRENT DIRECTORY (see below)\n",
    "│   └── python_rest.ipynb                        # THIS IS THIS FILE (when opened in an editor, it defines the current directory)\n",
    "├── LICENSE\n",
    "└── README.md                                    # A markdown file, by convention README.md describes what is in this directory\n",
    "```"
   ]
  },
  {
   "attachments": {},
   "cell_type": "markdown",
   "metadata": {},
   "source": [
    "### Writing text files"
   ]
  },
  {
   "attachments": {},
   "cell_type": "markdown",
   "metadata": {},
   "source": [
    "Let's start with writing some texts from the list `ls` to the console:"
   ]
  },
  {
   "cell_type": "code",
   "execution_count": null,
   "metadata": {},
   "outputs": [],
   "source": [
    "ls = [ \"oat flakes\", \"sugar\", \"half milk\", \"water\", \"banana\", \"blueberries\" ]\n",
    "\n",
    "for l in ls:\n",
    "    print( l )"
   ]
  },
  {
   "attachments": {},
   "cell_type": "markdown",
   "metadata": {},
   "source": [
    "Several small adjustments of the code redirect the `print` output to a file.  \n",
    "The name of the file is provided in the `fileName` variable.  \n",
    "(*Note:* this code will be improved in the next cells)."
   ]
  },
  {
   "cell_type": "code",
   "execution_count": null,
   "metadata": {},
   "outputs": [],
   "source": [
    "ls = [ \"oat flakes\", \"sugar\", \"half milk\", \"water\", \"banana\", \"blueberries\" ]\n",
    "\n",
    "fileName = \"testfile.txt\"                    # This is the path where the file will be written.\n",
    "f = open(file=fileName, mode=\"w\")            # 1. Creates (or re-creates) an empty file with the provided fileName (path);\n",
    "                                             #    mode=\"w\" requests \"write\" access.\n",
    "                                             # 2. Provides an object (f) allowing access to the file.\n",
    "                                             # 3. Reserves memory buffers for quick access.\n",
    "for l in ls:\n",
    "    print( l, file=f )                       # This (usually) writes to the buffers, not directly to the file.\n",
    "\n",
    "f.close()                                    # Forces the buffers to be written; closes access to the file."
   ]
  },
  {
   "attachments": {},
   "cell_type": "markdown",
   "metadata": {},
   "source": [
    "The `with` command surrounds its code block by a *context manager*.  \n",
    "The manager guarantees that the file `f` will always be closed, even if the code block raises an exception:"
   ]
  },
  {
   "cell_type": "code",
   "execution_count": null,
   "metadata": {},
   "outputs": [],
   "source": [
    "ls = [ \"oat flakes\", \"sugar\", \"half milk\", \"water\", \"banana\", \"blueberries\" ]\n",
    "\n",
    "fileName = \"testfile.txt\"                    # This is the path where the file will be written.\n",
    "with open(file=fileName, mode=\"w\") as f:     # f is the result of open(...) but now with auto-close after the block\n",
    "    for l in ls:\n",
    "        print( l, file=f )"
   ]
  },
  {
   "attachments": {},
   "cell_type": "markdown",
   "metadata": {},
   "source": [
    "In some situations you may prefer to use the `write` method.  \n",
    "Then, ends of lines will need to be added."
   ]
  },
  {
   "cell_type": "code",
   "execution_count": 165,
   "metadata": {},
   "outputs": [],
   "source": [
    "ls = [ \"oat flakes\", \"sugar\", \"half milk\", \"water\", \"banana\", \"blueberries\" ]\n",
    "\n",
    "fileName = \"testfile.txt\"\n",
    "with open(file=fileName, mode=\"w\") as f:\n",
    "    for l in ls:\n",
    "        f.write( l )                         # Let's use the write method of f, instead of the print command\n",
    "        f.write( \"\\n\" )                      # The write method does not add new lines"
   ]
  },
  {
   "attachments": {},
   "cell_type": "markdown",
   "metadata": {},
   "source": [
    "### Reading text files"
   ]
  },
  {
   "attachments": {},
   "cell_type": "markdown",
   "metadata": {},
   "source": [
    "Use `mode=\"r\"` in `open(...)` to get reading access to a file.  \n",
    "The `readlines()` method reads all lines from a file into a list of `str` texts."
   ]
  },
  {
   "cell_type": "code",
   "execution_count": 172,
   "metadata": {},
   "outputs": [
    {
     "data": {
      "text/plain": [
       "['oat flakes\\n',\n",
       " 'sugar\\n',\n",
       " 'half milk\\n',\n",
       " 'water\\n',\n",
       " 'banana\\n',\n",
       " 'blueberries\\n']"
      ]
     },
     "execution_count": 172,
     "metadata": {},
     "output_type": "execute_result"
    }
   ],
   "source": [
    "fileName = \"testfile.txt\"                    # Note: write this file first with one of the writing examples\n",
    "with open(file=fileName, mode=\"r\") as f:     # Note: now mode=\"r\" for reading access!!!\n",
    "    lines = f.readlines()                    # Texts from all lines of the file will be read and returned as a list\n",
    "\n",
    "lines                                        # Note: each text has end-of-line characters at the end"
   ]
  },
  {
   "attachments": {},
   "cell_type": "markdown",
   "metadata": {},
   "source": [
    "It is possible to process a file line-by-line without full reading into memory.  \n",
    "Here, single lines are iterated over in a comprehension:"
   ]
  },
  {
   "cell_type": "code",
   "execution_count": null,
   "metadata": {},
   "outputs": [],
   "source": [
    "fileName = \"testfile.txt\"                    # Note: write this file first with one of the writing examples\n",
    "with open(file=fileName, mode=\"r\") as f:     \n",
    "    lineLens = [len(l) for l in f]\n",
    "\n",
    "lineLens"
   ]
  },
  {
   "attachments": {},
   "cell_type": "markdown",
   "metadata": {},
   "source": [
    "And here, single lines are iterated over in a `for` loop:"
   ]
  },
  {
   "cell_type": "code",
   "execution_count": null,
   "metadata": {},
   "outputs": [],
   "source": [
    "lineLens = []\n",
    "\n",
    "fileName = \"testfile.txt\"                    # Note: write this file first with one of the writing examples\n",
    "with open(file=fileName, mode=\"r\") as f:\n",
    "    for l in f:\n",
    "        lineLens.append( len(l) )\n",
    "\n",
    "lineLens"
   ]
  },
  {
   "attachments": {},
   "cell_type": "markdown",
   "metadata": {},
   "source": [
    "### Writing/reading JSON files"
   ]
  },
  {
   "attachments": {},
   "cell_type": "markdown",
   "metadata": {},
   "source": [
    "Simple/nested lists, dictionaries of texts and numbers can be easily written in the [JSON format](https://en.wikipedia.org/wiki/JSON):"
   ]
  },
  {
   "cell_type": "code",
   "execution_count": null,
   "metadata": {},
   "outputs": [],
   "source": [
    "import json\n",
    "\n",
    "assignmentsInfo = {\n",
    "    \"firstName\": \"John\",\n",
    "    \"lastName\": \"Smith\",\n",
    "    \"studentId\": \"s12345678\",\n",
    "    \"sshGitHub\": \"git@github.com:LUMC/EfDS.git\"\n",
    "}\n",
    "\n",
    "fileName = \"assignments.json\"\n",
    "with open( fileName, \"w\" ) as f:\n",
    "    json.dump( obj = assignmentsInfo, fp = f )"
   ]
  },
  {
   "attachments": {},
   "cell_type": "markdown",
   "metadata": {},
   "source": [
    "Also reading `.json` files is straightforward:"
   ]
  },
  {
   "cell_type": "code",
   "execution_count": null,
   "metadata": {},
   "outputs": [],
   "source": [
    "import json\n",
    "\n",
    "fileName = \"assignments.json\"\n",
    "with open( fileName, \"r\" ) as f:\n",
    "    ai = json.load( fp = f )\n",
    "ai"
   ]
  },
  {
   "attachments": {},
   "cell_type": "markdown",
   "metadata": {},
   "source": [
    "## Scripts (not Python notebooks) and the command line"
   ]
  },
  {
   "cell_type": "markdown",
   "metadata": {},
   "source": [
    "### Python script vs. Python notebook"
   ]
  },
  {
   "attachments": {},
   "cell_type": "markdown",
   "metadata": {},
   "source": [
    "Python scripts are simple text files (usually with extension `.py`) containing only Python statements.  \n",
    "Simple pure-text editors may be used to write Python scripts, although dedicated code editors are recommended.\n",
    "\n",
    "Python jupiter notebooks are JSON documents describing cells which contain Python code, free user text written in Markdown, calculation output, etc."
   ]
  },
  {
   "cell_type": "markdown",
   "metadata": {},
   "source": [
    "### Start a Python script in the console/terminal/cmd"
   ]
  },
  {
   "attachments": {},
   "cell_type": "markdown",
   "metadata": {},
   "source": [
    "Operating systems usually have a shell program which allows to type commands for the system.  \n",
    "Here are some options:\n",
    "- `cmd` on Windows, `Cygwin`\n",
    "- `Terminal.app` on Mac\n",
    "- `xterm` on Linux\n",
    "- (if you use Visual Studio Code): `Terminal` in the `View` menu\n",
    "\n",
    "The following command typed in the system console should start Python interactive mode:\n",
    "```text\n",
    "> python                                                                  # system console\n",
    "Python 3.8.5 (default, Sep  4 2020, 02:22:02) \n",
    "[Clang 10.0.0 ] :: Anaconda, Inc. on darwin\n",
    "Type \"help\", \"copyright\", \"credits\" or \"license\" for more information.\n",
    ">>> sum([1,2,3])                                                          # python console\n",
    "6\n",
    ">>> exit()                                                                # close python console\n",
    ">                                                                         # back to system console\n",
    "```"
   ]
  },
  {
   "attachments": {},
   "cell_type": "markdown",
   "metadata": {},
   "source": [
    "Assume that in the current directory you have a Python script `my_script.py` with the following content:\n",
    "```python\n",
    "print( \"Hello, world!\" )\n",
    "```\n",
    "\n",
    "Then, in the system console you may start your script as follows:\n",
    "```text\n",
    "> python my_script.py\n",
    "Hello, world!\n",
    ">\n",
    "```"
   ]
  },
  {
   "attachments": {},
   "cell_type": "markdown",
   "metadata": {},
   "source": [
    "### A Python script with command line arguments"
   ]
  },
  {
   "attachments": {},
   "cell_type": "markdown",
   "metadata": {},
   "source": [
    "It is possible to pass text arguments from the system console to the Python script.  \n",
    "Assume that `my_script.py` has the following code:\n",
    "\n",
    "```python\n",
    "import sys\n",
    "\n",
    "if __name__ == \"__main__\":                  # a suggested way to define the main part of a script\n",
    "    print( \"Hello, world!\" )\n",
    "    for a in sys.argv:                      # sys.argv contains the script name\n",
    "        print(a)                            # and additional arguments\n",
    "```\n",
    "\n",
    "Here is how you can pass some arguments:\n",
    "```text\n",
    "> python my_script.py A BB CCC 1234          \n",
    "Hello, world!                               \n",
    "my_script.py                                # the script name (my_script.py)\n",
    "A                                           #      and 4 arguments are passed to Python\n",
    "BB                                          #      in the sys.argv variable\n",
    "CCC                                         #      as strings\n",
    "1234\n",
    ">\n",
    "```"
   ]
  },
  {
   "attachments": {},
   "cell_type": "markdown",
   "metadata": {},
   "source": [
    "## Math"
   ]
  },
  {
   "attachments": {},
   "cell_type": "markdown",
   "metadata": {},
   "source": [
    "Scan quickly [the reference page of the `math` (mathematical functions) module](https://docs.python.org/3/library/math.html).  \n",
    "(It is important to get an overview of available functionality...)  \n",
    "Some examples are shown below (import first the module):"
   ]
  },
  {
   "cell_type": "code",
   "execution_count": null,
   "metadata": {},
   "outputs": [],
   "source": [
    "from math import *                                                 # import all functions from the module"
   ]
  },
  {
   "attachments": {},
   "cell_type": "markdown",
   "metadata": {},
   "source": [
    "### Sums, products"
   ]
  },
  {
   "cell_type": "code",
   "execution_count": null,
   "metadata": {},
   "outputs": [],
   "source": [
    "vs = [1,2,3,4]\n",
    "sum(vs)"
   ]
  },
  {
   "cell_type": "code",
   "execution_count": null,
   "metadata": {},
   "outputs": [],
   "source": [
    "vs = [1,2,3,4]\n",
    "prod(vs)"
   ]
  },
  {
   "attachments": {},
   "cell_type": "markdown",
   "metadata": {},
   "source": [
    "### Powers, exponents, logs"
   ]
  },
  {
   "attachments": {},
   "cell_type": "markdown",
   "metadata": {},
   "source": [
    "Some examples to study:"
   ]
  },
  {
   "cell_type": "code",
   "execution_count": null,
   "metadata": {},
   "outputs": [],
   "source": [
    "[ log10(1), log10(10), log10(0.1) ]\n",
    "[ log2(2), log2(1024), log2(0.5) ]\n",
    "exp(1)\n",
    "e                                                                    # math.e\n",
    "[ log(exp(1)), exp(log(12345)) ]\n",
    "[ sqrt(4), pow(4,0.5), 4**0.5 ]"
   ]
  },
  {
   "attachments": {},
   "cell_type": "markdown",
   "metadata": {},
   "source": [
    "### Trigonometry"
   ]
  },
  {
   "cell_type": "markdown",
   "metadata": {},
   "source": [
    "Some examples to study:"
   ]
  },
  {
   "cell_type": "code",
   "execution_count": null,
   "metadata": {},
   "outputs": [],
   "source": [
    "pi                                                                  # math.pi\n",
    "degrees(pi)\n",
    "[ sin(0), sin(pi) ]\n",
    "[ cos(0), cos(pi) ]\n",
    "[ atan2(0,1), atan2(1,0), atan2(0,-1), atan2(-1,0) ]                # nearly anticlockwise\n"
   ]
  },
  {
   "attachments": {},
   "cell_type": "markdown",
   "metadata": {},
   "source": [
    "### Rounding"
   ]
  },
  {
   "cell_type": "code",
   "execution_count": null,
   "metadata": {},
   "outputs": [],
   "source": [
    "[ floor( 2.2 ), floor( 2.99999 ), floor( -2.99999 ) ]              # rounding in lower direction"
   ]
  },
  {
   "cell_type": "code",
   "execution_count": null,
   "metadata": {},
   "outputs": [],
   "source": [
    "[ ceil( 2.2 ), ceil( 2.99999 ), ceil( -2.99999 ) ]                 # rounding in upper direction"
   ]
  },
  {
   "cell_type": "code",
   "execution_count": null,
   "metadata": {},
   "outputs": [],
   "source": [
    "[ trunc( 2.2 ), trunc( 2.99999 ), trunc( -2.99999 ) ]              # rounding towards zero"
   ]
  },
  {
   "cell_type": "code",
   "execution_count": null,
   "metadata": {},
   "outputs": [],
   "source": [
    "[ round( 2.2 ), round( 2.99999 ), round( -2.99999 ) ]              # not in math package\n",
    "{ x:round(x) for x in [-2.5,-1.5,-0.5,0.5,1.5,2.5] }               # \"halfs\" are rounded to the closest even number"
   ]
  },
  {
   "attachments": {},
   "cell_type": "markdown",
   "metadata": {},
   "source": [
    "### Combinatorics"
   ]
  },
  {
   "cell_type": "code",
   "execution_count": null,
   "metadata": {},
   "outputs": [],
   "source": [
    "comb(4, 2)                                                         # number of 2-element subsets out of a 4-element set"
   ]
  },
  {
   "cell_type": "code",
   "execution_count": null,
   "metadata": {},
   "outputs": [],
   "source": [
    "perm(4, 2)                                                         # number of 2-element lists out of a 4-element set"
   ]
  },
  {
   "attachments": {},
   "cell_type": "markdown",
   "metadata": {},
   "source": [
    "### Missing or infinite values"
   ]
  },
  {
   "cell_type": "code",
   "execution_count": null,
   "metadata": {},
   "outputs": [],
   "source": [
    "vs = ( 0, 1, nan, inf, -inf )                                      # math.nan, math.inf\n",
    "{v:isnan(v) for v in vs}"
   ]
  },
  {
   "cell_type": "code",
   "execution_count": null,
   "metadata": {},
   "outputs": [],
   "source": [
    "vs = ( 0, 1, nan, inf, -inf )\n",
    "{v:isinf(v) for v in vs}"
   ]
  },
  {
   "cell_type": "code",
   "execution_count": null,
   "metadata": {},
   "outputs": [],
   "source": [
    "vs = ( 0, 1, nan, inf, -inf )\n",
    "{v:isfinite(v) for v in vs}"
   ]
  },
  {
   "attachments": {},
   "cell_type": "markdown",
   "metadata": {},
   "source": [
    "## (Pseudo-) random numbers"
   ]
  },
  {
   "attachments": {},
   "cell_type": "markdown",
   "metadata": {},
   "source": [
    "Scan quickly [the reference page of the `random` (generate pseudo-random numbers) module](https://docs.python.org/3/library/random.html).  \n",
    "(It is important to get an overview of available functionality...)  \n",
    "*Note:* do not use these functions for security purposes.  \n",
    "Some examples are shown below (import first the module):"
   ]
  },
  {
   "cell_type": "code",
   "execution_count": 11,
   "metadata": {},
   "outputs": [],
   "source": [
    "from random import *                                               # import all functions from the module"
   ]
  },
  {
   "attachments": {},
   "cell_type": "markdown",
   "metadata": {},
   "source": [
    "### Integers, seed"
   ]
  },
  {
   "cell_type": "code",
   "execution_count": null,
   "metadata": {},
   "outputs": [],
   "source": [
    "[randint(10, 20) for i in range(10)]                               # random integers, both ends inclusive"
   ]
  },
  {
   "attachments": {},
   "cell_type": "markdown",
   "metadata": {},
   "source": [
    "The generated numbers are only pseudo-random. They are based on an internally generated sequence of numbers.  \n",
    "The `seed(num)` function allows to move the internal sequence to points defined by an integer `num`.  \n",
    "The following code will always generate the same pseudorandom sequence.  \n",
    "*Note:* `seed` works with all random numbers/choices (not only with integers)."
   ]
  },
  {
   "cell_type": "code",
   "execution_count": null,
   "metadata": {},
   "outputs": [],
   "source": [
    "seed( 123 )                                                        # change 123 to another integer to get different random nums\n",
    "[randint(10, 20) for i in range(10)]                               # random integers, both ends inclusive"
   ]
  },
  {
   "attachments": {},
   "cell_type": "markdown",
   "metadata": {},
   "source": [
    "### Real numbers"
   ]
  },
  {
   "cell_type": "code",
   "execution_count": null,
   "metadata": {},
   "outputs": [],
   "source": [
    "[uniform(0, 1) for i in range(10)]                                 # from a uniform distribution on [0,1]"
   ]
  },
  {
   "cell_type": "code",
   "execution_count": null,
   "metadata": {},
   "outputs": [],
   "source": [
    "[gauss(mu=0, sigma=1) for i in range(10)]                          # from the normal distribution mu=0, sd=1"
   ]
  },
  {
   "attachments": {},
   "cell_type": "markdown",
   "metadata": {},
   "source": [
    "### Collections"
   ]
  },
  {
   "attachments": {},
   "cell_type": "markdown",
   "metadata": {},
   "source": [
    "Let's create a standard French `deck` representing 52 playing cards.  \n",
    "It is possible to represent the cards by their [Unicode symbols](https://en.wikipedia.org/wiki/Playing_cards_in_Unicode)."
   ]
  },
  {
   "cell_type": "code",
   "execution_count": 168,
   "metadata": {},
   "outputs": [
    {
     "name": "stdout",
     "output_type": "stream",
     "text": [
      "A♠ A♥ A♦ A♣ 2♠ 2♥ 2♦ 2♣ 3♠ 3♥ 3♦ 3♣ 4♠ 4♥ 4♦ 4♣ 5♠ 5♥ 5♦ 5♣ 6♠ 6♥ 6♦ 6♣ 7♠ 7♥ 7♦ 7♣ 8♠ 8♥ 8♦ 8♣ 9♠ 9♥ 9♦ 9♣ 10♠ 10♥ 10♦ 10♣ J♠ J♥ J♦ J♣ Q♠ Q♥ Q♦ Q♣ K♠ K♥ K♦ K♣\n"
     ]
    }
   ],
   "source": [
    "suits = [ \"\\u2660\", \"\\u2665\", \"\\u2666\", \"\\u2663\" ]\n",
    "nums = [ \"A\", \"2\", \"3\", \"4\", \"5\", \"6\", \"7\", \"8\", \"9\", \"10\", \"J\", \"Q\", \"K\" ]\n",
    "deck = [n+s for n in nums for s in suits]\n",
    "print( \" \".join( deck ) )"
   ]
  },
  {
   "attachments": {},
   "cell_type": "markdown",
   "metadata": {},
   "source": [
    "This is how a list can be shuffled (order of the elements gets randomly changed):"
   ]
  },
  {
   "cell_type": "code",
   "execution_count": 171,
   "metadata": {},
   "outputs": [
    {
     "name": "stdout",
     "output_type": "stream",
     "text": [
      "7♦ J♠ A♥ 9♦ 4♣ 10♥ 2♠ Q♥ 2♣ 8♦ Q♣ 4♥ 9♥ 3♦ 8♣ K♦ Q♦ 6♣ 7♠ 7♣ 6♦ Q♠ 10♠ A♦ 8♥ J♥ 9♣ K♥ J♦ 5♠ 5♣ 2♥ 3♣ 5♥ 8♠ 10♣ 3♠ K♠ 3♥ A♣ 10♦ 4♠ K♣ 6♥ 7♥ 2♦ A♠ J♣ 4♦ 9♠ 6♠ 5♦\n",
      "8♥ K♠ 8♣ 9♣ 7♥ Q♦ 2♠ 7♠ 9♠ A♦ 4♥ 5♥ 6♥ 3♣ Q♠ 7♣ A♣ 8♦ 9♥ J♣ 5♦ 4♠ 5♠ 4♦ 4♣ 6♠ 9♦ 7♦ J♦ 3♠ 10♦ 2♣ 10♥ 2♥ K♥ 6♣ J♥ 10♣ 2♦ J♠ 3♥ A♠ 3♦ 8♠ K♦ K♣ 5♣ 6♦ A♥ Q♥ 10♠ Q♣\n",
      "4♦ J♥ 4♠ A♥ J♦ 5♥ J♣ 8♣ 8♥ Q♥ 5♦ 5♠ A♠ K♥ 7♥ 3♣ 3♦ 2♠ 6♦ 7♦ Q♣ 10♥ 8♠ 3♥ 9♠ J♠ 2♥ 6♠ 7♣ 8♦ 10♦ 6♥ 2♣ Q♠ 7♠ 9♥ 9♦ 10♣ 5♣ 4♥ A♣ K♦ 6♣ K♣ 3♠ Q♦ 2♦ 4♣ 9♣ A♦ K♠ 10♠\n"
     ]
    }
   ],
   "source": [
    "copiedDeck = deck.copy()                                           # let's make a copy, so deck stays unchanged\n",
    "for i in range(3):\n",
    "    shuffle( copiedDeck )                                          # permute the elements of copiedDeck in place\n",
    "    print( \" \".join( copiedDeck ) )"
   ]
  },
  {
   "attachments": {},
   "cell_type": "markdown",
   "metadata": {},
   "source": [
    "Use `sample` to randomly select without returning elements of a list:"
   ]
  },
  {
   "cell_type": "code",
   "execution_count": null,
   "metadata": {},
   "outputs": [],
   "source": [
    "for i in range(3):\n",
    "    d = sample(deck, k=5)                                         # randomly picked 5 cards (without returning back to the deck)\n",
    "    print( str.join( \" \", d ) )\n",
    "\n",
    "# sample(deck, 100)                                               # ValueError, no returns, so can't pick 100 elements from 52"
   ]
  },
  {
   "attachments": {},
   "cell_type": "markdown",
   "metadata": {},
   "source": [
    "Use `choice` for choosing with returning:"
   ]
  },
  {
   "cell_type": "code",
   "execution_count": null,
   "metadata": {},
   "outputs": [],
   "source": [
    "d = choices(deck, k=100)\n",
    "d.sort()\n",
    "print( str.join( \" \", d ) )                                      # note repetitions"
   ]
  },
  {
   "attachments": {},
   "cell_type": "markdown",
   "metadata": {},
   "source": [
    "## Statistics"
   ]
  },
  {
   "attachments": {},
   "cell_type": "markdown",
   "metadata": {},
   "source": [
    "Scan quickly [the reference page of the `statistics` (mathematical statistics functions) module](https://docs.python.org/3/library/statistics.html).  \n",
    "(It is important to get an overview of available functionality...)  \n",
    "Some examples are shown below (import first the module):"
   ]
  },
  {
   "cell_type": "code",
   "execution_count": 9,
   "metadata": {},
   "outputs": [],
   "source": [
    "from statistics import *                                         # import all functions from the module"
   ]
  },
  {
   "cell_type": "markdown",
   "metadata": {},
   "source": [
    "Let's generate some normally distributed numbers:"
   ]
  },
  {
   "cell_type": "code",
   "execution_count": 12,
   "metadata": {},
   "outputs": [
    {
     "data": {
      "text/plain": [
       "[0.8626021616077197,\n",
       " -1.860921227964715,\n",
       " 1.6879696081113567,\n",
       " 0.677233133882369,\n",
       " 0.10917932206447176,\n",
       " 1.539366171041526,\n",
       " 3.0689514839803254,\n",
       " 0.48189635302036365,\n",
       " 2.0117767672595415,\n",
       " 0.7839943739533853,\n",
       " -0.546856741484162,\n",
       " -1.1040781239051793,\n",
       " -0.021850939503601605,\n",
       " -0.7393601127247728,\n",
       " -0.6283269649755169,\n",
       " -0.018588747997330627,\n",
       " 0.6830413656962836,\n",
       " 0.7776364909258578,\n",
       " -0.046611165393932306,\n",
       " 0.2965439734687917,\n",
       " -0.7030228190422644,\n",
       " -0.07158230686472884,\n",
       " -1.9829711487075117,\n",
       " 0.3515952708415935,\n",
       " -0.20109614262526193,\n",
       " 0.2975496127430274,\n",
       " -1.7012633013861589,\n",
       " 0.2525125924057647,\n",
       " 1.0403830716419116,\n",
       " 0.025368542544323865,\n",
       " 0.11868290750859871,\n",
       " -0.42098116765359356,\n",
       " -0.5163968171408121,\n",
       " 1.738740121588693,\n",
       " -1.5673463949337318,\n",
       " 0.41164582992889254,\n",
       " -1.496453650642554,\n",
       " -1.8596433622718223,\n",
       " -0.06051847514338926,\n",
       " 0.5952972214140821,\n",
       " -1.4794075669191666,\n",
       " 0.3181799339408922,\n",
       " 0.9652249278935142,\n",
       " 0.6396338379463418,\n",
       " 0.3826855971034205,\n",
       " -0.2555165716263131,\n",
       " -0.35897872624860366,\n",
       " -0.18362635384177167,\n",
       " 0.929328829429383,\n",
       " -0.6068651845611941,\n",
       " -1.9954101083605775,\n",
       " 0.5105914354591704,\n",
       " 1.1772332268157883,\n",
       " -1.2997883379843218,\n",
       " 1.541250510540359,\n",
       " 0.016867577314844333,\n",
       " -1.9707568912190168,\n",
       " 0.606983911042665,\n",
       " -0.5391396007194893,\n",
       " 0.04908011386884007,\n",
       " -1.5509283242057792,\n",
       " 0.6117539921952605,\n",
       " -1.1093277011495608,\n",
       " 1.0501785266425026,\n",
       " 2.1263614554781816,\n",
       " 0.8171590377208995,\n",
       " 0.9447017396858516,\n",
       " 1.3190000631245098,\n",
       " 0.47065909710434384,\n",
       " 1.5992809432348625,\n",
       " -0.4321338953406616,\n",
       " -1.6245546714657464,\n",
       " -0.3733802225393111,\n",
       " -1.8039498485542313,\n",
       " 1.819602873142336,\n",
       " -1.0102280297664061,\n",
       " 0.47457227373752947,\n",
       " -2.1350608192308673,\n",
       " 0.2928201368572476,\n",
       " -0.20938106214529373,\n",
       " 0.6932114730252339,\n",
       " -0.2358196152698767,\n",
       " 0.2546484622154601,\n",
       " -1.3249391881905674,\n",
       " -1.2690064295547872,\n",
       " 1.0780239521319785,\n",
       " -0.19134576181228918,\n",
       " 0.03319693352827811,\n",
       " -0.7002196093357392,\n",
       " -0.3216775100506807,\n",
       " -1.4607706467247814,\n",
       " 1.370175420025148,\n",
       " -0.6901086273672832,\n",
       " -1.216885025552565,\n",
       " -0.3448224570373888,\n",
       " 0.42803476605146606,\n",
       " -0.7065772636132481,\n",
       " -0.18044774781283807,\n",
       " -1.0529655834705325,\n",
       " -0.35459380467358487]"
      ]
     },
     "execution_count": 12,
     "metadata": {},
     "output_type": "execute_result"
    }
   ],
   "source": [
    "vs = [gauss(mu=0, sigma=1) for i in range(100)]\n",
    "vs"
   ]
  },
  {
   "cell_type": "code",
   "execution_count": null,
   "metadata": {},
   "outputs": [],
   "source": [
    "{ \"min\":min(vs), \"max\":max(vs), \"mean\":mean(vs), \"median\":median(vs) }"
   ]
  },
  {
   "cell_type": "code",
   "execution_count": 13,
   "metadata": {},
   "outputs": [
    {
     "data": {
      "text/plain": [
       "{'sd': 1.0683378717774203, 'var': 1.1413458082739076}"
      ]
     },
     "execution_count": 13,
     "metadata": {},
     "output_type": "execute_result"
    }
   ],
   "source": [
    "{ \"sd\":stdev(vs), \"var\":variance(vs) }"
   ]
  },
  {
   "cell_type": "markdown",
   "metadata": {},
   "source": [
    "## Self-study tasks"
   ]
  },
  {
   "attachments": {},
   "cell_type": "markdown",
   "metadata": {},
   "source": [
    "### Python script to generate normally distributed random numbers (random, statistics, file write, script)"
   ]
  },
  {
   "attachments": {},
   "cell_type": "markdown",
   "metadata": {},
   "source": [
    "Write a Python script `gen_norm_nums.py` which generates normally distributed random numbers and writes them to a text file.  \n",
    "The script should accept four parameters: \n",
    "- `fileName`: name of the file to be written\n",
    "- `size`: number of numbers to generate\n",
    "- `mu`: the mean for the `gauss` generator\n",
    "- `sd`: the `sigma` for the `gauss` generator\n",
    "The script should also report on the console what are the actual mean and standard deviation of the generated numbers.\n",
    "\n",
    "You may add code to generate exceptions when parameters have nonsense values.  \n",
    "The following command line should work in a console:\n",
    "\n",
    "```text\n",
    "> python ./gen_norm_nums.py nums.txt 10 0 1         # 10 numbers, mean 0, sd 1, write to nums.txt\n",
    "Size:   10\n",
    "Mean:   requested=0.0, generated=0.11592080981585763\n",
    "Stddev: requested=1.0, generated=0.9322987440171838\n",
    "```"
   ]
  },
  {
   "attachments": {},
   "cell_type": "markdown",
   "metadata": {},
   "source": [
    "### Unidirected graph (class, writing to file/console, exceptions)"
   ]
  },
  {
   "attachments": {},
   "cell_type": "markdown",
   "metadata": {},
   "source": [
    "The Wikipedia page [Graph (discrete mathematics)](https://en.wikipedia.org/wiki/Graph_(discrete_mathematics)) provides an example illustration of *a (undirected) graph with six vertices and seven edges*.  \n",
    "Implement a class `Graph` allowing to memorize a graph. Use the following names:\n",
    "- `vs` and `_vs` should represent vertices\n",
    "- `es` and `_es` should represent edges\n",
    "- `addV` and `addE` should be the methods to add a vertex/edge\n",
    "- it should be an error to add an edge before adding its vertices first"
   ]
  },
  {
   "attachments": {},
   "cell_type": "markdown",
   "metadata": {},
   "source": [
    "Find below the code how the `Graph` class is expected to be used (and proposed phases of the class Graph implementation)."
   ]
  },
  {
   "cell_type": "code",
   "execution_count": null,
   "metadata": {},
   "outputs": [],
   "source": []
  },
  {
   "cell_type": "code",
   "execution_count": 197,
   "metadata": {},
   "outputs": [],
   "source": [
    "import sys\n",
    "class Graph:\n",
    "    def __init__(self,vs=None,es=None):\n",
    "        if vs == None:\n",
    "            vs = []\n",
    "        if es == None:\n",
    "            es = []\n",
    "        self._vs = vs\n",
    "        self._es = es\n",
    "    \n",
    "    def hasE(self,vert1,vert2):\n",
    "        return (vert1,vert2) in self._es or (vert2,vert1) in self._es\n",
    "    \n",
    "    def addV(self,verti):\n",
    "        # print(verti)\n",
    "        if verti in self._vs:\n",
    "           raise ValueError(f\"Vertex {verti} is already in the graph\")\n",
    "        self._vs.append(verti)\n",
    "        return self\n",
    "        \n",
    "    def addE(self,vert1,vert2):\n",
    "        if vert1 not in self._vs or vert2 not in self._vs:\n",
    "            raise ValueError(f\"Missing vertex\")\n",
    "        if self.hasE(vert1,vert2):\n",
    "            raise ValueError(f\"Edge {vert1}<->{vert2} is already in the graph\")\n",
    "        self._es.append((vert1,vert2))\n",
    "        return self\n",
    "    \n",
    "    # @property\n",
    "    def vs(self):\n",
    "        return self._vs\n",
    "    # @property\n",
    "    def es(self):\n",
    "        return set(self._es)\n",
    "    \n",
    "    def writeAdjacencyMatrix(self,f=sys.stdout):\n",
    "        matrix = [[0]*len(self._vs) for i in range(len(self._vs))]\n",
    "        head_dic = {}\n",
    "        for i in range(len(self._vs)):\n",
    "            head_dic[self._vs[i]] = i\n",
    "        for edg in self._es:\n",
    "            matrix[head_dic[edg[0]]][head_dic[edg[1]]]= 1\n",
    "            matrix[head_dic[edg[1]]][head_dic[edg[0]]]= 1\n",
    "        print(\"  \"+\" \".join(self._vs))\n",
    "        for j in range(len(self._vs)):\n",
    "            print(self._vs[j],end=\"\")\n",
    "            print(\" \",end=\"\")\n",
    "            print(\" \".join(str(x) for x in matrix[j]))\n",
    "            \n",
    "        \n",
    "    \n",
    "            "
   ]
  },
  {
   "cell_type": "code",
   "execution_count": 199,
   "metadata": {},
   "outputs": [
    {
     "name": "stdout",
     "output_type": "stream",
     "text": [
      "['a', 'b', 'c', 'd']\n",
      "{('c', 'd'), ('c', 'c'), ('a', 'b')}\n",
      "True\n",
      "False\n",
      "  a b c d\n",
      "a 0 1 0 0\n",
      "b 1 0 0 0\n",
      "c 0 0 1 1\n",
      "d 0 0 1 0\n",
      "  a b c d\n",
      "a 0 1 0 0\n",
      "b 1 0 0 0\n",
      "c 0 0 1 1\n",
      "d 0 0 1 0\n"
     ]
    }
   ],
   "source": [
    "# ----- phase 1: create an empty graph -----\n",
    "g = Graph()\n",
    "# ----- phase 2: make adding vertices possible -----\n",
    "g.addV(\"a\")\n",
    "g.addV(\"b\")\n",
    "g._vs\n",
    "# g.addV(\"b\")                        # ValueError: Vertex b is already in the graph.\n",
    "\n",
    "# # ----- phase 3: make adding edges possible -----\n",
    "g.addE(\"a\",\"b\")\n",
    "# g.addE(\"a\",\"b\")                    # ValueError: Edge a<->b is already in the graph.\n",
    "# g.addE(\"b\",\"a\")                    # ValueError: Edge a<->b is already in the graph.\n",
    "# # g.addE(\"a\",\"x\")                    # ValueError: Add x first as a vertex.\n",
    "# g._vs\n",
    "# # ----- phase 4: allow chaining (return self) -----\n",
    "g.addV(\"c\").addV(\"d\")\n",
    "g.addE(\"c\",\"c\").addE(\"c\",\"d\")\n",
    "\n",
    "# # ----- phase 5: provide getters of the graph data -----\n",
    "# g._vs\n",
    "print( g.vs() )                      # Sorted list of node names: ['a', 'b', 'c', 'd']\n",
    "print( g.es() )                      # List of tuples (return a copy so it does not get modified)\n",
    "#                                      # {('c', 'd'), ('c', 'c'), ('a', 'b')}\n",
    "# print(g.vs)\n",
    "# print(g.es)\n",
    "# # ----- phase 6: provide checker of an edge -----\n",
    "print( g.hasE( \"a\", \"b\" ) )          # True\n",
    "print( g.hasE( \"a\", \"c\" ) )          # False\n",
    "# print( g.hasE( \"???\", \"???\" ) )      # False; too costly to always check vertices\n",
    "\n",
    "# # ----- phase 7: implement writer of adjacency matrix -----\n",
    "g.writeAdjacencyMatrix()             # Write adjacency matrix to console (f=sys.stdout)\n",
    "with open(file=\"g.mx\", mode=\"w\") as f:\n",
    "    g.writeAdjacencyMatrix(f=f)      # Write dot graphViz to the file\n",
    "\n",
    "# Here is the adjacency matrix:\n",
    "#    \ta\tb\tc\td\n",
    "#   a\t0\t0\t1\t0\n",
    "#   b\t0\t1\t0\t0\n",
    "#   c\t1\t0\t0\t1\n",
    "#   d\t1\t0\t0\t0"
   ]
  },
  {
   "attachments": {},
   "cell_type": "markdown",
   "metadata": {},
   "source": [
    "### Shuffling lines of a file (random, statistics, file read/write, script)"
   ]
  },
  {
   "attachments": {},
   "cell_type": "markdown",
   "metadata": {},
   "source": [
    "Write a Python script `shuffle_lines.py` which reads a text file, shuffles its lines and writes them back to another text file.  \n",
    "The script should accept two parameters: \n",
    "- `inFileName`: text file to be read\n",
    "- `outFileName`: text file to be written\n",
    "\n",
    "You may add code to generate exceptions when parameters have nonsense values.  \n",
    "The following command line should work in a console:\n",
    "\n",
    "```text\n",
    "> python shuffle_lines.py nums.txt nums_sh.txt       # read lines from nums.txt, shuffle, write to nums_sh.txt\n",
    "```"
   ]
  },
  {
   "cell_type": "code",
   "execution_count": null,
   "metadata": {},
   "outputs": [],
   "source": []
  },
  {
   "attachments": {},
   "cell_type": "markdown",
   "metadata": {},
   "source": [
    "### Fibonacci numbers (functions)"
   ]
  },
  {
   "attachments": {},
   "cell_type": "markdown",
   "metadata": {},
   "source": [
    "Write a function `fib(pos)` which calculates [Fibonacci number](https://en.wikipedia.org/wiki/Fibonacci_number) at position `pos` in the sequence.  \n",
    "The expected output for the first 19 elements:\n",
    "```python\n",
    "fib(pos) for pos in range(19)]\n",
    "# [0, 1, 1, 2, 3, 5, 8, 13, 21, 34, 55, 89`, 144, 233, 377, 610, 987, 1597, 2584]\n",
    "```"
   ]
  },
  {
   "cell_type": "code",
   "execution_count": 163,
   "metadata": {},
   "outputs": [
    {
     "data": {
      "text/plain": [
       "[0, 1, 1, 2, 3, 5, 8, 13, 21, 34, 55, 89, 144, 233, 377, 610, 987, 1597, 2584]"
      ]
     },
     "execution_count": 163,
     "metadata": {},
     "output_type": "execute_result"
    }
   ],
   "source": [
    "def fib(pos):\n",
    "    if pos <= 1:\n",
    "        return pos\n",
    "    else:\n",
    "        return fib(pos-1) + fib(pos-2)\n",
    " \n",
    "fib(3)\n",
    "    \n",
    "[fib(pos) for pos in range(19)]   "
   ]
  }
 ],
 "metadata": {
  "kernelspec": {
   "display_name": "jupyter",
   "language": "python",
   "name": "python3"
  },
  "language_info": {
   "codemirror_mode": {
    "name": "ipython",
    "version": 3
   },
   "file_extension": ".py",
   "mimetype": "text/x-python",
   "name": "python",
   "nbconvert_exporter": "python",
   "pygments_lexer": "ipython3",
   "version": "3.11.5"
  },
  "orig_nbformat": 4,
  "vscode": {
   "interpreter": {
    "hash": "0fadeaac72bf3c14f9665939c662a31c8aa4e36681a8cd408ae34884627e6cff"
   }
  }
 },
 "nbformat": 4,
 "nbformat_minor": 2
}
